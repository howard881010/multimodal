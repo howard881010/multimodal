{
 "cells": [
  {
   "cell_type": "code",
   "execution_count": 10,
   "metadata": {},
   "outputs": [
    {
     "data": {
      "application/vnd.jupyter.widget-view+json": {
       "model_id": "c1a8f7b8ea834861b8627d9622a50299",
       "version_major": 2,
       "version_minor": 0
      },
      "text/plain": [
       "Downloading readme:   0%|          | 0.00/705 [00:00<?, ?B/s]"
      ]
     },
     "metadata": {},
     "output_type": "display_data"
    },
    {
     "data": {
      "application/vnd.jupyter.widget-view+json": {
       "model_id": "475bcfa1b5b448e69dbc95b61d438719",
       "version_major": 2,
       "version_minor": 0
      },
      "text/plain": [
       "Downloading data:   0%|          | 0.00/397k [00:00<?, ?B/s]"
      ]
     },
     "metadata": {},
     "output_type": "display_data"
    },
    {
     "data": {
      "application/vnd.jupyter.widget-view+json": {
       "model_id": "de1558d53ed34624b34ecef3fd5de291",
       "version_major": 2,
       "version_minor": 0
      },
      "text/plain": [
       "Downloading data:   0%|          | 0.00/65.2k [00:00<?, ?B/s]"
      ]
     },
     "metadata": {},
     "output_type": "display_data"
    },
    {
     "data": {
      "application/vnd.jupyter.widget-view+json": {
       "model_id": "5d052e42d700406d85e14f77c84bc69c",
       "version_major": 2,
       "version_minor": 0
      },
      "text/plain": [
       "Downloading data:   0%|          | 0.00/60.4k [00:00<?, ?B/s]"
      ]
     },
     "metadata": {},
     "output_type": "display_data"
    },
    {
     "data": {
      "application/vnd.jupyter.widget-view+json": {
       "model_id": "5f5701a255e749aaaab7f8ae2989307d",
       "version_major": 2,
       "version_minor": 0
      },
      "text/plain": [
       "Generating train split:   0%|          | 0/1293 [00:00<?, ? examples/s]"
      ]
     },
     "metadata": {},
     "output_type": "display_data"
    },
    {
     "data": {
      "application/vnd.jupyter.widget-view+json": {
       "model_id": "c796dcb514324d4ab0da1f9ff1956e5e",
       "version_major": 2,
       "version_minor": 0
      },
      "text/plain": [
       "Generating valid split:   0%|          | 0/162 [00:00<?, ? examples/s]"
      ]
     },
     "metadata": {},
     "output_type": "display_data"
    },
    {
     "data": {
      "application/vnd.jupyter.widget-view+json": {
       "model_id": "949d4da860e84bf9b01ebccbf8fadc37",
       "version_major": 2,
       "version_minor": 0
      },
      "text/plain": [
       "Generating test split:   0%|          | 0/162 [00:00<?, ? examples/s]"
      ]
     },
     "metadata": {},
     "output_type": "display_data"
    }
   ],
   "source": [
    "from datasets import load_dataset, concatenate_datasets, DatasetDict\n",
    "\n",
    "data1 = load_dataset('Howard881010/gas-3week')\n",
    "# data2 = load_dataset('howard881010/climate-3day-mixed')\n",
    "# data3 = load_dataset('howard881010/climate-2day')\n",
    "# data4 = load_dataset('howard881010/climate-2day-mixed')\n",
    "# data5 = load_dataset('howard881010/climate-1day')\n",
    "# data6 = load_dataset('howard881010/climate-1day-mixed')\n",
    "\n",
    "# data_all = {}\n",
    "\n",
    "# for split in ['train', 'test', 'valid']:\n",
    "#     data_all[split] = concatenate_datasets([data1[split], data2[split], data3[split], data4[split], data5[split], data6[split]])\n",
    "\n",
    "# data_dict = DatasetDict({\n",
    "#     'train': data_all['train'],\n",
    "#     'test': data_all['test'],\n",
    "#     'valid': data_all['valid']\n",
    "# })\n",
    "\n",
    "# data_dict.push_to_hub('Howard881010/climate')\n",
    "# print(data1['test']['instruction'][0])"
   ]
  },
  {
   "cell_type": "code",
   "execution_count": 11,
   "metadata": {},
   "outputs": [
    {
     "name": "stdout",
     "output_type": "stream",
     "text": [
      "Given the gas related facts of the first 3 week, predict the gas related facts of the next 3 week.\n",
      "Output the result in the following format:\n",
      "```\n",
      "week_4_date:\n",
      "week_4_gas_news:\n",
      "week_5_date:\n",
      "week_5_gas_news:\n",
      "week_6_date:\n",
      "week_6_gas_news:\n",
      "```\n",
      "```\n",
      "week_1_date: 2020-01-27\n",
      "week_1_gas_news: The air quality in New York City reached unhealthy levels due to incoming smoke from wildfires and agricultural burning in Canada, and the city's most polluted areas are Northern Manhattan and the South Bronx.\n",
      "week_2_date: 2020-02-03\n",
      "week_2_gas_news: As of February 2020, air quality monitoring stations are available in Public School 19, New York, USA, measuring PM2.5 and PM10 in real-time.\n",
      "week_3_date: 2020-02-10\n",
      "week_3_gas_news: New York City's neighborhoods have varying air quality, with some areas experiencing high levels of air pollution.\n",
      "```\n"
     ]
    }
   ],
   "source": [
    "print(data1['test']['instruction'][0])\n",
    "print(data1['test']['input'][0])"
   ]
  }
 ],
 "metadata": {
  "kernelspec": {
   "display_name": "multimodal",
   "language": "python",
   "name": "python3"
  },
  "language_info": {
   "codemirror_mode": {
    "name": "ipython",
    "version": 3
   },
   "file_extension": ".py",
   "mimetype": "text/x-python",
   "name": "python",
   "nbconvert_exporter": "python",
   "pygments_lexer": "ipython3",
   "version": "3.11.9"
  }
 },
 "nbformat": 4,
 "nbformat_minor": 2
}

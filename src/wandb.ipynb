{
 "cells": [
  {
   "cell_type": "code",
   "execution_count": 1,
   "metadata": {},
   "outputs": [],
   "source": [
    "import wandb\n",
    "import pandas as pd\n",
    "\n",
    "api = wandb.Api(overrides={'base-url': \"https://rosewandb.ucsd.edu\"})\n",
    "runs = api.runs(\"cht028/Inference\")"
   ]
  },
  {
   "cell_type": "code",
   "execution_count": 7,
   "metadata": {},
   "outputs": [
    {
     "name": "stdout",
     "output_type": "stream",
     "text": [
      "<Runs cht028/Inference>\n"
     ]
    }
   ],
   "source": [
    "print(runs)"
   ]
  },
  {
   "cell_type": "code",
   "execution_count": 12,
   "metadata": {},
   "outputs": [],
   "source": [
    "def create_summary_table(runs, row_name, multi_column_name, column_name, metric, split):\n",
    "    # Initialize a dictionary for storing the lowest metric values\n",
    "    lowest_metrics = {}\n",
    "    run_mapping = {}\n",
    "\n",
    "    # Find the run with the lowest metric for each combination\n",
    "    for run in runs:\n",
    "        try:\n",
    "            name = run.config[row_name]\n",
    "            dataset = run.config[multi_column_name]\n",
    "            window_size = run.config[column_name] if column_name else None\n",
    "            metric_value = float(run.summaryMetrics[metric])\n",
    "            data_split = run.config[\"split\"]\n",
    "        except KeyError:\n",
    "            continue\n",
    "\n",
    "        key = (name, dataset) if column_name is None else (name, dataset, window_size)\n",
    "\n",
    "        if key not in lowest_metrics and data_split == split:\n",
    "            lowest_metrics[key] = metric_value\n",
    "            run_mapping[key] = run\n",
    "\n",
    "    # Prepare the data structure for DataFrame creation\n",
    "    index = sorted(set(key[0] for key in run_mapping.keys()))\n",
    "    if column_name:\n",
    "        datasets = sorted(set(key[1] for key in run_mapping.keys()))\n",
    "        window_sizes = sorted(set(key[2] for key in run_mapping.keys()))\n",
    "        multi_columns = pd.MultiIndex.from_product([datasets, window_sizes], names=[multi_column_name, column_name])\n",
    "    else:\n",
    "        multi_columns = sorted(set(key[1] for key in run_mapping.keys()))\n",
    "\n",
    "    # Create the DataFrame\n",
    "    results_df = pd.DataFrame(index=index, columns=multi_columns)\n",
    "\n",
    "    # Populate the DataFrame\n",
    "    for key, run in run_mapping.items():\n",
    "        if column_name:\n",
    "            results_df.at[key[0], (key[1], key[2])] = run.summaryMetrics[metric]\n",
    "        else:\n",
    "            results_df.at[key[0], key[1]] = run.summaryMetrics[metric]\n",
    "\n",
    "    # Drop rows and columns with all NaN values\n",
    "    results_df.dropna(axis=0, how='all', inplace=True)\n",
    "    results_df.dropna(axis=1, how='all', inplace=True)\n",
    "\n",
    "    return results_df"
   ]
  },
  {
   "cell_type": "code",
   "execution_count": 13,
   "metadata": {},
   "outputs": [
    {
     "name": "stdout",
     "output_type": "stream",
     "text": [
      "dataset                     climate                           gas            \\\n",
      "window_size                       1         2         3         1         2   \n",
      "mixed-mixed-cal/finetune   0.424481  0.415877   0.42636       NaN       NaN   \n",
      "mixed-mixed-west/finetune       NaN       NaN       NaN  0.513541  0.514554   \n",
      "mixed-mixed/finetune            NaN       NaN       NaN       NaN       NaN   \n",
      "text-text-cal/finetune     0.423342  0.426075  0.420445       NaN       NaN   \n",
      "text-text-west/finetune         NaN       NaN       NaN  0.511938  0.514143   \n",
      "text-text/finetune              NaN       NaN       NaN       NaN       NaN   \n",
      "\n",
      "dataset                               medical                      \n",
      "window_size                       3         1         2         3  \n",
      "mixed-mixed-cal/finetune        NaN       NaN       NaN       NaN  \n",
      "mixed-mixed-west/finetune  0.516322       NaN       NaN       NaN  \n",
      "mixed-mixed/finetune            NaN       NaN  0.435199  0.424547  \n",
      "text-text-cal/finetune          NaN       NaN       NaN       NaN  \n",
      "text-text-west/finetune    0.511501       NaN       NaN       NaN  \n",
      "text-text/finetune              NaN  0.429886  0.433583  0.424631  \n"
     ]
    }
   ],
   "source": [
    "results_df = create_summary_table(runs, 'case', 'dataset', 'window_size', 'Meteor Scores', 'test')\n",
    "print(results_df)"
   ]
  },
  {
   "cell_type": "code",
   "execution_count": 8,
   "metadata": {},
   "outputs": [
    {
     "ename": "KeyError",
     "evalue": "\"['llama', 'm2zeroshot'] not found in axis\"",
     "output_type": "error",
     "traceback": [
      "\u001b[0;31m---------------------------------------------------------------------------\u001b[0m",
      "\u001b[0;31mKeyError\u001b[0m                                  Traceback (most recent call last)",
      "Cell \u001b[0;32mIn[8], line 29\u001b[0m\n\u001b[1;32m     26\u001b[0m columns_to_remove \u001b[38;5;241m=\u001b[39m [(\u001b[38;5;124m'\u001b[39m\u001b[38;5;124mYelp\u001b[39m\u001b[38;5;124m'\u001b[39m, \u001b[38;5;241m24\u001b[39m), (\u001b[38;5;124m'\u001b[39m\u001b[38;5;124mMimic\u001b[39m\u001b[38;5;124m'\u001b[39m, \u001b[38;5;241m14\u001b[39m), (\u001b[38;5;124m'\u001b[39m\u001b[38;5;124mClimate\u001b[39m\u001b[38;5;124m'\u001b[39m, \u001b[38;5;241m30\u001b[39m), (\u001b[38;5;124m'\u001b[39m\u001b[38;5;124mClimate\u001b[39m\u001b[38;5;124m'\u001b[39m, \u001b[38;5;241m14\u001b[39m)] \u001b[38;5;66;03m# replace with your actual column values to remove\u001b[39;00m\n\u001b[1;32m     27\u001b[0m precision \u001b[38;5;241m=\u001b[39m \u001b[38;5;241m3\u001b[39m\n\u001b[0;32m---> 29\u001b[0m processed_df, df \u001b[38;5;241m=\u001b[39m \u001b[43mpostprocess_df\u001b[49m\u001b[43m(\u001b[49m\u001b[43mresults_df\u001b[49m\u001b[43m,\u001b[49m\u001b[43m \u001b[49m\u001b[43mrows_to_remove\u001b[49m\u001b[43m,\u001b[49m\u001b[43m \u001b[49m\u001b[43mcolumns_to_remove\u001b[49m\u001b[43m,\u001b[49m\u001b[43m \u001b[49m\u001b[43mprecision\u001b[49m\u001b[43m)\u001b[49m\n\u001b[1;32m     30\u001b[0m processed_df\n",
      "Cell \u001b[0;32mIn[8], line 6\u001b[0m, in \u001b[0;36mpostprocess_df\u001b[0;34m(df, rows_to_remove, columns_to_remove, precision)\u001b[0m\n\u001b[1;32m      3\u001b[0m format_float \u001b[38;5;241m=\u001b[39m \u001b[38;5;28;01mlambda\u001b[39;00m x: \u001b[38;5;124mf\u001b[39m\u001b[38;5;124m\"\u001b[39m\u001b[38;5;132;01m{\u001b[39;00mx\u001b[38;5;132;01m:\u001b[39;00m\u001b[38;5;124m.\u001b[39m\u001b[38;5;132;01m{\u001b[39;00mprecision\u001b[38;5;132;01m}\u001b[39;00m\u001b[38;5;124mf\u001b[39m\u001b[38;5;132;01m}\u001b[39;00m\u001b[38;5;124m\"\u001b[39m \u001b[38;5;28;01mif\u001b[39;00m \u001b[38;5;28misinstance\u001b[39m(x, \u001b[38;5;28mfloat\u001b[39m) \u001b[38;5;28;01melse\u001b[39;00m x\n\u001b[1;32m      5\u001b[0m \u001b[38;5;66;03m# Remove specified rows and columns\u001b[39;00m\n\u001b[0;32m----> 6\u001b[0m df \u001b[38;5;241m=\u001b[39m \u001b[43mdf\u001b[49m\u001b[38;5;241;43m.\u001b[39;49m\u001b[43mdrop\u001b[49m\u001b[43m(\u001b[49m\u001b[43mindex\u001b[49m\u001b[38;5;241;43m=\u001b[39;49m\u001b[43mrows_to_remove\u001b[49m\u001b[43m)\u001b[49m\n\u001b[1;32m      7\u001b[0m df \u001b[38;5;241m=\u001b[39m df\u001b[38;5;241m.\u001b[39mdrop(columns\u001b[38;5;241m=\u001b[39mcolumns_to_remove, axis\u001b[38;5;241m=\u001b[39m\u001b[38;5;241m1\u001b[39m)\n\u001b[1;32m      9\u001b[0m \u001b[38;5;66;03m# Convert all values to the specified precision\u001b[39;00m\n",
      "File \u001b[0;32m~/miniforge3/envs/multimodal/lib/python3.11/site-packages/pandas/core/frame.py:5581\u001b[0m, in \u001b[0;36mDataFrame.drop\u001b[0;34m(self, labels, axis, index, columns, level, inplace, errors)\u001b[0m\n\u001b[1;32m   5433\u001b[0m \u001b[38;5;28;01mdef\u001b[39;00m \u001b[38;5;21mdrop\u001b[39m(\n\u001b[1;32m   5434\u001b[0m     \u001b[38;5;28mself\u001b[39m,\n\u001b[1;32m   5435\u001b[0m     labels: IndexLabel \u001b[38;5;241m|\u001b[39m \u001b[38;5;28;01mNone\u001b[39;00m \u001b[38;5;241m=\u001b[39m \u001b[38;5;28;01mNone\u001b[39;00m,\n\u001b[0;32m   (...)\u001b[0m\n\u001b[1;32m   5442\u001b[0m     errors: IgnoreRaise \u001b[38;5;241m=\u001b[39m \u001b[38;5;124m\"\u001b[39m\u001b[38;5;124mraise\u001b[39m\u001b[38;5;124m\"\u001b[39m,\n\u001b[1;32m   5443\u001b[0m ) \u001b[38;5;241m-\u001b[39m\u001b[38;5;241m>\u001b[39m DataFrame \u001b[38;5;241m|\u001b[39m \u001b[38;5;28;01mNone\u001b[39;00m:\n\u001b[1;32m   5444\u001b[0m \u001b[38;5;250m    \u001b[39m\u001b[38;5;124;03m\"\"\"\u001b[39;00m\n\u001b[1;32m   5445\u001b[0m \u001b[38;5;124;03m    Drop specified labels from rows or columns.\u001b[39;00m\n\u001b[1;32m   5446\u001b[0m \n\u001b[0;32m   (...)\u001b[0m\n\u001b[1;32m   5579\u001b[0m \u001b[38;5;124;03m            weight  1.0     0.8\u001b[39;00m\n\u001b[1;32m   5580\u001b[0m \u001b[38;5;124;03m    \"\"\"\u001b[39;00m\n\u001b[0;32m-> 5581\u001b[0m     \u001b[38;5;28;01mreturn\u001b[39;00m \u001b[38;5;28;43msuper\u001b[39;49m\u001b[43m(\u001b[49m\u001b[43m)\u001b[49m\u001b[38;5;241;43m.\u001b[39;49m\u001b[43mdrop\u001b[49m\u001b[43m(\u001b[49m\n\u001b[1;32m   5582\u001b[0m \u001b[43m        \u001b[49m\u001b[43mlabels\u001b[49m\u001b[38;5;241;43m=\u001b[39;49m\u001b[43mlabels\u001b[49m\u001b[43m,\u001b[49m\n\u001b[1;32m   5583\u001b[0m \u001b[43m        \u001b[49m\u001b[43maxis\u001b[49m\u001b[38;5;241;43m=\u001b[39;49m\u001b[43maxis\u001b[49m\u001b[43m,\u001b[49m\n\u001b[1;32m   5584\u001b[0m \u001b[43m        \u001b[49m\u001b[43mindex\u001b[49m\u001b[38;5;241;43m=\u001b[39;49m\u001b[43mindex\u001b[49m\u001b[43m,\u001b[49m\n\u001b[1;32m   5585\u001b[0m \u001b[43m        \u001b[49m\u001b[43mcolumns\u001b[49m\u001b[38;5;241;43m=\u001b[39;49m\u001b[43mcolumns\u001b[49m\u001b[43m,\u001b[49m\n\u001b[1;32m   5586\u001b[0m \u001b[43m        \u001b[49m\u001b[43mlevel\u001b[49m\u001b[38;5;241;43m=\u001b[39;49m\u001b[43mlevel\u001b[49m\u001b[43m,\u001b[49m\n\u001b[1;32m   5587\u001b[0m \u001b[43m        \u001b[49m\u001b[43minplace\u001b[49m\u001b[38;5;241;43m=\u001b[39;49m\u001b[43minplace\u001b[49m\u001b[43m,\u001b[49m\n\u001b[1;32m   5588\u001b[0m \u001b[43m        \u001b[49m\u001b[43merrors\u001b[49m\u001b[38;5;241;43m=\u001b[39;49m\u001b[43merrors\u001b[49m\u001b[43m,\u001b[49m\n\u001b[1;32m   5589\u001b[0m \u001b[43m    \u001b[49m\u001b[43m)\u001b[49m\n",
      "File \u001b[0;32m~/miniforge3/envs/multimodal/lib/python3.11/site-packages/pandas/core/generic.py:4788\u001b[0m, in \u001b[0;36mNDFrame.drop\u001b[0;34m(self, labels, axis, index, columns, level, inplace, errors)\u001b[0m\n\u001b[1;32m   4786\u001b[0m \u001b[38;5;28;01mfor\u001b[39;00m axis, labels \u001b[38;5;129;01min\u001b[39;00m axes\u001b[38;5;241m.\u001b[39mitems():\n\u001b[1;32m   4787\u001b[0m     \u001b[38;5;28;01mif\u001b[39;00m labels \u001b[38;5;129;01mis\u001b[39;00m \u001b[38;5;129;01mnot\u001b[39;00m \u001b[38;5;28;01mNone\u001b[39;00m:\n\u001b[0;32m-> 4788\u001b[0m         obj \u001b[38;5;241m=\u001b[39m \u001b[43mobj\u001b[49m\u001b[38;5;241;43m.\u001b[39;49m\u001b[43m_drop_axis\u001b[49m\u001b[43m(\u001b[49m\u001b[43mlabels\u001b[49m\u001b[43m,\u001b[49m\u001b[43m \u001b[49m\u001b[43maxis\u001b[49m\u001b[43m,\u001b[49m\u001b[43m \u001b[49m\u001b[43mlevel\u001b[49m\u001b[38;5;241;43m=\u001b[39;49m\u001b[43mlevel\u001b[49m\u001b[43m,\u001b[49m\u001b[43m \u001b[49m\u001b[43merrors\u001b[49m\u001b[38;5;241;43m=\u001b[39;49m\u001b[43merrors\u001b[49m\u001b[43m)\u001b[49m\n\u001b[1;32m   4790\u001b[0m \u001b[38;5;28;01mif\u001b[39;00m inplace:\n\u001b[1;32m   4791\u001b[0m     \u001b[38;5;28mself\u001b[39m\u001b[38;5;241m.\u001b[39m_update_inplace(obj)\n",
      "File \u001b[0;32m~/miniforge3/envs/multimodal/lib/python3.11/site-packages/pandas/core/generic.py:4830\u001b[0m, in \u001b[0;36mNDFrame._drop_axis\u001b[0;34m(self, labels, axis, level, errors, only_slice)\u001b[0m\n\u001b[1;32m   4828\u001b[0m         new_axis \u001b[38;5;241m=\u001b[39m axis\u001b[38;5;241m.\u001b[39mdrop(labels, level\u001b[38;5;241m=\u001b[39mlevel, errors\u001b[38;5;241m=\u001b[39merrors)\n\u001b[1;32m   4829\u001b[0m     \u001b[38;5;28;01melse\u001b[39;00m:\n\u001b[0;32m-> 4830\u001b[0m         new_axis \u001b[38;5;241m=\u001b[39m \u001b[43maxis\u001b[49m\u001b[38;5;241;43m.\u001b[39;49m\u001b[43mdrop\u001b[49m\u001b[43m(\u001b[49m\u001b[43mlabels\u001b[49m\u001b[43m,\u001b[49m\u001b[43m \u001b[49m\u001b[43merrors\u001b[49m\u001b[38;5;241;43m=\u001b[39;49m\u001b[43merrors\u001b[49m\u001b[43m)\u001b[49m\n\u001b[1;32m   4831\u001b[0m     indexer \u001b[38;5;241m=\u001b[39m axis\u001b[38;5;241m.\u001b[39mget_indexer(new_axis)\n\u001b[1;32m   4833\u001b[0m \u001b[38;5;66;03m# Case for non-unique axis\u001b[39;00m\n\u001b[1;32m   4834\u001b[0m \u001b[38;5;28;01melse\u001b[39;00m:\n",
      "File \u001b[0;32m~/miniforge3/envs/multimodal/lib/python3.11/site-packages/pandas/core/indexes/base.py:7070\u001b[0m, in \u001b[0;36mIndex.drop\u001b[0;34m(self, labels, errors)\u001b[0m\n\u001b[1;32m   7068\u001b[0m \u001b[38;5;28;01mif\u001b[39;00m mask\u001b[38;5;241m.\u001b[39many():\n\u001b[1;32m   7069\u001b[0m     \u001b[38;5;28;01mif\u001b[39;00m errors \u001b[38;5;241m!=\u001b[39m \u001b[38;5;124m\"\u001b[39m\u001b[38;5;124mignore\u001b[39m\u001b[38;5;124m\"\u001b[39m:\n\u001b[0;32m-> 7070\u001b[0m         \u001b[38;5;28;01mraise\u001b[39;00m \u001b[38;5;167;01mKeyError\u001b[39;00m(\u001b[38;5;124mf\u001b[39m\u001b[38;5;124m\"\u001b[39m\u001b[38;5;132;01m{\u001b[39;00mlabels[mask]\u001b[38;5;241m.\u001b[39mtolist()\u001b[38;5;132;01m}\u001b[39;00m\u001b[38;5;124m not found in axis\u001b[39m\u001b[38;5;124m\"\u001b[39m)\n\u001b[1;32m   7071\u001b[0m     indexer \u001b[38;5;241m=\u001b[39m indexer[\u001b[38;5;241m~\u001b[39mmask]\n\u001b[1;32m   7072\u001b[0m \u001b[38;5;28;01mreturn\u001b[39;00m \u001b[38;5;28mself\u001b[39m\u001b[38;5;241m.\u001b[39mdelete(indexer)\n",
      "\u001b[0;31mKeyError\u001b[0m: \"['llama', 'm2zeroshot'] not found in axis\""
     ]
    }
   ],
   "source": [
    "def postprocess_df(df, rows_to_remove, columns_to_remove, precision):\n",
    "    # Define a lambda to round and format the float to the desired precision\n",
    "    format_float = lambda x: f\"{x:.{precision}f}\" if isinstance(x, float) else x\n",
    "    \n",
    "    # Remove specified rows and columns\n",
    "    df = df.drop(index=rows_to_remove)\n",
    "    df = df.drop(columns=columns_to_remove, axis=1)\n",
    "    \n",
    "    # Convert all values to the specified precision\n",
    "    df = df.applymap(lambda x: format_float(round(float(x), precision)) if pd.notnull(x) and isinstance(x, (int, float)) else x)\n",
    "    \n",
    "    # Define a function to apply bold styling to the minimum value in each column\n",
    "    def highlight_min(s):\n",
    "        s = pd.to_numeric(s, errors='coerce')\n",
    "        is_min = s == s.min()\n",
    "        return ['font-weight: bold' if v else '' for v in is_min]\n",
    "    \n",
    "    # Apply the styling with the Styler object\n",
    "    styled_df = df.style.apply(highlight_min, axis=0)\n",
    "    \n",
    "    return styled_df, df\n",
    "\n",
    "\n",
    "# Example usage:\n",
    "rows_to_remove = ['llama', 'm2zeroshot'] # replace with your actual row values to remove\n",
    "# columns_to_remove = [('Yelp', 24), ('Mimic', 14), ('Climate', 30), ('Climate', 14)] # replace with your actual column values to remove\n",
    "precision = 3\n",
    "\n",
    "processed_df, df = postprocess_df(results_df, rows_to_remove, columns_to_remove, precision)\n",
    "processed_df"
   ]
  },
  {
   "cell_type": "code",
   "execution_count": 11,
   "metadata": {},
   "outputs": [],
   "source": [
    "{\"day_3\": {\"Time\": \"2023-05-30\", \"summary\": \"**Forecast Summary**\\n\\nA significant weather pattern shift is expected from June 1-5, with multiple hazards affecting various regions.\\n\\n* **Heat Wave**: Well above normal to near record temperatures will occur from the Upper Midwest to the Northeast on Thursday-Friday, with highs potentially reaching 80s to low 90s.\\n* **Heavy Rainfall**: A multi-day thunderstorm and local heavy rain threat continues for the Plains/northern Rockies, with a Slight Risk area over Montana and northern Wyoming.\\n* **Flooding**: Flooding is possible across the Central Rockies, Northern Plains, Northern Rockies, and Northern Great Basin, with flooding occurring or imminent in the Northern Rockies and Northern Great Basin.\\n* **Embedded Systems**: An upper trough/low may form across the Southeast late week, producing heavy rainfall and uncertainty in details.\\n* **Gulf Coast/Florida System**: Heavy rainfall is expected in Florida, with a Marginal Risk area maintained in the Excessive Rainfall Outlook.\\n* **Temperature Anomalies**: Near normal temperatures will occur in the Northwest on Thursday, while temperatures 5-15F above normal are expected from Friday onward. The southern tier will see near to moderately below normal temperatures, with the best focus for highs 5-10F below normal shifting across the Four Corners states into the southern High Plains and possibly the southern California coast.\"}}, \"day_4\": {\"Time\": \"2023-06-01\", \"summary\": \"**Forecast Summary**\\n\\nA significant weather pattern shift is expected from June 1-5, with multiple hazards affecting various regions.\\n\\n* **Heat Wave**: Well above normal to near record temperatures will occur from the Upper Midwest to the Northeast on Thursday-Friday, with highs potentially reaching 80s to low 90s.\\n* **Heavy Rainfall**: A multi-day thunderstorm and local heavy rain threat continues for the Plains/northern Rockies, with a Slight Risk area over Montana and northern Wyoming.\\n* **Flooding**: Flooding is possible across the Central Rockies, Northern Plains, Northern Rockies, and Northern Great Basin, with flooding occurring or imminent in the Northern Rockies and Northern Great Basin.\\n* **Embedded Systems**: An upper trough/low may form across the Southeast late week, producing heavy rainfall and uncertainty in details.\\n* **Gulf Coast/Florida System**: Heavy rainfall is expected in Florida, with a Marginal Risk area maintained in the Excessive Rainfall Outlook.\\n* **Temperature Anomalies**: Near normal temperatures will occur in the Northwest on Thursday, while temperatures 5-15F above normal are expected from Friday onward. The southern tier will see near to moderately below normal temperatures, with the best focus for highs 5-10F below normal shifting across the Four Corners states into the southern High Plains and possibly the southern California coast.\"}}"
   ]
  },
  {
   "cell_type": "code",
   "execution_count": null,
   "metadata": {},
   "outputs": [],
   "source": []
  }
 ],
 "metadata": {
  "kernelspec": {
   "display_name": "llmforecast",
   "language": "python",
   "name": "python3"
  },
  "language_info": {
   "codemirror_mode": {
    "name": "ipython",
    "version": 3
   },
   "file_extension": ".py",
   "mimetype": "text/x-python",
   "name": "python",
   "nbconvert_exporter": "python",
   "pygments_lexer": "ipython3",
   "version": "3.11.9"
  }
 },
 "nbformat": 4,
 "nbformat_minor": 2
}

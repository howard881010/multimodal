{
 "cells": [
  {
   "cell_type": "code",
   "execution_count": 8,
   "metadata": {},
   "outputs": [
    {
     "name": "stdout",
     "output_type": "stream",
     "text": [
      "Mean RMSE: 0.9325022063301469\n",
      "Mean Error Rate: 0.0601215635768668\n",
      "Mean NaN Rate: 0.018802648411368687\n",
      "Std-Dev RMSE: 0.3077452287793069\n"
     ]
    }
   ],
   "source": [
    "import os\n",
    "import pandas as pd\n",
    "import numpy as np\n",
    "\n",
    "# Directory where the CSV files are stored\n",
    "directory = '../Results/Yelp/LLMTIME/12_weeks'\n",
    "\n",
    "# List to store the values\n",
    "rmses = []\n",
    "nans = []\n",
    "errs = []\n",
    "\n",
    "# Iterate over the files in the directory\n",
    "for filename in os.listdir(directory):\n",
    "    if filename.endswith('.csv') and filename.startswith('mistral'):\n",
    "        # Construct the full file path\n",
    "        file_path = os.path.join(directory, filename)\n",
    "        try:\n",
    "            # Read the value from the CSV file (assuming there's a single value)\n",
    "            data = pd.read_csv(file_path)\n",
    "            for index, row in data.iterrows():\n",
    "                rmse = row['test_rmse_loss']\n",
    "                nan = row['nan_rate']\n",
    "                err = row['err_rate']\n",
    "                rmses.append(rmse)\n",
    "                nans.append(nan)\n",
    "                errs.append(err)\n",
    "        except Exception as e:\n",
    "            # In case there's an issue with one of the files, print out an error message\n",
    "            print(f\"Error reading {filename}: {e}\")\n",
    "# Sum up all the values\n",
    "print(\"Mean RMSE: \" + str(np.mean(rmses)))\n",
    "print(\"Mean Error Rate: \" + str(np.mean(errs)))\n",
    "print(\"Mean NaN Rate: \" + str(np.mean(nans)))\n",
    "print(\"Std-Dev RMSE: \" + str(np.std(rmses)))"
   ]
  },
  {
   "cell_type": "code",
   "execution_count": 1,
   "metadata": {},
   "outputs": [
    {
     "name": "stderr",
     "output_type": "stream",
     "text": [
      "/home/ubuntu/shareconda/lib/python3.10/site-packages/tqdm/auto.py:21: TqdmWarning: IProgress not found. Please update jupyter and ipywidgets. See https://ipywidgets.readthedocs.io/en/stable/user_install.html\n",
      "  from .autonotebook import tqdm as notebook_tqdm\n"
     ]
    },
    {
     "name": "stdout",
     "output_type": "stream",
     "text": [
      "0.2378566616511277\n"
     ]
    }
   ],
   "source": [
    "from llmtime_test_trans import getLLMTIMERMSE\n",
    "\n",
    "out_filename = \"/home/ubuntu/llamacpp/Predictions_and_attempts/Mimic/LLMTIME/5_days/GPT-4_output_all.csv\"\n",
    "\n",
    "out_rmse = getLLMTIMERMSE(\n",
    "    dataset=\"Mimic\", historical_window_size=5, filename=out_filename, unit=\"days/\", model_name=\"GPT-4\"\n",
    ")\n",
    "print(out_rmse)"
   ]
  },
  {
   "cell_type": "code",
   "execution_count": 10,
   "metadata": {},
   "outputs": [
    {
     "name": "stdout",
     "output_type": "stream",
     "text": [
      "0.013623853680815505\n",
      "0.008650940418103928\n"
     ]
    }
   ],
   "source": [
    "import os\n",
    "import pandas as pd\n",
    "import numpy as np\n",
    "\n",
    "# Directory where the CSV files are stored\n",
    "directory = '../Predictions_and_attempts/Mimic/LLMTIME/5_days'\n",
    "\n",
    "# List to store the values\n",
    "err_arr = []\n",
    "nan_arr = []\n",
    "\n",
    "# Iterate over the files in the directory\n",
    "for filename in os.listdir(directory):\n",
    "    if filename.endswith('.csv') and filename.startswith('mistral'):\n",
    "        # Construct the full file path\n",
    "        file_path = os.path.join(directory, filename)\n",
    "        try:\n",
    "            # Read the value from the CSV file (assuming there's a single value)\n",
    "            data = pd.read_csv(file_path)\n",
    "            data[\"pred_values\"] = data[\"pred_values\"].apply(str)\n",
    "\n",
    "            err = 0\n",
    "            nan = 0\n",
    "\n",
    "            # Find the probabilites that pred_values are bigger than 5\n",
    "            for index, row in data.iterrows():\n",
    "                pred_vals = [float(ele) for ele in row[\"pred_values\"].split()]\n",
    "\n",
    "                for ele in pred_vals:\n",
    "                    if ele > 1 or ele < 0:\n",
    "                        err += 1\n",
    "                    if str(ele) == \"nan\":\n",
    "                        nan += 1\n",
    "            \n",
    "            err_rate = err / (len(data) * 5)\n",
    "            err_arr.append(err_rate)\n",
    "            nan_rate = nan / len(data)\n",
    "            nan_arr.append(nan_rate)\n",
    "            \n",
    "        except Exception as e:\n",
    "            # In case there's an issue with one of the files, print out an error message\n",
    "            print(f\"Error reading {filename}: {e}\")\n",
    "\n",
    "print(np.mean(err_arr))\n",
    "print(np.mean(nan_arr))"
   ]
  }
 ],
 "metadata": {
  "kernelspec": {
   "display_name": "base",
   "language": "python",
   "name": "python3"
  },
  "language_info": {
   "codemirror_mode": {
    "name": "ipython",
    "version": 3
   },
   "file_extension": ".py",
   "mimetype": "text/x-python",
   "name": "python",
   "nbconvert_exporter": "python",
   "pygments_lexer": "ipython3",
   "version": "3.11.9"
  }
 },
 "nbformat": 4,
 "nbformat_minor": 2
}

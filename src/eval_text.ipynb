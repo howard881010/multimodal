{
 "cells": [
  {
   "cell_type": "code",
   "execution_count": 1,
   "metadata": {},
   "outputs": [
    {
     "name": "stderr",
     "output_type": "stream",
     "text": [
      "/home/ubuntu/miniforge3/envs/multimodal/lib/python3.11/site-packages/tqdm/auto.py:21: TqdmWarning: IProgress not found. Please update jupyter and ipywidgets. See https://ipywidgets.readthedocs.io/en/stable/user_install.html\n",
      "  from .autonotebook import tqdm as notebook_tqdm\n"
     ]
    }
   ],
   "source": [
    "import pandas as pd\n",
    "import numpy as np\n",
    "from loguru import logger\n",
    "from utils import open_record_directory, open_result_directory\n",
    "from nltk.translate import meteor\n",
    "from nltk import word_tokenize\n",
    "from transformers import BertTokenizer, BertModel\n",
    "import torch\n",
    "from sklearn.metrics.pairwise import cosine_similarity\n"
   ]
  },
  {
   "cell_type": "code",
   "execution_count": 4,
   "metadata": {},
   "outputs": [],
   "source": [
    "def getMeteorScore(filename):\n",
    "    df = pd.read_csv(filename)\n",
    "    df_clean = df.dropna()\n",
    "    \n",
    "    scores = [meteor([word_tokenize(x['fut_summary'])], word_tokenize(x['pred_summary'])) for idx, x in df_clean.iterrows()]\n",
    "    # print(scores)\n",
    "    mean_score=np.mean(scores)\n",
    "    # Display the dataframe with the METEOR scores\n",
    "    return mean_score"
   ]
  },
  {
   "cell_type": "code",
   "execution_count": 27,
   "metadata": {},
   "outputs": [],
   "source": [
    "from sentence_transformers import SentenceTransformer\n",
    "from sentence_transformers.util import cos_sim\n",
    "\n",
    "def getCosineSimilarity(filename):\n",
    "    df = pd.read_csv(filename)\n",
    "    df.replace(\"Not available\", np.nan, inplace=True)\n",
    "    df_clean = df.dropna()\n",
    "    \n",
    "    ground_truth = df_clean['ground_truth'].tolist()\n",
    "    zero_shot = df_clean['zero_shot'].tolist()\n",
    "    fine_tuned = df_clean['fine_tuned'].tolist()\n",
    "    # print(scores)\n",
    "    model = SentenceTransformer('thenlper/gte-base')\n",
    "    ground_truth_embeddings = model.encode(ground_truth)\n",
    "    zero_shot_embeddings = model.encode(zero_shot)\n",
    "    fine_tuned_embeddings = model.encode(fine_tuned)\n",
    "\n",
    "    zs_cos_sims = [cos_sim(x, y) for x, y in zip(ground_truth_embeddings, zero_shot_embeddings)]\n",
    "    ft_cos_sims = [cos_sim(x, y) for x, y in zip(ground_truth_embeddings, fine_tuned_embeddings)]\n",
    "    # Display the dataframe with the METEOR scores\n",
    "    return np.mean(zs_cos_sims), np.mean(ft_cos_sims)\n"
   ]
  },
  {
   "cell_type": "code",
   "execution_count": 7,
   "metadata": {},
   "outputs": [
    {
     "name": "stdout",
     "output_type": "stream",
     "text": [
      "0.445649965934562\n"
     ]
    }
   ],
   "source": [
    "mean_score = getMeteorScore(filename=\"/home/ubuntu/multimodal/Predictions_and_attempts/Gas/1_week/text-text/zeroshot/llama7b_output_validation_all.csv\")\n",
    "print(mean_score)\n",
    "# zs_mean_score, ft_mean_score = getCosineSimilarity(filename=\"/home/ubuntu/multimodal/Predictions_and_attempts/pred_combined.csv\")\n",
    "# print(\"zs_mean_score: \", zs_mean_score)\n",
    "# print(\"ft_mean_score: \", ft_mean_score)\n"
   ]
  }
 ],
 "metadata": {
  "kernelspec": {
   "display_name": "multimodal",
   "language": "python",
   "name": "python3"
  },
  "language_info": {
   "codemirror_mode": {
    "name": "ipython",
    "version": 3
   },
   "file_extension": ".py",
   "mimetype": "text/x-python",
   "name": "python",
   "nbconvert_exporter": "python",
   "pygments_lexer": "ipython3",
   "version": "3.11.9"
  }
 },
 "nbformat": 4,
 "nbformat_minor": 2
}

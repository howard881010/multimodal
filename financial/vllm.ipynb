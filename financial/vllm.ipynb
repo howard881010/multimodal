{
 "cells": [
  {
   "cell_type": "markdown",
   "metadata": {},
   "source": [
    "# vLLM online"
   ]
  },
  {
   "cell_type": "code",
   "execution_count": null,
   "metadata": {},
   "outputs": [],
   "source": [
    "# first spin up the vLLM server. takes a while\n",
    "\n",
    "# export CUDA_VISIBLE_DEVICES='0,1'\n",
    "# python -m vllm.entrypoints.openai.api_server --model meta-llama/Meta-Llama-3-70B-Instruct --tensor-parallel-size=2 --disable-log-requests"
   ]
  },
  {
   "cell_type": "code",
   "execution_count": null,
   "metadata": {},
   "outputs": [],
   "source": [
    "from openai import OpenAI\n",
    "import threading\n",
    "import queue"
   ]
  },
  {
   "cell_type": "code",
   "execution_count": null,
   "metadata": {},
   "outputs": [],
   "source": [
    "# Set OpenAI's API key and API base to use vLLM's API server.\n",
    "openai_api_key = \"EMPTY\"\n",
    "openai_api_base = \"http://localhost:8000/v1\"\n",
    "\n",
    "client = OpenAI(\n",
    "    api_key=openai_api_key,\n",
    "    base_url=openai_api_base,\n",
    ")\n",
    "\n",
    "def llm_chat(messages, model=\"meta-llama/Meta-Llama-3-70B-Instruct\"):\n",
    "    chat_response = client.chat.completions.create(\n",
    "        model=model,\n",
    "        messages=messages\n",
    "    )\n",
    "    return chat_response.choices[0].message.content\n",
    "\n",
    "def load_text_from(file_path):\n",
    "    with open(file_path, 'r') as file:\n",
    "        data = file.read().splitlines()\n",
    "    return data"
   ]
  },
  {
   "cell_type": "code",
   "execution_count": null,
   "metadata": {},
   "outputs": [],
   "source": [
    "ticker = \"aapl\"\n",
    "\n",
    "raw_data = load_text_from(\"/data/kai/forecasting/summary/aapl_2022-08-19_raw.txt\")\n",
    "raw_data = [d for d in raw_data if d != \"<SEP>\" and d != \"\"]"
   ]
  },
  {
   "cell_type": "code",
   "execution_count": null,
   "metadata": {},
   "outputs": [],
   "source": [
    "SUMMARY_PROMPT = f\"\"\"\n",
    "You are a helpful assistant that filters and summarizes stock news specifically for the company with ticker symbol {ticker}. \n",
    "\n",
    "Your task is to:\n",
    "1. Filter out irrelevant information.\n",
    "2. Provide a concise summary that includes key numbers, growth trends, and the overall market outlook.\n",
    "3. Mention major stock movements, significant economic indicators, and any notable company-specific news.\n",
    "4. Avoid making up any information.\n",
    "\n",
    "If there is no relevant information, the website is blocked, or there is an error message, return nothing.\n",
    "\"\"\"\n",
    "\n",
    "IGNORE_PROMPT = f\"\"\"\n",
    "Return \"<NONE>\" if there is an error in the summarization or if the information is irrelevant. Otherwise, return \"<TRUE>\".\n",
    "\"\"\"\n",
    "\n",
    "COMBINE_PROMPT = f\"\"\"\n",
    "Combine the summaries into one by following the guidelines:\n",
    "\n",
    "1. Provide a concise summary that includes key numbers, growth trends, and the overall market outlook.\n",
    "2. Mention major stock movements, significant economic indicators, and any notable company-specific news.\n",
    "\"\"\"\n",
    "\n",
    "FINAL_PROMPT = f\"\"\"\n",
    "Given the following stock summaries related to the company with ticker symbol {ticker},\n",
    "\n",
    "1. Combine them into one comprehensive summary\n",
    "2. Provide key numbers, growth trends, and the overall market outlook.\n",
    "3. Mention major stock movements, significant economic indicators, and any notable company-specific news.\n",
    "4. Avoid making up any information.\n",
    "\"\"\"\n",
    "\n",
    "def message_template(prompt, content):\n",
    "    messages=[{\n",
    "        \"role\": \"system\",\n",
    "        \"content\": prompt,\n",
    "    }, {\n",
    "        \"role\": \"user\",\n",
    "        \"content\": content\n",
    "    }]\n",
    "    return messages\n",
    "\n",
    "def call_llm_chat(prompt, messages, thread_id, result_queue):\n",
    "    try:\n",
    "        response = llm_chat(message_template(prompt, messages))\n",
    "        result_queue.put((thread_id, response))\n",
    "    except Exception as e:\n",
    "        result_queue.put((thread_id, str(e)))"
   ]
  },
  {
   "cell_type": "code",
   "execution_count": null,
   "metadata": {},
   "outputs": [],
   "source": [
    "def batch_call_llm_chat(prompt, data):\n",
    "    result_queue = queue.Queue()\n",
    "    threads = []\n",
    "    for thread_id, content in enumerate(data):\n",
    "        thread = threading.Thread(target=call_llm_chat, args=(prompt, content, thread_id, result_queue))\n",
    "        threads.append(thread)\n",
    "        thread.start()\n",
    "\n",
    "    # Wait for all threads to complete\n",
    "    for thread in threads:\n",
    "        thread.join()\n",
    "\n",
    "    responses = [None] * len(data)\n",
    "    while not result_queue.empty():\n",
    "        thread_id, response = result_queue.get()\n",
    "        responses[thread_id] = response\n",
    "\n",
    "    return responses"
   ]
  },
  {
   "cell_type": "code",
   "execution_count": null,
   "metadata": {},
   "outputs": [],
   "source": [
    "# summarize and ignore error messages\n",
    "summaries = batch_call_llm_chat(SUMMARY_PROMPT, raw_data)\n",
    "result = batch_call_llm_chat(IGNORE_PROMPT, summaries)\n",
    "\n",
    "valid_idxs = [i for i, r in enumerate(result) if r != \"<NONE>\"]\n",
    "valid_summaries = [summaries[i] for i in valid_idxs]"
   ]
  },
  {
   "cell_type": "code",
   "execution_count": null,
   "metadata": {},
   "outputs": [],
   "source": [
    "valid_summaries"
   ]
  },
  {
   "cell_type": "code",
   "execution_count": null,
   "metadata": {},
   "outputs": [],
   "source": [
    "from transformers import AutoTokenizer\n",
    "\n",
    "model_name = \"meta-llama/Meta-Llama-3-8B-Instruct\"\n",
    "tokenizer = AutoTokenizer.from_pretrained(model_name)\n",
    "\n",
    "token_length = len(tokenizer.encode('\\n'.join(valid_summaries)))\n",
    "max_token_length = 4096\n",
    "\n",
    "if token_length > max_token_length:\n",
    "    print(\"splitting summaries...\")\n",
    "    # Determine how many summaries to combine per chunk\n",
    "    avg_token_per_summary = token_length / len(valid_summaries)\n",
    "    summaries_per_chunk = int(max_token_length / avg_token_per_summary)\n",
    "\n",
    "    # Split the summaries into chunks\n",
    "    valid_summaries_combined = [\n",
    "        valid_summaries[i: i + summaries_per_chunk]\n",
    "        for i in range(0, len(valid_summaries), summaries_per_chunk)\n",
    "    ]\n",
    "\n",
    "    combined_summary = batch_call_llm_chat(COMBINE_PROMPT, valid_summaries_combined)\n",
    "    valid_summaries_combined.append(combined_summary)\n",
    "else:\n",
    "    valid_summaries_combined = valid_summaries\n",
    "\n",
    "final_summary = llm_chat(message_template(FINAL_PROMPT, '\\n'.join(valid_summaries_combined)))"
   ]
  },
  {
   "cell_type": "code",
   "execution_count": null,
   "metadata": {},
   "outputs": [],
   "source": [
    "print(final_summary)"
   ]
  },
  {
   "cell_type": "code",
   "execution_count": null,
   "metadata": {},
   "outputs": [],
   "source": []
  },
  {
   "cell_type": "code",
   "execution_count": null,
   "metadata": {},
   "outputs": [],
   "source": []
  },
  {
   "cell_type": "code",
   "execution_count": null,
   "metadata": {},
   "outputs": [],
   "source": []
  },
  {
   "cell_type": "markdown",
   "metadata": {},
   "source": [
    "# With vLLM offline"
   ]
  },
  {
   "cell_type": "code",
   "execution_count": null,
   "metadata": {},
   "outputs": [],
   "source": [
    "from vllm import LLM, SamplingParams"
   ]
  },
  {
   "cell_type": "code",
   "execution_count": null,
   "metadata": {},
   "outputs": [],
   "source": [
    "prompts = [\n",
    "    \"Hello, my name is\",\n",
    "    \"The president of the United States is\",\n",
    "    \"The capital of France is\",\n",
    "    \"The future of AI is\",\n",
    "]\n",
    "sampling_params = SamplingParams(temperature=0.8, top_p=0.95, max_tokens=8000)"
   ]
  },
  {
   "cell_type": "code",
   "execution_count": null,
   "metadata": {},
   "outputs": [],
   "source": [
    "llm = LLM(model=\"meta-llama/Meta-Llama-3-8B-Instruct\", gpu_memory_utilization=0.9)"
   ]
  },
  {
   "cell_type": "code",
   "execution_count": null,
   "metadata": {},
   "outputs": [],
   "source": [
    "from transformers import AutoTokenizer\n",
    "model_id = \"meta-llama/Meta-Llama-3-8B-Instruct\"\n",
    "tokenizer = AutoTokenizer.from_pretrained(model_id)\n",
    "tokenizer.pad_token = tokenizer.eos_token\n"
   ]
  },
  {
   "cell_type": "code",
   "execution_count": null,
   "metadata": {},
   "outputs": [],
   "source": [
    "# format to role, content format\n",
    "messages_dicts = [[{\"role\": \"user\", 'content': p}] for p in prompts]\n",
    "formatted_message = tokenizer.apply_chat_template(messages_dicts, tokenize=False, add_generation_prompt=True)"
   ]
  },
  {
   "cell_type": "code",
   "execution_count": null,
   "metadata": {},
   "outputs": [],
   "source": [
    "outputs = llm.generate(formatted_message, sampling_params)"
   ]
  },
  {
   "cell_type": "code",
   "execution_count": null,
   "metadata": {},
   "outputs": [],
   "source": [
    "[o.outputs[0].text for o in outputs]"
   ]
  },
  {
   "cell_type": "code",
   "execution_count": null,
   "metadata": {},
   "outputs": [],
   "source": []
  },
  {
   "cell_type": "code",
   "execution_count": null,
   "metadata": {},
   "outputs": [],
   "source": []
  },
  {
   "cell_type": "code",
   "execution_count": null,
   "metadata": {},
   "outputs": [],
   "source": []
  },
  {
   "cell_type": "code",
   "execution_count": null,
   "metadata": {},
   "outputs": [],
   "source": [
    "import pandas as pd\n",
    "import os\n",
    "from tqdm import tqdm\n",
    "from IPython.display import clear_output\n",
    "from src.data_utils import download_raw_texts_from_urls, save_text_to, load_text_from    "
   ]
  },
  {
   "cell_type": "code",
   "execution_count": null,
   "metadata": {},
   "outputs": [],
   "source": [
    "directory_path = '/data/kai/forecasting/raw_urls'\n",
    "file_names = os.listdir(directory_path)\n",
    "\n",
    "ticker = \"aapl\"\n",
    "df = pd.read_csv(directory_path + f'/{ticker}_text.csv')[::-1]\n",
    "\n",
    "data_dir = \"/data/kai/forecasting/summary\"\n",
    "\n",
    "for idx, date_str in enumerate(df[\"timestamp\"].unique()):\n",
    "    if os.path.exists(f\"{data_dir}/{ticker}_{date_str}_final_summary.txt\"):\n",
    "        continue\n",
    "    break"
   ]
  },
  {
   "cell_type": "code",
   "execution_count": null,
   "metadata": {},
   "outputs": [],
   "source": [
    "raw_path = f\"{data_dir}/{ticker}_{date_str}_raw.txt\"\n",
    "\n",
    "raw_texts = load_text_from(raw_path)\n",
    "raw_texts = [r for r in raw_texts if r != \"<SEP>\" and r!= \"\"]"
   ]
  },
  {
   "cell_type": "code",
   "execution_count": null,
   "metadata": {},
   "outputs": [],
   "source": [
    "summary_prompt = f\"You are a helpful assistant that filters and summarizes stock news specifically for company with ticker symbol {ticker}.\"\n",
    "\n",
    "\n",
    "summary_ending_prompt = f\"Filter out irrelevant information and provide a concise summary including key numbers, growth trends, and the overall market outlook. Ensure to mention major stock movements, significant economic indicators, and any notable company-specific news. Do not make up false information. \"\n",
    "filter_prompt = \"Keep the query the same, but please avoid any extraneous phrases or commentary such as 'Here is the filtered text' or 'I hope this helps.'\"\n",
    "\n",
    "combine_prompt = summary_prompt + \" Combine the following summaries while preserving as much information as you can: \""
   ]
  },
  {
   "cell_type": "code",
   "execution_count": null,
   "metadata": {},
   "outputs": [],
   "source": [
    "raw_texts[5:10]"
   ]
  },
  {
   "cell_type": "code",
   "execution_count": null,
   "metadata": {},
   "outputs": [],
   "source": [
    "# prompts = [summary_prompt + text for text in raw_texts[5:8]]\n",
    "prompts = [\"what is your name in 10 words or less?\"] * 10\n",
    "# prompts = [\"what is your name?\"]\n",
    "sampling_params = SamplingParams(temperature=0.8, top_p=0.95, max_tokens=100)\n",
    "\n",
    "outputs = llm.generate(prompts, sampling_params)\n",
    "\n",
    "# Print the outputs.\n",
    "for output in outputs:\n",
    "    prompt = output.prompt\n",
    "    generated_text = output.outputs[0].text\n",
    "    print(f\"Generated text: {generated_text!r}\")"
   ]
  },
  {
   "cell_type": "code",
   "execution_count": null,
   "metadata": {},
   "outputs": [],
   "source": []
  }
 ],
 "metadata": {
  "kernelspec": {
   "display_name": "stocks",
   "language": "python",
   "name": "python3"
  },
  "language_info": {
   "codemirror_mode": {
    "name": "ipython",
    "version": 3
   },
   "file_extension": ".py",
   "mimetype": "text/x-python",
   "name": "python",
   "nbconvert_exporter": "python",
   "pygments_lexer": "ipython3",
   "version": "3.10.14"
  }
 },
 "nbformat": 4,
 "nbformat_minor": 2
}

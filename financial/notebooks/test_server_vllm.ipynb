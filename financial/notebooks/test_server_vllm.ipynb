{
 "cells": [
  {
   "cell_type": "code",
   "execution_count": 1,
   "metadata": {},
   "outputs": [],
   "source": [
    "import os\n",
    "os.sys.path.append('..')\n",
    "from src.engine import Engine\n",
    "from dotenv import load_dotenv; load_dotenv()\n",
    "from openai import OpenAI"
   ]
  },
  {
   "cell_type": "code",
   "execution_count": 2,
   "metadata": {},
   "outputs": [
    {
     "data": {
      "text/plain": [
       "('67c21f73-9d1c-40f7-8a2f-adf2c9274f46',\n",
       " 'https://financial.nrp-nautilus.io/v1')"
      ]
     },
     "execution_count": 2,
     "metadata": {},
     "output_type": "execute_result"
    }
   ],
   "source": [
    "# # local\n",
    "# api_key ='EMPTY'\n",
    "# base_url = 'http://localhost:8000/v1'\n",
    "# client = OpenAI(\n",
    "#             api_key=api_key,\n",
    "#             base_url=base_url,\n",
    "# )\n",
    "\n",
    "# server\n",
    "\n",
    "api_key = os.getenv('API_KEY', 'EMPTY')\n",
    "base_url = os.getenv('BASE_URL', 'http://localhost:8000/v1')\n",
    "engine = Engine('llama3-70b', api_key, base_url)\n",
    "api_key, base_url"
   ]
  },
  {
   "cell_type": "code",
   "execution_count": 3,
   "metadata": {},
   "outputs": [
    {
     "data": {
      "text/plain": [
       "\"Hi! It's nice to meet you. Is there something I can help you with or would you like to chat?\""
      ]
     },
     "execution_count": 3,
     "metadata": {},
     "output_type": "execute_result"
    }
   ],
   "source": [
    "engine.run(\"Hello\", \"hi\")"
   ]
  },
  {
   "cell_type": "code",
   "execution_count": null,
   "metadata": {},
   "outputs": [],
   "source": []
  }
 ],
 "metadata": {
  "kernelspec": {
   "display_name": "stocks",
   "language": "python",
   "name": "python3"
  },
  "language_info": {
   "codemirror_mode": {
    "name": "ipython",
    "version": 3
   },
   "file_extension": ".py",
   "mimetype": "text/x-python",
   "name": "python",
   "nbconvert_exporter": "python",
   "pygments_lexer": "ipython3",
   "version": "3.10.14"
  }
 },
 "nbformat": 4,
 "nbformat_minor": 2
}

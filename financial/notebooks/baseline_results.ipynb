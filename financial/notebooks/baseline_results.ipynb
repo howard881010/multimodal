{
 "cells": [
  {
   "cell_type": "code",
   "execution_count": 1,
   "metadata": {},
   "outputs": [],
   "source": [
    "from glob import glob\n",
    "import pandas as pd\n",
    "import os\n",
    "import matplotlib.pyplot as plt\n",
    "import numpy as np"
   ]
  },
  {
   "cell_type": "code",
   "execution_count": 40,
   "metadata": {},
   "outputs": [],
   "source": [
    "ticker = 'AAPL'\n",
    "\n",
    "save_dir = '/data/kai/forecasting/results'\n",
    "os.makedirs(save_dir, exist_ok=True)\n",
    "def convert_to_float(values):\n",
    "    return np.array([[float(num) for num in val.replace(' ', '').split(',')] for val in values])\n",
    "\n",
    "\n",
    "maes = []\n",
    "mses = []\n",
    "rmses = []\n",
    "rmaes = []\n",
    "\n",
    "for baseline_path in sorted(glob(save_dir + '/*.csv')):\n",
    "    if \"AMZN\" in baseline_path: continue\n",
    "    df = pd.read_csv(baseline_path)\n",
    "\n",
    "    results = convert_to_float(df['Result'].values)\n",
    "    ground_truth = convert_to_float(df['Ground Truth'].values)\n",
    "\n",
    "    \n",
    "    # max_truth = ground_truth.max(1)[:, np.newaxis]\n",
    "    min_truth = ground_truth.min(1)[:, np.newaxis]\n",
    "\n",
    "    # normalized_results = (results - max_truth) / (max_truth - min_truth)\n",
    "    # normalized_truth = (ground_truth - max_truth) / (max_truth - min_truth)\n",
    "    # mae = np.mean(np.abs(normalized_results - normalized_truth), axis=1)\n",
    "    # mse = np.mean(np.square(normalized_results - normalized_truth), axis=1)\n",
    "\n",
    "    # maes.append(mae.mean())\n",
    "    # mses.append(mse.mean())\n",
    "    # print(baseline_path, mae.mean(), mse.mean())\n",
    "\n",
    "    mse = np.mean(np.square((results / min_truth)- (ground_truth / min_truth)))\n",
    "    mae = np.mean(np.abs((results / min_truth)- (ground_truth / min_truth)))\n",
    "    rmses.append(mse)\n",
    "    rmaes.append(mae)\n",
    "    # rmse_sum += rmse\n",
    "    # rmse_sum += rmse\n",
    "\n",
    "    # break"
   ]
  },
  {
   "cell_type": "code",
   "execution_count": 43,
   "metadata": {},
   "outputs": [
    {
     "data": {
      "text/plain": [
       "(0.015646505920147158, 0.04342552013963185)"
      ]
     },
     "execution_count": 43,
     "metadata": {},
     "output_type": "execute_result"
    }
   ],
   "source": [
    "np.std(rmaes), np.mean(rmaes)"
   ]
  },
  {
   "cell_type": "code",
   "execution_count": 41,
   "metadata": {},
   "outputs": [
    {
     "data": {
      "text/plain": [
       "(0.45521268338704407, 4.342552013963185)"
      ]
     },
     "execution_count": 41,
     "metadata": {},
     "output_type": "execute_result"
    }
   ],
   "source": [
    "np.mean(rmses) * 100, np.mean(rmaes) * 100"
   ]
  },
  {
   "cell_type": "code",
   "execution_count": 30,
   "metadata": {},
   "outputs": [
    {
     "data": {
      "text/plain": [
       "[array([[8.74813031e-04, 2.23483516e-04, 1.11790852e-03, 1.78727382e-03,\n",
       "         5.61114421e-03],\n",
       "        [6.04466049e-03, 9.22991427e-03, 6.44259327e-03, 9.85898759e-04,\n",
       "         4.92082330e-04],\n",
       "        [1.01641489e-03, 1.03356927e-05, 3.23806917e-03, 5.82179711e-03,\n",
       "         3.84994218e-03],\n",
       "        ...,\n",
       "        [2.48474490e-03, 3.10814304e-03, 5.22688092e-03, 3.76544369e-03,\n",
       "         1.19642406e-02],\n",
       "        [4.51466827e-06, 7.76452919e-04, 3.20126466e-03, 3.95811757e-03,\n",
       "         6.33747060e-03],\n",
       "        [7.47408348e-04, 3.15335758e-03, 3.90229867e-03, 6.26678707e-03,\n",
       "         4.77560791e-03]]),\n",
       " array([[1.33050792e-06, 5.71789885e-05, 1.52803086e-05, 3.21950065e-06,\n",
       "         1.84341051e-05],\n",
       "        [1.62594537e-04, 1.80693038e-04, 3.89021111e-04, 2.60603425e-04,\n",
       "         1.96211112e-04],\n",
       "        [6.80907298e-05, 8.95256502e-04, 1.21698284e-03, 1.96643993e-03,\n",
       "         2.01432713e-03],\n",
       "        ...,\n",
       "        [5.67103833e-04, 9.29897247e-04, 7.57636947e-04, 1.06702370e-04,\n",
       "         1.04161928e-04],\n",
       "        [3.60593484e-04, 1.17001488e-03, 7.08691745e-03, 9.26318438e-03,\n",
       "         9.83123705e-03],\n",
       "        [2.20375650e-04, 4.06685281e-03, 5.67591261e-03, 6.14178138e-03,\n",
       "         5.80714325e-03]]),\n",
       " array([[4.91467657e-03, 3.15142154e-03, 8.12887339e-03, 1.48050654e-02,\n",
       "         7.46493525e-03],\n",
       "        [2.83378745e-03, 7.63006165e-03, 1.03070774e-03, 2.32349924e-03,\n",
       "         2.06215169e-04],\n",
       "        [7.31114343e-04, 9.43104155e-04, 2.23565281e-04, 2.38102756e-03,\n",
       "         6.47874373e-03],\n",
       "        ...,\n",
       "        [1.55318484e-03, 1.07931148e-03, 9.24604236e-03, 1.27480843e-02,\n",
       "         3.64368163e-02],\n",
       "        [7.61418846e-04, 2.07755108e-04, 7.01495973e-05, 4.41160916e-03,\n",
       "         3.16872067e-03],\n",
       "        [2.93920145e-03, 3.51183942e-03, 1.74843992e-02, 1.71434235e-02,\n",
       "         3.79059444e-02]]),\n",
       " array([[1.85326330e-04, 1.62278389e-04, 9.77502256e-05, 5.17098693e-04,\n",
       "         5.27527312e-04],\n",
       "        [5.74344415e-05, 7.05039976e-06, 1.97423434e-04, 1.71881035e-04,\n",
       "         2.03164464e-04],\n",
       "        [2.75511397e-04, 8.10129938e-04, 2.85445842e-05, 5.29275537e-06,\n",
       "         2.27904073e-04],\n",
       "        ...,\n",
       "        [6.53912042e-07, 3.75609975e-05, 9.18273646e-04, 1.63822356e-03,\n",
       "         3.37173251e-03],\n",
       "        [1.53316109e-05, 8.07479531e-04, 1.52982994e-03, 3.36020944e-03,\n",
       "         1.84170633e-03],\n",
       "        [7.34285037e-04, 1.64759781e-03, 3.68754044e-03, 2.25604744e-03,\n",
       "         2.32699432e-03]]),\n",
       " array([[1.94954141e-04, 3.19737804e-03, 1.58867008e-02, 1.67911035e-02,\n",
       "         1.94249063e-02],\n",
       "        [1.74401749e-03, 1.16718618e-04, 4.83399731e-04, 3.10710782e-04,\n",
       "         5.52374723e-04],\n",
       "        [2.23929625e-03, 1.17402181e-02, 1.04110126e-02, 1.02440795e-02,\n",
       "         8.12822773e-03],\n",
       "        ...,\n",
       "        [2.59653589e-05, 3.06471177e-05, 4.78861214e-05, 7.53672145e-05,\n",
       "         1.44377052e-03],\n",
       "        [3.46020761e-05, 2.25767918e-04, 5.12310228e-04, 3.30404449e-03,\n",
       "         6.93024313e-03],\n",
       "        [9.19833073e-07, 2.48722863e-05, 1.43759280e-03, 4.18685121e-03,\n",
       "         4.78609180e-03]]),\n",
       " array([[5.83136342e-04, 1.26062877e-03, 1.43750325e-03, 1.28518590e-03,\n",
       "         1.45933291e-03],\n",
       "        [3.73650630e-04, 6.22564612e-04, 1.25249570e-03, 1.36027859e-03,\n",
       "         1.14916100e-03],\n",
       "        [2.94136075e-04, 1.94275692e-04, 1.22825442e-03, 1.93551546e-03,\n",
       "         3.32305891e-03],\n",
       "        ...,\n",
       "        [1.03561797e-04, 5.28376515e-05, 6.63209575e-04, 1.92031435e-03,\n",
       "         5.52806919e-03],\n",
       "        [5.25074461e-04, 1.74260731e-03, 3.49526935e-03, 8.04961132e-03,\n",
       "         9.28631429e-03],\n",
       "        [5.38488755e-05, 1.25775177e-04, 9.83470442e-04, 6.34991154e-04,\n",
       "         7.66804919e-08]]),\n",
       " array([[5.23753570e-04, 1.90058685e-04, 2.77193806e-05, 6.69158758e-06,\n",
       "         5.53414206e-04],\n",
       "        [2.12202272e-04, 1.40792961e-03, 1.14385297e-03, 2.95634663e-04,\n",
       "         1.01637247e-03],\n",
       "        [5.27560604e-04, 4.40923708e-04, 1.94532024e-04, 9.29105628e-06,\n",
       "         5.01476255e-05],\n",
       "        ...,\n",
       "        [7.99333516e-05, 2.10147228e-04, 5.62341097e-04, 2.22319165e-03,\n",
       "         1.34680266e-03],\n",
       "        [6.83043165e-05, 7.77422324e-04, 1.68024835e-04, 1.08999499e-03,\n",
       "         3.17062630e-03],\n",
       "        [6.25298448e-05, 3.04724473e-04, 1.66600802e-03, 9.00626748e-04,\n",
       "         2.69805370e-03]]),\n",
       " array([[4.71344661e-05, 2.18394658e-04, 1.25341747e-03, 1.83121751e-03,\n",
       "         4.02186579e-05],\n",
       "        [2.39873128e-03, 3.39806751e-03, 1.12913371e-03, 2.36194953e-03,\n",
       "         3.82110914e-04],\n",
       "        [1.13263024e-03, 1.40962266e-04, 4.04025934e-03, 1.33530554e-02,\n",
       "         2.26166124e-02],\n",
       "        ...,\n",
       "        [5.79039823e-04, 3.32432322e-04, 3.27957361e-03, 1.98638573e-03,\n",
       "         3.05528625e-03],\n",
       "        [2.36109427e-03, 1.57679275e-03, 2.76011053e-03, 3.89274915e-03,\n",
       "         2.77677694e-02],\n",
       "        [6.79782267e-04, 1.15117790e-05, 3.32432322e-04, 2.70189883e-04,\n",
       "         2.47408573e-04]]),\n",
       " array([[2.56844149e-03, 1.41803099e-04, 4.75601959e-03, 5.04479537e-03,\n",
       "         1.95186968e-02],\n",
       "        [1.93304097e-03, 2.07185514e-03, 1.00196046e-02, 1.00932930e-02,\n",
       "         6.86078401e-03],\n",
       "        [1.07699669e-03, 5.57063131e-03, 1.59874862e-02, 3.58988054e-03,\n",
       "         9.69297022e-07],\n",
       "        ...,\n",
       "        [3.53305645e-03, 1.40559386e-02, 2.22641129e-02, 4.64220829e-02,\n",
       "         8.25737343e-02],\n",
       "        [1.79969396e-03, 3.76448359e-03, 1.39629791e-02, 2.83605880e-02,\n",
       "         3.12355726e-02],\n",
       "        [1.30812271e-03, 7.18712326e-03, 1.93655348e-02, 1.97989274e-02,\n",
       "         6.85243986e-02]]),\n",
       " array([[1.41517635e-03, 1.73346440e-03, 1.19147977e-03, 7.76083125e-04,\n",
       "         1.78893177e-03],\n",
       "        [8.76577007e-05, 3.80301084e-04, 9.98642161e-05, 4.13145953e-04,\n",
       "         4.74517404e-05],\n",
       "        [1.11990128e-04, 2.59243790e-05, 2.36379305e-04, 2.44218414e-05,\n",
       "         2.21279176e-04],\n",
       "        ...,\n",
       "        [6.87551738e-05, 2.71365976e-04, 4.64784975e-04, 1.05412513e-03,\n",
       "         2.68479413e-03],\n",
       "        [1.50601333e-04, 1.79946380e-04, 4.15327426e-04, 1.28049772e-03,\n",
       "         8.56212084e-04],\n",
       "        [4.80467164e-05, 3.99170125e-04, 1.73585371e-03, 1.70510403e-03,\n",
       "         3.21214743e-03]]),\n",
       " array([[0.00516567, 0.00237092, 0.00524039, 0.01700589, 0.04401193],\n",
       "        [0.00210551, 0.01147263, 0.03616573, 0.04689845, 0.02912983],\n",
       "        [0.0059418 , 0.00970838, 0.00274422, 0.00630799, 0.0072271 ],\n",
       "        ...,\n",
       "        [0.00015573, 0.00095692, 0.00136236, 0.00215308, 0.00064059],\n",
       "        [0.00183911, 0.00257256, 0.00383483, 0.00191946, 0.0007269 ],\n",
       "        [0.00018191, 0.00024319, 0.00223633, 0.00504971, 0.00671341]])]"
      ]
     },
     "execution_count": 30,
     "metadata": {},
     "output_type": "execute_result"
    }
   ],
   "source": [
    "[r for r in rmses]"
   ]
  },
  {
   "cell_type": "code",
   "execution_count": 5,
   "metadata": {},
   "outputs": [
    {
     "name": "stdout",
     "output_type": "stream",
     "text": [
      "[88.34 89.12 90.51 91.95 93.42] [82.79 85.36 84.92 81.88 77.22]\n",
      "[88.45 90.12 91.85 93.59 95.33] [84.92 81.88 77.22 76.93 82.2 ]\n",
      "[83.15 84.51 86.23 87.95 89.67] [77.22 76.93 82.2  81.84 83.13]\n",
      "[86.54 88.19 89.83 91.42 93.05] [81.88 77.22 76.93 82.2  81.84]\n",
      "[82.19 81.42 80.85 80.29 79.73] [85.36 84.92 81.88 77.22 76.93]\n",
      "[80.15 82.51 84.83 87.19 89.55] [76.93 82.2  81.84 83.13 83.38]\n",
      "[83.55 84.89 85.21 86.53 87.82] [81.84 83.13 83.38 85.2  82.81]\n",
      "[83.41 84.29 85.15 85.97 86.79] [83.13 83.38 85.2  82.81 82.37]\n",
      "[84.51 85.23 86.12 85.92 86.45] [83.38 85.2  82.81 82.37 83.78]\n",
      "[76.45 75.89 75.32 74.75 74.18] [82.2  81.84 83.13 83.38 85.2 ]\n"
     ]
    }
   ],
   "source": [
    "for i in range(10):\n",
    "\n",
    "    max_truth = ground_truth[i].max()\n",
    "    min_truth = ground_truth[i].min()\n",
    "\n",
    "    norm = "
   ]
  },
  {
   "cell_type": "code",
   "execution_count": 67,
   "metadata": {},
   "outputs": [
    {
     "data": {
      "text/plain": [
       "(1.0425810339964425, 2.4183926902957045)"
      ]
     },
     "execution_count": 67,
     "metadata": {},
     "output_type": "execute_result"
    }
   ],
   "source": [
    "np.mean(maes), np.mean(mses)"
   ]
  },
  {
   "cell_type": "code",
   "execution_count": 37,
   "metadata": {},
   "outputs": [
    {
     "data": {
      "image/png": "[encoded data removed]",
      "text/plain": [
       "<Figure size 1000x500 with 2 Axes>"
      ]
     },
     "metadata": {},
     "output_type": "display_data"
    }
   ],
   "source": [
    "fig, axs = plt.subplots(1, 2, figsize=(10, 5))\n",
    "\n",
    "axs[0].plot(mae)\n",
    "axs[0].set_title(\"mean MAE for each day\")\n",
    "\n",
    "axs[1].plot(mse)\n",
    "axs[1].set_title(\"mean MSE for each day\")\n",
    "\n",
    "plt.suptitle(\"MAE and MSE of baseline\")\n",
    "plt.show()"
   ]
  },
  {
   "cell_type": "code",
   "execution_count": 11,
   "metadata": {},
   "outputs": [
    {
     "data": {
      "text/plain": [
       "(array([246.19, 249.15, 251.83, 254.49, 257.17]),\n",
       " array([239.24, 237.03, 233.52, 232.78, 233.27]))"
      ]
     },
     "execution_count": 11,
     "metadata": {},
     "output_type": "execute_result"
    }
   ],
   "source": [
    "np.argmax(res)\n",
    "results[250], ground_truth[250]"
   ]
  },
  {
   "cell_type": "code",
   "execution_count": 8,
   "metadata": {},
   "outputs": [],
   "source": [
    "def get_strict_trend(arr):\n",
    "    # Check for strictly increasing\n",
    "    strictly_increasing = np.all(np.diff(arr, axis=1) > 0, axis=1)\n",
    "\n",
    "    # Check for strictly decreasing\n",
    "    strictly_decreasing = np.all(np.diff(arr, axis=1) < 0, axis=1)\n",
    "\n",
    "    # Combine the two conditions\n",
    "    is_monotone = strictly_increasing | strictly_decreasing\n",
    "    print('Increasing:', strictly_increasing.mean())\n",
    "    print('Decreasing:', strictly_decreasing.mean())\n",
    "    print('Both:', is_monotone.mean())\n",
    "    return strictly_increasing, strictly_decreasing, is_monotone"
   ]
  },
  {
   "cell_type": "code",
   "execution_count": 9,
   "metadata": {},
   "outputs": [
    {
     "name": "stdout",
     "output_type": "stream",
     "text": [
      "Increasing: 0.8279569892473119\n",
      "Decreasing: 0.08602150537634409\n",
      "Both: 0.9139784946236559\n",
      "Increasing: 0.05806451612903226\n",
      "Decreasing: 0.04946236559139785\n",
      "Both: 0.10752688172043011\n"
     ]
    }
   ],
   "source": [
    "pred_trend = get_strict_trend(results)\n",
    "ground_truth_trend = get_strict_trend(ground_truth)"
   ]
  },
  {
   "cell_type": "code",
   "execution_count": null,
   "metadata": {},
   "outputs": [],
   "source": []
  }
 ],
 "metadata": {
  "kernelspec": {
   "display_name": "stocks",
   "language": "python",
   "name": "python3"
  },
  "language_info": {
   "codemirror_mode": {
    "name": "ipython",
    "version": 3
   },
   "file_extension": ".py",
   "mimetype": "text/x-python",
   "name": "python",
   "nbconvert_exporter": "python",
   "pygments_lexer": "ipython3",
   "version": "3.1.-1"
  }
 },
 "nbformat": 4,
 "nbformat_minor": 2
}

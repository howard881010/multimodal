{
 "cells": [
  {
   "cell_type": "code",
   "execution_count": 1,
   "metadata": {},
   "outputs": [
    {
     "name": "stderr",
     "output_type": "stream",
     "text": [
      "/data/kai/miniconda3/envs/stocks/lib/python3.10/site-packages/tqdm/auto.py:21: TqdmWarning: IProgress not found. Please update jupyter and ipywidgets. See https://ipywidgets.readthedocs.io/en/stable/user_install.html\n",
      "  from .autonotebook import tqdm as notebook_tqdm\n"
     ]
    }
   ],
   "source": [
    "import copy\n",
    "import datasets\n",
    "import itertools\n",
    "import pandas as pd\n",
    "import os\n",
    "from glob import glob\n",
    "from tqdm import tqdm\n",
    "import matplotlib.pyplot as plt"
   ]
  },
  {
   "cell_type": "code",
   "execution_count": 2,
   "metadata": {},
   "outputs": [],
   "source": [
    "# run format_to_csv.py to get formatted csv for each company"
   ]
  },
  {
   "cell_type": "code",
   "execution_count": null,
   "metadata": {},
   "outputs": [],
   "source": []
  },
  {
   "cell_type": "code",
   "execution_count": null,
   "metadata": {},
   "outputs": [],
   "source": []
  },
  {
   "cell_type": "code",
   "execution_count": null,
   "metadata": {},
   "outputs": [],
   "source": [
    "\n",
    "B_INST, E_INST = \"[INST]\", \"[/INST]\"\n",
    "\n",
    "def tokenize_dialog(dialog, tokenizer):\n",
    "    if tokenizer.vocab_size >= 128000:\n",
    "        dialog_tokens = tokenizer.apply_chat_template(dialog)\n",
    "        dialog_tokens = dialog_tokens[:-4] # Remove generation prompt <|start_header_id|>assistant<|end_header_id|>\\n\\n\n",
    "        eot_indices = [i for i,n in enumerate(dialog_tokens) if n == 128009]\n",
    "        labels = copy.copy(dialog_tokens)\n",
    "        last_idx = 0\n",
    "        for n, idx in enumerate(eot_indices):\n",
    "            if n % 2 == 1:\n",
    "                last_idx = idx\n",
    "            else:\n",
    "                labels[last_idx:idx+1] = [-100] * (idx-last_idx+1)\n",
    "\n",
    "        dialog_tokens = [dialog_tokens]\n",
    "        labels_tokens = [labels]\n",
    "    else:\n",
    "        prompt_tokens = [tokenizer.encode(f\"{tokenizer.bos_token}{B_INST} {(prompt['content']).strip()} {E_INST}\", add_special_tokens=False) for prompt in dialog[::2]]\n",
    "        answer_tokens = [tokenizer.encode(f\"{answer['content'].strip()} {tokenizer.eos_token}\", add_special_tokens=False) for answer in dialog[1::2]]\n",
    "        dialog_tokens = list(itertools.chain.from_iterable(zip(prompt_tokens, answer_tokens)))\n",
    "\n",
    "        #Add labels, convert prompt token to -100 in order to ignore in loss function\n",
    "        labels_tokens = [len(c)*[-100,] if i % 2 == 0 else c for i,c in enumerate(dialog_tokens)]\n",
    "\n",
    "    combined_tokens = {\n",
    "        \"input_ids\": list(itertools.chain(*(t for t in dialog_tokens))),\n",
    "        \"labels\": list(itertools.chain(*(t for t in labels_tokens))),\n",
    "    }\n",
    "\n",
    "    return dict(combined_tokens, attention_mask=[1]*len(combined_tokens[\"input_ids\"]))\n",
    "\n",
    "\n",
    "def get_financial_dataset(dataset_config, tokenizer, split):\n",
    "    dataset = datasets.load_dataset(\"OpenAssistant/oasst1\", split=split)\n",
    "\n",
    "    dataset = dataset.map(lambda sample: {\n",
    "        \"message_id\": sample[\"message_id\"],\n",
    "        \"parent_id\": sample[\"parent_id\"],\n",
    "        \"text\": sample[\"text\"],\n",
    "        },\n",
    "        batched=True,\n",
    "        remove_columns=list(dataset.features),)\n",
    "\n",
    "    nodes = {}\n",
    "\n",
    "    messages = {}\n",
    "    root_ids = []\n",
    "\n",
    "    for data in dataset:\n",
    "        if data[\"parent_id\"]:\n",
    "            nodes[data[\"parent_id\"]] = nodes.get(data[\"parent_id\"], []) + [data[\"message_id\"]]\n",
    "        else:\n",
    "            root_ids.append(data[\"message_id\"])\n",
    "        messages[data[\"message_id\"]]=data[\"text\"]\n",
    "\n",
    "    def follow(thread, current_id):\n",
    "        thread = copy.copy(thread) + [messages[current_id]]\n",
    "        if current_id in nodes:\n",
    "            new_threads = []\n",
    "            for next_id in nodes[current_id]:\n",
    "                new_threads += follow(thread, next_id)\n",
    "            return new_threads\n",
    "        else:\n",
    "            return [thread]\n",
    "\n",
    "    def get_threads_from_root(root_id):\n",
    "        all_threads = []\n",
    "        thread = [messages[root_id]]\n",
    "        for cid in nodes[root_id]:\n",
    "            all_threads += follow(thread, cid)\n",
    "        return all_threads\n",
    "\n",
    "    dataset = dataset.filter(lambda x: x[\"message_id\"] in root_ids)\n",
    "    dataset = dataset.map(lambda x: {\"thread\": get_threads_from_root(x[\"message_id\"])}, remove_columns=list(dataset.features))\n",
    "    dataset = dataset.map(lambda x: {\"thread\": [i for row in x[\"thread\"] for i in row]}, batched=True)\n",
    "\n",
    "    def to_dialog(thread):\n",
    "        dialog = []\n",
    "        for i, content in enumerate(thread):\n",
    "            dialog.append({\n",
    "                \"role\": \"user\" if i % 2 == 0 else \"assistant\",\n",
    "                \"content\": content,\n",
    "            })\n",
    "        return {\"dialog\": dialog}\n",
    "\n",
    "    dataset = dataset.map(lambda x: to_dialog(x[\"thread\"]), remove_columns=list(dataset.features))\n",
    "    dataset = dataset.map(lambda x: tokenize_dialog(x[\"dialog\"], tokenizer), remove_columns=list(dataset.features))\n",
    "\n",
    "    return dataset\n"
   ]
  },
  {
   "cell_type": "code",
   "execution_count": null,
   "metadata": {},
   "outputs": [
    {
     "data": {
      "text/plain": [
       "Dataset({\n",
       "    features: ['message_id', 'parent_id', 'user_id', 'created_date', 'text', 'role', 'lang', 'review_count', 'review_result', 'deleted', 'rank', 'synthetic', 'model_name', 'detoxify', 'message_tree_id', 'tree_state', 'emojis', 'labels'],\n",
       "    num_rows: 84437\n",
       "})"
      ]
     },
     "metadata": {},
     "output_type": "display_data"
    }
   ],
   "source": [
    "dataset = datasets.load_dataset(\"OpenAssistant/oasst1\", split=\"train\")\n",
    "dataset"
   ]
  }
 ],
 "metadata": {
  "kernelspec": {
   "display_name": "stocks",
   "language": "python",
   "name": "python3"
  },
  "language_info": {
   "codemirror_mode": {
    "name": "ipython",
    "version": 3
   },
   "file_extension": ".py",
   "mimetype": "text/x-python",
   "name": "python",
   "nbconvert_exporter": "python",
   "pygments_lexer": "ipython3",
   "version": "3.10.14"
  }
 },
 "nbformat": 4,
 "nbformat_minor": 2
}

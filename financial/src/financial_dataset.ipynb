{
 "cells": [
  {
   "cell_type": "code",
   "execution_count": 1,
   "metadata": {},
   "outputs": [
    {
     "name": "stderr",
     "output_type": "stream",
     "text": [
      "/data/kai/miniconda3/envs/stocks/lib/python3.10/site-packages/tqdm/auto.py:21: TqdmWarning: IProgress not found. Please update jupyter and ipywidgets. See https://ipywidgets.readthedocs.io/en/stable/user_install.html\n",
      "  from .autonotebook import tqdm as notebook_tqdm\n"
     ]
    }
   ],
   "source": [
    "import copy\n",
    "import datasets\n",
    "import itertools\n",
    "import pandas as pd\n",
    "import os\n",
    "from glob import glob\n",
    "from tqdm import tqdm\n",
    "import matplotlib.pyplot as plt\n",
    "from transformers import AutoTokenizer\n",
    "\n",
    "os.sys.path.append('/data/kai/forecasting/multimodal/financial/templates')\n",
    "\n",
    "from PROMPTS import ForecstBaselinePrompts"
   ]
  },
  {
   "cell_type": "code",
   "execution_count": 2,
   "metadata": {},
   "outputs": [],
   "source": [
    "window = 5\n",
    "\n",
    "data_dir = '/data/kai/forecasting/data'\n",
    "formatted_paths = sorted(glob(os.path.join(data_dir, 'formatted') + \"/*\"))"
   ]
  },
  {
   "cell_type": "code",
   "execution_count": 3,
   "metadata": {},
   "outputs": [],
   "source": [
    "# '/data/kai/forecasting/data/formatted/AAPL.csv' --> AAPL\n",
    "ticker_path = formatted_paths[0]\n",
    "ticker = ticker_path.split('/')[-1].split('.csv')[0]\n",
    "ticker_df = pd.read_csv(ticker_path)\n",
    "prompts = ForecstBaselinePrompts(window)"
   ]
  },
  {
   "cell_type": "code",
   "execution_count": 4,
   "metadata": {},
   "outputs": [
    {
     "data": {
      "text/html": [
       "<div>\n",
       "<style scoped>\n",
       "    .dataframe tbody tr th:only-of-type {\n",
       "        vertical-align: middle;\n",
       "    }\n",
       "\n",
       "    .dataframe tbody tr th {\n",
       "        vertical-align: top;\n",
       "    }\n",
       "\n",
       "    .dataframe thead th {\n",
       "        text-align: right;\n",
       "    }\n",
       "</style>\n",
       "<table border=\"1\" class=\"dataframe\">\n",
       "  <thead>\n",
       "    <tr style=\"text-align: right;\">\n",
       "      <th></th>\n",
       "      <th>timestamp</th>\n",
       "      <th>price</th>\n",
       "      <th>summary</th>\n",
       "    </tr>\n",
       "  </thead>\n",
       "  <tbody>\n",
       "    <tr>\n",
       "      <th>0</th>\n",
       "      <td>2022-03-01</td>\n",
       "      <td>203.49</td>\n",
       "      <td>AAPL stock declined due to Apple Inc.'s decisi...</td>\n",
       "    </tr>\n",
       "    <tr>\n",
       "      <th>1</th>\n",
       "      <td>2022-03-02</td>\n",
       "      <td>208.11</td>\n",
       "      <td>AAPL Summary:\\n\\nApple has halted product sale...</td>\n",
       "    </tr>\n",
       "    <tr>\n",
       "      <th>2</th>\n",
       "      <td>2022-03-03</td>\n",
       "      <td>202.97</td>\n",
       "      <td>AAPL Summary:\\n\\nAAPL is one of the 20 stocks ...</td>\n",
       "    </tr>\n",
       "    <tr>\n",
       "      <th>3</th>\n",
       "      <td>2022-03-04</td>\n",
       "      <td>200.06</td>\n",
       "      <td>There is no relevant information available abo...</td>\n",
       "    </tr>\n",
       "    <tr>\n",
       "      <th>4</th>\n",
       "      <td>2022-03-07</td>\n",
       "      <td>187.47</td>\n",
       "      <td>Here is the comprehensive summary:\\n\\nApple (A...</td>\n",
       "    </tr>\n",
       "    <tr>\n",
       "      <th>...</th>\n",
       "      <td>...</td>\n",
       "      <td>...</td>\n",
       "      <td>...</td>\n",
       "    </tr>\n",
       "    <tr>\n",
       "      <th>470</th>\n",
       "      <td>2024-04-16</td>\n",
       "      <td>499.76</td>\n",
       "      <td>AAPL is set to report Q2 earnings, with analys...</td>\n",
       "    </tr>\n",
       "    <tr>\n",
       "      <th>471</th>\n",
       "      <td>2024-04-17</td>\n",
       "      <td>494.17</td>\n",
       "      <td>Here is a comprehensive summary of Apple (AAPL...</td>\n",
       "    </tr>\n",
       "    <tr>\n",
       "      <th>472</th>\n",
       "      <td>2024-04-18</td>\n",
       "      <td>501.80</td>\n",
       "      <td>AAPL faces challenges from new competition, pa...</td>\n",
       "    </tr>\n",
       "    <tr>\n",
       "      <th>473</th>\n",
       "      <td>2024-04-19</td>\n",
       "      <td>481.07</td>\n",
       "      <td>AAPL stock faces potential headwinds due to TS...</td>\n",
       "    </tr>\n",
       "    <tr>\n",
       "      <th>474</th>\n",
       "      <td>2024-04-22</td>\n",
       "      <td>481.73</td>\n",
       "      <td>AAPL's market share in China is expected to de...</td>\n",
       "    </tr>\n",
       "  </tbody>\n",
       "</table>\n",
       "<p>475 rows × 3 columns</p>\n",
       "</div>"
      ],
      "text/plain": [
       "      timestamp   price                                            summary\n",
       "0    2022-03-01  203.49  AAPL stock declined due to Apple Inc.'s decisi...\n",
       "1    2022-03-02  208.11  AAPL Summary:\\n\\nApple has halted product sale...\n",
       "2    2022-03-03  202.97  AAPL Summary:\\n\\nAAPL is one of the 20 stocks ...\n",
       "3    2022-03-04  200.06  There is no relevant information available abo...\n",
       "4    2022-03-07  187.47  Here is the comprehensive summary:\\n\\nApple (A...\n",
       "..          ...     ...                                                ...\n",
       "470  2024-04-16  499.76  AAPL is set to report Q2 earnings, with analys...\n",
       "471  2024-04-17  494.17  Here is a comprehensive summary of Apple (AAPL...\n",
       "472  2024-04-18  501.80  AAPL faces challenges from new competition, pa...\n",
       "473  2024-04-19  481.07  AAPL stock faces potential headwinds due to TS...\n",
       "474  2024-04-22  481.73  AAPL's market share in China is expected to de...\n",
       "\n",
       "[475 rows x 3 columns]"
      ]
     },
     "execution_count": 4,
     "metadata": {},
     "output_type": "execute_result"
    }
   ],
   "source": [
    "ticker_df"
   ]
  },
  {
   "cell_type": "code",
   "execution_count": 6,
   "metadata": {},
   "outputs": [],
   "source": [
    "# format into price={}, summary={} <SEP> price={}, summmary={}...\n",
    "\n",
    "for i in range(0, len(ticker_df)-window*2): # use next 5 price as ground truth\n",
    "    window_df = ticker_df.iloc[i: i+window*2]\n",
    "    x = '<SEP>'.join([f'<Day {i} Price>{price}, summary={summary}' for price, summary in zip(window_df['price'].values[:window], window_df['summary'].values[:window])])\n",
    "    y = ', '.join([str(price) for price in window_df['price'].values[window:window*2]])\n",
    "\n",
    "    messages = [{\n",
    "        \"role\": \"system\",\n",
    "        \"content\": prompts.SYSTEM_PROMPT\n",
    "    },\n",
    "    {\n",
    "        \"role\": \"user\",\n",
    "        'content': x\n",
    "    }]\n",
    "    \n",
    "    break"
   ]
  },
  {
   "cell_type": "code",
   "execution_count": 7,
   "metadata": {},
   "outputs": [
    {
     "data": {
      "text/plain": [
       "[{'role': 'system',\n",
       "  'content': \"You are an expert financial forecaster. Given each day's price and summary, predict the next 5 days prices. Provide 5 numerical values only, seperated by commas and no other text.\\n\"},\n",
       " {'role': 'user',\n",
       "  'content': \"<Day 1 Price>203.49, summary=AAPL stock declined due to Apple Inc.'s decision to halt product sales in Russia in response to the Ukraine crisis, contributing to a 2% decline in the S&P 500 for the second consecutive day.<SEP><Day 1 Price>208.11, summary=AAPL Summary:\\n\\nApple has halted product sales in Russia, including iPhones, iPads, and Macs, in response to the Ukraine invasion. The company has also removed RT News and Sputnik News apps from App Stores outside of Russia and disabled traffic and live-incident features in Ukraine. Apple is providing aid for the unfolding refugee crisis through humanitarian efforts. \\n\\nKey Numbers:\\n- None available in the given summaries.\\n\\nGrowth Trends:\\n- None available in the given summaries.\\n\\nMarket Outlook:\\n- The stock initially dipped to session lows following the news but recovered some losses.\\n\\nMajor Stock Movements:\\n- Initial dip to session lows, followed by a partial recovery.\\n\\nSignificant Economic Indicators:\\n- None available in the given summaries.\\n\\nNotable Company-Specific News:\\n- Halt of product sales in Russia, removal of certain apps, and humanitarian efforts.<SEP><Day 1 Price>202.97, summary=AAPL Summary:\\n\\nAAPL is one of the 20 stocks that billionaires are selling in Q1, indicating a potential decrease in investor confidence. No further details are available on the specific sale amounts or reasons behind this trend.<SEP><Day 1 Price>200.06, summary=There is no relevant information available about AAPL (Apple Inc.) in the provided summaries. Therefore, it is not possible to provide a comprehensive summary, key numbers, growth trends, or overall market outlook.<SEP><Day 1 Price>187.47, summary=Here is the comprehensive summary:\\n\\nApple (AAPL) shares have been volatile, rising 2.1% to $174.24 after reporting strong Q4 earnings, then falling 2.3% to $174.24, and later rising 1.5% to $174.24 after reporting strong Q2 earnings. The company's market capitalization stands at $2.85 trillion, with a price-to-earnings ratio of 27.77.\\n\\nKey numbers:\\n\\n* Q4 earnings: $1.29 EPS on $90.15 billion revenue, up 8% year-over-year\\n* iPhone sales: $42.6 billion, up 10% year-over-year\\n* Services segment revenue: $19.5 billion, up 18% year-over-year\\n* Gross margin: 38.2%\\n* Revenue growth rate: 13.4% year-over-year\\n* Net income growth: 15.3%\\n\\nGrowth trends:\\n\\n* Strong demand for iPhones and services\\n* Growing ecosystem and brand loyalty\\n* Increasing operating cash flow, reaching $25.9 billion in Q2\\n\\nMarket outlook:\\n\\n* Nasdaq Composite Index up 2.5% over the past month, driven by optimism over the economic recovery and strong corporate earnings\\n* U.S. GDP growth rate expected to slow down to 2.2% in 2023, but labor market remains strong with an unemployment rate of 3.6%\\n\\nNotable company-specific news:\\n\\n* Authorized a $75 billion share buyback and announced a 5% dividend increase to $0.92 per share\\n* Will host its annual Worldwide Developers Conference (WWDC) on June 6, where it is expected to unveil new software features and updates\\n* Wedbush maintains its Outperform rating and $180 price target, citing strong brand loyalty, growing services segment, and upcoming product cycles\"}]"
      ]
     },
     "execution_count": 7,
     "metadata": {},
     "output_type": "execute_result"
    }
   ],
   "source": [
    "messages"
   ]
  },
  {
   "cell_type": "code",
   "execution_count": null,
   "metadata": {},
   "outputs": [],
   "source": []
  },
  {
   "cell_type": "code",
   "execution_count": null,
   "metadata": {},
   "outputs": [],
   "source": []
  },
  {
   "cell_type": "code",
   "execution_count": null,
   "metadata": {},
   "outputs": [],
   "source": []
  },
  {
   "cell_type": "code",
   "execution_count": null,
   "metadata": {},
   "outputs": [],
   "source": [
    "def message_template(prompt: str, content: str):\n",
    "    messages = [{\n",
    "        \"role\": \"system\",\n",
    "        \"content\": prompt,\n",
    "    }, {\n",
    "        \"role\": \"user\",\n",
    "        \"content\": content\n",
    "    }]\n",
    "    return messages"
   ]
  },
  {
   "cell_type": "code",
   "execution_count": null,
   "metadata": {},
   "outputs": [],
   "source": []
  },
  {
   "cell_type": "code",
   "execution_count": null,
   "metadata": {},
   "outputs": [],
   "source": []
  },
  {
   "cell_type": "code",
   "execution_count": null,
   "metadata": {},
   "outputs": [],
   "source": []
  },
  {
   "cell_type": "code",
   "execution_count": 16,
   "metadata": {},
   "outputs": [],
   "source": [
    "\n",
    "B_INST, E_INST = \"[INST]\", \"[/INST]\"\n",
    "\n",
    "def tokenize_dialog(dialog, tokenizer):\n",
    "    if tokenizer.vocab_size >= 128000:\n",
    "        dialog_tokens = tokenizer.apply_chat_template(dialog)\n",
    "        dialog_tokens = dialog_tokens[:-4] # Remove generation prompt <|start_header_id|>assistant<|end_header_id|>\\n\\n\n",
    "        eot_indices = [i for i,n in enumerate(dialog_tokens) if n == 128009]\n",
    "        labels = copy.copy(dialog_tokens)\n",
    "        last_idx = 0\n",
    "        for n, idx in enumerate(eot_indices):\n",
    "            if n % 2 == 1:\n",
    "                last_idx = idx\n",
    "            else:\n",
    "                labels[last_idx:idx+1] = [-100] * (idx-last_idx+1)\n",
    "\n",
    "        dialog_tokens = [dialog_tokens]\n",
    "        labels_tokens = [labels]\n",
    "    else:\n",
    "        prompt_tokens = [tokenizer.encode(f\"{tokenizer.bos_token}{B_INST} {(prompt['content']).strip()} {E_INST}\", add_special_tokens=False) for prompt in dialog[::2]]\n",
    "        answer_tokens = [tokenizer.encode(f\"{answer['content'].strip()} {tokenizer.eos_token}\", add_special_tokens=False) for answer in dialog[1::2]]\n",
    "        dialog_tokens = list(itertools.chain.from_iterable(zip(prompt_tokens, answer_tokens)))\n",
    "\n",
    "        #Add labels, convert prompt token to -100 in order to ignore in loss function\n",
    "        labels_tokens = [len(c)*[-100,] if i % 2 == 0 else c for i,c in enumerate(dialog_tokens)]\n",
    "\n",
    "    combined_tokens = {\n",
    "        \"input_ids\": list(itertools.chain(*(t for t in dialog_tokens))),\n",
    "        \"labels\": list(itertools.chain(*(t for t in labels_tokens))),\n",
    "    }\n",
    "\n",
    "    return dict(combined_tokens, attention_mask=[1]*len(combined_tokens[\"input_ids\"]))\n",
    "\n",
    "\n",
    "def get_financial_dataset(dataset_config, tokenizer, split):\n",
    "    dataset = datasets.load_dataset(\"OpenAssistant/oasst1\", split=split)\n",
    "\n",
    "    dataset = dataset.map(lambda sample: {\n",
    "        \"message_id\": sample[\"message_id\"],\n",
    "        \"parent_id\": sample[\"parent_id\"],\n",
    "        \"text\": sample[\"text\"],\n",
    "        },\n",
    "        batched=True,\n",
    "        remove_columns=list(dataset.features),)\n",
    "\n",
    "    nodes = {}\n",
    "\n",
    "    messages = {}\n",
    "    root_ids = []\n",
    "\n",
    "    for data in dataset:\n",
    "        if data[\"parent_id\"]:\n",
    "            nodes[data[\"parent_id\"]] = nodes.get(data[\"parent_id\"], []) + [data[\"message_id\"]]\n",
    "        else:\n",
    "            root_ids.append(data[\"message_id\"])\n",
    "        messages[data[\"message_id\"]]=data[\"text\"]\n",
    "\n",
    "    def follow(thread, current_id):\n",
    "        thread = copy.copy(thread) + [messages[current_id]]\n",
    "        if current_id in nodes:\n",
    "            new_threads = []\n",
    "            for next_id in nodes[current_id]:\n",
    "                new_threads += follow(thread, next_id)\n",
    "            return new_threads\n",
    "        else:\n",
    "            return [thread]\n",
    "\n",
    "    def get_threads_from_root(root_id):\n",
    "        all_threads = []\n",
    "        thread = [messages[root_id]]\n",
    "        for cid in nodes[root_id]:\n",
    "            all_threads += follow(thread, cid)\n",
    "        return all_threads\n",
    "\n",
    "    dataset = dataset.filter(lambda x: x[\"message_id\"] in root_ids)\n",
    "    dataset = dataset.map(lambda x: {\"thread\": get_threads_from_root(x[\"message_id\"])}, remove_columns=list(dataset.features))\n",
    "    dataset = dataset.map(lambda x: {\"thread\": [i for row in x[\"thread\"] for i in row]}, batched=True)\n",
    "\n",
    "    def to_dialog(thread):\n",
    "        dialog = []\n",
    "        for i, content in enumerate(thread):\n",
    "            dialog.append({\n",
    "                \"role\": \"user\" if i % 2 == 0 else \"assistant\",\n",
    "                \"content\": content,\n",
    "            })\n",
    "        return {\"dialog\": dialog}\n",
    "\n",
    "    dataset = dataset.map(lambda x: to_dialog(x[\"thread\"]), remove_columns=list(dataset.features))\n",
    "    dataset = dataset.map(lambda x: tokenize_dialog(x[\"dialog\"], tokenizer), remove_columns=list(dataset.features))\n",
    "\n",
    "    return dataset"
   ]
  },
  {
   "cell_type": "code",
   "execution_count": 17,
   "metadata": {},
   "outputs": [
    {
     "name": "stderr",
     "output_type": "stream",
     "text": [
      "Special tokens have been added in the vocabulary, make sure the associated word embeddings are fine-tuned or trained.\n",
      "Map: 100%|██████████| 84437/84437 [00:01<00:00, 61143.86 examples/s]\n",
      "Filter: 100%|██████████| 84437/84437 [00:28<00:00, 2986.73 examples/s]\n",
      "Parameter 'function'=<function get_financial_dataset.<locals>.<lambda> at 0x7fecde4f4700> of the transform datasets.arrow_dataset.Dataset._map_single couldn't be hashed properly, a random hash was used instead. Make sure your transforms and parameters are serializable with pickle or dill for the dataset fingerprinting and caching to work. If you reuse this transform, the caching mechanism will consider it to be different from the previous calls and recompute everything. This warning is only showed once. Subsequent hashing failures won't be showed.\n",
      "Map: 100%|██████████| 9846/9846 [00:01<00:00, 7905.57 examples/s] \n",
      "Map: 100%|██████████| 9846/9846 [00:00<00:00, 9897.09 examples/s] \n",
      "Map: 100%|██████████| 44042/44042 [00:02<00:00, 20018.76 examples/s]\n",
      "Map: 100%|██████████| 44042/44042 [00:52<00:00, 843.84 examples/s] \n"
     ]
    }
   ],
   "source": [
    "model_name = \"meta-llama/Meta-Llama-3-70B-Instruct\"\n",
    "tokenizer = AutoTokenizer.from_pretrained(model_name)\n",
    "\n",
    "dataset = get_financial_dataset(None, tokenizer, \"train\")"
   ]
  },
  {
   "cell_type": "code",
   "execution_count": 20,
   "metadata": {},
   "outputs": [
    {
     "data": {
      "text/plain": [
       "dict_keys(['input_ids', 'labels', 'attention_mask'])"
      ]
     },
     "execution_count": 20,
     "metadata": {},
     "output_type": "execute_result"
    }
   ],
   "source": [
    "dataset[0].keys()"
   ]
  },
  {
   "cell_type": "code",
   "execution_count": 24,
   "metadata": {},
   "outputs": [
    {
     "name": "stdout",
     "output_type": "stream",
     "text": [
      "<|begin_of_text|><|start_header_id|>user<|end_header_id|>\n",
      "\n",
      "Can you write a short introduction about the relevance of the term \"monopsony\" in economics? Please use examples related to potential monopsonies in the labour market and cite relevant research.<|eot_id|><|start_header_id|>assistant<|end_header_id|>\n",
      "\n",
      "\"Monopsony\" refers to a market structure where there is only one buyer for a particular good or service. In economics, this term is particularly relevant in the labor market, where a monopsony employer has significant power over the wages and working conditions of their employees. The presence of a monopsony can result in lower wages and reduced employment opportunities for workers, as the employer has little incentive to increase wages or provide better working conditions.\n",
      "\n",
      "Recent research has identified potential monopsonies in industries such as retail and fast food, where a few large companies control a significant portion of the market (Bivens & Mishel, 2013). In these industries, workers often face low wages, limited benefits, and reduced bargaining power, leading to a situation where they are dependent on the employer for their livelihood. This dependence can result in further suppression of wages and a decline in working conditions.\n",
      "\n",
      "Overall, the concept of monopsony is essential to understanding the dynamics of labor markets and the impact of market power on workers. Further research is needed to understand the extent and impact of monopsonies on the economy and to develop policies to address this issue.\n",
      "\n",
      "References:\n",
      "Bivens, J., & Mishel, L. (2013). The Pay of Corporate Executives and Financial Professionals as Evidence of Rents in Top 1 Percent Incomes. Journal of Economic Perspectives, 27(3), 57-78.<|eot_id|><|start_header_id|>user<|end_header_id|>\n",
      "\n",
      "Now explain it\n"
     ]
    }
   ],
   "source": [
    "print(tokenizer.decode(dataset[0]['input_ids']))"
   ]
  },
  {
   "cell_type": "code",
   "execution_count": null,
   "metadata": {},
   "outputs": [],
   "source": [
    "# Prepare Financial dataset in following format\n",
    "# {\n",
    "#     '100', 'summary...',\n",
    "#     '105', 'summary...'\n",
    "# }"
   ]
  },
  {
   "cell_type": "code",
   "execution_count": null,
   "metadata": {},
   "outputs": [],
   "source": []
  }
 ],
 "metadata": {
  "kernelspec": {
   "display_name": "stocks",
   "language": "python",
   "name": "python3"
  },
  "language_info": {
   "codemirror_mode": {
    "name": "ipython",
    "version": 3
   },
   "file_extension": ".py",
   "mimetype": "text/x-python",
   "name": "python",
   "nbconvert_exporter": "python",
   "pygments_lexer": "ipython3",
   "version": "3.10.14"
  }
 },
 "nbformat": 4,
 "nbformat_minor": 2
}

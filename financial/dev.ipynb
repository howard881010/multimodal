{
 "cells": [
  {
   "cell_type": "code",
   "execution_count": 4,
   "metadata": {},
   "outputs": [],
   "source": [
    "from darts.models import NLinearModel\n",
    "from darts import TimeSeries\n",
    "import json\n",
    "import pandas as pd\n",
    "from transformers import BertTokenizer, BertModel, AutoModelForCausalLM, AutoTokenizer\n",
    "import torch\n",
    "import torch.nn as nn\n",
    "import numpy as np"
   ]
  },
  {
   "cell_type": "code",
   "execution_count": 5,
   "metadata": {},
   "outputs": [
    {
     "data": {
      "text/plain": [
       "'\\ninput: x_time and x_text\\n\\n# LLM 2 ways\\nx_time: (\"110.23\") --> llm tokenizer --> time_embd_for_llm\\nx_text: input_id\\n\\n# NLinear\\nx_time --> n linear --> time_embd_for_nlinear\\nx_text --> bert or llm embd --> text_embd for nlinear\\n'"
      ]
     },
     "execution_count": 5,
     "metadata": {},
     "output_type": "execute_result"
    }
   ],
   "source": [
    "\"\"\"\n",
    "input: x_time and x_text\n",
    "\n",
    "# LLM 2 ways\n",
    "x_time: (\"110.23\") --> llm tokenizer --> time_embd_for_llm\n",
    "x_text: input_id\n",
    "\n",
    "# NLinear\n",
    "x_time --> n linear --> time_embd_for_nlinear\n",
    "x_text --> bert or llm embd --> text_embd for nlinear\n",
    "\"\"\""
   ]
  },
  {
   "cell_type": "code",
   "execution_count": 6,
   "metadata": {},
   "outputs": [
    {
     "name": "stderr",
     "output_type": "stream",
     "text": [
      "Special tokens have been added in the vocabulary, make sure the associated word embeddings are fine-tuned or trained.\n"
     ]
    }
   ],
   "source": [
    "model_name = \"meta-llama/Meta-Llama-3-8B-Instruct\"\n",
    "tokenizer = AutoTokenizer.from_pretrained(model_name)\n",
    "\n",
    "\n",
    "text=\"\"\"\n",
    "EXTENDED FORECAST DISCUSSION\n",
    "NWS WEATHER PREDICTION CENTER COLLEGE PARK MD\n",
    "1042 AM EDT FRI APR 04 2014\n",
    "\n",
    "VALID 12Z MON APR 07 2014 - 12Z FRI APR 11 2014\n",
    "\n",
    "...PATTERN OVERVIEW AND GUIDANCE/UNCERTAINTY ASSESSMENT...\n",
    "\n",
    "A RATHER ACTIVE AND MORE SPRINGTIME UPPER PATTERN WILL CONTINUE\n",
    "OVER THE CONUS THROUGH NEXT WEEK. AMPLIFIED RIDGE/TROUGH OVER THE\n",
    "PAC NW/EASTERN THIRD OF THE COUNTRY... RESPECTIVELY... WILL RELAX\n",
    "IN TIME AS PACIFIC ENERGY ENCROACHES UPON CALIFORNIA BY THE END OF\n",
    "NEXT WEEK. THE MODELS/ENSEMBLES ARE IN GOOD AGREEMENT THROUGHOUT\n",
    "THE FORECAST WITH MAINLY TIMING DIFFERENCES AMONG THE GFS/GEFS\n",
    "MEMBERS AND ECMWF/EC ENSEMBLE MEMBERS CAMPS. THE GEFS MEMBERS WERE\n",
    "MOSTLY QUICKER WITH THE FLOW THAN THE REST OF THE GUIDANCE...AND\n",
    "WERE NOT PREFERRED CONSIDERING LARGE SCALE PATTERN AMPLITUDE\n",
    "TREND.  IN PARTICULAR BY LATER NEXT WEEK... THE ENERGY APPROACHING\n",
    "OR MOVING INTO CALIFORNIA HAS SHOWN A FAIR AMOUNT OF SPREAD AMONG\n",
    "THE ENSEMBLES. THE GEFS AGAIN IS QUICKEST AND NOT PREFERRED IN LUE\n",
    "OF SLOWER ECMWF ENSEMBLES.  THE 12 UTC ECMWF FROM YESTERDAY SEEMS\n",
    "THE CLOSEST DETERMINISTIC MODEL MATCH WITH THIS SOLUTION AND\n",
    "CONSIDERING THE CLOSED NATURE OF THE SYSTEM AT THIS LATITUDE IT\n",
    "VERY WELL MAY END UP BEING EVEN LESS PROGRESSIVE.  THE LATEST 00\n",
    "UTC ECMWF AND YESTERDAYS 00 UTC ECMWF INSTEAD SEEM TO OFFER KINDA\n",
    "FUNKY LOOKING SYSTEM PHASING BY DAYS 6/7 OVER THE ERN PACIFIC THAT\n",
    "SEEMS LESS LIKELY TO OCCUR AND WERE DISCOUNTED GIVEN THE LONG TIME\n",
    "FRAME.\n",
    "\n",
    "WPC MEDIUM RANGE SURFACE FRONTS/PRESSURES AND 500 MB PROGS ALONG\n",
    "WITH ASSOCIATED SENSIBLE WEATHER GRIDS HAVE BEEN PRIMARILY DERIVED\n",
    "FROM OVERNIGHT WPC CONTIUNITY THAT WAS ORIGINALLY BASED UPON A\n",
    "BLEND OF YESTERDAYS 12 UTC ECMWF AND INCREASINGLY OVER TIME ECMWF\n",
    "ENSEMBLES.  A MANUAL ADJUSTMENT WAS APPLIED TO SLIGHTLY SLOW LATER\n",
    "WEEK SYSTEM APPROACH TO CA GIVEN REASONINGS ABOVE. \n",
    "OVERALL...CONFIDENCE REMAINS NEAR TO ABOVE AVERAGE THIS FORECAST\n",
    "PERIOD.\n",
    "\n",
    "...SENSIBLE WEATHER HIGHLIGHTS...\n",
    "\n",
    "LEAD EASTERN SYSTEM WILL SPREAD A LARGE AREA OF MODEST RAINS EAST\n",
    "OF 90W... WITH THE BEST CHANCE FOR HEAVIER RAIN IN THE SOUTHEAST.\n",
    "BELOW AVERAGE TEMPS ARE EXPECTED UNTIL THE TROUGH AXIS PASSES\n",
    "OFFSHORE LATE WED/D5... DOWN THROUGH FLORIDA AS THE FRONT PUSHES\n",
    "WELL TO THE SOUTH. THE WEST WILL SEE AN EXPANDING AREA OF ABOVE\n",
    "AVERAGE TEMPERATURES PUSH EASTWARD PAST THE ROCKIES AS HEIGHTS\n",
    "RISE THROUGH THE CENTRAL STATES. MODEST WARMING WILL PUSH INTO THE\n",
    "EASTERN CONUS LATER IN THE WEEK. PRECIPITATION NEXT THU-FRI SHOULD\n",
    "BE MINIMAL COMPARED TO THE RECENT HEAVY RAIN EVENTS... LIMITED TO\n",
    "THE NORTHERN TIER AS A SYSTEM PUSHES THROUGH SOUTHERN CANADA AND\n",
    "ALSO INTO SOME PORTIONS OF CALIFORNIA AS THE ENERGY NEARS THE\n",
    "COAST.\n",
    "\n",
    "SCHICHTEL\n",
    "\"\"\""
   ]
  },
  {
   "cell_type": "code",
   "execution_count": 12,
   "metadata": {},
   "outputs": [],
   "source": [
    "df = pd.read_csv('text_data.csv')"
   ]
  },
  {
   "cell_type": "code",
   "execution_count": 20,
   "metadata": {},
   "outputs": [
    {
     "data": {
      "text/plain": [
       "array(['EXTENDED FORECAST DISCUSSION\\nNWS WEATHER PREDICTION CENTER COLLEGE PARK MD\\n1042 AM EDT FRI APR 04 2014\\n\\nVALID 12Z MON APR 07 2014 - 12Z FRI APR 11 2014\\n\\n...PATTERN OVERVIEW AND GUIDANCE/UNCERTAINTY ASSESSMENT...\\n\\nA RATHER ACTIVE AND MORE SPRINGTIME UPPER PATTERN WILL CONTINUE\\nOVER THE CONUS THROUGH NEXT WEEK. AMPLIFIED RIDGE/TROUGH OVER THE\\nPAC NW/EASTERN THIRD OF THE COUNTRY... RESPECTIVELY... WILL RELAX\\nIN TIME AS PACIFIC ENERGY ENCROACHES UPON CALIFORNIA BY THE END OF\\nNEXT WEEK. THE MODELS/ENSEMBLES ARE IN GOOD AGREEMENT THROUGHOUT\\nTHE FORECAST WITH MAINLY TIMING DIFFERENCES AMONG THE GFS/GEFS\\nMEMBERS AND ECMWF/EC ENSEMBLE MEMBERS CAMPS. THE GEFS MEMBERS WERE\\nMOSTLY QUICKER WITH THE FLOW THAN THE REST OF THE GUIDANCE...AND\\nWERE NOT PREFERRED CONSIDERING LARGE SCALE PATTERN AMPLITUDE\\nTREND.  IN PARTICULAR BY LATER NEXT WEEK... THE ENERGY APPROACHING\\nOR MOVING INTO CALIFORNIA HAS SHOWN A FAIR AMOUNT OF SPREAD AMONG\\nTHE ENSEMBLES. THE GEFS AGAIN IS QUICKEST AND NOT PREFERRED IN LUE\\nOF SLOWER ECMWF ENSEMBLES.  THE 12 UTC ECMWF FROM YESTERDAY SEEMS\\nTHE CLOSEST DETERMINISTIC MODEL MATCH WITH THIS SOLUTION AND\\nCONSIDERING THE CLOSED NATURE OF THE SYSTEM AT THIS LATITUDE IT\\nVERY WELL MAY END UP BEING EVEN LESS PROGRESSIVE.  THE LATEST 00\\nUTC ECMWF AND YESTERDAYS 00 UTC ECMWF INSTEAD SEEM TO OFFER KINDA\\nFUNKY LOOKING SYSTEM PHASING BY DAYS 6/7 OVER THE ERN PACIFIC THAT\\nSEEMS LESS LIKELY TO OCCUR AND WERE DISCOUNTED GIVEN THE LONG TIME\\nFRAME.\\n\\nWPC MEDIUM RANGE SURFACE FRONTS/PRESSURES AND 500 MB PROGS ALONG\\nWITH ASSOCIATED SENSIBLE WEATHER GRIDS HAVE BEEN PRIMARILY DERIVED\\nFROM OVERNIGHT WPC CONTIUNITY THAT WAS ORIGINALLY BASED UPON A\\nBLEND OF YESTERDAYS 12 UTC ECMWF AND INCREASINGLY OVER TIME ECMWF\\nENSEMBLES.  A MANUAL ADJUSTMENT WAS APPLIED TO SLIGHTLY SLOW LATER\\nWEEK SYSTEM APPROACH TO CA GIVEN REASONINGS ABOVE. \\nOVERALL...CONFIDENCE REMAINS NEAR TO ABOVE AVERAGE THIS FORECAST\\nPERIOD.\\n\\n...SENSIBLE WEATHER HIGHLIGHTS...\\n\\nLEAD EASTERN SYSTEM WILL SPREAD A LARGE AREA OF MODEST RAINS EAST\\nOF 90W... WITH THE BEST CHANCE FOR HEAVIER RAIN IN THE SOUTHEAST.\\nBELOW AVERAGE TEMPS ARE EXPECTED UNTIL THE TROUGH AXIS PASSES\\nOFFSHORE LATE WED/D5... DOWN THROUGH FLORIDA AS THE FRONT PUSHES\\nWELL TO THE SOUTH. THE WEST WILL SEE AN EXPANDING AREA OF ABOVE\\nAVERAGE TEMPERATURES PUSH EASTWARD PAST THE ROCKIES AS HEIGHTS\\nRISE THROUGH THE CENTRAL STATES. MODEST WARMING WILL PUSH INTO THE\\nEASTERN CONUS LATER IN THE WEEK. PRECIPITATION NEXT THU-FRI SHOULD\\nBE MINIMAL COMPARED TO THE RECENT HEAVY RAIN EVENTS... LIMITED TO\\nTHE NORTHERN TIER AS A SYSTEM PUSHES THROUGH SOUTHERN CANADA AND\\nALSO INTO SOME PORTIONS OF CALIFORNIA AS THE ENERGY NEARS THE\\nCOAST.\\n\\nSCHICHTEL',\n",
       "       'EXTENDED FORECAST DISCUSSION\\nNWS WEATHER PREDICTION CENTER COLLEGE PARK MD\\n1115 AM EDT SAT APR 05 2014\\n\\nVALID 12Z TUE APR 08 2014 - 12Z SAT APR 12 2014\\n\\n...PATTERN OVERVIEW AND GUIDANCE/UNCERTAINTY ASSESSMENT...\\n\\nA HIGHLY AMPLIFIED NW-SE ORIENTED RIDGE/TROUGH COUPLET ALOFT OVER\\nTHE CONUS EARLY NEXT WEEK WILL GIVE WAY TO INCREASED WRN US\\nTROUGHING AND A TREND TOWARD ZONAL FLOW FURTHER EAST BY THE START\\nOF NEXT WEEKEND. THE MODELS/ENSEMBLES HAVE COME INTO BETTER\\nAGREEMENT THROUGH MOST OF NEXT WEEK...INCLUDING A SLOWER APPROACH\\nOF PACIFIC ENERGY INTO CALIFORNIA LATER IN THE WEEK. A CONSENSUS\\nBLEND OF COMPATABLE GUIDANCE FROM THE 06 UTC GFS AND 00 UTC\\nECMWF/CANADIAN WAS AGAIN USED AS THE BASIS FOR WPC MEDIUM RANGE\\nSURFACE FRONTS/PRESSURES AND 500 MB PROGS INTO DAY 5 / THU BEFORE\\nQUICKLY TRANSITIONING TO THE ECMWF ENSEMBLE MEAN THROUGH DAYS 6/7\\nNEXT FRI/SAT.  THIS IS IN A PERIOD WITH INCREASING DETERMINISTIC\\nMODEL FORECAST SPREAD.  ECMWF ENSEMBLES OVERALL OFFER SLIGHTLY\\nLESS PROGRESSIVE FLOW COMPARED TO THE GFS/CANADIAN ENSEMBLES THAT\\nMOSTLY LIE ON THE QUICKER SIDE OF THE SPREAD...SHOWING THEIR\\nTYPICAL BIAS.  THIS WPC SOLUTION MAINTAINS GOOD CONTINUITY IN A\\nPATTERN WITH ABOVE NORMAL FORECAST CONFIDENCE.\\n\\n...SENSIBLE WEATHER HIGHLIGHTS...\\n\\nEXITING LEAD EASTERN SYSTEM WILL TAKE ITS PRECIP SHIELD INTO THE\\nNORTHEAST AND THEN CANADA AS THE FRONT PUSHES OFFSHORE... USHERING\\nIN ANOTHER SHOT OF BELOW AVERAGE TEMPERATURES FOR THE EAST. A\\nSECOND SYSTEM OF INTEREST SHOULD PUSH THROUGH SRN CANADA WITH\\nGENERALLY LIGHT PRECIPITATION FOR THE US NRN TIER.  PRE-FRONTAL\\nTEMPERATURES SHOULD WARM NICELY ACROSS MUCH OF THE CENTRAL THEN\\nERN CONUS DAYS 4-6/WED-FRI...COOLING WITH WAVY FRONTAL PASSAGE\\nTHOUGH SWD PENETRATION SHOULD BE MEASURED AS THE UPPER FLOW\\nBECOMES MORE ZONAL.  OUT WEST...PACIFIC TROUGH ENERGY/HEIGHT FALLS\\nAND AN ASSOCIATED FRONTAL SYSTEM SHOULD WORK ASHORE INTO CA AND\\nINTO THE SWRN US HEADING INTO NEXT WEEKEND ALONG WITH A FEW\\nSHOWERS AND SOME COOLING TEMPS.\\n\\nSCHICHTEL',\n",
       "       'EXTENDED FORECAST DISCUSSION\\nNWS WEATHER PREDICTION CENTER COLLEGE PARK MD\\n1200 PM EDT SUN APR 06 2014\\n\\nVALID 12Z WED APR 09 2014 - 12Z SUN APR 13 2014\\n\\n...PATTERN OVERVIEW AND GUIDANCE/UNCERTAINTY ASSESSMENT...\\n\\nSHORT TERM THROUGH MID-WEEK AMPLIFIED FLOW ALOFT TRANSITIONS FROM\\nQUASI-ZONAL AT THE END OF THE WEEK TOWARD ONE WITH AN AMPLIFYING\\nNRN STREAM ALONG WITH SLOWLY PROGRESSIVE TROUGHING WORKING INLAND\\nFROM THE PACIFIC THROUGH THE SW STATES THIS COMING WEEKEND. \\nDESPITE MULTIPLE TRANSITIONS...FORECAST SPREAD/UNCERTAINTY REMAINS\\nAT OR ABOVE NORMAL FOR MUCH OF THE WEEK.\\n\\nFOR DAYS 3-5/WED-FRI...FORECAST SPREAD IS MODEST AND THE 00 UTC\\nECMWF SEEMS CLOSEST TO THE COMPOSITE TIMING OF LOWER 48 AND\\nVICINITY WEATHER FEATURES WHILE OVERALL CLUSTERING FAIRLY WELL\\nWITH THE 06 UTC GFS AND 00 UTC CANADIAN.  RESPECTIVE ENSEMBLE\\nMEANS ARE ALSO SUPPORTIVE AND WPC CONTINUITY IS WELL MAINTAINED\\nAND EXTENDS WELL FROM SHORT TERM MODEL WPC PREFERENCES.\\n\\nUPSTREAM...THE MODELS/ENSEMBLES HAVE BEEN STEADY IN THEIR SYNOPTIC\\nEVOLUTION BUT STILL VARY MOSTLY ON TIMING WITH THE PACIFIC ENERGY.\\n THE 00 UTC GFS/GEFS MEMBERS LIE ON THE QUICKER SIDE FOLLOWED BY\\nTHE CANADIAN/UKMET AND 06 UTC GFS/GEFS AND A VAST MAJORITY OF\\nECMWF ENSEMBLE MEMBERS AND THEN FINALLY THE DETERMINISTIC ECMWF\\nWHICH WAS ONE OF THE SLOWEST WITHIN THE SPREAD. A MODEST\\nCOMPROMISE SOLUTION WAS INVOKED OVERNIGHT...BUT HAVE NOW OPTED TO\\nLEAN MUCH MORE ON THE SLOWER 00 UTC ECMWF GIVEN THE HIGHLY\\nAMPLIFIED WATER VAPOR IMAGERY NATURE NOW EVIDENT UPSTREAM OVER THE\\nPACIFIC.  THIS LESS PROGRESSIVE SRN STREAM SOLUTION ALSO WOULD\\nALLOW MORE ROOM FOR A COLD AIR SURGE TO DIG THROUGH THE N-CENTRAL\\nUS AND NWRN US VIA AN AMPLIFYING NRN STREAM NEXT WEEKEND. \\nHOWEVER...GIVEN TRANSITIONAL FLOWS AND INCREASING FORECAST SPREAD\\nBY THAT TIME HAVE TEMPERED TO SOME DEGREE THE QUITE ANOMALOUS\\nECMWF COLD BLAST BY INCORPORATION OF SOME ECMWF ENSEMBLE MEANS AND\\nMANUAL ADJUSTMENTS. \\n\\n...SENSIBLE WEATHER HIGHLIGHTS...\\n\\nIN THE WAKE OF THE EXITING LEAD EASTERN SYSTEM WED/D3... ANOTHER\\nSHOT OF BELOW AVERAGE TEMPERATURES SHOULD PUSH THROUGH THE EAST\\nBEFORE HEIGHTS RISE ALONG WITH SFC TEMPERATURES. A SECOND SYSTEM\\nOF INTEREST SHOULD PUSH THROUGH SOUTHERN CANADA WITH GENERALLY\\nLIGHT PRECIPITATION FOR THE US NORTHERN TIER. PRE-FRONTAL\\nTEMPERATURES SHOULD WARM NICELY ACROSS MUCH OF THE CENTRAL THEN\\nEASTERN CONUS LATE IN THE WEEK WITH MODEST COOLING BEHIND THE\\nFRONT AS THE UPPER FLOW BECOMES MORE ZONAL. OUT WEST... PACIFIC\\nTROUGH ENERGY/HEIGHT FALLS AND AN ASSOCIATED FRONTAL SYSTEM SHOULD\\nWORK ASHORE INTO CA AND INTO THE SWRN US NEXT WEEKEND ALONG WITH\\nSHOWERS AND SOME COOLING TEMPS. BY SUN/D7...TROUGH ENERGIES SHOULD\\nORGANIZE LOW PRESSURE THROUGH THE SRN PLAINS AND WITH A WAVY NWRN\\nUS/N-CENTRAL US FRONTAL SURGE THAT COMBINE TO AN INCREASE IN\\nPRECIPITATION/CONVECTION WITH/AHEAD OF THE FRONTS...AND ESPECIALLY\\nOVER THE CENTRAL US WITH POST-FRONTAL POTENTIAL FOR UPSLOPE\\nENHANCED SPRING CENTRAL ROCKIES SNOWS.\\n\\nSCHICHTEL',\n",
       "       ...,\n",
       "       '159 PM EST Wed Nov 29 2023\\n\\nValid 12Z Sat Dec 02 2023 - 12Z Wed Dec 06 2023\\n\\n...Multi-day wet pattern for the Northwest to also include heavy\\nsnow threats inland from the Cascades to the north-central\\nIntermountain West/Rockies...\\n\\n\\n...Overview and Guidance Evaluation/Predictability Assessment...\\n\\nA complex and active weather pattern is projected to continue\\nthrough the weekend and into next week. An amplified trough will\\nbe reinforced by a couple of shortwaves as it moves and\\nperiodically reinforced from the interior West to the East Coast\\nSaturday-Monday. Amplified ridging builds behind this across the\\nWest and eventually the Plains early next week as the next system\\nmoves in to the West Coast from the East Pacific next Wednesday.\\nThe guidance continues to be quite agreeable on the large\\nscale/synoptic pattern but still with uncertainty in the details.\\nRun to run variability and timing of individual shortwaves through\\nthe Midwest and East this weekend/early next week still translates\\nto even some regional sensible weather/precipitation uncertainties\\nespecially across the East. However, forecast spread has improved\\nsome since yesterday, bolstering confidence to a degree. Out West,\\nmodels agree that an Atmospheric River may impact the West Coast\\nthis weekend, but still show considerable differences in placement\\nof the heaviest QPF. The latest NBM still seems too wet in spots,\\nand the WPC forecast tempered that down somewhat given\\nuncertainties. That said, the depicted pattern will be quite wet\\nand snowy and offers periods of enhanced winds with progressive\\npassage of dynamic systems.\\n\\nAccordingly, the WPC medium range product suite was primarily\\nderived from a composite blend of best clustered guidance from the\\n00 UTC GFS/ECMWF/UKMET/Canadian and ECMWF ensemble mean for the\\ncoming weekend into Monday. Replaced the UKMET in this blend with\\nthe 00 UTC GEFS mean through early-mid next week to address\\ngrowing forecast spread. Overall, the 06 UTC GFS/GEFS were a bit\\nof an outlier with shortwaves, but the 12 UTC guidance cycle is\\nnow back more in line with earlier 00 UTC guidance. WPC product\\ncontinuity was reasonably maintained.\\n\\n...Weather/Hazards Highlights...\\n\\nOut West, precipitation will be ongoing as this forecast period\\nbegins Saturday, with a protracted wet event into the Northwest\\ncontinuing well into next week, with growing totals and impacts\\npossible. Some modest rainfall totals are likely along the coast,\\nwith potentially heavy snows with gusty winds also farther inland\\nacross the higher elevations of the Cascades and northern Sierras\\nthrough the north-central Intermountain West/Rockies but perhaps\\nespecially this weekend from around the Grand Tetons to the\\nnorthern Wasatch. A small marginal risk for excessive rainfall was\\nmaintained for the Day 4/Saturday ERO across far northwest\\nCA/southwest OR given guidance QPF trends in a wet pattern. The\\nstronger system/potential AR moves in Sunday and with snow levels\\nrising, could bring a more widespread heavy rainfall threat along\\nthe Oregon coast and western slopes of the Cascades. A marginal\\nrisk is included for this area on the Day 5/Sunday ERO. The next\\nsystem in the East Pacific early next week brings another\\nrain/mountain snow threat, though at this point looks to focus\\nfarther north across mainly Washington state.\\n\\nDownstream, ejecting shortwave energy and a leading/wavy frontal\\nsystem with an enhanced Gulf moisture surge are expected to\\nsupport a moderate to heavy rainfall threat for the Gulf Coast and\\nSoutheast into Saturday, where there is a marginal risk for\\nexcessive rainfall within an area of anomalous moisture and\\ninstability. Rainfall may continue into Sunday and Monday as well\\nacross the Southeast, but guidance is quite mixed and overall\\ntrending less significant. Much of the Eastern U.S. looks\\nunsettled through next week, albeit with higher uncertainty on\\nrainfall amounts given shortwave differences. However, the\\napproach and passage of several shortwaves and advance of an\\namplified main upper trough should spawn several wavy fronts. Some\\nof the precipitation should be in the form of snow across parts of\\nthe Great Lakes and Northeast. Northern New England terrain will\\nfocus snowfall threat given longevity of pattern and cold air\\navailability later weekend/early next week.\\n\\nTemperatures across the East this weekend may be moderately above\\nnormal, with slightly below normal temperatures across the\\ninterior Southwest. The Western U.S. should trend warmer with time\\nand especially by next Tuesday-Wednesday in the Northern High\\nPlains/Plains where daytime highs could be 10 to 20 degrees above\\nnormal. Meanwhile, the Eastern U.S. should trend back towards\\nnormal/slightly cooler than normal next week as reinforced\\ntroughing affects the area.\\n\\nSchichtel/Santorelli\\n\\n\\nAdditional 3-7 Day Hazard information can be found on the WPC\\nmedium range hazards outlook chart at:\\nhttps://www.wpc.ncep.noaa.gov/threats/threats.php\\n\\nWPC medium range 500mb heights, surface systems, weather grids,\\nquantitative precipitation forecast, excessive rainfall outlook,\\nwinter weather outlook probabilities, heat indices and Key\\nMessages are at:\\n\\nhttps://www.wpc.ncep.noaa.gov/medr/5dayfcst500_wbg.gif\\nhttps://www.wpc.ncep.noaa.gov/medr/5dayfcst_wbg_conus.gif\\nhttps://www.wpc.ncep.noaa.gov/5km_grids/5km_gridsbody.html\\nhttps://www.wpc.ncep.noaa.gov/qpf/day4-7.shtml\\nhttps://www.wpc.ncep.noaa.gov/#page=ero\\nhttps://www.wpc.ncep.noaa.gov/wwd/pwpf_d47/pwpf_medr.php?day=4\\nhttps://www.wpc.ncep.noaa.gov/heat_index.shtml\\nhttps://www.wpc.ncep.noaa.gov/#page=ovw',\n",
       "       '154 PM EST Thu Nov 30 2023\\n\\nValid 12Z Sun Dec 03 2023 - 12Z Thu Dec 07 2023\\n\\n...A series of Pacific systems will focus atmospheric rivers to\\nfuel a wet pattern over the Northwest to include heavy rain and\\ninland heavy snow threats...\\n...Inland and coastal systems to support a heavy snow threat for\\nthe Northeast northern tier and vicinity Sunday/Monday...\\n\\n\\n...Overview...\\n\\nIt remains the case that an amplified and active weather pattern\\nis expected to continue into the medium range period, especially\\nacross the Western U.S. as a series of Atmospheric Rivers impacts\\nthe region raising concerns for heavy rainfall for\\nWashington/Oregon coastal areas and favorable western facing\\nslopes of the Cascades, with heavy snow for parts of the northern\\nIntermountain West/Rockies. Downstream, an amplified trough\\nperiodically reinforced by shortwave energy, will slide from the\\nCentral U.S. into the East Sunday-Monday, with a second main\\nshortwave across the north-central U.S. to the Northeast mid-next\\nweek. In between this trough and the next system out of the East\\nPacific, a strong ridge looks to build initially over the West on\\nTuesday, moving into the Plains Wednesday-Thursday bringing well\\nabove normal temperatures, especially across the Northern and\\nCentral Plains.\\n\\n...Guidance Evaluation/Predictability Assessment...\\n\\nGuidance still shows pretty good agreement across the board with\\nthe overall pattern evolution and larger scale features, but\\nplenty of embedded system timing/ampitude variability to vary less\\ncertain local weather foci. Out West, models agree on the presence\\nof multiple ARs during the period (the first on Sunday, and the\\nnext moving in late Monday/early Tuesday) in a very wet protracted\\npattern, but still with some uncertainty in the AR\\ntiming/strength/duration and in the details and exact locations of\\nmaximum QPF. Continuing to feel the NBM is slightly too wet with\\nQPF volumetrically, so the WPC forecast tempered that down some\\nusing deterministic guidance to account for the lingering\\nuncertainties. In the Midwest and the East, run to run variability\\nand timing of individual shortwaves this weekend/early next week\\nstill translates to even some regional sensible\\nweather/precipitation uncertainties.\\n\\nOverall, a composite blend of best clustered guidance from the 06\\nUTC GFS/GEFS and 00 UTC Canadian/ECMWF/ECMWF ensemble mean along\\nwith the 13 UTC National Blend of Models and WPC continuity seemed\\nto provide a solid forecast basis through medium range time scales\\nwith smaller scale variances seemingly decently mitigated\\nconsistent with predictability. Latest 12 UTC guidance offers\\noverall favorable trends, but does show a more amplified upper\\nflow pattern days 5-7.\\n\\n...Weather/Hazards Highlights...\\n\\nOut West, precipitation will be ongoing as this forecast period\\nbegins Sunday, with a series of atmospheric rivers into the\\nNorthwest continuing well into next week, with growing totals and\\nimpacts possible. Some modest rainfall totals are likely along the\\ncoast with both events Sunday and again late Monday-Wednesday.\\nWith heavy rain also in the forecast during the short range, the\\nsoils and rivers may be primed increasing the risk for flooding\\nand flash flooding. Snow levels with both systems will be very\\nhigh so especially western facing slopes of the Cascades may be\\nsubject to an additional risk of flooding due to snow melt as any\\naccumulating snow will be confined to the very highest peaks (or\\nfarther inland). Given this, a marginal risk for excessive\\nrainfall was included on the Day 4 and 5 EROs across this region.\\nIt is possible a slight risk will be needed in subsequent updates\\nof the ERO, but at this point there was still enough uncertainty\\nto preclude that. Farther inland across northern portions of the\\nIntermountain West and Rockies, bursts of heavy snow are most\\nlikely into Sunday, and possibly again into next midweek with\\npassage of the next best organized system.\\n\\nDownstream, ejecting shortwave energy and a leading/wavy frontal\\nsystem may continue to support rainfall into Sunday and Monday\\nacross the Southeast, with much of the Eastern U.S. also looking\\nunsettled through next week with higher uncertainty on\\nprecipitation amounts given shortwave differences. However, the\\napproach and passage of several shortwaves and advance of an\\namplified main upper trough should spawn several wavy fronts to\\nfocus activity. Some of the precipitation could be in the form of\\nsnow across parts of the Great Lakes and Northeast. Favored\\nterrain of northern New York/New England may best focus a\\nplowable/heavy snowfall threat given longevity of the pattern and\\ncold air availability later weekend into early next week.\\n\\nThrough Sunday, temperatures across the East may be moderately\\nabove normal, with slightly below normal temperatures across the\\ninterior Southwest. The Western U.S. should trend warmer with time\\nand especially by next Tuesday-Thursday in the Northern High\\nPlains/Plains where daytime highs could be 15 to 25 degrees above\\nnormal. Meanwhile, the Eastern U.S. should trend back towards\\nnormal/slightly cooler than normal next week as reinforced\\ntroughing affects the area.\\n\\nSantorelli/Schichtel\\n\\n\\nAdditional 3-7 Day Hazard information can be found on the WPC\\nmedium range hazards outlook chart at:\\nhttps://www.wpc.ncep.noaa.gov/threats/threats.php\\n\\nWPC medium range 500mb heights, surface systems, weather grids,\\nquantitative precipitation forecast, excessive rainfall outlook,\\nwinter weather outlook probabilities, heat indices and Key\\nMessages are at:\\n\\nhttps://www.wpc.ncep.noaa.gov/medr/5dayfcst500_wbg.gif\\nhttps://www.wpc.ncep.noaa.gov/medr/5dayfcst_wbg_conus.gif\\nhttps://www.wpc.ncep.noaa.gov/5km_grids/5km_gridsbody.html\\nhttps://www.wpc.ncep.noaa.gov/qpf/day4-7.shtml\\nhttps://www.wpc.ncep.noaa.gov/#page=ero\\nhttps://www.wpc.ncep.noaa.gov/wwd/pwpf_d47/pwpf_medr.php?day=4\\nhttps://www.wpc.ncep.noaa.gov/heat_index.shtml\\nhttps://www.wpc.ncep.noaa.gov/#page=ovw',\n",
       "       '144 PM EST Fri Dec 01 2023\\n\\nValid 12Z Mon Dec 04 2023 - 12Z Fri Dec 08 2023\\n\\n...Heavy rain expected for the Pacific Northwest with multiple\\natmospheric river events next week...\\n\\n\\n...Synoptic Overview...\\n\\nThe main theme going into the first half of next week will be a\\nstrong Pacific jet stream that will be accompanied by a series of\\natmospheric river events, with heavy rainfall expected for the\\nPacific Northwest.  A building upper ridge axis is expected across\\nthe Intermountain West and then across the Plains going into the\\nmiddle of the week with well above average temperatures expected. \\nMeanwhile, a broad upper trough will likely be in place from the\\nGreat Lakes to the East Coast, with a departing storm system on\\nMonday, followed by a Saskatchewan screamer (a variant of the\\nAlberta clipper) crossing the Upper Midwest and reaching the Ohio\\nValley through Wednesday with some snow showers accompanying it. \\nA more zonal flow pattern aloft likely resumes after this system\\nexits the East Coast. \\n\\n...Guidance Evaluation/Predictability Assessment...\\n\\nLatest model guidance remains in relatively good model agreement\\nat mid-larger scales to start next week and has good ensemble\\nsupport, although the 00 UTC UKMET seemed a bit out of alignment\\nwith model consensus. A model composite tends to mitigate smaller\\nscale variances consistent with predictability. This generally\\nseems in line with the National Blend of Models guidance and WPC\\nproduct continuity. Guidance is still solidified on the building\\nridge over the central U.S. through midweek, before transitioning\\nmore to a zonal flow type pattern by Thursday and Friday.  Model\\nuncertainties are more apparent by the end of the week, and of the\\nmodels and for more detail, the 00 UTC ECMWF remained most in line\\nwith GEFS/ECMWF ensemble means into these longer time frames.\\nAccordingly opted to blend this ECMWF with the GEFS/ECMWF ensemble\\nmean during the less certain pattern transition.\\n\\n...Weather/Hazards Highlights...\\n\\nOut West, precipitation will be ongoing on Monday, with a series\\nof atmospheric rivers into the Northwest lasting into the middle\\nof the week, with rising creeks and river levels expected.  Given\\nenhanced rainfall during the weekend, the soils will be more\\nvulnerable and thus the potential for greater run-off and\\nflooding.  Snow levels are initially expected to be rather high,\\nand therefore western facing slopes of the Cascades may be subject\\nto an additional risk of flooding due to snow melt. Accordingly,\\ncoordinated the issuance of a Slight Risk area for western slopes\\nof the Washington Cascades for Monday, shifting a bit southward\\nfor Tuesday.  Also, given a stronger model signal for terrain\\nenhanced 3-6 inch rainfall totals on Monday-Monday night across\\nthe Olympic Peninsula, a Slight Risk is warranted for the Day 4\\nexcessive rainfall outlook for this area.  With the atmospheric\\nriver focus most likely shifting a bit more south into Oregon on\\nTuesday, a Marginal Risk was also warranted for the Day 5 outlook\\nfor western Oregon into the Cascades and Olympics. \\n\\nFarther inland across northern portions of the Intermountain West\\nand Rockies, some moderately heavy snow is expected into next\\nmidweek with the passage of the next organized system.  Heavy snow\\nis also expected for New England into Monday with the organizing\\ncoastal low nearby, with Maine likely to have the greatest impacts\\nwith wrap-back flow and upper support.  Some upslope snow showers\\nare also likely for the higher elevations of the central\\nAppalachians going into midweek as the next low pressure system\\npasses by.\\n\\nIn terms of temperatures, much of the central and northern Plains\\nwill enjoy late season warmth with highs possibly 20-30 degrees\\nabove early December averages from northeast Colorado to the\\nCanadian border on Wednesday and into Thursday, with some record\\nhighs within the realm of possibility.  The same is expected to\\nhold true with overnight lows as well across much of the central\\nand western U.S., with the greatest positive anomalies across\\nMontana and the Dakotas.  Conditions should be close to seasonal\\naverages for the eastern U.S. for much of the week with no major\\narctic air intrusions expected.\\n\\n\\nHamrick/Schichtel\\n\\n\\nAdditional 3-7 Day Hazard information can be found on the WPC\\nmedium range hazards outlook chart at:\\nhttps://www.wpc.ncep.noaa.gov/threats/threats.php\\n\\nWPC medium range 500mb heights, surface systems, weather grids,\\nquantitative precipitation forecast, excessive rainfall outlook,\\nwinter weather outlook probabilities, heat indices and Key\\nMessages are at:\\n\\nhttps://www.wpc.ncep.noaa.gov/medr/5dayfcst500_wbg.gif\\nhttps://www.wpc.ncep.noaa.gov/medr/5dayfcst_wbg_conus.gif\\nhttps://www.wpc.ncep.noaa.gov/5km_grids/5km_gridsbody.html\\nhttps://www.wpc.ncep.noaa.gov/qpf/day4-7.shtml\\nhttps://www.wpc.ncep.noaa.gov/#page=ero\\nhttps://www.wpc.ncep.noaa.gov/wwd/pwpf_d47/pwpf_medr.php?day=4\\nhttps://www.wpc.ncep.noaa.gov/heat_index.shtml\\nhttps://www.wpc.ncep.noaa.gov/#page=ovw'],\n",
       "      dtype=object)"
      ]
     },
     "execution_count": 20,
     "metadata": {},
     "output_type": "execute_result"
    }
   ],
   "source": [
    "df[\"Text\"].values"
   ]
  },
  {
   "cell_type": "code",
   "execution_count": 29,
   "metadata": {},
   "outputs": [],
   "source": [
    "tokens = [len(tokenizer.encode(t)) for t in df[\"Text\"].values]"
   ]
  },
  {
   "cell_type": "code",
   "execution_count": 30,
   "metadata": {},
   "outputs": [
    {
     "data": {
      "text/plain": [
       "1176.234060640408"
      ]
     },
     "execution_count": 30,
     "metadata": {},
     "output_type": "execute_result"
    }
   ],
   "source": [
    "sum(tokens) / len(tokens)"
   ]
  },
  {
   "cell_type": "code",
   "execution_count": null,
   "metadata": {},
   "outputs": [],
   "source": []
  },
  {
   "cell_type": "code",
   "execution_count": 3,
   "metadata": {},
   "outputs": [
    {
     "name": "stderr",
     "output_type": "stream",
     "text": [
      "Special tokens have been added in the vocabulary, make sure the associated word embeddings are fine-tuned or trained.\n",
      "Loading checkpoint shards:   0%|          | 0/4 [00:11<?, ?it/s]\n"
     ]
    },
    {
     "ename": "OutOfMemoryError",
     "evalue": "CUDA out of memory. Tried to allocate 224.00 MiB. GPU \u0002 has a total capacity of 39.38 GiB of which 162.81 MiB is free. Process 383810 has 30.32 GiB memory in use. Process 360939 has 8.86 GiB memory in use. Of the allocated memory 8.46 GiB is allocated by PyTorch, and 1.73 MiB is reserved by PyTorch but unallocated. If reserved but unallocated memory is large try setting PYTORCH_CUDA_ALLOC_CONF=expandable_segments:True to avoid fragmentation.  See documentation for Memory Management  (https://pytorch.org/docs/stable/notes/cuda.html#environment-variables)",
     "output_type": "error",
     "traceback": [
      "\u001b[0;31m---------------------------------------------------------------------------\u001b[0m",
      "\u001b[0;31mOutOfMemoryError\u001b[0m                          Traceback (most recent call last)",
      "Cell \u001b[0;32mIn[3], line 7\u001b[0m\n\u001b[1;32m      4\u001b[0m tokenizer\u001b[38;5;241m.\u001b[39mpad_token \u001b[38;5;241m=\u001b[39m tokenizer\u001b[38;5;241m.\u001b[39meos_token\n\u001b[1;32m      6\u001b[0m device \u001b[38;5;241m=\u001b[39m \u001b[38;5;124m\"\u001b[39m\u001b[38;5;124mcuda:2\u001b[39m\u001b[38;5;124m\"\u001b[39m\n\u001b[0;32m----> 7\u001b[0m llm \u001b[38;5;241m=\u001b[39m \u001b[43mAutoModelForCausalLM\u001b[49m\u001b[38;5;241;43m.\u001b[39;49m\u001b[43mfrom_pretrained\u001b[49m\u001b[43m(\u001b[49m\u001b[43mmodel_name\u001b[49m\u001b[43m,\u001b[49m\u001b[43m \u001b[49m\u001b[43mdevice_map\u001b[49m\u001b[38;5;241;43m=\u001b[39;49m\u001b[43mdevice\u001b[49m\u001b[43m)\u001b[49m\n\u001b[1;32m      9\u001b[0m \u001b[38;5;66;03m# embeddings\u001b[39;00m\n\u001b[1;32m     10\u001b[0m embd_dim \u001b[38;5;241m=\u001b[39m \u001b[38;5;241m4096\u001b[39m\n",
      "File \u001b[0;32m/data/kai/miniconda3/envs/stocks/lib/python3.10/site-packages/transformers/models/auto/auto_factory.py:563\u001b[0m, in \u001b[0;36m_BaseAutoModelClass.from_pretrained\u001b[0;34m(cls, pretrained_model_name_or_path, *model_args, **kwargs)\u001b[0m\n\u001b[1;32m    561\u001b[0m \u001b[38;5;28;01melif\u001b[39;00m \u001b[38;5;28mtype\u001b[39m(config) \u001b[38;5;129;01min\u001b[39;00m \u001b[38;5;28mcls\u001b[39m\u001b[38;5;241m.\u001b[39m_model_mapping\u001b[38;5;241m.\u001b[39mkeys():\n\u001b[1;32m    562\u001b[0m     model_class \u001b[38;5;241m=\u001b[39m _get_model_class(config, \u001b[38;5;28mcls\u001b[39m\u001b[38;5;241m.\u001b[39m_model_mapping)\n\u001b[0;32m--> 563\u001b[0m     \u001b[38;5;28;01mreturn\u001b[39;00m \u001b[43mmodel_class\u001b[49m\u001b[38;5;241;43m.\u001b[39;49m\u001b[43mfrom_pretrained\u001b[49m\u001b[43m(\u001b[49m\n\u001b[1;32m    564\u001b[0m \u001b[43m        \u001b[49m\u001b[43mpretrained_model_name_or_path\u001b[49m\u001b[43m,\u001b[49m\u001b[43m \u001b[49m\u001b[38;5;241;43m*\u001b[39;49m\u001b[43mmodel_args\u001b[49m\u001b[43m,\u001b[49m\u001b[43m \u001b[49m\u001b[43mconfig\u001b[49m\u001b[38;5;241;43m=\u001b[39;49m\u001b[43mconfig\u001b[49m\u001b[43m,\u001b[49m\u001b[43m \u001b[49m\u001b[38;5;241;43m*\u001b[39;49m\u001b[38;5;241;43m*\u001b[39;49m\u001b[43mhub_kwargs\u001b[49m\u001b[43m,\u001b[49m\u001b[43m \u001b[49m\u001b[38;5;241;43m*\u001b[39;49m\u001b[38;5;241;43m*\u001b[39;49m\u001b[43mkwargs\u001b[49m\n\u001b[1;32m    565\u001b[0m \u001b[43m    \u001b[49m\u001b[43m)\u001b[49m\n\u001b[1;32m    566\u001b[0m \u001b[38;5;28;01mraise\u001b[39;00m \u001b[38;5;167;01mValueError\u001b[39;00m(\n\u001b[1;32m    567\u001b[0m     \u001b[38;5;124mf\u001b[39m\u001b[38;5;124m\"\u001b[39m\u001b[38;5;124mUnrecognized configuration class \u001b[39m\u001b[38;5;132;01m{\u001b[39;00mconfig\u001b[38;5;241m.\u001b[39m\u001b[38;5;18m__class__\u001b[39m\u001b[38;5;132;01m}\u001b[39;00m\u001b[38;5;124m for this kind of AutoModel: \u001b[39m\u001b[38;5;132;01m{\u001b[39;00m\u001b[38;5;28mcls\u001b[39m\u001b[38;5;241m.\u001b[39m\u001b[38;5;18m__name__\u001b[39m\u001b[38;5;132;01m}\u001b[39;00m\u001b[38;5;124m.\u001b[39m\u001b[38;5;130;01m\\n\u001b[39;00m\u001b[38;5;124m\"\u001b[39m\n\u001b[1;32m    568\u001b[0m     \u001b[38;5;124mf\u001b[39m\u001b[38;5;124m\"\u001b[39m\u001b[38;5;124mModel type should be one of \u001b[39m\u001b[38;5;132;01m{\u001b[39;00m\u001b[38;5;124m'\u001b[39m\u001b[38;5;124m, \u001b[39m\u001b[38;5;124m'\u001b[39m\u001b[38;5;241m.\u001b[39mjoin(c\u001b[38;5;241m.\u001b[39m\u001b[38;5;18m__name__\u001b[39m\u001b[38;5;250m \u001b[39m\u001b[38;5;28;01mfor\u001b[39;00m\u001b[38;5;250m \u001b[39mc\u001b[38;5;250m \u001b[39m\u001b[38;5;129;01min\u001b[39;00m\u001b[38;5;250m \u001b[39m\u001b[38;5;28mcls\u001b[39m\u001b[38;5;241m.\u001b[39m_model_mapping\u001b[38;5;241m.\u001b[39mkeys())\u001b[38;5;132;01m}\u001b[39;00m\u001b[38;5;124m.\u001b[39m\u001b[38;5;124m\"\u001b[39m\n\u001b[1;32m    569\u001b[0m )\n",
      "File \u001b[0;32m/data/kai/miniconda3/envs/stocks/lib/python3.10/site-packages/transformers/modeling_utils.py:3754\u001b[0m, in \u001b[0;36mPreTrainedModel.from_pretrained\u001b[0;34m(cls, pretrained_model_name_or_path, config, cache_dir, ignore_mismatched_sizes, force_download, local_files_only, token, revision, use_safetensors, *model_args, **kwargs)\u001b[0m\n\u001b[1;32m   3744\u001b[0m     \u001b[38;5;28;01mif\u001b[39;00m dtype_orig \u001b[38;5;129;01mis\u001b[39;00m \u001b[38;5;129;01mnot\u001b[39;00m \u001b[38;5;28;01mNone\u001b[39;00m:\n\u001b[1;32m   3745\u001b[0m         torch\u001b[38;5;241m.\u001b[39mset_default_dtype(dtype_orig)\n\u001b[1;32m   3747\u001b[0m     (\n\u001b[1;32m   3748\u001b[0m         model,\n\u001b[1;32m   3749\u001b[0m         missing_keys,\n\u001b[1;32m   3750\u001b[0m         unexpected_keys,\n\u001b[1;32m   3751\u001b[0m         mismatched_keys,\n\u001b[1;32m   3752\u001b[0m         offload_index,\n\u001b[1;32m   3753\u001b[0m         error_msgs,\n\u001b[0;32m-> 3754\u001b[0m     ) \u001b[38;5;241m=\u001b[39m \u001b[38;5;28;43mcls\u001b[39;49m\u001b[38;5;241;43m.\u001b[39;49m\u001b[43m_load_pretrained_model\u001b[49m\u001b[43m(\u001b[49m\n\u001b[1;32m   3755\u001b[0m \u001b[43m        \u001b[49m\u001b[43mmodel\u001b[49m\u001b[43m,\u001b[49m\n\u001b[1;32m   3756\u001b[0m \u001b[43m        \u001b[49m\u001b[43mstate_dict\u001b[49m\u001b[43m,\u001b[49m\n\u001b[1;32m   3757\u001b[0m \u001b[43m        \u001b[49m\u001b[43mloaded_state_dict_keys\u001b[49m\u001b[43m,\u001b[49m\u001b[43m  \u001b[49m\u001b[38;5;66;43;03m# XXX: rename?\u001b[39;49;00m\n\u001b[1;32m   3758\u001b[0m \u001b[43m        \u001b[49m\u001b[43mresolved_archive_file\u001b[49m\u001b[43m,\u001b[49m\n\u001b[1;32m   3759\u001b[0m \u001b[43m        \u001b[49m\u001b[43mpretrained_model_name_or_path\u001b[49m\u001b[43m,\u001b[49m\n\u001b[1;32m   3760\u001b[0m \u001b[43m        \u001b[49m\u001b[43mignore_mismatched_sizes\u001b[49m\u001b[38;5;241;43m=\u001b[39;49m\u001b[43mignore_mismatched_sizes\u001b[49m\u001b[43m,\u001b[49m\n\u001b[1;32m   3761\u001b[0m \u001b[43m        \u001b[49m\u001b[43msharded_metadata\u001b[49m\u001b[38;5;241;43m=\u001b[39;49m\u001b[43msharded_metadata\u001b[49m\u001b[43m,\u001b[49m\n\u001b[1;32m   3762\u001b[0m \u001b[43m        \u001b[49m\u001b[43m_fast_init\u001b[49m\u001b[38;5;241;43m=\u001b[39;49m\u001b[43m_fast_init\u001b[49m\u001b[43m,\u001b[49m\n\u001b[1;32m   3763\u001b[0m \u001b[43m        \u001b[49m\u001b[43mlow_cpu_mem_usage\u001b[49m\u001b[38;5;241;43m=\u001b[39;49m\u001b[43mlow_cpu_mem_usage\u001b[49m\u001b[43m,\u001b[49m\n\u001b[1;32m   3764\u001b[0m \u001b[43m        \u001b[49m\u001b[43mdevice_map\u001b[49m\u001b[38;5;241;43m=\u001b[39;49m\u001b[43mdevice_map\u001b[49m\u001b[43m,\u001b[49m\n\u001b[1;32m   3765\u001b[0m \u001b[43m        \u001b[49m\u001b[43moffload_folder\u001b[49m\u001b[38;5;241;43m=\u001b[39;49m\u001b[43moffload_folder\u001b[49m\u001b[43m,\u001b[49m\n\u001b[1;32m   3766\u001b[0m \u001b[43m        \u001b[49m\u001b[43moffload_state_dict\u001b[49m\u001b[38;5;241;43m=\u001b[39;49m\u001b[43moffload_state_dict\u001b[49m\u001b[43m,\u001b[49m\n\u001b[1;32m   3767\u001b[0m \u001b[43m        \u001b[49m\u001b[43mdtype\u001b[49m\u001b[38;5;241;43m=\u001b[39;49m\u001b[43mtorch_dtype\u001b[49m\u001b[43m,\u001b[49m\n\u001b[1;32m   3768\u001b[0m \u001b[43m        \u001b[49m\u001b[43mhf_quantizer\u001b[49m\u001b[38;5;241;43m=\u001b[39;49m\u001b[43mhf_quantizer\u001b[49m\u001b[43m,\u001b[49m\n\u001b[1;32m   3769\u001b[0m \u001b[43m        \u001b[49m\u001b[43mkeep_in_fp32_modules\u001b[49m\u001b[38;5;241;43m=\u001b[39;49m\u001b[43mkeep_in_fp32_modules\u001b[49m\u001b[43m,\u001b[49m\n\u001b[1;32m   3770\u001b[0m \u001b[43m        \u001b[49m\u001b[43mgguf_path\u001b[49m\u001b[38;5;241;43m=\u001b[39;49m\u001b[43mgguf_path\u001b[49m\u001b[43m,\u001b[49m\n\u001b[1;32m   3771\u001b[0m \u001b[43m    \u001b[49m\u001b[43m)\u001b[49m\n\u001b[1;32m   3773\u001b[0m \u001b[38;5;66;03m# make sure token embedding weights are still tied if needed\u001b[39;00m\n\u001b[1;32m   3774\u001b[0m model\u001b[38;5;241m.\u001b[39mtie_weights()\n",
      "File \u001b[0;32m/data/kai/miniconda3/envs/stocks/lib/python3.10/site-packages/transformers/modeling_utils.py:4214\u001b[0m, in \u001b[0;36mPreTrainedModel._load_pretrained_model\u001b[0;34m(cls, model, state_dict, loaded_keys, resolved_archive_file, pretrained_model_name_or_path, ignore_mismatched_sizes, sharded_metadata, _fast_init, low_cpu_mem_usage, device_map, offload_folder, offload_state_dict, dtype, hf_quantizer, keep_in_fp32_modules, gguf_path)\u001b[0m\n\u001b[1;32m   4210\u001b[0m                 set_module_tensor_to_device(\n\u001b[1;32m   4211\u001b[0m                     model_to_load, key, \u001b[38;5;124m\"\u001b[39m\u001b[38;5;124mcpu\u001b[39m\u001b[38;5;124m\"\u001b[39m, torch\u001b[38;5;241m.\u001b[39mempty(\u001b[38;5;241m*\u001b[39mparam\u001b[38;5;241m.\u001b[39msize(), dtype\u001b[38;5;241m=\u001b[39mdtype)\n\u001b[1;32m   4212\u001b[0m                 )\n\u001b[1;32m   4213\u001b[0m     \u001b[38;5;28;01melse\u001b[39;00m:\n\u001b[0;32m-> 4214\u001b[0m         new_error_msgs, offload_index, state_dict_index \u001b[38;5;241m=\u001b[39m \u001b[43m_load_state_dict_into_meta_model\u001b[49m\u001b[43m(\u001b[49m\n\u001b[1;32m   4215\u001b[0m \u001b[43m            \u001b[49m\u001b[43mmodel_to_load\u001b[49m\u001b[43m,\u001b[49m\n\u001b[1;32m   4216\u001b[0m \u001b[43m            \u001b[49m\u001b[43mstate_dict\u001b[49m\u001b[43m,\u001b[49m\n\u001b[1;32m   4217\u001b[0m \u001b[43m            \u001b[49m\u001b[43mloaded_keys\u001b[49m\u001b[43m,\u001b[49m\n\u001b[1;32m   4218\u001b[0m \u001b[43m            \u001b[49m\u001b[43mstart_prefix\u001b[49m\u001b[43m,\u001b[49m\n\u001b[1;32m   4219\u001b[0m \u001b[43m            \u001b[49m\u001b[43mexpected_keys\u001b[49m\u001b[43m,\u001b[49m\n\u001b[1;32m   4220\u001b[0m \u001b[43m            \u001b[49m\u001b[43mdevice_map\u001b[49m\u001b[38;5;241;43m=\u001b[39;49m\u001b[43mdevice_map\u001b[49m\u001b[43m,\u001b[49m\n\u001b[1;32m   4221\u001b[0m \u001b[43m            \u001b[49m\u001b[43moffload_folder\u001b[49m\u001b[38;5;241;43m=\u001b[39;49m\u001b[43moffload_folder\u001b[49m\u001b[43m,\u001b[49m\n\u001b[1;32m   4222\u001b[0m \u001b[43m            \u001b[49m\u001b[43moffload_index\u001b[49m\u001b[38;5;241;43m=\u001b[39;49m\u001b[43moffload_index\u001b[49m\u001b[43m,\u001b[49m\n\u001b[1;32m   4223\u001b[0m \u001b[43m            \u001b[49m\u001b[43mstate_dict_folder\u001b[49m\u001b[38;5;241;43m=\u001b[39;49m\u001b[43mstate_dict_folder\u001b[49m\u001b[43m,\u001b[49m\n\u001b[1;32m   4224\u001b[0m \u001b[43m            \u001b[49m\u001b[43mstate_dict_index\u001b[49m\u001b[38;5;241;43m=\u001b[39;49m\u001b[43mstate_dict_index\u001b[49m\u001b[43m,\u001b[49m\n\u001b[1;32m   4225\u001b[0m \u001b[43m            \u001b[49m\u001b[43mdtype\u001b[49m\u001b[38;5;241;43m=\u001b[39;49m\u001b[43mdtype\u001b[49m\u001b[43m,\u001b[49m\n\u001b[1;32m   4226\u001b[0m \u001b[43m            \u001b[49m\u001b[43mhf_quantizer\u001b[49m\u001b[38;5;241;43m=\u001b[39;49m\u001b[43mhf_quantizer\u001b[49m\u001b[43m,\u001b[49m\n\u001b[1;32m   4227\u001b[0m \u001b[43m            \u001b[49m\u001b[43mis_safetensors\u001b[49m\u001b[38;5;241;43m=\u001b[39;49m\u001b[43mis_safetensors\u001b[49m\u001b[43m,\u001b[49m\n\u001b[1;32m   4228\u001b[0m \u001b[43m            \u001b[49m\u001b[43mkeep_in_fp32_modules\u001b[49m\u001b[38;5;241;43m=\u001b[39;49m\u001b[43mkeep_in_fp32_modules\u001b[49m\u001b[43m,\u001b[49m\n\u001b[1;32m   4229\u001b[0m \u001b[43m            \u001b[49m\u001b[43munexpected_keys\u001b[49m\u001b[38;5;241;43m=\u001b[39;49m\u001b[43munexpected_keys\u001b[49m\u001b[43m,\u001b[49m\n\u001b[1;32m   4230\u001b[0m \u001b[43m        \u001b[49m\u001b[43m)\u001b[49m\n\u001b[1;32m   4231\u001b[0m         error_msgs \u001b[38;5;241m+\u001b[39m\u001b[38;5;241m=\u001b[39m new_error_msgs\n\u001b[1;32m   4232\u001b[0m \u001b[38;5;28;01melse\u001b[39;00m:\n",
      "File \u001b[0;32m/data/kai/miniconda3/envs/stocks/lib/python3.10/site-packages/transformers/modeling_utils.py:887\u001b[0m, in \u001b[0;36m_load_state_dict_into_meta_model\u001b[0;34m(model, state_dict, loaded_state_dict_keys, start_prefix, expected_keys, device_map, offload_folder, offload_index, state_dict_folder, state_dict_index, dtype, hf_quantizer, is_safetensors, keep_in_fp32_modules, unexpected_keys)\u001b[0m\n\u001b[1;32m    876\u001b[0m     state_dict_index \u001b[38;5;241m=\u001b[39m offload_weight(param, param_name, state_dict_folder, state_dict_index)\n\u001b[1;32m    877\u001b[0m \u001b[38;5;28;01melif\u001b[39;00m (\n\u001b[1;32m    878\u001b[0m     \u001b[38;5;129;01mnot\u001b[39;00m is_quantized\n\u001b[1;32m    879\u001b[0m     \u001b[38;5;129;01mor\u001b[39;00m (\u001b[38;5;129;01mnot\u001b[39;00m hf_quantizer\u001b[38;5;241m.\u001b[39mrequires_parameters_quantization)\n\u001b[0;32m   (...)\u001b[0m\n\u001b[1;32m    885\u001b[0m ):\n\u001b[1;32m    886\u001b[0m     \u001b[38;5;66;03m# For backward compatibility with older versions of `accelerate` and for non-quantized params\u001b[39;00m\n\u001b[0;32m--> 887\u001b[0m     \u001b[43mset_module_tensor_to_device\u001b[49m\u001b[43m(\u001b[49m\u001b[43mmodel\u001b[49m\u001b[43m,\u001b[49m\u001b[43m \u001b[49m\u001b[43mparam_name\u001b[49m\u001b[43m,\u001b[49m\u001b[43m \u001b[49m\u001b[43mparam_device\u001b[49m\u001b[43m,\u001b[49m\u001b[43m \u001b[49m\u001b[38;5;241;43m*\u001b[39;49m\u001b[38;5;241;43m*\u001b[39;49m\u001b[43mset_module_kwargs\u001b[49m\u001b[43m)\u001b[49m\n\u001b[1;32m    888\u001b[0m \u001b[38;5;28;01melse\u001b[39;00m:\n\u001b[1;32m    889\u001b[0m     hf_quantizer\u001b[38;5;241m.\u001b[39mcreate_quantized_param(model, param, param_name, param_device, state_dict, unexpected_keys)\n",
      "File \u001b[0;32m/data/kai/miniconda3/envs/stocks/lib/python3.10/site-packages/accelerate/utils/modeling.py:400\u001b[0m, in \u001b[0;36mset_module_tensor_to_device\u001b[0;34m(module, tensor_name, device, value, dtype, fp16_statistics, tied_params_map)\u001b[0m\n\u001b[1;32m    398\u001b[0m             module\u001b[38;5;241m.\u001b[39m_parameters[tensor_name] \u001b[38;5;241m=\u001b[39m param_cls(new_value, requires_grad\u001b[38;5;241m=\u001b[39mold_value\u001b[38;5;241m.\u001b[39mrequires_grad)\n\u001b[1;32m    399\u001b[0m \u001b[38;5;28;01melif\u001b[39;00m \u001b[38;5;28misinstance\u001b[39m(value, torch\u001b[38;5;241m.\u001b[39mTensor):\n\u001b[0;32m--> 400\u001b[0m     new_value \u001b[38;5;241m=\u001b[39m \u001b[43mvalue\u001b[49m\u001b[38;5;241;43m.\u001b[39;49m\u001b[43mto\u001b[49m\u001b[43m(\u001b[49m\u001b[43mdevice\u001b[49m\u001b[43m)\u001b[49m\n\u001b[1;32m    401\u001b[0m \u001b[38;5;28;01melse\u001b[39;00m:\n\u001b[1;32m    402\u001b[0m     new_value \u001b[38;5;241m=\u001b[39m torch\u001b[38;5;241m.\u001b[39mtensor(value, device\u001b[38;5;241m=\u001b[39mdevice)\n",
      "\u001b[0;31mOutOfMemoryError\u001b[0m: CUDA out of memory. Tried to allocate 224.00 MiB. GPU \u0002 has a total capacity of 39.38 GiB of which 162.81 MiB is free. Process 383810 has 30.32 GiB memory in use. Process 360939 has 8.86 GiB memory in use. Of the allocated memory 8.46 GiB is allocated by PyTorch, and 1.73 MiB is reserved by PyTorch but unallocated. If reserved but unallocated memory is large try setting PYTORCH_CUDA_ALLOC_CONF=expandable_segments:True to avoid fragmentation.  See documentation for Memory Management  (https://pytorch.org/docs/stable/notes/cuda.html#environment-variables)"
     ]
    }
   ],
   "source": [
    "# model_name = \"meta-llama/Meta-Llama-3-8B-Instruct\"\n",
    "# model = BertModel.from_pretrained('bert-base-uncased')\n",
    "# tokenizer = AutoTokenizer.from_pretrained(model_name)\n",
    "# tokenizer.pad_token = tokenizer.eos_token\n",
    "\n",
    "# device = \"cuda:2\"\n",
    "# # llm = AutoModelForCausalLM.from_pretrained(model_name, device_map=device)\n",
    "\n",
    "# # embeddings\n",
    "# embd_dim = 4096\n",
    "# window_size = 5\n",
    "# embed_timeseries = nn.Linear(window_size, embd_dim)\n",
    "\n",
    "# # Initialize weights and bias\n",
    "# nn.init.normal_(embed_timeseries.weight, mean=0.0, std=0.01)\n",
    "# nn.init.zeros_(embed_timeseries.bias)"
   ]
  },
  {
   "cell_type": "code",
   "execution_count": 22,
   "metadata": {},
   "outputs": [
    {
     "name": "stdout",
     "output_type": "stream",
     "text": [
      "Input time: 267 5 [111.98 108.41 102.95 105.53 106.46]\n",
      "Output time: 267 5 [104.29 102.25 109.33 115.37 111.69]\n",
      "Input text: 267 5 159\n",
      "Output text: 267 5 5\n"
     ]
    }
   ],
   "source": [
    "# run Upload_finance.ipynb\n",
    "# on path: \"/data/kai/forecasting/data/summary/summary_with_price_v0.2/AMD\"\n",
    "\n",
    "data_path = \"/data/kai/forecasting/data/test/AMD.csv\"\n",
    "df = pd.read_csv(data_path)\n",
    "\n",
    "# n = df.shape[0]\n",
    "# train_n = int(n * 0.8)\n",
    "# train_df = df.iloc[:train_n]\n",
    "# valid_df = df.iloc[train_n:]\n",
    "\n",
    "def extract_inputs(df):\n",
    "    time_series = df[\"input\"].apply(lambda x: json.loads(x)[\"share_price\"]).values\n",
    "    input_time = np.array([time_series[i: i+window_size] for i in range(len(df) - window_size*2)])\n",
    "    output_time = np.array([time_series[i: i+window_size] for i in range(window_size, len(df) - window_size)])\n",
    "    # TODO: change to all instead of \"summary\"\n",
    "    input_text = df[\"input\"].apply(lambda x: json.loads(x)[\"summary\"]).values.tolist()\n",
    "    input_text = [input_text[i:i+window_size] for i in range(len(df) - window_size*2)]\n",
    "    output_text = [input_text[i:i+window_size] for i in range(window_size, len(df)-window_size)]\n",
    "    \n",
    "    # input_text: N x T x len(str)\n",
    "    return input_time, output_time, input_text, output_text\n",
    "\n",
    "input_time, output_time, input_text, output_text = extract_inputs(df)\n",
    "print(\"Input time:\", len(input_time), len(input_time[0]), input_time[0])\n",
    "print(\"Output time:\", len(output_time), len(output_time[0]), output_time[0])\n",
    "print(\"Input text:\", len(input_text), len(input_text[0]), len(input_text[0][0]))\n",
    "print(\"Output text:\", len(output_text), len(output_text[0]), len(output_text[0][0]))"
   ]
  },
  {
   "cell_type": "code",
   "execution_count": 54,
   "metadata": {},
   "outputs": [
    {
     "name": "stdout",
     "output_type": "stream",
     "text": [
      "torch.Size([1, 5, 4096]) torch.Size([1, 632, 4096]) torch.Size([1, 637, 4096])\n"
     ]
    }
   ],
   "source": [
    "# 1) Use linear embedding\n",
    "\n",
    "# B x window x 1\n",
    "time_input = torch.tensor(input_time[0]).unsqueeze(0).unsqueeze(-1).type(torch.float32)\n",
    "input_embeds_time = embed_timeseries(time_input).to(device)\n",
    "\n",
    "# hidden_states = inputs_embeds\n",
    "input_text_formatted = ','.join(input_text[0])\n",
    "embeddings = tokenizer(input_text_formatted, padding=True, truncation=True, return_tensors=\"pt\")[\"input_ids\"]\n",
    "input_embeds_text = llm.base_model.embed_tokens(embeddings[:window_size].to(device))\n",
    "\n",
    "# concatenate\n",
    "llm_embed = torch.cat((input_embeds_time, input_embeds_text), dim=1)\n",
    "print(input_embeds_time.shape, input_embeds_text.shape, llm_embed.shape)\n",
    "\n",
    "# or add embedding for each token\n",
    "# tokenized[ day_1+time_embd_day_1, day_2+time_embd_day_1, day_3+time_embd_day_1...]\n",
    "\n",
    "\n",
    "# or add some exponential weighting\n",
    "# tokenized[ day_1+time_embd*[||___], day_2+time_embd_day_1*[__||___], day_3+time_embd_day_1*[____||]...]\n",
    "\n",
    "\n",
    "# how to modify llama embedding\n",
    "# transformers / models / llama / modeling_llama.py\n",
    "# Class LlamaModel: def forward\n",
    "# inputs_embeds\n",
    "# line 945: hidden_states = inputs_embeds"
   ]
  },
  {
   "cell_type": "code",
   "execution_count": null,
   "metadata": {},
   "outputs": [],
   "source": []
  }
 ],
 "metadata": {
  "kernelspec": {
   "display_name": "stocks",
   "language": "python",
   "name": "python3"
  },
  "language_info": {
   "codemirror_mode": {
    "name": "ipython",
    "version": 3
   },
   "file_extension": ".py",
   "mimetype": "text/x-python",
   "name": "python",
   "nbconvert_exporter": "python",
   "pygments_lexer": "ipython3",
   "version": "3.10.14"
  }
 },
 "nbformat": 4,
 "nbformat_minor": 2
}

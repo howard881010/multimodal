{
 "cells": [
  {
   "cell_type": "code",
   "execution_count": 6,
   "metadata": {},
   "outputs": [],
   "source": [
    "%reload_ext autoreload\n",
    "%autoreload 2\n",
    "from MultimodalDataset.GasData import GasDataProcessor\n",
    "from MultimodalDataset.MedicalData import MedicalDataProcessor\n",
    "from MultimodalDataset.ClimateData import ClimateDataProcessor\n",
    "from src.utils import load_config, get_max_token_size"
   ]
  },
  {
   "cell_type": "markdown",
   "metadata": {},
   "source": [
    "# For Climate Dataset"
   ]
  },
  {
   "cell_type": "code",
   "execution_count": null,
   "metadata": {},
   "outputs": [],
   "source": [
    "import yaml\n",
    "\n",
    "file_path = \"config/default/climate.yaml\"\n",
    "# Load the existing YAML file\n",
    "with open(file_path, 'r') as file:\n",
    "    config = yaml.safe_load(file)\n",
    "\n",
    "# Iterate over input_window and output_window from 1 to 7\n",
    "for i in range(1, 8):\n",
    "    # Update the values in the config\n",
    "    config['dataset']['input_window'] = i\n",
    "    config['dataset']['output_window'] = i\n",
    "    config['dataset']['hf_repo'] = f\"Howard881010/climate-{i}day\"\n",
    "    \n",
    "    # Save the updated configuration back to the original file\n",
    "    with open(file_path, 'w') as outfile:\n",
    "        yaml.dump(config, outfile, default_flow_style=False)\n",
    "    \n",
    "    print(f\"Saved configuration with input_window={i} and output_window={i}.\")\n",
    "    climate_cfg = load_config('config/default/climate.yaml')\n",
    "\n",
    "    processor = ClimateDataProcessor(climate_cfg['dataset'])\n",
    "    climate_dataset = processor.get_dataset()\n",
    "    max_length = get_max_token_size(climate_dataset)\n",
    "    processor.push_to_huggingface(climate_dataset)\n",
    "    print(max_length)\n",
    "\n",
    "print(\"All configurations saved to gas.yaml.\")"
   ]
  },
  {
   "cell_type": "code",
   "execution_count": null,
   "metadata": {},
   "outputs": [],
   "source": [
    "from datasets import load_dataset, concatenate_datasets, DatasetDict\n",
    "\n",
    "data1 = load_dataset('Howard881010/climate-1day')\n",
    "# data2 = load_dataset('Howard881010/climate-1day-mixed')\n",
    "data3 = load_dataset('Howard881010/climate-2day')\n",
    "# data4 = load_dataset('Howard881010/climate-2day-mixed')\n",
    "data5 = load_dataset('Howard881010/climate-3day')\n",
    "# data6 = load_dataset('Howard881010/climate-3day-mixed')\n",
    "data7 = load_dataset('Howard881010/climate-4day')\n",
    "# data8 = load_dataset('Howard881010/climate-4day-mixed')\n",
    "data9 = load_dataset('Howard881010/climate-5day')\n",
    "# data10 = load_dataset('Howard881010/climate-5day-mixed')\n",
    "data11 = load_dataset('Howard881010/climate-6day')\n",
    "# data12 = load_dataset('Howard881010/climate-6day-mixed')\n",
    "data13 = load_dataset('Howard881010/climate-7day')\n",
    "# data14 = load_dataset('Howard881010/climate-7day-mixed')\n",
    "\n",
    "data_all = {}\n",
    "\n",
    "for split in ['train', 'test', 'valid']:\n",
    "    # data_all[split] = concatenate_datasets([data1[split], data2[split], data3[split], data4[split], data5[split], data6[split], data7[split], data8[split], data9[split], data10[split], data11[split], data12[split], data13[split], data14[split]])\n",
    "    data_all[split] = concatenate_datasets([data1[split], data3[split], data5[split], data7[split], data9[split], data11[split], data13[split]])\n",
    "    \n",
    "data_dict = DatasetDict({\n",
    "    'train': data_all['train'],\n",
    "    'test': data_all['test'],\n",
    "    'valid': data_all['valid']\n",
    "})\n",
    "\n",
    "data_dict.push_to_hub('Howard881010/climate')"
   ]
  },
  {
   "cell_type": "markdown",
   "metadata": {},
   "source": [
    "# For Medical dataset"
   ]
  },
  {
   "cell_type": "code",
   "execution_count": 16,
   "metadata": {},
   "outputs": [
    {
     "name": "stdout",
     "output_type": "stream",
     "text": [
      "Saved configuration with input_window=1 and output_window=1.\n",
      "Given the medical notes and heart rates of the first 1 day, predict the medical notes and heart rates of the next 1 day.Output the result **ONLY** in the following YAML format:\n",
      "```\n",
      "day_2_date:\n",
      "day_2_medical_notes:\n",
      "day_2_Heart_Rate:\n",
      "```\n"
     ]
    },
    {
     "data": {
      "application/vnd.jupyter.widget-view+json": {
       "model_id": "28f3cfacff034b83bdcb373b411acefe",
       "version_major": 2,
       "version_minor": 0
      },
      "text/plain": [
       "Uploading the dataset shards:   0%|          | 0/1 [00:00<?, ?it/s]"
      ]
     },
     "metadata": {},
     "output_type": "display_data"
    },
    {
     "data": {
      "application/vnd.jupyter.widget-view+json": {
       "model_id": "ea4f8fa62ed0400ab7e29ff020251b6b",
       "version_major": 2,
       "version_minor": 0
      },
      "text/plain": [
       "Creating parquet from Arrow format:   0%|          | 0/7 [00:00<?, ?ba/s]"
      ]
     },
     "metadata": {},
     "output_type": "display_data"
    },
    {
     "data": {
      "application/vnd.jupyter.widget-view+json": {
       "model_id": "3f0c9904d5d04388a582ea984327ac35",
       "version_major": 2,
       "version_minor": 0
      },
      "text/plain": [
       "Uploading the dataset shards:   0%|          | 0/1 [00:00<?, ?it/s]"
      ]
     },
     "metadata": {},
     "output_type": "display_data"
    },
    {
     "data": {
      "application/vnd.jupyter.widget-view+json": {
       "model_id": "57869a5d174c44db838987ea87dcb79b",
       "version_major": 2,
       "version_minor": 0
      },
      "text/plain": [
       "Creating parquet from Arrow format:   0%|          | 0/1 [00:00<?, ?ba/s]"
      ]
     },
     "metadata": {},
     "output_type": "display_data"
    },
    {
     "data": {
      "application/vnd.jupyter.widget-view+json": {
       "model_id": "59c78d5b6157404187c41efe638e5b1f",
       "version_major": 2,
       "version_minor": 0
      },
      "text/plain": [
       "Uploading the dataset shards:   0%|          | 0/1 [00:00<?, ?it/s]"
      ]
     },
     "metadata": {},
     "output_type": "display_data"
    },
    {
     "data": {
      "application/vnd.jupyter.widget-view+json": {
       "model_id": "25e1df77099d455ea56b852a31f74e0a",
       "version_major": 2,
       "version_minor": 0
      },
      "text/plain": [
       "Creating parquet from Arrow format:   0%|          | 0/1 [00:00<?, ?ba/s]"
      ]
     },
     "metadata": {},
     "output_type": "display_data"
    },
    {
     "name": "stdout",
     "output_type": "stream",
     "text": [
      "1109\n",
      "Saved configuration with input_window=2 and output_window=2.\n",
      "Given the medical notes and heart rates of the first 2 day, predict the medical notes and heart rates of the next 2 day.Output the result **ONLY** in the following YAML format:\n",
      "```\n",
      "day_3_date:\n",
      "day_3_medical_notes:\n",
      "day_3_Heart_Rate:\n",
      "day_4_date:\n",
      "day_4_medical_notes:\n",
      "day_4_Heart_Rate:\n",
      "```\n"
     ]
    },
    {
     "data": {
      "application/vnd.jupyter.widget-view+json": {
       "model_id": "ec630eab02df4623b45bb3742dc5fb62",
       "version_major": 2,
       "version_minor": 0
      },
      "text/plain": [
       "Uploading the dataset shards:   0%|          | 0/1 [00:00<?, ?it/s]"
      ]
     },
     "metadata": {},
     "output_type": "display_data"
    },
    {
     "data": {
      "application/vnd.jupyter.widget-view+json": {
       "model_id": "bee7294317bb42afb8f2b328d2ed164a",
       "version_major": 2,
       "version_minor": 0
      },
      "text/plain": [
       "Creating parquet from Arrow format:   0%|          | 0/6 [00:00<?, ?ba/s]"
      ]
     },
     "metadata": {},
     "output_type": "display_data"
    },
    {
     "data": {
      "application/vnd.jupyter.widget-view+json": {
       "model_id": "3a5ed945358d48d08a2a0f39ef819b3b",
       "version_major": 2,
       "version_minor": 0
      },
      "text/plain": [
       "Uploading the dataset shards:   0%|          | 0/1 [00:00<?, ?it/s]"
      ]
     },
     "metadata": {},
     "output_type": "display_data"
    },
    {
     "data": {
      "application/vnd.jupyter.widget-view+json": {
       "model_id": "25d868ee54024518b9d68dd1ecf1b389",
       "version_major": 2,
       "version_minor": 0
      },
      "text/plain": [
       "Creating parquet from Arrow format:   0%|          | 0/1 [00:00<?, ?ba/s]"
      ]
     },
     "metadata": {},
     "output_type": "display_data"
    },
    {
     "data": {
      "application/vnd.jupyter.widget-view+json": {
       "model_id": "6f594b5a2b9646f693b845c884edf623",
       "version_major": 2,
       "version_minor": 0
      },
      "text/plain": [
       "Uploading the dataset shards:   0%|          | 0/1 [00:00<?, ?it/s]"
      ]
     },
     "metadata": {},
     "output_type": "display_data"
    },
    {
     "data": {
      "application/vnd.jupyter.widget-view+json": {
       "model_id": "22dc3e4df665449abf65baa00ae3fb2c",
       "version_major": 2,
       "version_minor": 0
      },
      "text/plain": [
       "Creating parquet from Arrow format:   0%|          | 0/1 [00:00<?, ?ba/s]"
      ]
     },
     "metadata": {},
     "output_type": "display_data"
    },
    {
     "name": "stdout",
     "output_type": "stream",
     "text": [
      "1853\n",
      "Saved configuration with input_window=3 and output_window=3.\n",
      "Given the medical notes and heart rates of the first 3 day, predict the medical notes and heart rates of the next 3 day.Output the result **ONLY** in the following YAML format:\n",
      "```\n",
      "day_4_date:\n",
      "day_4_medical_notes:\n",
      "day_4_Heart_Rate:\n",
      "day_5_date:\n",
      "day_5_medical_notes:\n",
      "day_5_Heart_Rate:\n",
      "day_6_date:\n",
      "day_6_medical_notes:\n",
      "day_6_Heart_Rate:\n",
      "```\n"
     ]
    },
    {
     "data": {
      "application/vnd.jupyter.widget-view+json": {
       "model_id": "ab6212b6ad62401a88bfbb7602924181",
       "version_major": 2,
       "version_minor": 0
      },
      "text/plain": [
       "Uploading the dataset shards:   0%|          | 0/1 [00:00<?, ?it/s]"
      ]
     },
     "metadata": {},
     "output_type": "display_data"
    },
    {
     "data": {
      "application/vnd.jupyter.widget-view+json": {
       "model_id": "0ddae68f79dc47bf825600e590acd0c8",
       "version_major": 2,
       "version_minor": 0
      },
      "text/plain": [
       "Creating parquet from Arrow format:   0%|          | 0/6 [00:00<?, ?ba/s]"
      ]
     },
     "metadata": {},
     "output_type": "display_data"
    },
    {
     "data": {
      "application/vnd.jupyter.widget-view+json": {
       "model_id": "c571d5a0fe6e4fe399034e16a2e37565",
       "version_major": 2,
       "version_minor": 0
      },
      "text/plain": [
       "Uploading the dataset shards:   0%|          | 0/1 [00:00<?, ?it/s]"
      ]
     },
     "metadata": {},
     "output_type": "display_data"
    },
    {
     "data": {
      "application/vnd.jupyter.widget-view+json": {
       "model_id": "568d89f4eb9948128fdc775b2c08dc32",
       "version_major": 2,
       "version_minor": 0
      },
      "text/plain": [
       "Creating parquet from Arrow format:   0%|          | 0/1 [00:00<?, ?ba/s]"
      ]
     },
     "metadata": {},
     "output_type": "display_data"
    },
    {
     "data": {
      "application/vnd.jupyter.widget-view+json": {
       "model_id": "76936a83480c4214b969c2d2b795f5d1",
       "version_major": 2,
       "version_minor": 0
      },
      "text/plain": [
       "Uploading the dataset shards:   0%|          | 0/1 [00:00<?, ?it/s]"
      ]
     },
     "metadata": {},
     "output_type": "display_data"
    },
    {
     "data": {
      "application/vnd.jupyter.widget-view+json": {
       "model_id": "16910a503989476b9343c004c4750937",
       "version_major": 2,
       "version_minor": 0
      },
      "text/plain": [
       "Creating parquet from Arrow format:   0%|          | 0/1 [00:00<?, ?ba/s]"
      ]
     },
     "metadata": {},
     "output_type": "display_data"
    },
    {
     "data": {
      "application/vnd.jupyter.widget-view+json": {
       "model_id": "1905cdc6c54c4d6c88e925e23b4f742f",
       "version_major": 2,
       "version_minor": 0
      },
      "text/plain": [
       "README.md:   0%|          | 0.00/711 [00:00<?, ?B/s]"
      ]
     },
     "metadata": {},
     "output_type": "display_data"
    },
    {
     "name": "stdout",
     "output_type": "stream",
     "text": [
      "2593\n",
      "Saved configuration with input_window=4 and output_window=4.\n",
      "Given the medical notes and heart rates of the first 4 day, predict the medical notes and heart rates of the next 4 day.Output the result **ONLY** in the following YAML format:\n",
      "```\n",
      "day_5_date:\n",
      "day_5_medical_notes:\n",
      "day_5_Heart_Rate:\n",
      "day_6_date:\n",
      "day_6_medical_notes:\n",
      "day_6_Heart_Rate:\n",
      "day_7_date:\n",
      "day_7_medical_notes:\n",
      "day_7_Heart_Rate:\n",
      "day_8_date:\n",
      "day_8_medical_notes:\n",
      "day_8_Heart_Rate:\n",
      "```\n"
     ]
    },
    {
     "data": {
      "application/vnd.jupyter.widget-view+json": {
       "model_id": "5270b47747154303af2674c553f64cd8",
       "version_major": 2,
       "version_minor": 0
      },
      "text/plain": [
       "Uploading the dataset shards:   0%|          | 0/1 [00:00<?, ?it/s]"
      ]
     },
     "metadata": {},
     "output_type": "display_data"
    },
    {
     "data": {
      "application/vnd.jupyter.widget-view+json": {
       "model_id": "dcef7e3fa0644a94b0e7da8d7ee316f6",
       "version_major": 2,
       "version_minor": 0
      },
      "text/plain": [
       "Creating parquet from Arrow format:   0%|          | 0/6 [00:00<?, ?ba/s]"
      ]
     },
     "metadata": {},
     "output_type": "display_data"
    },
    {
     "data": {
      "application/vnd.jupyter.widget-view+json": {
       "model_id": "4565c1534a114cdaa2a81a55340bb78c",
       "version_major": 2,
       "version_minor": 0
      },
      "text/plain": [
       "Uploading the dataset shards:   0%|          | 0/1 [00:00<?, ?it/s]"
      ]
     },
     "metadata": {},
     "output_type": "display_data"
    },
    {
     "data": {
      "application/vnd.jupyter.widget-view+json": {
       "model_id": "3c5b1f3599974d2e9b8209f1451243d4",
       "version_major": 2,
       "version_minor": 0
      },
      "text/plain": [
       "Creating parquet from Arrow format:   0%|          | 0/1 [00:00<?, ?ba/s]"
      ]
     },
     "metadata": {},
     "output_type": "display_data"
    },
    {
     "data": {
      "application/vnd.jupyter.widget-view+json": {
       "model_id": "f18c8185f7224f08b9a09ae2acc004ec",
       "version_major": 2,
       "version_minor": 0
      },
      "text/plain": [
       "Uploading the dataset shards:   0%|          | 0/1 [00:00<?, ?it/s]"
      ]
     },
     "metadata": {},
     "output_type": "display_data"
    },
    {
     "data": {
      "application/vnd.jupyter.widget-view+json": {
       "model_id": "fde9dabc64f541ebbc86e3cb78829c57",
       "version_major": 2,
       "version_minor": 0
      },
      "text/plain": [
       "Creating parquet from Arrow format:   0%|          | 0/1 [00:00<?, ?ba/s]"
      ]
     },
     "metadata": {},
     "output_type": "display_data"
    },
    {
     "data": {
      "application/vnd.jupyter.widget-view+json": {
       "model_id": "3ec1f3c7f2454b229ffc2f610e25fe09",
       "version_major": 2,
       "version_minor": 0
      },
      "text/plain": [
       "README.md:   0%|          | 0.00/711 [00:00<?, ?B/s]"
      ]
     },
     "metadata": {},
     "output_type": "display_data"
    },
    {
     "name": "stdout",
     "output_type": "stream",
     "text": [
      "3370\n",
      "Saved configuration with input_window=5 and output_window=5.\n",
      "Given the medical notes and heart rates of the first 5 day, predict the medical notes and heart rates of the next 5 day.Output the result **ONLY** in the following YAML format:\n",
      "```\n",
      "day_6_date:\n",
      "day_6_medical_notes:\n",
      "day_6_Heart_Rate:\n",
      "day_7_date:\n",
      "day_7_medical_notes:\n",
      "day_7_Heart_Rate:\n",
      "day_8_date:\n",
      "day_8_medical_notes:\n",
      "day_8_Heart_Rate:\n",
      "day_9_date:\n",
      "day_9_medical_notes:\n",
      "day_9_Heart_Rate:\n",
      "day_10_date:\n",
      "day_10_medical_notes:\n",
      "day_10_Heart_Rate:\n",
      "```\n"
     ]
    },
    {
     "data": {
      "application/vnd.jupyter.widget-view+json": {
       "model_id": "071060af2fc5442883bdd60821a96530",
       "version_major": 2,
       "version_minor": 0
      },
      "text/plain": [
       "Uploading the dataset shards:   0%|          | 0/1 [00:00<?, ?it/s]"
      ]
     },
     "metadata": {},
     "output_type": "display_data"
    },
    {
     "data": {
      "application/vnd.jupyter.widget-view+json": {
       "model_id": "4c15a68b66e24ac38a9ee621e3bebe3a",
       "version_major": 2,
       "version_minor": 0
      },
      "text/plain": [
       "Creating parquet from Arrow format:   0%|          | 0/6 [00:00<?, ?ba/s]"
      ]
     },
     "metadata": {},
     "output_type": "display_data"
    },
    {
     "data": {
      "application/vnd.jupyter.widget-view+json": {
       "model_id": "e5ce81cda2834f2a9181078187a14f45",
       "version_major": 2,
       "version_minor": 0
      },
      "text/plain": [
       "Uploading the dataset shards:   0%|          | 0/1 [00:00<?, ?it/s]"
      ]
     },
     "metadata": {},
     "output_type": "display_data"
    },
    {
     "data": {
      "application/vnd.jupyter.widget-view+json": {
       "model_id": "abcc9f3b86314969b63b4d247fdefda2",
       "version_major": 2,
       "version_minor": 0
      },
      "text/plain": [
       "Creating parquet from Arrow format:   0%|          | 0/1 [00:00<?, ?ba/s]"
      ]
     },
     "metadata": {},
     "output_type": "display_data"
    },
    {
     "data": {
      "application/vnd.jupyter.widget-view+json": {
       "model_id": "14e26461416248dab6dc728f40afee6b",
       "version_major": 2,
       "version_minor": 0
      },
      "text/plain": [
       "Uploading the dataset shards:   0%|          | 0/1 [00:00<?, ?it/s]"
      ]
     },
     "metadata": {},
     "output_type": "display_data"
    },
    {
     "data": {
      "application/vnd.jupyter.widget-view+json": {
       "model_id": "4902e679a4d24e00b47148874386b56a",
       "version_major": 2,
       "version_minor": 0
      },
      "text/plain": [
       "Creating parquet from Arrow format:   0%|          | 0/1 [00:00<?, ?ba/s]"
      ]
     },
     "metadata": {},
     "output_type": "display_data"
    },
    {
     "data": {
      "application/vnd.jupyter.widget-view+json": {
       "model_id": "13ce3c0ac4f74a43bd484a30cb1b0bca",
       "version_major": 2,
       "version_minor": 0
      },
      "text/plain": [
       "README.md:   0%|          | 0.00/711 [00:00<?, ?B/s]"
      ]
     },
     "metadata": {},
     "output_type": "display_data"
    },
    {
     "name": "stdout",
     "output_type": "stream",
     "text": [
      "4087\n",
      "Saved configuration with input_window=6 and output_window=6.\n",
      "Given the medical notes and heart rates of the first 6 day, predict the medical notes and heart rates of the next 6 day.Output the result **ONLY** in the following YAML format:\n",
      "```\n",
      "day_7_date:\n",
      "day_7_medical_notes:\n",
      "day_7_Heart_Rate:\n",
      "day_8_date:\n",
      "day_8_medical_notes:\n",
      "day_8_Heart_Rate:\n",
      "day_9_date:\n",
      "day_9_medical_notes:\n",
      "day_9_Heart_Rate:\n",
      "day_10_date:\n",
      "day_10_medical_notes:\n",
      "day_10_Heart_Rate:\n",
      "day_11_date:\n",
      "day_11_medical_notes:\n",
      "day_11_Heart_Rate:\n",
      "day_12_date:\n",
      "day_12_medical_notes:\n",
      "day_12_Heart_Rate:\n",
      "```\n"
     ]
    },
    {
     "data": {
      "application/vnd.jupyter.widget-view+json": {
       "model_id": "14a94079ae0b46fd9a79213a11e94a74",
       "version_major": 2,
       "version_minor": 0
      },
      "text/plain": [
       "Uploading the dataset shards:   0%|          | 0/1 [00:00<?, ?it/s]"
      ]
     },
     "metadata": {},
     "output_type": "display_data"
    },
    {
     "data": {
      "application/vnd.jupyter.widget-view+json": {
       "model_id": "15f97753009a461bb5606fc5b331ab67",
       "version_major": 2,
       "version_minor": 0
      },
      "text/plain": [
       "Creating parquet from Arrow format:   0%|          | 0/6 [00:00<?, ?ba/s]"
      ]
     },
     "metadata": {},
     "output_type": "display_data"
    },
    {
     "data": {
      "application/vnd.jupyter.widget-view+json": {
       "model_id": "618a6115bde848bc8ea582977fde8337",
       "version_major": 2,
       "version_minor": 0
      },
      "text/plain": [
       "Uploading the dataset shards:   0%|          | 0/1 [00:00<?, ?it/s]"
      ]
     },
     "metadata": {},
     "output_type": "display_data"
    },
    {
     "data": {
      "application/vnd.jupyter.widget-view+json": {
       "model_id": "6e7fa767a7c34c55ad3c038bcc3fffaa",
       "version_major": 2,
       "version_minor": 0
      },
      "text/plain": [
       "Creating parquet from Arrow format:   0%|          | 0/1 [00:00<?, ?ba/s]"
      ]
     },
     "metadata": {},
     "output_type": "display_data"
    },
    {
     "data": {
      "application/vnd.jupyter.widget-view+json": {
       "model_id": "411d8deddb9c4201b65fcba41fcfef32",
       "version_major": 2,
       "version_minor": 0
      },
      "text/plain": [
       "Uploading the dataset shards:   0%|          | 0/1 [00:00<?, ?it/s]"
      ]
     },
     "metadata": {},
     "output_type": "display_data"
    },
    {
     "data": {
      "application/vnd.jupyter.widget-view+json": {
       "model_id": "1b512b9732a744a785a6c86cc9cc5e23",
       "version_major": 2,
       "version_minor": 0
      },
      "text/plain": [
       "Creating parquet from Arrow format:   0%|          | 0/1 [00:00<?, ?ba/s]"
      ]
     },
     "metadata": {},
     "output_type": "display_data"
    },
    {
     "data": {
      "application/vnd.jupyter.widget-view+json": {
       "model_id": "1fcfd1f7dc0a47a7991c485ca3d78a1d",
       "version_major": 2,
       "version_minor": 0
      },
      "text/plain": [
       "README.md:   0%|          | 0.00/711 [00:00<?, ?B/s]"
      ]
     },
     "metadata": {},
     "output_type": "display_data"
    },
    {
     "name": "stdout",
     "output_type": "stream",
     "text": [
      "4882\n",
      "Saved configuration with input_window=7 and output_window=7.\n",
      "Given the medical notes and heart rates of the first 7 day, predict the medical notes and heart rates of the next 7 day.Output the result **ONLY** in the following YAML format:\n",
      "```\n",
      "day_8_date:\n",
      "day_8_medical_notes:\n",
      "day_8_Heart_Rate:\n",
      "day_9_date:\n",
      "day_9_medical_notes:\n",
      "day_9_Heart_Rate:\n",
      "day_10_date:\n",
      "day_10_medical_notes:\n",
      "day_10_Heart_Rate:\n",
      "day_11_date:\n",
      "day_11_medical_notes:\n",
      "day_11_Heart_Rate:\n",
      "day_12_date:\n",
      "day_12_medical_notes:\n",
      "day_12_Heart_Rate:\n",
      "day_13_date:\n",
      "day_13_medical_notes:\n",
      "day_13_Heart_Rate:\n",
      "day_14_date:\n",
      "day_14_medical_notes:\n",
      "day_14_Heart_Rate:\n",
      "```\n"
     ]
    },
    {
     "data": {
      "application/vnd.jupyter.widget-view+json": {
       "model_id": "33b98d9ee98b4c799cf400fd3e32a991",
       "version_major": 2,
       "version_minor": 0
      },
      "text/plain": [
       "Uploading the dataset shards:   0%|          | 0/1 [00:00<?, ?it/s]"
      ]
     },
     "metadata": {},
     "output_type": "display_data"
    },
    {
     "data": {
      "application/vnd.jupyter.widget-view+json": {
       "model_id": "79423258f19147a9a88d9eb201a91b93",
       "version_major": 2,
       "version_minor": 0
      },
      "text/plain": [
       "Creating parquet from Arrow format:   0%|          | 0/6 [00:00<?, ?ba/s]"
      ]
     },
     "metadata": {},
     "output_type": "display_data"
    },
    {
     "data": {
      "application/vnd.jupyter.widget-view+json": {
       "model_id": "72f5826b13bc4312a86304cae5cba041",
       "version_major": 2,
       "version_minor": 0
      },
      "text/plain": [
       "Uploading the dataset shards:   0%|          | 0/1 [00:00<?, ?it/s]"
      ]
     },
     "metadata": {},
     "output_type": "display_data"
    },
    {
     "data": {
      "application/vnd.jupyter.widget-view+json": {
       "model_id": "79ac53c1d8184119bd466dc6913cd41a",
       "version_major": 2,
       "version_minor": 0
      },
      "text/plain": [
       "Creating parquet from Arrow format:   0%|          | 0/1 [00:00<?, ?ba/s]"
      ]
     },
     "metadata": {},
     "output_type": "display_data"
    },
    {
     "data": {
      "application/vnd.jupyter.widget-view+json": {
       "model_id": "41fbef9f04e64daeb82925618d083469",
       "version_major": 2,
       "version_minor": 0
      },
      "text/plain": [
       "Uploading the dataset shards:   0%|          | 0/1 [00:00<?, ?it/s]"
      ]
     },
     "metadata": {},
     "output_type": "display_data"
    },
    {
     "data": {
      "application/vnd.jupyter.widget-view+json": {
       "model_id": "333c3081012047f1ab1e0cbebe957c18",
       "version_major": 2,
       "version_minor": 0
      },
      "text/plain": [
       "Creating parquet from Arrow format:   0%|          | 0/1 [00:00<?, ?ba/s]"
      ]
     },
     "metadata": {},
     "output_type": "display_data"
    },
    {
     "data": {
      "application/vnd.jupyter.widget-view+json": {
       "model_id": "e23b44ca0ba5414b83b84da7b744b2fe",
       "version_major": 2,
       "version_minor": 0
      },
      "text/plain": [
       "README.md:   0%|          | 0.00/713 [00:00<?, ?B/s]"
      ]
     },
     "metadata": {},
     "output_type": "display_data"
    },
    {
     "name": "stdout",
     "output_type": "stream",
     "text": [
      "5707\n",
      "All configurations saved to medical.yaml.\n"
     ]
    }
   ],
   "source": [
    "import yaml\n",
    "\n",
    "file_path = \"config/default/medical.yaml\"\n",
    "# Load the existing YAML file\n",
    "with open(file_path, 'r') as file:\n",
    "    config = yaml.safe_load(file)\n",
    "\n",
    "# Iterate over input_window and output_window from 1 to 7\n",
    "for i in range(1, 8):\n",
    "    # Update the values in the config\n",
    "    config['dataset']['input_window'] = i\n",
    "    config['dataset']['output_window'] = i\n",
    "    config['dataset']['hf_repo'] = f\"Howard881010/medical-{i}day\"\n",
    "    \n",
    "    # Save the updated configuration back to the original file\n",
    "    with open(file_path, 'w') as outfile:\n",
    "        yaml.dump(config, outfile, default_flow_style=False)\n",
    "    \n",
    "    print(f\"Saved configuration with input_window={i} and output_window={i}.\")\n",
    "    medical_cfg = load_config('config/default/medical.yaml')\n",
    "\n",
    "    processor = MedicalDataProcessor(medical_cfg['dataset'])\n",
    "    medical_dataset = processor.get_dataset()\n",
    "    max_length = get_max_token_size(medical_dataset)\n",
    "    processor.push_to_huggingface(medical_dataset)\n",
    "    print(max_length)\n",
    "\n",
    "print(\"All configurations saved to medical.yaml.\")"
   ]
  }
 ],
 "metadata": {
  "kernelspec": {
   "display_name": "multimodal",
   "language": "python",
   "name": "python3"
  },
  "language_info": {
   "codemirror_mode": {
    "name": "ipython",
    "version": 3
   },
   "file_extension": ".py",
   "mimetype": "text/x-python",
   "name": "python",
   "nbconvert_exporter": "python",
   "pygments_lexer": "ipython3",
   "version": "3.11.9"
  }
 },
 "nbformat": 4,
 "nbformat_minor": 2
}

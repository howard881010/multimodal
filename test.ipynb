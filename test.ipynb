{
 "cells": [
  {
   "cell_type": "code",
   "execution_count": 1,
   "metadata": {},
   "outputs": [],
   "source": [
    "%reload_ext autoreload\n",
    "%autoreload 2\n",
    "from MultimodalDataset.FinanceData import FinanceDataProcessor\n",
    "from MultimodalDataset.MedicalData import MedicalDataProcessor\n",
    "from MultimodalDataset.ClimateData import ClimateDataProcessor\n",
    "from src.utils import load_config, get_max_token_size\n",
    "import yaml\n",
    "from datasets import Dataset, DatasetDict, load_dataset\n",
    "import pandas as pd"
   ]
  },
  {
   "cell_type": "markdown",
   "metadata": {},
   "source": [
    "# For Climate Dataset"
   ]
  },
  {
   "cell_type": "code",
   "execution_count": 6,
   "metadata": {},
   "outputs": [
    {
     "name": "stdout",
     "output_type": "stream",
     "text": [
      "Saved configuration with input_window=1 and output_window=1.\n",
      "instruction_1:  Given the weather information of the first 1 day, predict the weather information of the next 1 day. Output the result strictly in the following JSON format and no additional text:\n",
      "{\n",
      "    \"day_2_date\": \"YYYY-MM-DD\",\n",
      "    \"day_2_weather_forecast\": \"Weather description\"\n",
      "}\n",
      "instruction_2:  Given the weather information of the first 1 day, predict the weather information of the next 1 day. Output the result strictly in the following JSON format and no additional text:\n",
      "{\n",
      "    \"day_2_date\": \"YYYY-MM-DD\",\n",
      "    \"day_2_weather_forecast\": \"Weather description\",\n",
      "    \"day_2_temp\": \"A Float Number\"\n",
      "}\n",
      "instruction_3:  Given the weather information of the first 1 day, predict the weather information of the next 1 day. Output the result strictly in the following JSON format and no additional text:\n",
      "{\n",
      "    \"day_2_date\": \"YYYY-MM-DD\",\n",
      "    \"day_2_weather_forecast\": \"Weather description\"\n",
      "}\n",
      "instruction_4:  Given the weather information of the first 1 day, predict the weather information of the next 1 day. Output the result strictly in the following JSON format and no additional text:\n",
      "{\n",
      "    \"day_2_date\": \"YYYY-MM-DD\",\n",
      "    \"day_2_temp\": \"A Float Number\"\n",
      "}\n",
      "899 559\n",
      "Saved configuration with input_window=2 and output_window=2.\n",
      "instruction_1:  Given the weather information of the first 2 day, predict the weather information of the next 2 day. Output the result strictly in the following JSON format and no additional text:\n",
      "{\n",
      "    \"day_3_date\": \"YYYY-MM-DD\",\n",
      "    \"day_3_weather_forecast\": \"Weather description\",\n",
      "    \"day_4_date\": \"YYYY-MM-DD\",\n",
      "    \"day_4_weather_forecast\": \"Weather description\"\n",
      "}\n",
      "instruction_2:  Given the weather information of the first 2 day, predict the weather information of the next 2 day. Output the result strictly in the following JSON format and no additional text:\n",
      "{\n",
      "    \"day_3_date\": \"YYYY-MM-DD\",\n",
      "    \"day_3_weather_forecast\": \"Weather description\",\n",
      "    \"day_3_temp\": \"A Float Number\",\n",
      "    \"day_4_date\": \"YYYY-MM-DD\",\n",
      "    \"day_4_weather_forecast\": \"Weather description\",\n",
      "    \"day_4_temp\": \"A Float Number\"\n",
      "}\n",
      "instruction_3:  Given the weather information of the first 2 day, predict the weather information of the next 2 day. Output the result strictly in the following JSON format and no additional text:\n",
      "{\n",
      "    \"day_3_date\": \"YYYY-MM-DD\",\n",
      "    \"day_3_weather_forecast\": \"Weather description\",\n",
      "    \"day_4_date\": \"YYYY-MM-DD\",\n",
      "    \"day_4_weather_forecast\": \"Weather description\"\n",
      "}\n",
      "instruction_4:  Given the weather information of the first 2 day, predict the weather information of the next 2 day. Output the result strictly in the following JSON format and no additional text:\n",
      "{\n",
      "    \"day_3_date\": \"YYYY-MM-DD\",\n",
      "    \"day_3_temp\": \"A Float Number\",\n",
      "    \"day_4_date\": \"YYYY-MM-DD\",\n",
      "    \"day_4_temp\": \"A Float Number\"\n",
      "}\n"
     ]
    },
    {
     "ename": "KeyboardInterrupt",
     "evalue": "",
     "output_type": "error",
     "traceback": [
      "\u001b[0;31m---------------------------------------------------------------------------\u001b[0m",
      "\u001b[0;31mKeyboardInterrupt\u001b[0m                         Traceback (most recent call last)",
      "Cell \u001b[0;32mIn[6], line 23\u001b[0m\n\u001b[1;32m     21\u001b[0m climate_dataset \u001b[38;5;241m=\u001b[39m processor\u001b[38;5;241m.\u001b[39mget_dataset()\n\u001b[1;32m     22\u001b[0m max_length_1 \u001b[38;5;241m=\u001b[39m get_max_token_size(climate_dataset, \u001b[38;5;124m'\u001b[39m\u001b[38;5;124minput_text_time\u001b[39m\u001b[38;5;124m'\u001b[39m, \u001b[38;5;124m'\u001b[39m\u001b[38;5;124moutput_text_time\u001b[39m\u001b[38;5;124m'\u001b[39m, \u001b[38;5;124m'\u001b[39m\u001b[38;5;124minstruction-2\u001b[39m\u001b[38;5;124m'\u001b[39m)\n\u001b[0;32m---> 23\u001b[0m max_length_2 \u001b[38;5;241m=\u001b[39m \u001b[43mget_max_token_size\u001b[49m\u001b[43m(\u001b[49m\u001b[43mclimate_dataset\u001b[49m\u001b[43m,\u001b[49m\u001b[43m \u001b[49m\u001b[38;5;124;43m'\u001b[39;49m\u001b[38;5;124;43minput_text_time\u001b[39;49m\u001b[38;5;124;43m'\u001b[39;49m\u001b[43m,\u001b[49m\u001b[43m \u001b[49m\u001b[38;5;124;43m'\u001b[39;49m\u001b[38;5;124;43moutput_time\u001b[39;49m\u001b[38;5;124;43m'\u001b[39;49m\u001b[43m,\u001b[49m\u001b[43m \u001b[49m\u001b[38;5;124;43m'\u001b[39;49m\u001b[38;5;124;43minstruction-4\u001b[39;49m\u001b[38;5;124;43m'\u001b[39;49m\u001b[43m)\u001b[49m\n\u001b[1;32m     25\u001b[0m \u001b[38;5;66;03m# processor.push_to_huggingface(climate_dataset)\u001b[39;00m\n\u001b[1;32m     26\u001b[0m \u001b[38;5;28mprint\u001b[39m(max_length_1, max_length_2)\n",
      "File \u001b[0;32m~/multimodal/src/utils.py:114\u001b[0m, in \u001b[0;36mget_max_token_size\u001b[0;34m(dataset, input_column, output_column, instruction_column, model_name)\u001b[0m\n\u001b[1;32m    112\u001b[0m tokenizer \u001b[38;5;241m=\u001b[39m AutoTokenizer\u001b[38;5;241m.\u001b[39mfrom_pretrained(model_name)\n\u001b[1;32m    113\u001b[0m \u001b[38;5;28;01mfor\u001b[39;00m split \u001b[38;5;129;01min\u001b[39;00m [\u001b[38;5;124m'\u001b[39m\u001b[38;5;124mtrain\u001b[39m\u001b[38;5;124m'\u001b[39m, \u001b[38;5;124m'\u001b[39m\u001b[38;5;124mvalid\u001b[39m\u001b[38;5;124m'\u001b[39m, \u001b[38;5;124m'\u001b[39m\u001b[38;5;124mtest\u001b[39m\u001b[38;5;124m'\u001b[39m]:\n\u001b[0;32m--> 114\u001b[0m     tokens_split \u001b[38;5;241m=\u001b[39m \u001b[38;5;28mmax\u001b[39m(\u001b[43m[\u001b[49m\u001b[43mapply_chat_template\u001b[49m\u001b[43m(\u001b[49m\u001b[43mtokenizer\u001b[49m\u001b[43m,\u001b[49m\u001b[43m \u001b[49m\u001b[43mrow\u001b[49m\u001b[43m[\u001b[49m\u001b[43minstruction_column\u001b[49m\u001b[43m]\u001b[49m\u001b[43m,\u001b[49m\u001b[43m \u001b[49m\n\u001b[1;32m    115\u001b[0m \u001b[43m                                    \u001b[49m\u001b[43mrow\u001b[49m\u001b[43m[\u001b[49m\u001b[43minput_column\u001b[49m\u001b[43m]\u001b[49m\u001b[43m,\u001b[49m\u001b[43m \u001b[49m\u001b[43mrow\u001b[49m\u001b[43m[\u001b[49m\u001b[43moutput_column\u001b[49m\u001b[43m]\u001b[49m\u001b[43m)\u001b[49m\u001b[43m \u001b[49m\u001b[38;5;28;43;01mfor\u001b[39;49;00m\u001b[43m \u001b[49m\u001b[43mrow\u001b[49m\u001b[43m \u001b[49m\u001b[38;5;129;43;01min\u001b[39;49;00m\u001b[43m \u001b[49m\u001b[43mdataset\u001b[49m\u001b[43m[\u001b[49m\u001b[43msplit\u001b[49m\u001b[43m]\u001b[49m\u001b[43m]\u001b[49m)\n\u001b[1;32m    116\u001b[0m     \u001b[38;5;28;01mif\u001b[39;00m tokens_split \u001b[38;5;241m>\u001b[39m max_tokens:\n\u001b[1;32m    117\u001b[0m         max_tokens \u001b[38;5;241m=\u001b[39m tokens_split\n",
      "File \u001b[0;32m~/multimodal/src/utils.py:114\u001b[0m, in \u001b[0;36m<listcomp>\u001b[0;34m(.0)\u001b[0m\n\u001b[1;32m    112\u001b[0m tokenizer \u001b[38;5;241m=\u001b[39m AutoTokenizer\u001b[38;5;241m.\u001b[39mfrom_pretrained(model_name)\n\u001b[1;32m    113\u001b[0m \u001b[38;5;28;01mfor\u001b[39;00m split \u001b[38;5;129;01min\u001b[39;00m [\u001b[38;5;124m'\u001b[39m\u001b[38;5;124mtrain\u001b[39m\u001b[38;5;124m'\u001b[39m, \u001b[38;5;124m'\u001b[39m\u001b[38;5;124mvalid\u001b[39m\u001b[38;5;124m'\u001b[39m, \u001b[38;5;124m'\u001b[39m\u001b[38;5;124mtest\u001b[39m\u001b[38;5;124m'\u001b[39m]:\n\u001b[0;32m--> 114\u001b[0m     tokens_split \u001b[38;5;241m=\u001b[39m \u001b[38;5;28mmax\u001b[39m([\u001b[43mapply_chat_template\u001b[49m\u001b[43m(\u001b[49m\u001b[43mtokenizer\u001b[49m\u001b[43m,\u001b[49m\u001b[43m \u001b[49m\u001b[43mrow\u001b[49m\u001b[43m[\u001b[49m\u001b[43minstruction_column\u001b[49m\u001b[43m]\u001b[49m\u001b[43m,\u001b[49m\u001b[43m \u001b[49m\n\u001b[1;32m    115\u001b[0m \u001b[43m                                    \u001b[49m\u001b[43mrow\u001b[49m\u001b[43m[\u001b[49m\u001b[43minput_column\u001b[49m\u001b[43m]\u001b[49m\u001b[43m,\u001b[49m\u001b[43m \u001b[49m\u001b[43mrow\u001b[49m\u001b[43m[\u001b[49m\u001b[43moutput_column\u001b[49m\u001b[43m]\u001b[49m\u001b[43m)\u001b[49m \u001b[38;5;28;01mfor\u001b[39;00m row \u001b[38;5;129;01min\u001b[39;00m dataset[split]])\n\u001b[1;32m    116\u001b[0m     \u001b[38;5;28;01mif\u001b[39;00m tokens_split \u001b[38;5;241m>\u001b[39m max_tokens:\n\u001b[1;32m    117\u001b[0m         max_tokens \u001b[38;5;241m=\u001b[39m tokens_split\n",
      "File \u001b[0;32m~/multimodal/src/utils.py:107\u001b[0m, in \u001b[0;36mapply_chat_template\u001b[0;34m(tokenizer, instruction, input_text, output_text)\u001b[0m\n\u001b[1;32m    105\u001b[0m \u001b[38;5;28;01mdef\u001b[39;00m \u001b[38;5;21mapply_chat_template\u001b[39m(tokenizer, instruction, input_text, output_text):\n\u001b[1;32m    106\u001b[0m     alpaca_text \u001b[38;5;241m=\u001b[39m \u001b[38;5;124mf\u001b[39m\u001b[38;5;124m\"\u001b[39m\u001b[38;5;124mInstruction: \u001b[39m\u001b[38;5;132;01m{\u001b[39;00minstruction\u001b[38;5;132;01m}\u001b[39;00m\u001b[38;5;130;01m\\n\u001b[39;00m\u001b[38;5;124mInput: \u001b[39m\u001b[38;5;132;01m{\u001b[39;00minput_text\u001b[38;5;132;01m}\u001b[39;00m\u001b[38;5;130;01m\\n\u001b[39;00m\u001b[38;5;124mResponse: \u001b[39m\u001b[38;5;132;01m{\u001b[39;00moutput_text\u001b[38;5;132;01m}\u001b[39;00m\u001b[38;5;124m\"\u001b[39m\n\u001b[0;32m--> 107\u001b[0m     input_tokens \u001b[38;5;241m=\u001b[39m \u001b[43mtokenizer\u001b[49m\u001b[43m(\u001b[49m\u001b[43malpaca_text\u001b[49m\u001b[43m,\u001b[49m\u001b[43m \u001b[49m\u001b[43mreturn_tensors\u001b[49m\u001b[38;5;241;43m=\u001b[39;49m\u001b[38;5;124;43m\"\u001b[39;49m\u001b[38;5;124;43mpt\u001b[39;49m\u001b[38;5;124;43m\"\u001b[39;49m\u001b[43m)\u001b[49m\n\u001b[1;32m    108\u001b[0m     \u001b[38;5;28;01mreturn\u001b[39;00m input_tokens\u001b[38;5;241m.\u001b[39minput_ids\u001b[38;5;241m.\u001b[39mshape[\u001b[38;5;241m1\u001b[39m]\n",
      "File \u001b[0;32m~/miniforge3/envs/multimodal/lib/python3.11/site-packages/transformers/tokenization_utils_base.py:3073\u001b[0m, in \u001b[0;36mPreTrainedTokenizerBase.__call__\u001b[0;34m(self, text, text_pair, text_target, text_pair_target, add_special_tokens, padding, truncation, max_length, stride, is_split_into_words, pad_to_multiple_of, return_tensors, return_token_type_ids, return_attention_mask, return_overflowing_tokens, return_special_tokens_mask, return_offsets_mapping, return_length, verbose, **kwargs)\u001b[0m\n\u001b[1;32m   3071\u001b[0m     \u001b[38;5;28;01mif\u001b[39;00m \u001b[38;5;129;01mnot\u001b[39;00m \u001b[38;5;28mself\u001b[39m\u001b[38;5;241m.\u001b[39m_in_target_context_manager:\n\u001b[1;32m   3072\u001b[0m         \u001b[38;5;28mself\u001b[39m\u001b[38;5;241m.\u001b[39m_switch_to_input_mode()\n\u001b[0;32m-> 3073\u001b[0m     encodings \u001b[38;5;241m=\u001b[39m \u001b[38;5;28;43mself\u001b[39;49m\u001b[38;5;241;43m.\u001b[39;49m\u001b[43m_call_one\u001b[49m\u001b[43m(\u001b[49m\u001b[43mtext\u001b[49m\u001b[38;5;241;43m=\u001b[39;49m\u001b[43mtext\u001b[49m\u001b[43m,\u001b[49m\u001b[43m \u001b[49m\u001b[43mtext_pair\u001b[49m\u001b[38;5;241;43m=\u001b[39;49m\u001b[43mtext_pair\u001b[49m\u001b[43m,\u001b[49m\u001b[43m \u001b[49m\u001b[38;5;241;43m*\u001b[39;49m\u001b[38;5;241;43m*\u001b[39;49m\u001b[43mall_kwargs\u001b[49m\u001b[43m)\u001b[49m\n\u001b[1;32m   3074\u001b[0m \u001b[38;5;28;01mif\u001b[39;00m text_target \u001b[38;5;129;01mis\u001b[39;00m \u001b[38;5;129;01mnot\u001b[39;00m \u001b[38;5;28;01mNone\u001b[39;00m:\n\u001b[1;32m   3075\u001b[0m     \u001b[38;5;28mself\u001b[39m\u001b[38;5;241m.\u001b[39m_switch_to_target_mode()\n",
      "File \u001b[0;32m~/miniforge3/envs/multimodal/lib/python3.11/site-packages/transformers/tokenization_utils_base.py:3181\u001b[0m, in \u001b[0;36mPreTrainedTokenizerBase._call_one\u001b[0;34m(self, text, text_pair, add_special_tokens, padding, truncation, max_length, stride, is_split_into_words, pad_to_multiple_of, return_tensors, return_token_type_ids, return_attention_mask, return_overflowing_tokens, return_special_tokens_mask, return_offsets_mapping, return_length, verbose, split_special_tokens, **kwargs)\u001b[0m\n\u001b[1;32m   3160\u001b[0m     \u001b[38;5;28;01mreturn\u001b[39;00m \u001b[38;5;28mself\u001b[39m\u001b[38;5;241m.\u001b[39mbatch_encode_plus(\n\u001b[1;32m   3161\u001b[0m         batch_text_or_text_pairs\u001b[38;5;241m=\u001b[39mbatch_text_or_text_pairs,\n\u001b[1;32m   3162\u001b[0m         add_special_tokens\u001b[38;5;241m=\u001b[39madd_special_tokens,\n\u001b[0;32m   (...)\u001b[0m\n\u001b[1;32m   3178\u001b[0m         \u001b[38;5;241m*\u001b[39m\u001b[38;5;241m*\u001b[39mkwargs,\n\u001b[1;32m   3179\u001b[0m     )\n\u001b[1;32m   3180\u001b[0m \u001b[38;5;28;01melse\u001b[39;00m:\n\u001b[0;32m-> 3181\u001b[0m     \u001b[38;5;28;01mreturn\u001b[39;00m \u001b[38;5;28;43mself\u001b[39;49m\u001b[38;5;241;43m.\u001b[39;49m\u001b[43mencode_plus\u001b[49m\u001b[43m(\u001b[49m\n\u001b[1;32m   3182\u001b[0m \u001b[43m        \u001b[49m\u001b[43mtext\u001b[49m\u001b[38;5;241;43m=\u001b[39;49m\u001b[43mtext\u001b[49m\u001b[43m,\u001b[49m\n\u001b[1;32m   3183\u001b[0m \u001b[43m        \u001b[49m\u001b[43mtext_pair\u001b[49m\u001b[38;5;241;43m=\u001b[39;49m\u001b[43mtext_pair\u001b[49m\u001b[43m,\u001b[49m\n\u001b[1;32m   3184\u001b[0m \u001b[43m        \u001b[49m\u001b[43madd_special_tokens\u001b[49m\u001b[38;5;241;43m=\u001b[39;49m\u001b[43madd_special_tokens\u001b[49m\u001b[43m,\u001b[49m\n\u001b[1;32m   3185\u001b[0m \u001b[43m        \u001b[49m\u001b[43mpadding\u001b[49m\u001b[38;5;241;43m=\u001b[39;49m\u001b[43mpadding\u001b[49m\u001b[43m,\u001b[49m\n\u001b[1;32m   3186\u001b[0m \u001b[43m        \u001b[49m\u001b[43mtruncation\u001b[49m\u001b[38;5;241;43m=\u001b[39;49m\u001b[43mtruncation\u001b[49m\u001b[43m,\u001b[49m\n\u001b[1;32m   3187\u001b[0m \u001b[43m        \u001b[49m\u001b[43mmax_length\u001b[49m\u001b[38;5;241;43m=\u001b[39;49m\u001b[43mmax_length\u001b[49m\u001b[43m,\u001b[49m\n\u001b[1;32m   3188\u001b[0m \u001b[43m        \u001b[49m\u001b[43mstride\u001b[49m\u001b[38;5;241;43m=\u001b[39;49m\u001b[43mstride\u001b[49m\u001b[43m,\u001b[49m\n\u001b[1;32m   3189\u001b[0m \u001b[43m        \u001b[49m\u001b[43mis_split_into_words\u001b[49m\u001b[38;5;241;43m=\u001b[39;49m\u001b[43mis_split_into_words\u001b[49m\u001b[43m,\u001b[49m\n\u001b[1;32m   3190\u001b[0m \u001b[43m        \u001b[49m\u001b[43mpad_to_multiple_of\u001b[49m\u001b[38;5;241;43m=\u001b[39;49m\u001b[43mpad_to_multiple_of\u001b[49m\u001b[43m,\u001b[49m\n\u001b[1;32m   3191\u001b[0m \u001b[43m        \u001b[49m\u001b[43mreturn_tensors\u001b[49m\u001b[38;5;241;43m=\u001b[39;49m\u001b[43mreturn_tensors\u001b[49m\u001b[43m,\u001b[49m\n\u001b[1;32m   3192\u001b[0m \u001b[43m        \u001b[49m\u001b[43mreturn_token_type_ids\u001b[49m\u001b[38;5;241;43m=\u001b[39;49m\u001b[43mreturn_token_type_ids\u001b[49m\u001b[43m,\u001b[49m\n\u001b[1;32m   3193\u001b[0m \u001b[43m        \u001b[49m\u001b[43mreturn_attention_mask\u001b[49m\u001b[38;5;241;43m=\u001b[39;49m\u001b[43mreturn_attention_mask\u001b[49m\u001b[43m,\u001b[49m\n\u001b[1;32m   3194\u001b[0m \u001b[43m        \u001b[49m\u001b[43mreturn_overflowing_tokens\u001b[49m\u001b[38;5;241;43m=\u001b[39;49m\u001b[43mreturn_overflowing_tokens\u001b[49m\u001b[43m,\u001b[49m\n\u001b[1;32m   3195\u001b[0m \u001b[43m        \u001b[49m\u001b[43mreturn_special_tokens_mask\u001b[49m\u001b[38;5;241;43m=\u001b[39;49m\u001b[43mreturn_special_tokens_mask\u001b[49m\u001b[43m,\u001b[49m\n\u001b[1;32m   3196\u001b[0m \u001b[43m        \u001b[49m\u001b[43mreturn_offsets_mapping\u001b[49m\u001b[38;5;241;43m=\u001b[39;49m\u001b[43mreturn_offsets_mapping\u001b[49m\u001b[43m,\u001b[49m\n\u001b[1;32m   3197\u001b[0m \u001b[43m        \u001b[49m\u001b[43mreturn_length\u001b[49m\u001b[38;5;241;43m=\u001b[39;49m\u001b[43mreturn_length\u001b[49m\u001b[43m,\u001b[49m\n\u001b[1;32m   3198\u001b[0m \u001b[43m        \u001b[49m\u001b[43mverbose\u001b[49m\u001b[38;5;241;43m=\u001b[39;49m\u001b[43mverbose\u001b[49m\u001b[43m,\u001b[49m\n\u001b[1;32m   3199\u001b[0m \u001b[43m        \u001b[49m\u001b[43msplit_special_tokens\u001b[49m\u001b[38;5;241;43m=\u001b[39;49m\u001b[43msplit_special_tokens\u001b[49m\u001b[43m,\u001b[49m\n\u001b[1;32m   3200\u001b[0m \u001b[43m        \u001b[49m\u001b[38;5;241;43m*\u001b[39;49m\u001b[38;5;241;43m*\u001b[39;49m\u001b[43mkwargs\u001b[49m\u001b[43m,\u001b[49m\n\u001b[1;32m   3201\u001b[0m \u001b[43m    \u001b[49m\u001b[43m)\u001b[49m\n",
      "File \u001b[0;32m~/miniforge3/envs/multimodal/lib/python3.11/site-packages/transformers/tokenization_utils_base.py:3255\u001b[0m, in \u001b[0;36mPreTrainedTokenizerBase.encode_plus\u001b[0;34m(self, text, text_pair, add_special_tokens, padding, truncation, max_length, stride, is_split_into_words, pad_to_multiple_of, return_tensors, return_token_type_ids, return_attention_mask, return_overflowing_tokens, return_special_tokens_mask, return_offsets_mapping, return_length, verbose, **kwargs)\u001b[0m\n\u001b[1;32m   3245\u001b[0m \u001b[38;5;66;03m# Backward compatibility for 'truncation_strategy', 'pad_to_max_length'\u001b[39;00m\n\u001b[1;32m   3246\u001b[0m padding_strategy, truncation_strategy, max_length, kwargs \u001b[38;5;241m=\u001b[39m \u001b[38;5;28mself\u001b[39m\u001b[38;5;241m.\u001b[39m_get_padding_truncation_strategies(\n\u001b[1;32m   3247\u001b[0m     padding\u001b[38;5;241m=\u001b[39mpadding,\n\u001b[1;32m   3248\u001b[0m     truncation\u001b[38;5;241m=\u001b[39mtruncation,\n\u001b[0;32m   (...)\u001b[0m\n\u001b[1;32m   3252\u001b[0m     \u001b[38;5;241m*\u001b[39m\u001b[38;5;241m*\u001b[39mkwargs,\n\u001b[1;32m   3253\u001b[0m )\n\u001b[0;32m-> 3255\u001b[0m \u001b[38;5;28;01mreturn\u001b[39;00m \u001b[38;5;28;43mself\u001b[39;49m\u001b[38;5;241;43m.\u001b[39;49m\u001b[43m_encode_plus\u001b[49m\u001b[43m(\u001b[49m\n\u001b[1;32m   3256\u001b[0m \u001b[43m    \u001b[49m\u001b[43mtext\u001b[49m\u001b[38;5;241;43m=\u001b[39;49m\u001b[43mtext\u001b[49m\u001b[43m,\u001b[49m\n\u001b[1;32m   3257\u001b[0m \u001b[43m    \u001b[49m\u001b[43mtext_pair\u001b[49m\u001b[38;5;241;43m=\u001b[39;49m\u001b[43mtext_pair\u001b[49m\u001b[43m,\u001b[49m\n\u001b[1;32m   3258\u001b[0m \u001b[43m    \u001b[49m\u001b[43madd_special_tokens\u001b[49m\u001b[38;5;241;43m=\u001b[39;49m\u001b[43madd_special_tokens\u001b[49m\u001b[43m,\u001b[49m\n\u001b[1;32m   3259\u001b[0m \u001b[43m    \u001b[49m\u001b[43mpadding_strategy\u001b[49m\u001b[38;5;241;43m=\u001b[39;49m\u001b[43mpadding_strategy\u001b[49m\u001b[43m,\u001b[49m\n\u001b[1;32m   3260\u001b[0m \u001b[43m    \u001b[49m\u001b[43mtruncation_strategy\u001b[49m\u001b[38;5;241;43m=\u001b[39;49m\u001b[43mtruncation_strategy\u001b[49m\u001b[43m,\u001b[49m\n\u001b[1;32m   3261\u001b[0m \u001b[43m    \u001b[49m\u001b[43mmax_length\u001b[49m\u001b[38;5;241;43m=\u001b[39;49m\u001b[43mmax_length\u001b[49m\u001b[43m,\u001b[49m\n\u001b[1;32m   3262\u001b[0m \u001b[43m    \u001b[49m\u001b[43mstride\u001b[49m\u001b[38;5;241;43m=\u001b[39;49m\u001b[43mstride\u001b[49m\u001b[43m,\u001b[49m\n\u001b[1;32m   3263\u001b[0m \u001b[43m    \u001b[49m\u001b[43mis_split_into_words\u001b[49m\u001b[38;5;241;43m=\u001b[39;49m\u001b[43mis_split_into_words\u001b[49m\u001b[43m,\u001b[49m\n\u001b[1;32m   3264\u001b[0m \u001b[43m    \u001b[49m\u001b[43mpad_to_multiple_of\u001b[49m\u001b[38;5;241;43m=\u001b[39;49m\u001b[43mpad_to_multiple_of\u001b[49m\u001b[43m,\u001b[49m\n\u001b[1;32m   3265\u001b[0m \u001b[43m    \u001b[49m\u001b[43mreturn_tensors\u001b[49m\u001b[38;5;241;43m=\u001b[39;49m\u001b[43mreturn_tensors\u001b[49m\u001b[43m,\u001b[49m\n\u001b[1;32m   3266\u001b[0m \u001b[43m    \u001b[49m\u001b[43mreturn_token_type_ids\u001b[49m\u001b[38;5;241;43m=\u001b[39;49m\u001b[43mreturn_token_type_ids\u001b[49m\u001b[43m,\u001b[49m\n\u001b[1;32m   3267\u001b[0m \u001b[43m    \u001b[49m\u001b[43mreturn_attention_mask\u001b[49m\u001b[38;5;241;43m=\u001b[39;49m\u001b[43mreturn_attention_mask\u001b[49m\u001b[43m,\u001b[49m\n\u001b[1;32m   3268\u001b[0m \u001b[43m    \u001b[49m\u001b[43mreturn_overflowing_tokens\u001b[49m\u001b[38;5;241;43m=\u001b[39;49m\u001b[43mreturn_overflowing_tokens\u001b[49m\u001b[43m,\u001b[49m\n\u001b[1;32m   3269\u001b[0m \u001b[43m    \u001b[49m\u001b[43mreturn_special_tokens_mask\u001b[49m\u001b[38;5;241;43m=\u001b[39;49m\u001b[43mreturn_special_tokens_mask\u001b[49m\u001b[43m,\u001b[49m\n\u001b[1;32m   3270\u001b[0m \u001b[43m    \u001b[49m\u001b[43mreturn_offsets_mapping\u001b[49m\u001b[38;5;241;43m=\u001b[39;49m\u001b[43mreturn_offsets_mapping\u001b[49m\u001b[43m,\u001b[49m\n\u001b[1;32m   3271\u001b[0m \u001b[43m    \u001b[49m\u001b[43mreturn_length\u001b[49m\u001b[38;5;241;43m=\u001b[39;49m\u001b[43mreturn_length\u001b[49m\u001b[43m,\u001b[49m\n\u001b[1;32m   3272\u001b[0m \u001b[43m    \u001b[49m\u001b[43mverbose\u001b[49m\u001b[38;5;241;43m=\u001b[39;49m\u001b[43mverbose\u001b[49m\u001b[43m,\u001b[49m\n\u001b[1;32m   3273\u001b[0m \u001b[43m    \u001b[49m\u001b[43msplit_special_tokens\u001b[49m\u001b[38;5;241;43m=\u001b[39;49m\u001b[43mkwargs\u001b[49m\u001b[38;5;241;43m.\u001b[39;49m\u001b[43mpop\u001b[49m\u001b[43m(\u001b[49m\u001b[38;5;124;43m\"\u001b[39;49m\u001b[38;5;124;43msplit_special_tokens\u001b[39;49m\u001b[38;5;124;43m\"\u001b[39;49m\u001b[43m,\u001b[49m\u001b[43m \u001b[49m\u001b[38;5;28;43mself\u001b[39;49m\u001b[38;5;241;43m.\u001b[39;49m\u001b[43msplit_special_tokens\u001b[49m\u001b[43m)\u001b[49m\u001b[43m,\u001b[49m\n\u001b[1;32m   3274\u001b[0m \u001b[43m    \u001b[49m\u001b[38;5;241;43m*\u001b[39;49m\u001b[38;5;241;43m*\u001b[39;49m\u001b[43mkwargs\u001b[49m\u001b[43m,\u001b[49m\n\u001b[1;32m   3275\u001b[0m \u001b[43m\u001b[49m\u001b[43m)\u001b[49m\n",
      "File \u001b[0;32m~/miniforge3/envs/multimodal/lib/python3.11/site-packages/transformers/tokenization_utils_fast.py:601\u001b[0m, in \u001b[0;36mPreTrainedTokenizerFast._encode_plus\u001b[0;34m(self, text, text_pair, add_special_tokens, padding_strategy, truncation_strategy, max_length, stride, is_split_into_words, pad_to_multiple_of, return_tensors, return_token_type_ids, return_attention_mask, return_overflowing_tokens, return_special_tokens_mask, return_offsets_mapping, return_length, verbose, split_special_tokens, **kwargs)\u001b[0m\n\u001b[1;32m    578\u001b[0m \u001b[38;5;28;01mdef\u001b[39;00m \u001b[38;5;21m_encode_plus\u001b[39m(\n\u001b[1;32m    579\u001b[0m     \u001b[38;5;28mself\u001b[39m,\n\u001b[1;32m    580\u001b[0m     text: Union[TextInput, PreTokenizedInput],\n\u001b[0;32m   (...)\u001b[0m\n\u001b[1;32m    598\u001b[0m     \u001b[38;5;241m*\u001b[39m\u001b[38;5;241m*\u001b[39mkwargs,\n\u001b[1;32m    599\u001b[0m ) \u001b[38;5;241m-\u001b[39m\u001b[38;5;241m>\u001b[39m BatchEncoding:\n\u001b[1;32m    600\u001b[0m     batched_input \u001b[38;5;241m=\u001b[39m [(text, text_pair)] \u001b[38;5;28;01mif\u001b[39;00m text_pair \u001b[38;5;28;01melse\u001b[39;00m [text]\n\u001b[0;32m--> 601\u001b[0m     batched_output \u001b[38;5;241m=\u001b[39m \u001b[38;5;28;43mself\u001b[39;49m\u001b[38;5;241;43m.\u001b[39;49m\u001b[43m_batch_encode_plus\u001b[49m\u001b[43m(\u001b[49m\n\u001b[1;32m    602\u001b[0m \u001b[43m        \u001b[49m\u001b[43mbatched_input\u001b[49m\u001b[43m,\u001b[49m\n\u001b[1;32m    603\u001b[0m \u001b[43m        \u001b[49m\u001b[43mis_split_into_words\u001b[49m\u001b[38;5;241;43m=\u001b[39;49m\u001b[43mis_split_into_words\u001b[49m\u001b[43m,\u001b[49m\n\u001b[1;32m    604\u001b[0m \u001b[43m        \u001b[49m\u001b[43madd_special_tokens\u001b[49m\u001b[38;5;241;43m=\u001b[39;49m\u001b[43madd_special_tokens\u001b[49m\u001b[43m,\u001b[49m\n\u001b[1;32m    605\u001b[0m \u001b[43m        \u001b[49m\u001b[43mpadding_strategy\u001b[49m\u001b[38;5;241;43m=\u001b[39;49m\u001b[43mpadding_strategy\u001b[49m\u001b[43m,\u001b[49m\n\u001b[1;32m    606\u001b[0m \u001b[43m        \u001b[49m\u001b[43mtruncation_strategy\u001b[49m\u001b[38;5;241;43m=\u001b[39;49m\u001b[43mtruncation_strategy\u001b[49m\u001b[43m,\u001b[49m\n\u001b[1;32m    607\u001b[0m \u001b[43m        \u001b[49m\u001b[43mmax_length\u001b[49m\u001b[38;5;241;43m=\u001b[39;49m\u001b[43mmax_length\u001b[49m\u001b[43m,\u001b[49m\n\u001b[1;32m    608\u001b[0m \u001b[43m        \u001b[49m\u001b[43mstride\u001b[49m\u001b[38;5;241;43m=\u001b[39;49m\u001b[43mstride\u001b[49m\u001b[43m,\u001b[49m\n\u001b[1;32m    609\u001b[0m \u001b[43m        \u001b[49m\u001b[43mpad_to_multiple_of\u001b[49m\u001b[38;5;241;43m=\u001b[39;49m\u001b[43mpad_to_multiple_of\u001b[49m\u001b[43m,\u001b[49m\n\u001b[1;32m    610\u001b[0m \u001b[43m        \u001b[49m\u001b[43mreturn_tensors\u001b[49m\u001b[38;5;241;43m=\u001b[39;49m\u001b[43mreturn_tensors\u001b[49m\u001b[43m,\u001b[49m\n\u001b[1;32m    611\u001b[0m \u001b[43m        \u001b[49m\u001b[43mreturn_token_type_ids\u001b[49m\u001b[38;5;241;43m=\u001b[39;49m\u001b[43mreturn_token_type_ids\u001b[49m\u001b[43m,\u001b[49m\n\u001b[1;32m    612\u001b[0m \u001b[43m        \u001b[49m\u001b[43mreturn_attention_mask\u001b[49m\u001b[38;5;241;43m=\u001b[39;49m\u001b[43mreturn_attention_mask\u001b[49m\u001b[43m,\u001b[49m\n\u001b[1;32m    613\u001b[0m \u001b[43m        \u001b[49m\u001b[43mreturn_overflowing_tokens\u001b[49m\u001b[38;5;241;43m=\u001b[39;49m\u001b[43mreturn_overflowing_tokens\u001b[49m\u001b[43m,\u001b[49m\n\u001b[1;32m    614\u001b[0m \u001b[43m        \u001b[49m\u001b[43mreturn_special_tokens_mask\u001b[49m\u001b[38;5;241;43m=\u001b[39;49m\u001b[43mreturn_special_tokens_mask\u001b[49m\u001b[43m,\u001b[49m\n\u001b[1;32m    615\u001b[0m \u001b[43m        \u001b[49m\u001b[43mreturn_offsets_mapping\u001b[49m\u001b[38;5;241;43m=\u001b[39;49m\u001b[43mreturn_offsets_mapping\u001b[49m\u001b[43m,\u001b[49m\n\u001b[1;32m    616\u001b[0m \u001b[43m        \u001b[49m\u001b[43mreturn_length\u001b[49m\u001b[38;5;241;43m=\u001b[39;49m\u001b[43mreturn_length\u001b[49m\u001b[43m,\u001b[49m\n\u001b[1;32m    617\u001b[0m \u001b[43m        \u001b[49m\u001b[43mverbose\u001b[49m\u001b[38;5;241;43m=\u001b[39;49m\u001b[43mverbose\u001b[49m\u001b[43m,\u001b[49m\n\u001b[1;32m    618\u001b[0m \u001b[43m        \u001b[49m\u001b[43msplit_special_tokens\u001b[49m\u001b[38;5;241;43m=\u001b[39;49m\u001b[43msplit_special_tokens\u001b[49m\u001b[43m,\u001b[49m\n\u001b[1;32m    619\u001b[0m \u001b[43m        \u001b[49m\u001b[38;5;241;43m*\u001b[39;49m\u001b[38;5;241;43m*\u001b[39;49m\u001b[43mkwargs\u001b[49m\u001b[43m,\u001b[49m\n\u001b[1;32m    620\u001b[0m \u001b[43m    \u001b[49m\u001b[43m)\u001b[49m\n\u001b[1;32m    622\u001b[0m     \u001b[38;5;66;03m# Return tensor is None, then we can remove the leading batch axis\u001b[39;00m\n\u001b[1;32m    623\u001b[0m     \u001b[38;5;66;03m# Overflowing tokens are returned as a batch of output so we keep them in this case\u001b[39;00m\n\u001b[1;32m    624\u001b[0m     \u001b[38;5;28;01mif\u001b[39;00m return_tensors \u001b[38;5;129;01mis\u001b[39;00m \u001b[38;5;28;01mNone\u001b[39;00m \u001b[38;5;129;01mand\u001b[39;00m \u001b[38;5;129;01mnot\u001b[39;00m return_overflowing_tokens:\n",
      "File \u001b[0;32m~/miniforge3/envs/multimodal/lib/python3.11/site-packages/transformers/tokenization_utils_fast.py:528\u001b[0m, in \u001b[0;36mPreTrainedTokenizerFast._batch_encode_plus\u001b[0;34m(self, batch_text_or_text_pairs, add_special_tokens, padding_strategy, truncation_strategy, max_length, stride, is_split_into_words, pad_to_multiple_of, return_tensors, return_token_type_ids, return_attention_mask, return_overflowing_tokens, return_special_tokens_mask, return_offsets_mapping, return_length, verbose, split_special_tokens)\u001b[0m\n\u001b[1;32m    525\u001b[0m \u001b[38;5;28;01mif\u001b[39;00m \u001b[38;5;28mself\u001b[39m\u001b[38;5;241m.\u001b[39m_tokenizer\u001b[38;5;241m.\u001b[39mencode_special_tokens \u001b[38;5;241m!=\u001b[39m split_special_tokens:\n\u001b[1;32m    526\u001b[0m     \u001b[38;5;28mself\u001b[39m\u001b[38;5;241m.\u001b[39m_tokenizer\u001b[38;5;241m.\u001b[39mencode_special_tokens \u001b[38;5;241m=\u001b[39m split_special_tokens\n\u001b[0;32m--> 528\u001b[0m encodings \u001b[38;5;241m=\u001b[39m \u001b[38;5;28;43mself\u001b[39;49m\u001b[38;5;241;43m.\u001b[39;49m\u001b[43m_tokenizer\u001b[49m\u001b[38;5;241;43m.\u001b[39;49m\u001b[43mencode_batch\u001b[49m\u001b[43m(\u001b[49m\n\u001b[1;32m    529\u001b[0m \u001b[43m    \u001b[49m\u001b[43mbatch_text_or_text_pairs\u001b[49m\u001b[43m,\u001b[49m\n\u001b[1;32m    530\u001b[0m \u001b[43m    \u001b[49m\u001b[43madd_special_tokens\u001b[49m\u001b[38;5;241;43m=\u001b[39;49m\u001b[43madd_special_tokens\u001b[49m\u001b[43m,\u001b[49m\n\u001b[1;32m    531\u001b[0m \u001b[43m    \u001b[49m\u001b[43mis_pretokenized\u001b[49m\u001b[38;5;241;43m=\u001b[39;49m\u001b[43mis_split_into_words\u001b[49m\u001b[43m,\u001b[49m\n\u001b[1;32m    532\u001b[0m \u001b[43m\u001b[49m\u001b[43m)\u001b[49m\n\u001b[1;32m    534\u001b[0m \u001b[38;5;66;03m# Convert encoding to dict\u001b[39;00m\n\u001b[1;32m    535\u001b[0m \u001b[38;5;66;03m# `Tokens` has type: Tuple[\u001b[39;00m\n\u001b[1;32m    536\u001b[0m \u001b[38;5;66;03m#                       List[Dict[str, List[List[int]]]] or List[Dict[str, 2D-Tensor]],\u001b[39;00m\n\u001b[1;32m    537\u001b[0m \u001b[38;5;66;03m#                       List[EncodingFast]\u001b[39;00m\n\u001b[1;32m    538\u001b[0m \u001b[38;5;66;03m#                    ]\u001b[39;00m\n\u001b[1;32m    539\u001b[0m \u001b[38;5;66;03m# with nested dimensions corresponding to batch, overflows, sequence length\u001b[39;00m\n\u001b[1;32m    540\u001b[0m tokens_and_encodings \u001b[38;5;241m=\u001b[39m [\n\u001b[1;32m    541\u001b[0m     \u001b[38;5;28mself\u001b[39m\u001b[38;5;241m.\u001b[39m_convert_encoding(\n\u001b[1;32m    542\u001b[0m         encoding\u001b[38;5;241m=\u001b[39mencoding,\n\u001b[0;32m   (...)\u001b[0m\n\u001b[1;32m    551\u001b[0m     \u001b[38;5;28;01mfor\u001b[39;00m encoding \u001b[38;5;129;01min\u001b[39;00m encodings\n\u001b[1;32m    552\u001b[0m ]\n",
      "\u001b[0;31mKeyboardInterrupt\u001b[0m: "
     ]
    }
   ],
   "source": [
    "file_path = \"config/default/climate.yaml\"\n",
    "# Load the existing YAML file\n",
    "with open(file_path, 'r') as file:\n",
    "    config = yaml.safe_load(file)\n",
    "\n",
    "# Iterate over input_window and output_window from 1 to 7\n",
    "for i in range(1, 8):\n",
    "    # Update the values in the config\n",
    "    config['dataset']['input_window'] = i\n",
    "    config['dataset']['output_window'] = i\n",
    "    config['dataset']['hf_repo'] = f\"Howard881010/climate-{i}day-inContext\"\n",
    "    \n",
    "    # Save the updated configuration back to the original file\n",
    "    with open(file_path, 'w') as outfile:\n",
    "        yaml.dump(config, outfile, default_flow_style=False)\n",
    "    \n",
    "    print(f\"Saved configuration with input_window={i} and output_window={i}.\")\n",
    "    climate_cfg = load_config('config/default/climate.yaml')\n",
    "\n",
    "    processor = ClimateDataProcessor(climate_cfg['dataset'])\n",
    "    climate_dataset = processor.get_dataset()\n",
    "    max_length_1 = get_max_token_size(climate_dataset, 'input_text_time', 'output_text_time', 'instruction-2')\n",
    "    max_length_2 = get_max_token_size(climate_dataset, 'input_text_time', 'output_time', 'instruction-4')\n",
    "\n",
    "    # processor.push_to_huggingface(climate_dataset)\n",
    "    print(max_length_1, max_length_2)\n"
   ]
  },
  {
   "cell_type": "code",
   "execution_count": null,
   "metadata": {},
   "outputs": [],
   "source": [
    "# Load the dataset\n",
    "for i in range(1, 8):\n",
    "    data = load_dataset(f'Howard881010/climate-{i}day-finetuned')\n",
    "\n",
    "    # Initialize dictionaries to hold processed data\n",
    "    data_all = {'train': [], 'test': [], 'valid': []}\n",
    "\n",
    "    # Process each split\n",
    "    for split in ['train', 'test', 'valid']:\n",
    "        data_split = pd.DataFrame(data[split])\n",
    "        \n",
    "        t2t = data_split[['input_text', 'output_text', 'instruction-1']].rename(columns={'instruction-1': 'instruction', 'input_text': 'input', 'output_text': 'output'})\n",
    "        tT2tT = data_split[['input_text_time', 'output_text_time', 'instruction-2']].rename(columns={'instruction-2': 'instruction', 'input_text_time': 'input', 'output_text_time': 'output'})\n",
    "        tT2t = data_split[['input_text_time', 'output_text', 'instruction-3']].rename(columns={'instruction-3': 'instruction', 'input_text_time': 'input', 'output_text': 'output'})\n",
    "        tT2T = data_split[['input_text_time', 'output_time', 'instruction-4']].rename(columns={'instruction-4': 'instruction', 'input_text_time': 'input', 'output_time': 'output'})\n",
    "        \n",
    "        # Append the transformed data for each split\n",
    "        data_all[split].append(t2t)\n",
    "        data_all[split].append(tT2tT)\n",
    "        data_all[split].append(tT2t)\n",
    "        data_all[split].append(tT2T)\n",
    "        \n",
    "        # Concatenate all processed DataFrames for the current split\n",
    "        data_all[split] = pd.concat(data_all[split])\n",
    "\n",
    "    # Convert each processed DataFrame back to Hugging Face Dataset format\n",
    "    dataset_dict = DatasetDict({\n",
    "        'train': Dataset.from_pandas(data_all['train']),\n",
    "        'test': Dataset.from_pandas(data_all['test']),\n",
    "        'valid': Dataset.from_pandas(data_all['valid'])\n",
    "    })\n",
    "\n",
    "    # Push the processed dataset to Hugging Face Hub\n",
    "    dataset_dict.push_to_hub(f'Howard881010/climate-{i}day')\n"
   ]
  },
  {
   "cell_type": "markdown",
   "metadata": {},
   "source": [
    "# For Medical dataset"
   ]
  },
  {
   "cell_type": "code",
   "execution_count": 2,
   "metadata": {},
   "outputs": [
    {
     "name": "stdout",
     "output_type": "stream",
     "text": [
      "Saved configuration with input_window=1 and output_window=1.\n",
      "Given the medical information of the first 1 day, predict the medical information of the next 1 day. Output the result strictly in the following JSON format and no additional text:\n",
      "{\n",
      "    \"day_2_date\": \"YYYY-MM-DD\",\n",
      "    \"day_2_medical_notes\": \"Medical description\"\n",
      "}\n",
      "Given the medical information of the first 1 day, predict the medical information of the next 1 day. Output the result strictly in the following JSON format and no additional text:\n",
      "{\n",
      "    \"day_2_date\": \"YYYY-MM-DD\",\n",
      "    \"day_2_medical_notes\": \"Medical description\",\n",
      "    \"day_2_Heart_Rate\": \"A Float Number\"\n",
      "}\n",
      "Given the medical information of the first 1 day, predict the medical information of the next 1 day. Output the result strictly in the following JSON format and no additional text:\n",
      "{\n",
      "    \"day_2_date\": \"YYYY-MM-DD\",\n",
      "    \"day_2_medical_notes\": \"Medical description\"\n",
      "}\n",
      "Given the medical information of the first 1 day, predict the medical information of the next 1 day. Output the result strictly in the following JSON format and no additional text:\n",
      "{\n",
      "    \"day_2_date\": \"YYYY-MM-DD\",\n",
      "    \"day_2_Heart_Rate\": \"A Float Number\"\n",
      "}\n"
     ]
    },
    {
     "data": {
      "application/vnd.jupyter.widget-view+json": {
       "model_id": "408cfcf7a1fe4ec8877b3a5c08f05e16",
       "version_major": 2,
       "version_minor": 0
      },
      "text/plain": [
       "Uploading the dataset shards:   0%|          | 0/1 [00:00<?, ?it/s]"
      ]
     },
     "metadata": {},
     "output_type": "display_data"
    },
    {
     "data": {
      "application/vnd.jupyter.widget-view+json": {
       "model_id": "8fff8851ffc54a3a9530c9c60f3b1d20",
       "version_major": 2,
       "version_minor": 0
      },
      "text/plain": [
       "Creating parquet from Arrow format:   0%|          | 0/7 [00:00<?, ?ba/s]"
      ]
     },
     "metadata": {},
     "output_type": "display_data"
    },
    {
     "data": {
      "application/vnd.jupyter.widget-view+json": {
       "model_id": "c53831d2ec24436eb83cb0bd790716ec",
       "version_major": 2,
       "version_minor": 0
      },
      "text/plain": [
       "Uploading the dataset shards:   0%|          | 0/1 [00:00<?, ?it/s]"
      ]
     },
     "metadata": {},
     "output_type": "display_data"
    },
    {
     "data": {
      "application/vnd.jupyter.widget-view+json": {
       "model_id": "663e9430f3c9452aa3939e7de5a5df0c",
       "version_major": 2,
       "version_minor": 0
      },
      "text/plain": [
       "Creating parquet from Arrow format:   0%|          | 0/1 [00:00<?, ?ba/s]"
      ]
     },
     "metadata": {},
     "output_type": "display_data"
    },
    {
     "data": {
      "application/vnd.jupyter.widget-view+json": {
       "model_id": "fff274fbf2c143398fc1b97351bf8673",
       "version_major": 2,
       "version_minor": 0
      },
      "text/plain": [
       "Uploading the dataset shards:   0%|          | 0/1 [00:00<?, ?it/s]"
      ]
     },
     "metadata": {},
     "output_type": "display_data"
    },
    {
     "data": {
      "application/vnd.jupyter.widget-view+json": {
       "model_id": "e02e77441b2542b6b33f02545f177ddf",
       "version_major": 2,
       "version_minor": 0
      },
      "text/plain": [
       "Creating parquet from Arrow format:   0%|          | 0/1 [00:00<?, ?ba/s]"
      ]
     },
     "metadata": {},
     "output_type": "display_data"
    },
    {
     "name": "stdout",
     "output_type": "stream",
     "text": [
      "1232 768\n",
      "Saved configuration with input_window=2 and output_window=2.\n",
      "Given the medical information of the first 2 day, predict the medical information of the next 2 day. Output the result strictly in the following JSON format and no additional text:\n",
      "{\n",
      "    \"day_3_date\": \"YYYY-MM-DD\",\n",
      "    \"day_3_medical_notes\": \"Medical description\",\n",
      "    \"day_4_date\": \"YYYY-MM-DD\",\n",
      "    \"day_4_medical_notes\": \"Medical description\"\n",
      "}\n",
      "Given the medical information of the first 2 day, predict the medical information of the next 2 day. Output the result strictly in the following JSON format and no additional text:\n",
      "{\n",
      "    \"day_3_date\": \"YYYY-MM-DD\",\n",
      "    \"day_3_medical_notes\": \"Medical description\",\n",
      "    \"day_3_Heart_Rate\": \"A Float Number\",\n",
      "    \"day_4_date\": \"YYYY-MM-DD\",\n",
      "    \"day_4_medical_notes\": \"Medical description\",\n",
      "    \"day_4_Heart_Rate\": \"A Float Number\"\n",
      "}\n",
      "Given the medical information of the first 2 day, predict the medical information of the next 2 day. Output the result strictly in the following JSON format and no additional text:\n",
      "{\n",
      "    \"day_3_date\": \"YYYY-MM-DD\",\n",
      "    \"day_3_medical_notes\": \"Medical description\",\n",
      "    \"day_4_date\": \"YYYY-MM-DD\",\n",
      "    \"day_4_medical_notes\": \"Medical description\"\n",
      "}\n",
      "Given the medical information of the first 2 day, predict the medical information of the next 2 day. Output the result strictly in the following JSON format and no additional text:\n",
      "{\n",
      "    \"day_3_date\": \"YYYY-MM-DD\",\n",
      "    \"day_3_Heart_Rate\": \"A Float Number\",\n",
      "    \"day_4_date\": \"YYYY-MM-DD\",\n",
      "    \"day_4_Heart_Rate\": \"A Float Number\"\n",
      "}\n"
     ]
    },
    {
     "data": {
      "application/vnd.jupyter.widget-view+json": {
       "model_id": "252f106f327340bfafdc2708e29fb75c",
       "version_major": 2,
       "version_minor": 0
      },
      "text/plain": [
       "Uploading the dataset shards:   0%|          | 0/1 [00:00<?, ?it/s]"
      ]
     },
     "metadata": {},
     "output_type": "display_data"
    },
    {
     "data": {
      "application/vnd.jupyter.widget-view+json": {
       "model_id": "6c28331d8b7a4436af4a93dba469b8c4",
       "version_major": 2,
       "version_minor": 0
      },
      "text/plain": [
       "Creating parquet from Arrow format:   0%|          | 0/6 [00:00<?, ?ba/s]"
      ]
     },
     "metadata": {},
     "output_type": "display_data"
    },
    {
     "data": {
      "application/vnd.jupyter.widget-view+json": {
       "model_id": "44165a60e4eb46ba8be1ab205f11c11c",
       "version_major": 2,
       "version_minor": 0
      },
      "text/plain": [
       "Uploading the dataset shards:   0%|          | 0/1 [00:00<?, ?it/s]"
      ]
     },
     "metadata": {},
     "output_type": "display_data"
    },
    {
     "data": {
      "application/vnd.jupyter.widget-view+json": {
       "model_id": "bbeb6700c052432383f0b0ab71dde557",
       "version_major": 2,
       "version_minor": 0
      },
      "text/plain": [
       "Creating parquet from Arrow format:   0%|          | 0/1 [00:00<?, ?ba/s]"
      ]
     },
     "metadata": {},
     "output_type": "display_data"
    },
    {
     "data": {
      "application/vnd.jupyter.widget-view+json": {
       "model_id": "67c9904ef2bd4e0f84864ec4a40e53c9",
       "version_major": 2,
       "version_minor": 0
      },
      "text/plain": [
       "Uploading the dataset shards:   0%|          | 0/1 [00:00<?, ?it/s]"
      ]
     },
     "metadata": {},
     "output_type": "display_data"
    },
    {
     "data": {
      "application/vnd.jupyter.widget-view+json": {
       "model_id": "8f0e54ef251141a8964c93632dc8f380",
       "version_major": 2,
       "version_minor": 0
      },
      "text/plain": [
       "Creating parquet from Arrow format:   0%|          | 0/1 [00:00<?, ?ba/s]"
      ]
     },
     "metadata": {},
     "output_type": "display_data"
    },
    {
     "name": "stdout",
     "output_type": "stream",
     "text": [
      "2097 1306\n",
      "Saved configuration with input_window=3 and output_window=3.\n",
      "Given the medical information of the first 3 day, predict the medical information of the next 3 day. Output the result strictly in the following JSON format and no additional text:\n",
      "{\n",
      "    \"day_4_date\": \"YYYY-MM-DD\",\n",
      "    \"day_4_medical_notes\": \"Medical description\",\n",
      "    \"day_5_date\": \"YYYY-MM-DD\",\n",
      "    \"day_5_medical_notes\": \"Medical description\",\n",
      "    \"day_6_date\": \"YYYY-MM-DD\",\n",
      "    \"day_6_medical_notes\": \"Medical description\"\n",
      "}\n",
      "Given the medical information of the first 3 day, predict the medical information of the next 3 day. Output the result strictly in the following JSON format and no additional text:\n",
      "{\n",
      "    \"day_4_date\": \"YYYY-MM-DD\",\n",
      "    \"day_4_medical_notes\": \"Medical description\",\n",
      "    \"day_4_Heart_Rate\": \"A Float Number\",\n",
      "    \"day_5_date\": \"YYYY-MM-DD\",\n",
      "    \"day_5_medical_notes\": \"Medical description\",\n",
      "    \"day_5_Heart_Rate\": \"A Float Number\",\n",
      "    \"day_6_date\": \"YYYY-MM-DD\",\n",
      "    \"day_6_medical_notes\": \"Medical description\",\n",
      "    \"day_6_Heart_Rate\": \"A Float Number\"\n",
      "}\n",
      "Given the medical information of the first 3 day, predict the medical information of the next 3 day. Output the result strictly in the following JSON format and no additional text:\n",
      "{\n",
      "    \"day_4_date\": \"YYYY-MM-DD\",\n",
      "    \"day_4_medical_notes\": \"Medical description\",\n",
      "    \"day_5_date\": \"YYYY-MM-DD\",\n",
      "    \"day_5_medical_notes\": \"Medical description\",\n",
      "    \"day_6_date\": \"YYYY-MM-DD\",\n",
      "    \"day_6_medical_notes\": \"Medical description\"\n",
      "}\n",
      "Given the medical information of the first 3 day, predict the medical information of the next 3 day. Output the result strictly in the following JSON format and no additional text:\n",
      "{\n",
      "    \"day_4_date\": \"YYYY-MM-DD\",\n",
      "    \"day_4_Heart_Rate\": \"A Float Number\",\n",
      "    \"day_5_date\": \"YYYY-MM-DD\",\n",
      "    \"day_5_Heart_Rate\": \"A Float Number\",\n",
      "    \"day_6_date\": \"YYYY-MM-DD\",\n",
      "    \"day_6_Heart_Rate\": \"A Float Number\"\n",
      "}\n"
     ]
    },
    {
     "data": {
      "application/vnd.jupyter.widget-view+json": {
       "model_id": "5ca61c7d59b7452c8834ae1c349eb12f",
       "version_major": 2,
       "version_minor": 0
      },
      "text/plain": [
       "Uploading the dataset shards:   0%|          | 0/1 [00:00<?, ?it/s]"
      ]
     },
     "metadata": {},
     "output_type": "display_data"
    },
    {
     "data": {
      "application/vnd.jupyter.widget-view+json": {
       "model_id": "fc45eb81dd914a8f8699b9ef09a9a3ec",
       "version_major": 2,
       "version_minor": 0
      },
      "text/plain": [
       "Creating parquet from Arrow format:   0%|          | 0/6 [00:00<?, ?ba/s]"
      ]
     },
     "metadata": {},
     "output_type": "display_data"
    },
    {
     "data": {
      "application/vnd.jupyter.widget-view+json": {
       "model_id": "b2ba124f536641918d5d4d3022c66632",
       "version_major": 2,
       "version_minor": 0
      },
      "text/plain": [
       "Uploading the dataset shards:   0%|          | 0/1 [00:00<?, ?it/s]"
      ]
     },
     "metadata": {},
     "output_type": "display_data"
    },
    {
     "data": {
      "application/vnd.jupyter.widget-view+json": {
       "model_id": "c6789b0b5425401487c6ae58f97f46b3",
       "version_major": 2,
       "version_minor": 0
      },
      "text/plain": [
       "Creating parquet from Arrow format:   0%|          | 0/1 [00:00<?, ?ba/s]"
      ]
     },
     "metadata": {},
     "output_type": "display_data"
    },
    {
     "data": {
      "application/vnd.jupyter.widget-view+json": {
       "model_id": "1c481bd1b63e4b6296a09fe36a3d4db1",
       "version_major": 2,
       "version_minor": 0
      },
      "text/plain": [
       "Uploading the dataset shards:   0%|          | 0/1 [00:00<?, ?it/s]"
      ]
     },
     "metadata": {},
     "output_type": "display_data"
    },
    {
     "data": {
      "application/vnd.jupyter.widget-view+json": {
       "model_id": "86bd0fc617c34512b53ae95b8a0e042e",
       "version_major": 2,
       "version_minor": 0
      },
      "text/plain": [
       "Creating parquet from Arrow format:   0%|          | 0/1 [00:00<?, ?ba/s]"
      ]
     },
     "metadata": {},
     "output_type": "display_data"
    },
    {
     "name": "stdout",
     "output_type": "stream",
     "text": [
      "2915 1827\n",
      "Saved configuration with input_window=4 and output_window=4.\n",
      "Given the medical information of the first 4 day, predict the medical information of the next 4 day. Output the result strictly in the following JSON format and no additional text:\n",
      "{\n",
      "    \"day_5_date\": \"YYYY-MM-DD\",\n",
      "    \"day_5_medical_notes\": \"Medical description\",\n",
      "    \"day_6_date\": \"YYYY-MM-DD\",\n",
      "    \"day_6_medical_notes\": \"Medical description\",\n",
      "    \"day_7_date\": \"YYYY-MM-DD\",\n",
      "    \"day_7_medical_notes\": \"Medical description\",\n",
      "    \"day_8_date\": \"YYYY-MM-DD\",\n",
      "    \"day_8_medical_notes\": \"Medical description\"\n",
      "}\n",
      "Given the medical information of the first 4 day, predict the medical information of the next 4 day. Output the result strictly in the following JSON format and no additional text:\n",
      "{\n",
      "    \"day_5_date\": \"YYYY-MM-DD\",\n",
      "    \"day_5_medical_notes\": \"Medical description\",\n",
      "    \"day_5_Heart_Rate\": \"A Float Number\",\n",
      "    \"day_6_date\": \"YYYY-MM-DD\",\n",
      "    \"day_6_medical_notes\": \"Medical description\",\n",
      "    \"day_6_Heart_Rate\": \"A Float Number\",\n",
      "    \"day_7_date\": \"YYYY-MM-DD\",\n",
      "    \"day_7_medical_notes\": \"Medical description\",\n",
      "    \"day_7_Heart_Rate\": \"A Float Number\",\n",
      "    \"day_8_date\": \"YYYY-MM-DD\",\n",
      "    \"day_8_medical_notes\": \"Medical description\",\n",
      "    \"day_8_Heart_Rate\": \"A Float Number\"\n",
      "}\n",
      "Given the medical information of the first 4 day, predict the medical information of the next 4 day. Output the result strictly in the following JSON format and no additional text:\n",
      "{\n",
      "    \"day_5_date\": \"YYYY-MM-DD\",\n",
      "    \"day_5_medical_notes\": \"Medical description\",\n",
      "    \"day_6_date\": \"YYYY-MM-DD\",\n",
      "    \"day_6_medical_notes\": \"Medical description\",\n",
      "    \"day_7_date\": \"YYYY-MM-DD\",\n",
      "    \"day_7_medical_notes\": \"Medical description\",\n",
      "    \"day_8_date\": \"YYYY-MM-DD\",\n",
      "    \"day_8_medical_notes\": \"Medical description\"\n",
      "}\n",
      "Given the medical information of the first 4 day, predict the medical information of the next 4 day. Output the result strictly in the following JSON format and no additional text:\n",
      "{\n",
      "    \"day_5_date\": \"YYYY-MM-DD\",\n",
      "    \"day_5_Heart_Rate\": \"A Float Number\",\n",
      "    \"day_6_date\": \"YYYY-MM-DD\",\n",
      "    \"day_6_Heart_Rate\": \"A Float Number\",\n",
      "    \"day_7_date\": \"YYYY-MM-DD\",\n",
      "    \"day_7_Heart_Rate\": \"A Float Number\",\n",
      "    \"day_8_date\": \"YYYY-MM-DD\",\n",
      "    \"day_8_Heart_Rate\": \"A Float Number\"\n",
      "}\n"
     ]
    },
    {
     "data": {
      "application/vnd.jupyter.widget-view+json": {
       "model_id": "955ee0b970c443c29b0b69d309cedad3",
       "version_major": 2,
       "version_minor": 0
      },
      "text/plain": [
       "Uploading the dataset shards:   0%|          | 0/1 [00:00<?, ?it/s]"
      ]
     },
     "metadata": {},
     "output_type": "display_data"
    },
    {
     "data": {
      "application/vnd.jupyter.widget-view+json": {
       "model_id": "433f4ff5dad6401983209516632f67dc",
       "version_major": 2,
       "version_minor": 0
      },
      "text/plain": [
       "Creating parquet from Arrow format:   0%|          | 0/6 [00:00<?, ?ba/s]"
      ]
     },
     "metadata": {},
     "output_type": "display_data"
    },
    {
     "data": {
      "application/vnd.jupyter.widget-view+json": {
       "model_id": "9a90fcd18adc4f8db46f0091e11b6c1c",
       "version_major": 2,
       "version_minor": 0
      },
      "text/plain": [
       "Uploading the dataset shards:   0%|          | 0/1 [00:00<?, ?it/s]"
      ]
     },
     "metadata": {},
     "output_type": "display_data"
    },
    {
     "data": {
      "application/vnd.jupyter.widget-view+json": {
       "model_id": "7b6b98e3a3be4a29ae32e4c9d75c3cb7",
       "version_major": 2,
       "version_minor": 0
      },
      "text/plain": [
       "Creating parquet from Arrow format:   0%|          | 0/1 [00:00<?, ?ba/s]"
      ]
     },
     "metadata": {},
     "output_type": "display_data"
    },
    {
     "data": {
      "application/vnd.jupyter.widget-view+json": {
       "model_id": "a1f376197e484fedaba83bba3b729463",
       "version_major": 2,
       "version_minor": 0
      },
      "text/plain": [
       "Uploading the dataset shards:   0%|          | 0/1 [00:00<?, ?it/s]"
      ]
     },
     "metadata": {},
     "output_type": "display_data"
    },
    {
     "data": {
      "application/vnd.jupyter.widget-view+json": {
       "model_id": "f2a35fd47554498abd96c8eaa8ed3a04",
       "version_major": 2,
       "version_minor": 0
      },
      "text/plain": [
       "Creating parquet from Arrow format:   0%|          | 0/1 [00:00<?, ?ba/s]"
      ]
     },
     "metadata": {},
     "output_type": "display_data"
    },
    {
     "name": "stdout",
     "output_type": "stream",
     "text": [
      "3713 2245\n",
      "Saved configuration with input_window=5 and output_window=5.\n",
      "Given the medical information of the first 5 day, predict the medical information of the next 5 day. Output the result strictly in the following JSON format and no additional text:\n",
      "{\n",
      "    \"day_6_date\": \"YYYY-MM-DD\",\n",
      "    \"day_6_medical_notes\": \"Medical description\",\n",
      "    \"day_7_date\": \"YYYY-MM-DD\",\n",
      "    \"day_7_medical_notes\": \"Medical description\",\n",
      "    \"day_8_date\": \"YYYY-MM-DD\",\n",
      "    \"day_8_medical_notes\": \"Medical description\",\n",
      "    \"day_9_date\": \"YYYY-MM-DD\",\n",
      "    \"day_9_medical_notes\": \"Medical description\",\n",
      "    \"day_10_date\": \"YYYY-MM-DD\",\n",
      "    \"day_10_medical_notes\": \"Medical description\"\n",
      "}\n",
      "Given the medical information of the first 5 day, predict the medical information of the next 5 day. Output the result strictly in the following JSON format and no additional text:\n",
      "{\n",
      "    \"day_6_date\": \"YYYY-MM-DD\",\n",
      "    \"day_6_medical_notes\": \"Medical description\",\n",
      "    \"day_6_Heart_Rate\": \"A Float Number\",\n",
      "    \"day_7_date\": \"YYYY-MM-DD\",\n",
      "    \"day_7_medical_notes\": \"Medical description\",\n",
      "    \"day_7_Heart_Rate\": \"A Float Number\",\n",
      "    \"day_8_date\": \"YYYY-MM-DD\",\n",
      "    \"day_8_medical_notes\": \"Medical description\",\n",
      "    \"day_8_Heart_Rate\": \"A Float Number\",\n",
      "    \"day_9_date\": \"YYYY-MM-DD\",\n",
      "    \"day_9_medical_notes\": \"Medical description\",\n",
      "    \"day_9_Heart_Rate\": \"A Float Number\",\n",
      "    \"day_10_date\": \"YYYY-MM-DD\",\n",
      "    \"day_10_medical_notes\": \"Medical description\",\n",
      "    \"day_10_Heart_Rate\": \"A Float Number\"\n",
      "}\n",
      "Given the medical information of the first 5 day, predict the medical information of the next 5 day. Output the result strictly in the following JSON format and no additional text:\n",
      "{\n",
      "    \"day_6_date\": \"YYYY-MM-DD\",\n",
      "    \"day_6_medical_notes\": \"Medical description\",\n",
      "    \"day_7_date\": \"YYYY-MM-DD\",\n",
      "    \"day_7_medical_notes\": \"Medical description\",\n",
      "    \"day_8_date\": \"YYYY-MM-DD\",\n",
      "    \"day_8_medical_notes\": \"Medical description\",\n",
      "    \"day_9_date\": \"YYYY-MM-DD\",\n",
      "    \"day_9_medical_notes\": \"Medical description\",\n",
      "    \"day_10_date\": \"YYYY-MM-DD\",\n",
      "    \"day_10_medical_notes\": \"Medical description\"\n",
      "}\n",
      "Given the medical information of the first 5 day, predict the medical information of the next 5 day. Output the result strictly in the following JSON format and no additional text:\n",
      "{\n",
      "    \"day_6_date\": \"YYYY-MM-DD\",\n",
      "    \"day_6_Heart_Rate\": \"A Float Number\",\n",
      "    \"day_7_date\": \"YYYY-MM-DD\",\n",
      "    \"day_7_Heart_Rate\": \"A Float Number\",\n",
      "    \"day_8_date\": \"YYYY-MM-DD\",\n",
      "    \"day_8_Heart_Rate\": \"A Float Number\",\n",
      "    \"day_9_date\": \"YYYY-MM-DD\",\n",
      "    \"day_9_Heart_Rate\": \"A Float Number\",\n",
      "    \"day_10_date\": \"YYYY-MM-DD\",\n",
      "    \"day_10_Heart_Rate\": \"A Float Number\"\n",
      "}\n"
     ]
    },
    {
     "data": {
      "application/vnd.jupyter.widget-view+json": {
       "model_id": "890bea279f154a648dc057731760b798",
       "version_major": 2,
       "version_minor": 0
      },
      "text/plain": [
       "Uploading the dataset shards:   0%|          | 0/1 [00:00<?, ?it/s]"
      ]
     },
     "metadata": {},
     "output_type": "display_data"
    },
    {
     "data": {
      "application/vnd.jupyter.widget-view+json": {
       "model_id": "f1966c4d2abc4e19b1653fcb39d855f6",
       "version_major": 2,
       "version_minor": 0
      },
      "text/plain": [
       "Creating parquet from Arrow format:   0%|          | 0/6 [00:00<?, ?ba/s]"
      ]
     },
     "metadata": {},
     "output_type": "display_data"
    },
    {
     "data": {
      "application/vnd.jupyter.widget-view+json": {
       "model_id": "2e6edeeaf6084e3ea5fd278e6ebb6349",
       "version_major": 2,
       "version_minor": 0
      },
      "text/plain": [
       "Uploading the dataset shards:   0%|          | 0/1 [00:00<?, ?it/s]"
      ]
     },
     "metadata": {},
     "output_type": "display_data"
    },
    {
     "data": {
      "application/vnd.jupyter.widget-view+json": {
       "model_id": "fbcfb587936d499d9e3b2ee6bd8c94d9",
       "version_major": 2,
       "version_minor": 0
      },
      "text/plain": [
       "Creating parquet from Arrow format:   0%|          | 0/1 [00:00<?, ?ba/s]"
      ]
     },
     "metadata": {},
     "output_type": "display_data"
    },
    {
     "data": {
      "application/vnd.jupyter.widget-view+json": {
       "model_id": "3bab3c637b2f4aaab2948a295bf21863",
       "version_major": 2,
       "version_minor": 0
      },
      "text/plain": [
       "Uploading the dataset shards:   0%|          | 0/1 [00:00<?, ?it/s]"
      ]
     },
     "metadata": {},
     "output_type": "display_data"
    },
    {
     "data": {
      "application/vnd.jupyter.widget-view+json": {
       "model_id": "3d0bcdc44cc747e79084b51a20c2add6",
       "version_major": 2,
       "version_minor": 0
      },
      "text/plain": [
       "Creating parquet from Arrow format:   0%|          | 0/1 [00:00<?, ?ba/s]"
      ]
     },
     "metadata": {},
     "output_type": "display_data"
    },
    {
     "name": "stdout",
     "output_type": "stream",
     "text": [
      "4605 2733\n",
      "Saved configuration with input_window=6 and output_window=6.\n",
      "Given the medical information of the first 6 day, predict the medical information of the next 6 day. Output the result strictly in the following JSON format and no additional text:\n",
      "{\n",
      "    \"day_7_date\": \"YYYY-MM-DD\",\n",
      "    \"day_7_medical_notes\": \"Medical description\",\n",
      "    \"day_8_date\": \"YYYY-MM-DD\",\n",
      "    \"day_8_medical_notes\": \"Medical description\",\n",
      "    \"day_9_date\": \"YYYY-MM-DD\",\n",
      "    \"day_9_medical_notes\": \"Medical description\",\n",
      "    \"day_10_date\": \"YYYY-MM-DD\",\n",
      "    \"day_10_medical_notes\": \"Medical description\",\n",
      "    \"day_11_date\": \"YYYY-MM-DD\",\n",
      "    \"day_11_medical_notes\": \"Medical description\",\n",
      "    \"day_12_date\": \"YYYY-MM-DD\",\n",
      "    \"day_12_medical_notes\": \"Medical description\"\n",
      "}\n",
      "Given the medical information of the first 6 day, predict the medical information of the next 6 day. Output the result strictly in the following JSON format and no additional text:\n",
      "{\n",
      "    \"day_7_date\": \"YYYY-MM-DD\",\n",
      "    \"day_7_medical_notes\": \"Medical description\",\n",
      "    \"day_7_Heart_Rate\": \"A Float Number\",\n",
      "    \"day_8_date\": \"YYYY-MM-DD\",\n",
      "    \"day_8_medical_notes\": \"Medical description\",\n",
      "    \"day_8_Heart_Rate\": \"A Float Number\",\n",
      "    \"day_9_date\": \"YYYY-MM-DD\",\n",
      "    \"day_9_medical_notes\": \"Medical description\",\n",
      "    \"day_9_Heart_Rate\": \"A Float Number\",\n",
      "    \"day_10_date\": \"YYYY-MM-DD\",\n",
      "    \"day_10_medical_notes\": \"Medical description\",\n",
      "    \"day_10_Heart_Rate\": \"A Float Number\",\n",
      "    \"day_11_date\": \"YYYY-MM-DD\",\n",
      "    \"day_11_medical_notes\": \"Medical description\",\n",
      "    \"day_11_Heart_Rate\": \"A Float Number\",\n",
      "    \"day_12_date\": \"YYYY-MM-DD\",\n",
      "    \"day_12_medical_notes\": \"Medical description\",\n",
      "    \"day_12_Heart_Rate\": \"A Float Number\"\n",
      "}\n",
      "Given the medical information of the first 6 day, predict the medical information of the next 6 day. Output the result strictly in the following JSON format and no additional text:\n",
      "{\n",
      "    \"day_7_date\": \"YYYY-MM-DD\",\n",
      "    \"day_7_medical_notes\": \"Medical description\",\n",
      "    \"day_8_date\": \"YYYY-MM-DD\",\n",
      "    \"day_8_medical_notes\": \"Medical description\",\n",
      "    \"day_9_date\": \"YYYY-MM-DD\",\n",
      "    \"day_9_medical_notes\": \"Medical description\",\n",
      "    \"day_10_date\": \"YYYY-MM-DD\",\n",
      "    \"day_10_medical_notes\": \"Medical description\",\n",
      "    \"day_11_date\": \"YYYY-MM-DD\",\n",
      "    \"day_11_medical_notes\": \"Medical description\",\n",
      "    \"day_12_date\": \"YYYY-MM-DD\",\n",
      "    \"day_12_medical_notes\": \"Medical description\"\n",
      "}\n",
      "Given the medical information of the first 6 day, predict the medical information of the next 6 day. Output the result strictly in the following JSON format and no additional text:\n",
      "{\n",
      "    \"day_7_date\": \"YYYY-MM-DD\",\n",
      "    \"day_7_Heart_Rate\": \"A Float Number\",\n",
      "    \"day_8_date\": \"YYYY-MM-DD\",\n",
      "    \"day_8_Heart_Rate\": \"A Float Number\",\n",
      "    \"day_9_date\": \"YYYY-MM-DD\",\n",
      "    \"day_9_Heart_Rate\": \"A Float Number\",\n",
      "    \"day_10_date\": \"YYYY-MM-DD\",\n",
      "    \"day_10_Heart_Rate\": \"A Float Number\",\n",
      "    \"day_11_date\": \"YYYY-MM-DD\",\n",
      "    \"day_11_Heart_Rate\": \"A Float Number\",\n",
      "    \"day_12_date\": \"YYYY-MM-DD\",\n",
      "    \"day_12_Heart_Rate\": \"A Float Number\"\n",
      "}\n"
     ]
    },
    {
     "data": {
      "application/vnd.jupyter.widget-view+json": {
       "model_id": "b89041be9e794b4bba11a66c56188790",
       "version_major": 2,
       "version_minor": 0
      },
      "text/plain": [
       "Uploading the dataset shards:   0%|          | 0/1 [00:00<?, ?it/s]"
      ]
     },
     "metadata": {},
     "output_type": "display_data"
    },
    {
     "data": {
      "application/vnd.jupyter.widget-view+json": {
       "model_id": "b472f1de766240cfa11bd8fb3c29e538",
       "version_major": 2,
       "version_minor": 0
      },
      "text/plain": [
       "Creating parquet from Arrow format:   0%|          | 0/6 [00:00<?, ?ba/s]"
      ]
     },
     "metadata": {},
     "output_type": "display_data"
    },
    {
     "data": {
      "application/vnd.jupyter.widget-view+json": {
       "model_id": "7f5bda514983402395ce2c1917171622",
       "version_major": 2,
       "version_minor": 0
      },
      "text/plain": [
       "Uploading the dataset shards:   0%|          | 0/1 [00:00<?, ?it/s]"
      ]
     },
     "metadata": {},
     "output_type": "display_data"
    },
    {
     "data": {
      "application/vnd.jupyter.widget-view+json": {
       "model_id": "d390df4d6f6b432cb967d80d79630531",
       "version_major": 2,
       "version_minor": 0
      },
      "text/plain": [
       "Creating parquet from Arrow format:   0%|          | 0/1 [00:00<?, ?ba/s]"
      ]
     },
     "metadata": {},
     "output_type": "display_data"
    },
    {
     "data": {
      "application/vnd.jupyter.widget-view+json": {
       "model_id": "04038947ab5049d890b6ae1507b87c92",
       "version_major": 2,
       "version_minor": 0
      },
      "text/plain": [
       "Uploading the dataset shards:   0%|          | 0/1 [00:00<?, ?it/s]"
      ]
     },
     "metadata": {},
     "output_type": "display_data"
    },
    {
     "data": {
      "application/vnd.jupyter.widget-view+json": {
       "model_id": "7d4778eae0034d4f9df1c6d71b7cce31",
       "version_major": 2,
       "version_minor": 0
      },
      "text/plain": [
       "Creating parquet from Arrow format:   0%|          | 0/1 [00:00<?, ?ba/s]"
      ]
     },
     "metadata": {},
     "output_type": "display_data"
    },
    {
     "name": "stdout",
     "output_type": "stream",
     "text": [
      "5495 3137\n",
      "Saved configuration with input_window=7 and output_window=7.\n",
      "Given the medical information of the first 7 day, predict the medical information of the next 7 day. Output the result strictly in the following JSON format and no additional text:\n",
      "{\n",
      "    \"day_8_date\": \"YYYY-MM-DD\",\n",
      "    \"day_8_medical_notes\": \"Medical description\",\n",
      "    \"day_9_date\": \"YYYY-MM-DD\",\n",
      "    \"day_9_medical_notes\": \"Medical description\",\n",
      "    \"day_10_date\": \"YYYY-MM-DD\",\n",
      "    \"day_10_medical_notes\": \"Medical description\",\n",
      "    \"day_11_date\": \"YYYY-MM-DD\",\n",
      "    \"day_11_medical_notes\": \"Medical description\",\n",
      "    \"day_12_date\": \"YYYY-MM-DD\",\n",
      "    \"day_12_medical_notes\": \"Medical description\",\n",
      "    \"day_13_date\": \"YYYY-MM-DD\",\n",
      "    \"day_13_medical_notes\": \"Medical description\",\n",
      "    \"day_14_date\": \"YYYY-MM-DD\",\n",
      "    \"day_14_medical_notes\": \"Medical description\"\n",
      "}\n",
      "Given the medical information of the first 7 day, predict the medical information of the next 7 day. Output the result strictly in the following JSON format and no additional text:\n",
      "{\n",
      "    \"day_8_date\": \"YYYY-MM-DD\",\n",
      "    \"day_8_medical_notes\": \"Medical description\",\n",
      "    \"day_8_Heart_Rate\": \"A Float Number\",\n",
      "    \"day_9_date\": \"YYYY-MM-DD\",\n",
      "    \"day_9_medical_notes\": \"Medical description\",\n",
      "    \"day_9_Heart_Rate\": \"A Float Number\",\n",
      "    \"day_10_date\": \"YYYY-MM-DD\",\n",
      "    \"day_10_medical_notes\": \"Medical description\",\n",
      "    \"day_10_Heart_Rate\": \"A Float Number\",\n",
      "    \"day_11_date\": \"YYYY-MM-DD\",\n",
      "    \"day_11_medical_notes\": \"Medical description\",\n",
      "    \"day_11_Heart_Rate\": \"A Float Number\",\n",
      "    \"day_12_date\": \"YYYY-MM-DD\",\n",
      "    \"day_12_medical_notes\": \"Medical description\",\n",
      "    \"day_12_Heart_Rate\": \"A Float Number\",\n",
      "    \"day_13_date\": \"YYYY-MM-DD\",\n",
      "    \"day_13_medical_notes\": \"Medical description\",\n",
      "    \"day_13_Heart_Rate\": \"A Float Number\",\n",
      "    \"day_14_date\": \"YYYY-MM-DD\",\n",
      "    \"day_14_medical_notes\": \"Medical description\",\n",
      "    \"day_14_Heart_Rate\": \"A Float Number\"\n",
      "}\n",
      "Given the medical information of the first 7 day, predict the medical information of the next 7 day. Output the result strictly in the following JSON format and no additional text:\n",
      "{\n",
      "    \"day_8_date\": \"YYYY-MM-DD\",\n",
      "    \"day_8_medical_notes\": \"Medical description\",\n",
      "    \"day_9_date\": \"YYYY-MM-DD\",\n",
      "    \"day_9_medical_notes\": \"Medical description\",\n",
      "    \"day_10_date\": \"YYYY-MM-DD\",\n",
      "    \"day_10_medical_notes\": \"Medical description\",\n",
      "    \"day_11_date\": \"YYYY-MM-DD\",\n",
      "    \"day_11_medical_notes\": \"Medical description\",\n",
      "    \"day_12_date\": \"YYYY-MM-DD\",\n",
      "    \"day_12_medical_notes\": \"Medical description\",\n",
      "    \"day_13_date\": \"YYYY-MM-DD\",\n",
      "    \"day_13_medical_notes\": \"Medical description\",\n",
      "    \"day_14_date\": \"YYYY-MM-DD\",\n",
      "    \"day_14_medical_notes\": \"Medical description\"\n",
      "}\n",
      "Given the medical information of the first 7 day, predict the medical information of the next 7 day. Output the result strictly in the following JSON format and no additional text:\n",
      "{\n",
      "    \"day_8_date\": \"YYYY-MM-DD\",\n",
      "    \"day_8_Heart_Rate\": \"A Float Number\",\n",
      "    \"day_9_date\": \"YYYY-MM-DD\",\n",
      "    \"day_9_Heart_Rate\": \"A Float Number\",\n",
      "    \"day_10_date\": \"YYYY-MM-DD\",\n",
      "    \"day_10_Heart_Rate\": \"A Float Number\",\n",
      "    \"day_11_date\": \"YYYY-MM-DD\",\n",
      "    \"day_11_Heart_Rate\": \"A Float Number\",\n",
      "    \"day_12_date\": \"YYYY-MM-DD\",\n",
      "    \"day_12_Heart_Rate\": \"A Float Number\",\n",
      "    \"day_13_date\": \"YYYY-MM-DD\",\n",
      "    \"day_13_Heart_Rate\": \"A Float Number\",\n",
      "    \"day_14_date\": \"YYYY-MM-DD\",\n",
      "    \"day_14_Heart_Rate\": \"A Float Number\"\n",
      "}\n"
     ]
    },
    {
     "data": {
      "application/vnd.jupyter.widget-view+json": {
       "model_id": "b966e0ae5049403598e6a5af0437ad9e",
       "version_major": 2,
       "version_minor": 0
      },
      "text/plain": [
       "Uploading the dataset shards:   0%|          | 0/1 [00:00<?, ?it/s]"
      ]
     },
     "metadata": {},
     "output_type": "display_data"
    },
    {
     "data": {
      "application/vnd.jupyter.widget-view+json": {
       "model_id": "ada8ed360e7142c69bf15af2d31ee943",
       "version_major": 2,
       "version_minor": 0
      },
      "text/plain": [
       "Creating parquet from Arrow format:   0%|          | 0/6 [00:00<?, ?ba/s]"
      ]
     },
     "metadata": {},
     "output_type": "display_data"
    },
    {
     "data": {
      "application/vnd.jupyter.widget-view+json": {
       "model_id": "e286fd846c324f119664affaa1ba996c",
       "version_major": 2,
       "version_minor": 0
      },
      "text/plain": [
       "Uploading the dataset shards:   0%|          | 0/1 [00:00<?, ?it/s]"
      ]
     },
     "metadata": {},
     "output_type": "display_data"
    },
    {
     "data": {
      "application/vnd.jupyter.widget-view+json": {
       "model_id": "9edfe132ca2446a0a2bc210b935a0c64",
       "version_major": 2,
       "version_minor": 0
      },
      "text/plain": [
       "Creating parquet from Arrow format:   0%|          | 0/1 [00:00<?, ?ba/s]"
      ]
     },
     "metadata": {},
     "output_type": "display_data"
    },
    {
     "data": {
      "application/vnd.jupyter.widget-view+json": {
       "model_id": "daa2db467f0c46c79ba2c989a95faa3c",
       "version_major": 2,
       "version_minor": 0
      },
      "text/plain": [
       "Uploading the dataset shards:   0%|          | 0/1 [00:00<?, ?it/s]"
      ]
     },
     "metadata": {},
     "output_type": "display_data"
    },
    {
     "data": {
      "application/vnd.jupyter.widget-view+json": {
       "model_id": "6671344beae94d40b077d76ecd0c220b",
       "version_major": 2,
       "version_minor": 0
      },
      "text/plain": [
       "Creating parquet from Arrow format:   0%|          | 0/1 [00:00<?, ?ba/s]"
      ]
     },
     "metadata": {},
     "output_type": "display_data"
    },
    {
     "name": "stdout",
     "output_type": "stream",
     "text": [
      "6404 3623\n"
     ]
    }
   ],
   "source": [
    "import yaml\n",
    "\n",
    "file_path = \"config/default/medical.yaml\"\n",
    "# Load the existing YAML file\n",
    "with open(file_path, 'r') as file:\n",
    "    config = yaml.safe_load(file)\n",
    "\n",
    "# Iterate over input_window and output_window from 1 to 7\n",
    "for i in range(1, 8):\n",
    "    # Update the values in the config\n",
    "    config['dataset']['input_window'] = i\n",
    "    config['dataset']['output_window'] = i\n",
    "    config['dataset']['hf_repo'] = f\"Howard881010/medical-{i}day-inContext\"\n",
    "    \n",
    "    # Save the updated configuration back to the original file\n",
    "    with open(file_path, 'w') as outfile:\n",
    "        yaml.dump(config, outfile, default_flow_style=False)\n",
    "    \n",
    "    print(f\"Saved configuration with input_window={i} and output_window={i}.\")\n",
    "    medical_cfg = load_config('config/default/medical.yaml')\n",
    "\n",
    "    processor = MedicalDataProcessor(medical_cfg['dataset'])\n",
    "    medical_dataset = processor.get_dataset()\n",
    "    max_length_1 = get_max_token_size(medical_dataset, 'input_text_time', 'output_text_time', 'instruction-2')\n",
    "    max_length_2 = get_max_token_size(medical_dataset, 'input_text_time', 'output_time', 'instruction-4')\n",
    "    processor.push_to_huggingface(medical_dataset)\n",
    "    print(max_length_1, max_length_2)"
   ]
  },
  {
   "cell_type": "code",
   "execution_count": 9,
   "metadata": {},
   "outputs": [
    {
     "data": {
      "application/vnd.jupyter.widget-view+json": {
       "model_id": "3b3c7681d90d40b08fc9e22f25cdf0a3",
       "version_major": 2,
       "version_minor": 0
      },
      "text/plain": [
       "Downloading readme:   0%|          | 0.00/1.12k [00:00<?, ?B/s]"
      ]
     },
     "metadata": {},
     "output_type": "display_data"
    },
    {
     "data": {
      "application/vnd.jupyter.widget-view+json": {
       "model_id": "5b0ae931a806456a9826f655cd463935",
       "version_major": 2,
       "version_minor": 0
      },
      "text/plain": [
       "Downloading data:   0%|          | 0.00/11.8M [00:00<?, ?B/s]"
      ]
     },
     "metadata": {},
     "output_type": "display_data"
    },
    {
     "data": {
      "application/vnd.jupyter.widget-view+json": {
       "model_id": "1121577c9af3405680c17c7ac631fae9",
       "version_major": 2,
       "version_minor": 0
      },
      "text/plain": [
       "Downloading data:   0%|          | 0.00/1.37M [00:00<?, ?B/s]"
      ]
     },
     "metadata": {},
     "output_type": "display_data"
    },
    {
     "data": {
      "application/vnd.jupyter.widget-view+json": {
       "model_id": "dae79de263bc4cb9af5cbf3223475a93",
       "version_major": 2,
       "version_minor": 0
      },
      "text/plain": [
       "Downloading data:   0%|          | 0.00/1.47M [00:00<?, ?B/s]"
      ]
     },
     "metadata": {},
     "output_type": "display_data"
    },
    {
     "data": {
      "application/vnd.jupyter.widget-view+json": {
       "model_id": "00c08431916f48828f93562a85b55fea",
       "version_major": 2,
       "version_minor": 0
      },
      "text/plain": [
       "Generating train split:   0%|          | 0/6042 [00:00<?, ? examples/s]"
      ]
     },
     "metadata": {},
     "output_type": "display_data"
    },
    {
     "data": {
      "application/vnd.jupyter.widget-view+json": {
       "model_id": "c2a48917df6f4ed18bb6a375f5307c2e",
       "version_major": 2,
       "version_minor": 0
      },
      "text/plain": [
       "Generating valid split:   0%|          | 0/751 [00:00<?, ? examples/s]"
      ]
     },
     "metadata": {},
     "output_type": "display_data"
    },
    {
     "data": {
      "application/vnd.jupyter.widget-view+json": {
       "model_id": "f1dbc6029ade4202a7eb8896b02bf8e8",
       "version_major": 2,
       "version_minor": 0
      },
      "text/plain": [
       "Generating test split:   0%|          | 0/796 [00:00<?, ? examples/s]"
      ]
     },
     "metadata": {},
     "output_type": "display_data"
    },
    {
     "data": {
      "application/vnd.jupyter.widget-view+json": {
       "model_id": "41315cc57dd547edae703051871475f4",
       "version_major": 2,
       "version_minor": 0
      },
      "text/plain": [
       "Uploading the dataset shards:   0%|          | 0/1 [00:00<?, ?it/s]"
      ]
     },
     "metadata": {},
     "output_type": "display_data"
    },
    {
     "data": {
      "application/vnd.jupyter.widget-view+json": {
       "model_id": "67b48a74d69d4a1f9718daf5bbfc3abb",
       "version_major": 2,
       "version_minor": 0
      },
      "text/plain": [
       "Creating parquet from Arrow format:   0%|          | 0/25 [00:00<?, ?ba/s]"
      ]
     },
     "metadata": {},
     "output_type": "display_data"
    },
    {
     "data": {
      "application/vnd.jupyter.widget-view+json": {
       "model_id": "cad93e16395d492389132882e54430cf",
       "version_major": 2,
       "version_minor": 0
      },
      "text/plain": [
       "Uploading the dataset shards:   0%|          | 0/1 [00:00<?, ?it/s]"
      ]
     },
     "metadata": {},
     "output_type": "display_data"
    },
    {
     "data": {
      "application/vnd.jupyter.widget-view+json": {
       "model_id": "c7a26c8fda6240f0a6c2083eb1d76392",
       "version_major": 2,
       "version_minor": 0
      },
      "text/plain": [
       "Creating parquet from Arrow format:   0%|          | 0/4 [00:00<?, ?ba/s]"
      ]
     },
     "metadata": {},
     "output_type": "display_data"
    },
    {
     "data": {
      "application/vnd.jupyter.widget-view+json": {
       "model_id": "ba815f46ff2140938d64769470f3a143",
       "version_major": 2,
       "version_minor": 0
      },
      "text/plain": [
       "Uploading the dataset shards:   0%|          | 0/1 [00:00<?, ?it/s]"
      ]
     },
     "metadata": {},
     "output_type": "display_data"
    },
    {
     "data": {
      "application/vnd.jupyter.widget-view+json": {
       "model_id": "deca7b72d20d4f5e9253da2d52cb62b5",
       "version_major": 2,
       "version_minor": 0
      },
      "text/plain": [
       "Creating parquet from Arrow format:   0%|          | 0/4 [00:00<?, ?ba/s]"
      ]
     },
     "metadata": {},
     "output_type": "display_data"
    },
    {
     "data": {
      "application/vnd.jupyter.widget-view+json": {
       "model_id": "bedd3693537b4d6c9aa73b2b005b1d64",
       "version_major": 2,
       "version_minor": 0
      },
      "text/plain": [
       "README.md:   0%|          | 0.00/710 [00:00<?, ?B/s]"
      ]
     },
     "metadata": {},
     "output_type": "display_data"
    },
    {
     "data": {
      "application/vnd.jupyter.widget-view+json": {
       "model_id": "a7187cf2eb3f433a8464fe0886d09792",
       "version_major": 2,
       "version_minor": 0
      },
      "text/plain": [
       "Downloading readme:   0%|          | 0.00/1.12k [00:00<?, ?B/s]"
      ]
     },
     "metadata": {},
     "output_type": "display_data"
    },
    {
     "data": {
      "application/vnd.jupyter.widget-view+json": {
       "model_id": "0f12db52c48542768c33d8253122e5f4",
       "version_major": 2,
       "version_minor": 0
      },
      "text/plain": [
       "Downloading data:   0%|          | 0.00/14.9M [00:00<?, ?B/s]"
      ]
     },
     "metadata": {},
     "output_type": "display_data"
    },
    {
     "data": {
      "application/vnd.jupyter.widget-view+json": {
       "model_id": "b481fcef503842aeba22915210fe5d26",
       "version_major": 2,
       "version_minor": 0
      },
      "text/plain": [
       "Downloading data:   0%|          | 0.00/1.84M [00:00<?, ?B/s]"
      ]
     },
     "metadata": {},
     "output_type": "display_data"
    },
    {
     "data": {
      "application/vnd.jupyter.widget-view+json": {
       "model_id": "308eef41e04c402285c9f5043813029d",
       "version_major": 2,
       "version_minor": 0
      },
      "text/plain": [
       "Downloading data:   0%|          | 0.00/1.94M [00:00<?, ?B/s]"
      ]
     },
     "metadata": {},
     "output_type": "display_data"
    },
    {
     "data": {
      "application/vnd.jupyter.widget-view+json": {
       "model_id": "a082ffc384484eeb831caf3fbd640729",
       "version_major": 2,
       "version_minor": 0
      },
      "text/plain": [
       "Generating train split:   0%|          | 0/5921 [00:00<?, ? examples/s]"
      ]
     },
     "metadata": {},
     "output_type": "display_data"
    },
    {
     "data": {
      "application/vnd.jupyter.widget-view+json": {
       "model_id": "a3eeb2e371b34ec095dc95b6bf05354b",
       "version_major": 2,
       "version_minor": 0
      },
      "text/plain": [
       "Generating valid split:   0%|          | 0/743 [00:00<?, ? examples/s]"
      ]
     },
     "metadata": {},
     "output_type": "display_data"
    },
    {
     "data": {
      "application/vnd.jupyter.widget-view+json": {
       "model_id": "880bb6c904b1439395bcaeb1ebe180ff",
       "version_major": 2,
       "version_minor": 0
      },
      "text/plain": [
       "Generating test split:   0%|          | 0/779 [00:00<?, ? examples/s]"
      ]
     },
     "metadata": {},
     "output_type": "display_data"
    },
    {
     "data": {
      "application/vnd.jupyter.widget-view+json": {
       "model_id": "66e1d7fc9168409c83e9b10b52e31f7c",
       "version_major": 2,
       "version_minor": 0
      },
      "text/plain": [
       "Uploading the dataset shards:   0%|          | 0/1 [00:00<?, ?it/s]"
      ]
     },
     "metadata": {},
     "output_type": "display_data"
    },
    {
     "data": {
      "application/vnd.jupyter.widget-view+json": {
       "model_id": "9ffa16c3b7f34e49b075d167346484f8",
       "version_major": 2,
       "version_minor": 0
      },
      "text/plain": [
       "Creating parquet from Arrow format:   0%|          | 0/24 [00:00<?, ?ba/s]"
      ]
     },
     "metadata": {},
     "output_type": "display_data"
    },
    {
     "data": {
      "application/vnd.jupyter.widget-view+json": {
       "model_id": "1a907f65ae5b41c9851e4a520a2d5832",
       "version_major": 2,
       "version_minor": 0
      },
      "text/plain": [
       "Uploading the dataset shards:   0%|          | 0/1 [00:00<?, ?it/s]"
      ]
     },
     "metadata": {},
     "output_type": "display_data"
    },
    {
     "data": {
      "application/vnd.jupyter.widget-view+json": {
       "model_id": "68617e05590646b993e4401b8cbc653a",
       "version_major": 2,
       "version_minor": 0
      },
      "text/plain": [
       "Creating parquet from Arrow format:   0%|          | 0/4 [00:00<?, ?ba/s]"
      ]
     },
     "metadata": {},
     "output_type": "display_data"
    },
    {
     "data": {
      "application/vnd.jupyter.widget-view+json": {
       "model_id": "53e2c7c9b8aa4762a4495de7722a0d76",
       "version_major": 2,
       "version_minor": 0
      },
      "text/plain": [
       "Uploading the dataset shards:   0%|          | 0/1 [00:00<?, ?it/s]"
      ]
     },
     "metadata": {},
     "output_type": "display_data"
    },
    {
     "data": {
      "application/vnd.jupyter.widget-view+json": {
       "model_id": "4107aa0f667547ed9859057f35af882b",
       "version_major": 2,
       "version_minor": 0
      },
      "text/plain": [
       "Creating parquet from Arrow format:   0%|          | 0/3 [00:00<?, ?ba/s]"
      ]
     },
     "metadata": {},
     "output_type": "display_data"
    },
    {
     "data": {
      "application/vnd.jupyter.widget-view+json": {
       "model_id": "eb3e3e96cdd04c2eb635a0e7f30443a7",
       "version_major": 2,
       "version_minor": 0
      },
      "text/plain": [
       "README.md:   0%|          | 0.00/710 [00:00<?, ?B/s]"
      ]
     },
     "metadata": {},
     "output_type": "display_data"
    },
    {
     "data": {
      "application/vnd.jupyter.widget-view+json": {
       "model_id": "b0674dd2624d4f27baa906f4567bedc7",
       "version_major": 2,
       "version_minor": 0
      },
      "text/plain": [
       "Downloading readme:   0%|          | 0.00/1.12k [00:00<?, ?B/s]"
      ]
     },
     "metadata": {},
     "output_type": "display_data"
    },
    {
     "data": {
      "application/vnd.jupyter.widget-view+json": {
       "model_id": "59c74b21cdb24eb7843d5f8a489f3322",
       "version_major": 2,
       "version_minor": 0
      },
      "text/plain": [
       "Downloading data:   0%|          | 0.00/17.8M [00:00<?, ?B/s]"
      ]
     },
     "metadata": {},
     "output_type": "display_data"
    },
    {
     "data": {
      "application/vnd.jupyter.widget-view+json": {
       "model_id": "87ffc63635e3436d955f2d40421d8bfc",
       "version_major": 2,
       "version_minor": 0
      },
      "text/plain": [
       "Downloading data:   0%|          | 0.00/2.30M [00:00<?, ?B/s]"
      ]
     },
     "metadata": {},
     "output_type": "display_data"
    },
    {
     "data": {
      "application/vnd.jupyter.widget-view+json": {
       "model_id": "152bcf092db44c2c9a14c77d65b82659",
       "version_major": 2,
       "version_minor": 0
      },
      "text/plain": [
       "Downloading data:   0%|          | 0.00/2.40M [00:00<?, ?B/s]"
      ]
     },
     "metadata": {},
     "output_type": "display_data"
    },
    {
     "data": {
      "application/vnd.jupyter.widget-view+json": {
       "model_id": "5fd58d59bec249cf97ac4cbcbd738a4e",
       "version_major": 2,
       "version_minor": 0
      },
      "text/plain": [
       "Generating train split:   0%|          | 0/5812 [00:00<?, ? examples/s]"
      ]
     },
     "metadata": {},
     "output_type": "display_data"
    },
    {
     "data": {
      "application/vnd.jupyter.widget-view+json": {
       "model_id": "51c60d536da841caa75b261a00b8d548",
       "version_major": 2,
       "version_minor": 0
      },
      "text/plain": [
       "Generating valid split:   0%|          | 0/729 [00:00<?, ? examples/s]"
      ]
     },
     "metadata": {},
     "output_type": "display_data"
    },
    {
     "data": {
      "application/vnd.jupyter.widget-view+json": {
       "model_id": "ec03d798f02747ee830838076f8647d4",
       "version_major": 2,
       "version_minor": 0
      },
      "text/plain": [
       "Generating test split:   0%|          | 0/756 [00:00<?, ? examples/s]"
      ]
     },
     "metadata": {},
     "output_type": "display_data"
    },
    {
     "data": {
      "application/vnd.jupyter.widget-view+json": {
       "model_id": "a2455f7d291e4a41b1dc1c70b4168465",
       "version_major": 2,
       "version_minor": 0
      },
      "text/plain": [
       "Uploading the dataset shards:   0%|          | 0/1 [00:00<?, ?it/s]"
      ]
     },
     "metadata": {},
     "output_type": "display_data"
    },
    {
     "data": {
      "application/vnd.jupyter.widget-view+json": {
       "model_id": "778e485f3c094a6ba60f8d07ecc68945",
       "version_major": 2,
       "version_minor": 0
      },
      "text/plain": [
       "Creating parquet from Arrow format:   0%|          | 0/24 [00:00<?, ?ba/s]"
      ]
     },
     "metadata": {},
     "output_type": "display_data"
    },
    {
     "data": {
      "application/vnd.jupyter.widget-view+json": {
       "model_id": "a64cadb3990243b6a4074d9d7664bd72",
       "version_major": 2,
       "version_minor": 0
      },
      "text/plain": [
       "Uploading the dataset shards:   0%|          | 0/1 [00:00<?, ?it/s]"
      ]
     },
     "metadata": {},
     "output_type": "display_data"
    },
    {
     "data": {
      "application/vnd.jupyter.widget-view+json": {
       "model_id": "a0e096a5a95c41959fcfcc67742f598b",
       "version_major": 2,
       "version_minor": 0
      },
      "text/plain": [
       "Creating parquet from Arrow format:   0%|          | 0/4 [00:00<?, ?ba/s]"
      ]
     },
     "metadata": {},
     "output_type": "display_data"
    },
    {
     "data": {
      "application/vnd.jupyter.widget-view+json": {
       "model_id": "71da4300f0b34c21ac248cd26b392de9",
       "version_major": 2,
       "version_minor": 0
      },
      "text/plain": [
       "Uploading the dataset shards:   0%|          | 0/1 [00:00<?, ?it/s]"
      ]
     },
     "metadata": {},
     "output_type": "display_data"
    },
    {
     "data": {
      "application/vnd.jupyter.widget-view+json": {
       "model_id": "0a683ec059d24df5ac94c6f6450f394a",
       "version_major": 2,
       "version_minor": 0
      },
      "text/plain": [
       "Creating parquet from Arrow format:   0%|          | 0/3 [00:00<?, ?ba/s]"
      ]
     },
     "metadata": {},
     "output_type": "display_data"
    },
    {
     "data": {
      "application/vnd.jupyter.widget-view+json": {
       "model_id": "9aa7008c80a04d59bfa6c9a683118340",
       "version_major": 2,
       "version_minor": 0
      },
      "text/plain": [
       "README.md:   0%|          | 0.00/711 [00:00<?, ?B/s]"
      ]
     },
     "metadata": {},
     "output_type": "display_data"
    },
    {
     "data": {
      "application/vnd.jupyter.widget-view+json": {
       "model_id": "aa4773b57cfc4335898438d6831f8d58",
       "version_major": 2,
       "version_minor": 0
      },
      "text/plain": [
       "Downloading readme:   0%|          | 0.00/1.12k [00:00<?, ?B/s]"
      ]
     },
     "metadata": {},
     "output_type": "display_data"
    },
    {
     "data": {
      "application/vnd.jupyter.widget-view+json": {
       "model_id": "09c3b2a8d29d468891c423faa286f97e",
       "version_major": 2,
       "version_minor": 0
      },
      "text/plain": [
       "Downloading data:   0%|          | 0.00/20.0M [00:00<?, ?B/s]"
      ]
     },
     "metadata": {},
     "output_type": "display_data"
    },
    {
     "data": {
      "application/vnd.jupyter.widget-view+json": {
       "model_id": "097394fae61846b683f95b2383bafd1a",
       "version_major": 2,
       "version_minor": 0
      },
      "text/plain": [
       "Downloading data:   0%|          | 0.00/2.62M [00:00<?, ?B/s]"
      ]
     },
     "metadata": {},
     "output_type": "display_data"
    },
    {
     "data": {
      "application/vnd.jupyter.widget-view+json": {
       "model_id": "d01d9f8f3e9548ffb5cfeb4cbfb2211a",
       "version_major": 2,
       "version_minor": 0
      },
      "text/plain": [
       "Downloading data:   0%|          | 0.00/2.78M [00:00<?, ?B/s]"
      ]
     },
     "metadata": {},
     "output_type": "display_data"
    },
    {
     "data": {
      "application/vnd.jupyter.widget-view+json": {
       "model_id": "6b1cee2d59c0459ebd81e813b55e9504",
       "version_major": 2,
       "version_minor": 0
      },
      "text/plain": [
       "Generating train split:   0%|          | 0/5692 [00:00<?, ? examples/s]"
      ]
     },
     "metadata": {},
     "output_type": "display_data"
    },
    {
     "data": {
      "application/vnd.jupyter.widget-view+json": {
       "model_id": "52a95eee87ac45d0b62199230e638813",
       "version_major": 2,
       "version_minor": 0
      },
      "text/plain": [
       "Generating valid split:   0%|          | 0/713 [00:00<?, ? examples/s]"
      ]
     },
     "metadata": {},
     "output_type": "display_data"
    },
    {
     "data": {
      "application/vnd.jupyter.widget-view+json": {
       "model_id": "a9c835a02a8e4cb7a5be2ba86a32bbcf",
       "version_major": 2,
       "version_minor": 0
      },
      "text/plain": [
       "Generating test split:   0%|          | 0/746 [00:00<?, ? examples/s]"
      ]
     },
     "metadata": {},
     "output_type": "display_data"
    },
    {
     "data": {
      "application/vnd.jupyter.widget-view+json": {
       "model_id": "061e786533e54b728777b06623c834dd",
       "version_major": 2,
       "version_minor": 0
      },
      "text/plain": [
       "Uploading the dataset shards:   0%|          | 0/1 [00:00<?, ?it/s]"
      ]
     },
     "metadata": {},
     "output_type": "display_data"
    },
    {
     "data": {
      "application/vnd.jupyter.widget-view+json": {
       "model_id": "46fc683d5bb34bbaa7423925468d2c75",
       "version_major": 2,
       "version_minor": 0
      },
      "text/plain": [
       "Creating parquet from Arrow format:   0%|          | 0/23 [00:00<?, ?ba/s]"
      ]
     },
     "metadata": {},
     "output_type": "display_data"
    },
    {
     "data": {
      "application/vnd.jupyter.widget-view+json": {
       "model_id": "de5ae2b5df0f4458a0952a51444777bf",
       "version_major": 2,
       "version_minor": 0
      },
      "text/plain": [
       "Uploading the dataset shards:   0%|          | 0/1 [00:00<?, ?it/s]"
      ]
     },
     "metadata": {},
     "output_type": "display_data"
    },
    {
     "data": {
      "application/vnd.jupyter.widget-view+json": {
       "model_id": "3ac11ffd1cee4010a7c68cbe376d0ca8",
       "version_major": 2,
       "version_minor": 0
      },
      "text/plain": [
       "Creating parquet from Arrow format:   0%|          | 0/3 [00:00<?, ?ba/s]"
      ]
     },
     "metadata": {},
     "output_type": "display_data"
    },
    {
     "data": {
      "application/vnd.jupyter.widget-view+json": {
       "model_id": "291e7e0e4a5e41a1bbd3f677f56b2669",
       "version_major": 2,
       "version_minor": 0
      },
      "text/plain": [
       "Uploading the dataset shards:   0%|          | 0/1 [00:00<?, ?it/s]"
      ]
     },
     "metadata": {},
     "output_type": "display_data"
    },
    {
     "data": {
      "application/vnd.jupyter.widget-view+json": {
       "model_id": "2eb470c6a4ca42dd9fe3ee6721cbc8b6",
       "version_major": 2,
       "version_minor": 0
      },
      "text/plain": [
       "Creating parquet from Arrow format:   0%|          | 0/3 [00:00<?, ?ba/s]"
      ]
     },
     "metadata": {},
     "output_type": "display_data"
    },
    {
     "data": {
      "application/vnd.jupyter.widget-view+json": {
       "model_id": "5ea468135e8a4dd9a13cb6a69c2a1d66",
       "version_major": 2,
       "version_minor": 0
      },
      "text/plain": [
       "README.md:   0%|          | 0.00/711 [00:00<?, ?B/s]"
      ]
     },
     "metadata": {},
     "output_type": "display_data"
    },
    {
     "data": {
      "application/vnd.jupyter.widget-view+json": {
       "model_id": "13657e02156b4fdf9782289f22bb6319",
       "version_major": 2,
       "version_minor": 0
      },
      "text/plain": [
       "Downloading readme:   0%|          | 0.00/1.12k [00:00<?, ?B/s]"
      ]
     },
     "metadata": {},
     "output_type": "display_data"
    },
    {
     "data": {
      "application/vnd.jupyter.widget-view+json": {
       "model_id": "4e1c52be24d547178eae034a54658482",
       "version_major": 2,
       "version_minor": 0
      },
      "text/plain": [
       "Downloading data:   0%|          | 0.00/22.4M [00:00<?, ?B/s]"
      ]
     },
     "metadata": {},
     "output_type": "display_data"
    },
    {
     "data": {
      "application/vnd.jupyter.widget-view+json": {
       "model_id": "e26d3e02f17f4e189d23b602b8cec285",
       "version_major": 2,
       "version_minor": 0
      },
      "text/plain": [
       "Downloading data:   0%|          | 0.00/2.94M [00:00<?, ?B/s]"
      ]
     },
     "metadata": {},
     "output_type": "display_data"
    },
    {
     "data": {
      "application/vnd.jupyter.widget-view+json": {
       "model_id": "955537d420b34d4c8f5cef510c94cf36",
       "version_major": 2,
       "version_minor": 0
      },
      "text/plain": [
       "Downloading data:   0%|          | 0.00/3.11M [00:00<?, ?B/s]"
      ]
     },
     "metadata": {},
     "output_type": "display_data"
    },
    {
     "data": {
      "application/vnd.jupyter.widget-view+json": {
       "model_id": "0cabf23008724530b8482913812bbf50",
       "version_major": 2,
       "version_minor": 0
      },
      "text/plain": [
       "Generating train split:   0%|          | 0/5575 [00:00<?, ? examples/s]"
      ]
     },
     "metadata": {},
     "output_type": "display_data"
    },
    {
     "data": {
      "application/vnd.jupyter.widget-view+json": {
       "model_id": "11fc47ec147f40ed9c7293bc4e8fdee8",
       "version_major": 2,
       "version_minor": 0
      },
      "text/plain": [
       "Generating valid split:   0%|          | 0/696 [00:00<?, ? examples/s]"
      ]
     },
     "metadata": {},
     "output_type": "display_data"
    },
    {
     "data": {
      "application/vnd.jupyter.widget-view+json": {
       "model_id": "3d324e690c074ac28d0acd1e769982f7",
       "version_major": 2,
       "version_minor": 0
      },
      "text/plain": [
       "Generating test split:   0%|          | 0/734 [00:00<?, ? examples/s]"
      ]
     },
     "metadata": {},
     "output_type": "display_data"
    },
    {
     "data": {
      "application/vnd.jupyter.widget-view+json": {
       "model_id": "7716230a88834a33a9deb3ed28c0055e",
       "version_major": 2,
       "version_minor": 0
      },
      "text/plain": [
       "Uploading the dataset shards:   0%|          | 0/1 [00:00<?, ?it/s]"
      ]
     },
     "metadata": {},
     "output_type": "display_data"
    },
    {
     "data": {
      "application/vnd.jupyter.widget-view+json": {
       "model_id": "93f5d558c1b94f2c9cfe9d5894b42d2b",
       "version_major": 2,
       "version_minor": 0
      },
      "text/plain": [
       "Creating parquet from Arrow format:   0%|          | 0/23 [00:00<?, ?ba/s]"
      ]
     },
     "metadata": {},
     "output_type": "display_data"
    },
    {
     "data": {
      "application/vnd.jupyter.widget-view+json": {
       "model_id": "d4b8d5050dce4373bb04565bb1b010d8",
       "version_major": 2,
       "version_minor": 0
      },
      "text/plain": [
       "Uploading the dataset shards:   0%|          | 0/1 [00:00<?, ?it/s]"
      ]
     },
     "metadata": {},
     "output_type": "display_data"
    },
    {
     "data": {
      "application/vnd.jupyter.widget-view+json": {
       "model_id": "fafd61553f58433187f9f5b9810f9a32",
       "version_major": 2,
       "version_minor": 0
      },
      "text/plain": [
       "Creating parquet from Arrow format:   0%|          | 0/3 [00:00<?, ?ba/s]"
      ]
     },
     "metadata": {},
     "output_type": "display_data"
    },
    {
     "data": {
      "application/vnd.jupyter.widget-view+json": {
       "model_id": "a9e9f163cceb4e9f985a627f3d9dca18",
       "version_major": 2,
       "version_minor": 0
      },
      "text/plain": [
       "Uploading the dataset shards:   0%|          | 0/1 [00:00<?, ?it/s]"
      ]
     },
     "metadata": {},
     "output_type": "display_data"
    },
    {
     "data": {
      "application/vnd.jupyter.widget-view+json": {
       "model_id": "058d7ed3081b47038efc4d7dab329802",
       "version_major": 2,
       "version_minor": 0
      },
      "text/plain": [
       "Creating parquet from Arrow format:   0%|          | 0/3 [00:00<?, ?ba/s]"
      ]
     },
     "metadata": {},
     "output_type": "display_data"
    },
    {
     "data": {
      "application/vnd.jupyter.widget-view+json": {
       "model_id": "0100c4ab8ffe4ced95e3eaf2b91233e9",
       "version_major": 2,
       "version_minor": 0
      },
      "text/plain": [
       "README.md:   0%|          | 0.00/711 [00:00<?, ?B/s]"
      ]
     },
     "metadata": {},
     "output_type": "display_data"
    },
    {
     "data": {
      "application/vnd.jupyter.widget-view+json": {
       "model_id": "36f5aac683ca432b949ca2155695a5fc",
       "version_major": 2,
       "version_minor": 0
      },
      "text/plain": [
       "Downloading readme:   0%|          | 0.00/1.12k [00:00<?, ?B/s]"
      ]
     },
     "metadata": {},
     "output_type": "display_data"
    },
    {
     "data": {
      "application/vnd.jupyter.widget-view+json": {
       "model_id": "989b79ae41654d129226c0e817e26d7e",
       "version_major": 2,
       "version_minor": 0
      },
      "text/plain": [
       "Downloading data:   0%|          | 0.00/25.2M [00:00<?, ?B/s]"
      ]
     },
     "metadata": {},
     "output_type": "display_data"
    },
    {
     "data": {
      "application/vnd.jupyter.widget-view+json": {
       "model_id": "65ade557168f424d9b938528f84852f7",
       "version_major": 2,
       "version_minor": 0
      },
      "text/plain": [
       "Downloading data:   0%|          | 0.00/3.34M [00:00<?, ?B/s]"
      ]
     },
     "metadata": {},
     "output_type": "display_data"
    },
    {
     "data": {
      "application/vnd.jupyter.widget-view+json": {
       "model_id": "9670767fb920433285a9a603350ebd8e",
       "version_major": 2,
       "version_minor": 0
      },
      "text/plain": [
       "Downloading data:   0%|          | 0.00/3.58M [00:00<?, ?B/s]"
      ]
     },
     "metadata": {},
     "output_type": "display_data"
    },
    {
     "data": {
      "application/vnd.jupyter.widget-view+json": {
       "model_id": "676f25a57a6246ed8043727d8549a348",
       "version_major": 2,
       "version_minor": 0
      },
      "text/plain": [
       "Generating train split:   0%|          | 0/5458 [00:00<?, ? examples/s]"
      ]
     },
     "metadata": {},
     "output_type": "display_data"
    },
    {
     "data": {
      "application/vnd.jupyter.widget-view+json": {
       "model_id": "9984ff76b01a41929195269662e1822c",
       "version_major": 2,
       "version_minor": 0
      },
      "text/plain": [
       "Generating valid split:   0%|          | 0/678 [00:00<?, ? examples/s]"
      ]
     },
     "metadata": {},
     "output_type": "display_data"
    },
    {
     "data": {
      "application/vnd.jupyter.widget-view+json": {
       "model_id": "2b1f4ccc90554320b1122714c08c3142",
       "version_major": 2,
       "version_minor": 0
      },
      "text/plain": [
       "Generating test split:   0%|          | 0/723 [00:00<?, ? examples/s]"
      ]
     },
     "metadata": {},
     "output_type": "display_data"
    },
    {
     "data": {
      "application/vnd.jupyter.widget-view+json": {
       "model_id": "eaf8aeabdb334de4a67ef2691ac44091",
       "version_major": 2,
       "version_minor": 0
      },
      "text/plain": [
       "Uploading the dataset shards:   0%|          | 0/1 [00:00<?, ?it/s]"
      ]
     },
     "metadata": {},
     "output_type": "display_data"
    },
    {
     "data": {
      "application/vnd.jupyter.widget-view+json": {
       "model_id": "58c2b17113ed450a8836452a0f74b0ff",
       "version_major": 2,
       "version_minor": 0
      },
      "text/plain": [
       "Creating parquet from Arrow format:   0%|          | 0/22 [00:00<?, ?ba/s]"
      ]
     },
     "metadata": {},
     "output_type": "display_data"
    },
    {
     "data": {
      "application/vnd.jupyter.widget-view+json": {
       "model_id": "d394442ad8324fedbbaab8a832d89da5",
       "version_major": 2,
       "version_minor": 0
      },
      "text/plain": [
       "Uploading the dataset shards:   0%|          | 0/1 [00:00<?, ?it/s]"
      ]
     },
     "metadata": {},
     "output_type": "display_data"
    },
    {
     "data": {
      "application/vnd.jupyter.widget-view+json": {
       "model_id": "3aea5e8f7e7d4ad9851e5c7afda21f33",
       "version_major": 2,
       "version_minor": 0
      },
      "text/plain": [
       "Creating parquet from Arrow format:   0%|          | 0/3 [00:00<?, ?ba/s]"
      ]
     },
     "metadata": {},
     "output_type": "display_data"
    },
    {
     "data": {
      "application/vnd.jupyter.widget-view+json": {
       "model_id": "955f5e2a2c3f449ba970a8b773692cff",
       "version_major": 2,
       "version_minor": 0
      },
      "text/plain": [
       "Uploading the dataset shards:   0%|          | 0/1 [00:00<?, ?it/s]"
      ]
     },
     "metadata": {},
     "output_type": "display_data"
    },
    {
     "data": {
      "application/vnd.jupyter.widget-view+json": {
       "model_id": "00a6cb1036b74880b1f7cdb85bf66824",
       "version_major": 2,
       "version_minor": 0
      },
      "text/plain": [
       "Creating parquet from Arrow format:   0%|          | 0/3 [00:00<?, ?ba/s]"
      ]
     },
     "metadata": {},
     "output_type": "display_data"
    },
    {
     "data": {
      "application/vnd.jupyter.widget-view+json": {
       "model_id": "0f792c659d1c41d9a9c473a30097c7cc",
       "version_major": 2,
       "version_minor": 0
      },
      "text/plain": [
       "README.md:   0%|          | 0.00/711 [00:00<?, ?B/s]"
      ]
     },
     "metadata": {},
     "output_type": "display_data"
    },
    {
     "data": {
      "application/vnd.jupyter.widget-view+json": {
       "model_id": "b9bf3464c8f641288150465dff58a43b",
       "version_major": 2,
       "version_minor": 0
      },
      "text/plain": [
       "Downloading readme:   0%|          | 0.00/1.12k [00:00<?, ?B/s]"
      ]
     },
     "metadata": {},
     "output_type": "display_data"
    },
    {
     "data": {
      "application/vnd.jupyter.widget-view+json": {
       "model_id": "7e33a33ced5347b09610a03b70259804",
       "version_major": 2,
       "version_minor": 0
      },
      "text/plain": [
       "Downloading data:   0%|          | 0.00/28.2M [00:00<?, ?B/s]"
      ]
     },
     "metadata": {},
     "output_type": "display_data"
    },
    {
     "data": {
      "application/vnd.jupyter.widget-view+json": {
       "model_id": "0fad6e56e1a346bb9c2f8bd8b7356902",
       "version_major": 2,
       "version_minor": 0
      },
      "text/plain": [
       "Downloading data:   0%|          | 0.00/3.78M [00:00<?, ?B/s]"
      ]
     },
     "metadata": {},
     "output_type": "display_data"
    },
    {
     "data": {
      "application/vnd.jupyter.widget-view+json": {
       "model_id": "1c82e8db16a348f08205fbc4a959b51a",
       "version_major": 2,
       "version_minor": 0
      },
      "text/plain": [
       "Downloading data:   0%|          | 0.00/4.01M [00:00<?, ?B/s]"
      ]
     },
     "metadata": {},
     "output_type": "display_data"
    },
    {
     "data": {
      "application/vnd.jupyter.widget-view+json": {
       "model_id": "e5283b8d9c8249a0abfda9f2498fe302",
       "version_major": 2,
       "version_minor": 0
      },
      "text/plain": [
       "Generating train split:   0%|          | 0/5337 [00:00<?, ? examples/s]"
      ]
     },
     "metadata": {},
     "output_type": "display_data"
    },
    {
     "data": {
      "application/vnd.jupyter.widget-view+json": {
       "model_id": "ac7cdb47b8a14e67abba103062ba2cb2",
       "version_major": 2,
       "version_minor": 0
      },
      "text/plain": [
       "Generating valid split:   0%|          | 0/670 [00:00<?, ? examples/s]"
      ]
     },
     "metadata": {},
     "output_type": "display_data"
    },
    {
     "data": {
      "application/vnd.jupyter.widget-view+json": {
       "model_id": "eda6370d4cef449489d160113ce9e2c1",
       "version_major": 2,
       "version_minor": 0
      },
      "text/plain": [
       "Generating test split:   0%|          | 0/706 [00:00<?, ? examples/s]"
      ]
     },
     "metadata": {},
     "output_type": "display_data"
    },
    {
     "data": {
      "application/vnd.jupyter.widget-view+json": {
       "model_id": "dce3f7fab8f940cba826718a7e1c55a9",
       "version_major": 2,
       "version_minor": 0
      },
      "text/plain": [
       "Uploading the dataset shards:   0%|          | 0/1 [00:00<?, ?it/s]"
      ]
     },
     "metadata": {},
     "output_type": "display_data"
    },
    {
     "data": {
      "application/vnd.jupyter.widget-view+json": {
       "model_id": "2709ff59e4d14559a0971d04197a784d",
       "version_major": 2,
       "version_minor": 0
      },
      "text/plain": [
       "Creating parquet from Arrow format:   0%|          | 0/22 [00:00<?, ?ba/s]"
      ]
     },
     "metadata": {},
     "output_type": "display_data"
    },
    {
     "data": {
      "application/vnd.jupyter.widget-view+json": {
       "model_id": "aceeec7c6e354c7895537efe6a381397",
       "version_major": 2,
       "version_minor": 0
      },
      "text/plain": [
       "Uploading the dataset shards:   0%|          | 0/1 [00:00<?, ?it/s]"
      ]
     },
     "metadata": {},
     "output_type": "display_data"
    },
    {
     "data": {
      "application/vnd.jupyter.widget-view+json": {
       "model_id": "b781a9afba9a43fa901593d691b55c55",
       "version_major": 2,
       "version_minor": 0
      },
      "text/plain": [
       "Creating parquet from Arrow format:   0%|          | 0/3 [00:00<?, ?ba/s]"
      ]
     },
     "metadata": {},
     "output_type": "display_data"
    },
    {
     "data": {
      "application/vnd.jupyter.widget-view+json": {
       "model_id": "533e03ec62ec4cee9bc762d87dff75ff",
       "version_major": 2,
       "version_minor": 0
      },
      "text/plain": [
       "Uploading the dataset shards:   0%|          | 0/1 [00:00<?, ?it/s]"
      ]
     },
     "metadata": {},
     "output_type": "display_data"
    },
    {
     "data": {
      "application/vnd.jupyter.widget-view+json": {
       "model_id": "09195616d3044814b1943dea46913370",
       "version_major": 2,
       "version_minor": 0
      },
      "text/plain": [
       "Creating parquet from Arrow format:   0%|          | 0/3 [00:00<?, ?ba/s]"
      ]
     },
     "metadata": {},
     "output_type": "display_data"
    },
    {
     "data": {
      "application/vnd.jupyter.widget-view+json": {
       "model_id": "fd38f42b66fd4d2086ddfb7d23302615",
       "version_major": 2,
       "version_minor": 0
      },
      "text/plain": [
       "README.md:   0%|          | 0.00/713 [00:00<?, ?B/s]"
      ]
     },
     "metadata": {},
     "output_type": "display_data"
    }
   ],
   "source": [
    "# Load the dataset\n",
    "for i in range(1, 8):\n",
    "    data = load_dataset(f'Howard881010/medical-{i}day-finetuned')\n",
    "\n",
    "    # Initialize dictionaries to hold processed data\n",
    "    data_all = {'train': [], 'test': [], 'valid': []}\n",
    "\n",
    "    # Process each split\n",
    "    for split in ['train', 'test', 'valid']:\n",
    "        data_split = pd.DataFrame(data[split])\n",
    "        \n",
    "        t2t = data_split[['input_text', 'output_text', 'instruction-1']].rename(columns={'instruction-1': 'instruction', 'input_text': 'input', 'output_text': 'output'})\n",
    "        tT2tT = data_split[['input_text_time', 'output_text_time', 'instruction-2']].rename(columns={'instruction-2': 'instruction', 'input_text_time': 'input', 'output_text_time': 'output'})\n",
    "        tT2t = data_split[['input_text_time', 'output_text', 'instruction-3']].rename(columns={'instruction-3': 'instruction', 'input_text_time': 'input', 'output_text': 'output'})\n",
    "        tT2T = data_split[['input_text_time', 'output_time', 'instruction-4']].rename(columns={'instruction-4': 'instruction', 'input_text_time': 'input', 'output_time': 'output'})\n",
    "        \n",
    "        # Append the transformed data for each split\n",
    "        data_all[split].append(t2t)\n",
    "        data_all[split].append(tT2tT)\n",
    "        data_all[split].append(tT2t)\n",
    "        data_all[split].append(tT2T)\n",
    "        \n",
    "        # Concatenate all processed DataFrames for the current split\n",
    "        data_all[split] = pd.concat(data_all[split])\n",
    "\n",
    "    # Convert each processed DataFrame back to Hugging Face Dataset format\n",
    "    dataset_dict = DatasetDict({\n",
    "        'train': Dataset.from_pandas(data_all['train']),\n",
    "        'test': Dataset.from_pandas(data_all['test']),\n",
    "        'valid': Dataset.from_pandas(data_all['valid'])\n",
    "    })\n",
    "\n",
    "    # Push the processed dataset to Hugging Face Hub\n",
    "    dataset_dict.push_to_hub(f'Howard881010/medical-{i}day')"
   ]
  },
  {
   "cell_type": "markdown",
   "metadata": {},
   "source": [
    "# For Financial dataset"
   ]
  },
  {
   "cell_type": "code",
   "execution_count": 3,
   "metadata": {},
   "outputs": [
    {
     "name": "stdout",
     "output_type": "stream",
     "text": [
      "Saved configuration with input_window=1 and output_window=1.\n",
      "instruction_1:  Given the stock data of AAPL over the first 1 trading day, predict the stock data of AAPL over the next 1 trading day. Return the result strictly in the following JSON format, with no additional text: {\n",
      "    \"day_2_date\": \"YYYY-MM-DD\",\n",
      "    \"day_2_stock_news\": \"Stock News\"\n",
      "}\n",
      "instruction_2:  Given the stock data of AAPL over the first 1 trading day, predict the stock data of AAPL over the next 1 trading day. Return the result strictly in the following JSON format, with no additional text: {\n",
      "    \"day_2_date\": \"YYYY-MM-DD\",\n",
      "    \"day_2_stock_news\": \"Stock News\",\n",
      "    \"day_2_Close\": \"A Float Number\"\n",
      "}\n",
      "instruction_3:  Given the stock data of AAPL over the first 1 trading day, predict the stock data of AAPL over the next 1 trading day. Return the result strictly in the following JSON format, with no additional text: {\n",
      "    \"day_2_date\": \"YYYY-MM-DD\",\n",
      "    \"day_2_stock_news\": \"Stock News\"\n",
      "}\n",
      "instruction_4:  Given the stock data of AAPL over the first 1 trading day, predict the stock data of AAPL over the next 1 trading day. Return the result strictly in the following JSON format, with no additional text: {\n",
      "    \"day_2_date\": \"YYYY-MM-DD\",\n",
      "    \"day_2_Close\": \"A Float Number\"\n",
      "}\n"
     ]
    },
    {
     "data": {
      "application/vnd.jupyter.widget-view+json": {
       "model_id": "9cbbfd6443a44ed38b61f13b785e48a6",
       "version_major": 2,
       "version_minor": 0
      },
      "text/plain": [
       "Uploading the dataset shards:   0%|          | 0/1 [00:00<?, ?it/s]"
      ]
     },
     "metadata": {},
     "output_type": "display_data"
    },
    {
     "data": {
      "application/vnd.jupyter.widget-view+json": {
       "model_id": "4b45004760794f2fa836c230855f902f",
       "version_major": 2,
       "version_minor": 0
      },
      "text/plain": [
       "Creating parquet from Arrow format:   0%|          | 0/1 [00:00<?, ?ba/s]"
      ]
     },
     "metadata": {},
     "output_type": "display_data"
    },
    {
     "data": {
      "application/vnd.jupyter.widget-view+json": {
       "model_id": "6fdfa56b58314eb7b50becffbc5b3865",
       "version_major": 2,
       "version_minor": 0
      },
      "text/plain": [
       "Uploading the dataset shards:   0%|          | 0/1 [00:00<?, ?it/s]"
      ]
     },
     "metadata": {},
     "output_type": "display_data"
    },
    {
     "data": {
      "application/vnd.jupyter.widget-view+json": {
       "model_id": "73e2c652f7ae4c9d99c005e40e9ce66c",
       "version_major": 2,
       "version_minor": 0
      },
      "text/plain": [
       "Creating parquet from Arrow format:   0%|          | 0/1 [00:00<?, ?ba/s]"
      ]
     },
     "metadata": {},
     "output_type": "display_data"
    },
    {
     "data": {
      "application/vnd.jupyter.widget-view+json": {
       "model_id": "67469e6801794d1c8d159cf6cfc85de3",
       "version_major": 2,
       "version_minor": 0
      },
      "text/plain": [
       "Uploading the dataset shards:   0%|          | 0/1 [00:00<?, ?it/s]"
      ]
     },
     "metadata": {},
     "output_type": "display_data"
    },
    {
     "data": {
      "application/vnd.jupyter.widget-view+json": {
       "model_id": "becc2dd31c1746528f14ef1503dfd21e",
       "version_major": 2,
       "version_minor": 0
      },
      "text/plain": [
       "Creating parquet from Arrow format:   0%|          | 0/1 [00:00<?, ?ba/s]"
      ]
     },
     "metadata": {},
     "output_type": "display_data"
    },
    {
     "name": "stdout",
     "output_type": "stream",
     "text": [
      "Saved configuration with input_window=2 and output_window=2.\n",
      "instruction_1:  Given the stock data of AAPL over the first 2 trading day, predict the stock data of AAPL over the next 2 trading day. Return the result strictly in the following JSON format, with no additional text: {\n",
      "    \"day_3_date\": \"YYYY-MM-DD\",\n",
      "    \"day_3_stock_news\": \"Stock News\",\n",
      "    \"day_4_date\": \"YYYY-MM-DD\",\n",
      "    \"day_4_stock_news\": \"Stock News\"\n",
      "}\n",
      "instruction_2:  Given the stock data of AAPL over the first 2 trading day, predict the stock data of AAPL over the next 2 trading day. Return the result strictly in the following JSON format, with no additional text: {\n",
      "    \"day_3_date\": \"YYYY-MM-DD\",\n",
      "    \"day_3_stock_news\": \"Stock News\",\n",
      "    \"day_3_Close\": \"A Float Number\",\n",
      "    \"day_4_date\": \"YYYY-MM-DD\",\n",
      "    \"day_4_stock_news\": \"Stock News\",\n",
      "    \"day_4_Close\": \"A Float Number\"\n",
      "}\n",
      "instruction_3:  Given the stock data of AAPL over the first 2 trading day, predict the stock data of AAPL over the next 2 trading day. Return the result strictly in the following JSON format, with no additional text: {\n",
      "    \"day_3_date\": \"YYYY-MM-DD\",\n",
      "    \"day_3_stock_news\": \"Stock News\",\n",
      "    \"day_4_date\": \"YYYY-MM-DD\",\n",
      "    \"day_4_stock_news\": \"Stock News\"\n",
      "}\n",
      "instruction_4:  Given the stock data of AAPL over the first 2 trading day, predict the stock data of AAPL over the next 2 trading day. Return the result strictly in the following JSON format, with no additional text: {\n",
      "    \"day_3_date\": \"YYYY-MM-DD\",\n",
      "    \"day_3_Close\": \"A Float Number\",\n",
      "    \"day_4_date\": \"YYYY-MM-DD\",\n",
      "    \"day_4_Close\": \"A Float Number\"\n",
      "}\n"
     ]
    },
    {
     "data": {
      "application/vnd.jupyter.widget-view+json": {
       "model_id": "4a36bfaea14a49cda003106087432fab",
       "version_major": 2,
       "version_minor": 0
      },
      "text/plain": [
       "Uploading the dataset shards:   0%|          | 0/1 [00:00<?, ?it/s]"
      ]
     },
     "metadata": {},
     "output_type": "display_data"
    },
    {
     "data": {
      "application/vnd.jupyter.widget-view+json": {
       "model_id": "3a845af9c768443fb11d24af0cbfbfe9",
       "version_major": 2,
       "version_minor": 0
      },
      "text/plain": [
       "Creating parquet from Arrow format:   0%|          | 0/1 [00:00<?, ?ba/s]"
      ]
     },
     "metadata": {},
     "output_type": "display_data"
    },
    {
     "data": {
      "application/vnd.jupyter.widget-view+json": {
       "model_id": "0c2eea6d77c747fea9b9c1534907c43e",
       "version_major": 2,
       "version_minor": 0
      },
      "text/plain": [
       "Uploading the dataset shards:   0%|          | 0/1 [00:00<?, ?it/s]"
      ]
     },
     "metadata": {},
     "output_type": "display_data"
    },
    {
     "data": {
      "application/vnd.jupyter.widget-view+json": {
       "model_id": "df63e8abf8b843eaa2b457e6461251c9",
       "version_major": 2,
       "version_minor": 0
      },
      "text/plain": [
       "Creating parquet from Arrow format:   0%|          | 0/1 [00:00<?, ?ba/s]"
      ]
     },
     "metadata": {},
     "output_type": "display_data"
    },
    {
     "data": {
      "application/vnd.jupyter.widget-view+json": {
       "model_id": "91530cc4e9ff44b38dcf0f7d4cca4f6a",
       "version_major": 2,
       "version_minor": 0
      },
      "text/plain": [
       "Uploading the dataset shards:   0%|          | 0/1 [00:00<?, ?it/s]"
      ]
     },
     "metadata": {},
     "output_type": "display_data"
    },
    {
     "data": {
      "application/vnd.jupyter.widget-view+json": {
       "model_id": "b69912a97a3a444e9ed5732f2c60ceab",
       "version_major": 2,
       "version_minor": 0
      },
      "text/plain": [
       "Creating parquet from Arrow format:   0%|          | 0/1 [00:00<?, ?ba/s]"
      ]
     },
     "metadata": {},
     "output_type": "display_data"
    },
    {
     "name": "stdout",
     "output_type": "stream",
     "text": [
      "Saved configuration with input_window=3 and output_window=3.\n",
      "instruction_1:  Given the stock data of AAPL over the first 3 trading day, predict the stock data of AAPL over the next 3 trading day. Return the result strictly in the following JSON format, with no additional text: {\n",
      "    \"day_4_date\": \"YYYY-MM-DD\",\n",
      "    \"day_4_stock_news\": \"Stock News\",\n",
      "    \"day_5_date\": \"YYYY-MM-DD\",\n",
      "    \"day_5_stock_news\": \"Stock News\",\n",
      "    \"day_6_date\": \"YYYY-MM-DD\",\n",
      "    \"day_6_stock_news\": \"Stock News\"\n",
      "}\n",
      "instruction_2:  Given the stock data of AAPL over the first 3 trading day, predict the stock data of AAPL over the next 3 trading day. Return the result strictly in the following JSON format, with no additional text: {\n",
      "    \"day_4_date\": \"YYYY-MM-DD\",\n",
      "    \"day_4_stock_news\": \"Stock News\",\n",
      "    \"day_4_Close\": \"A Float Number\",\n",
      "    \"day_5_date\": \"YYYY-MM-DD\",\n",
      "    \"day_5_stock_news\": \"Stock News\",\n",
      "    \"day_5_Close\": \"A Float Number\",\n",
      "    \"day_6_date\": \"YYYY-MM-DD\",\n",
      "    \"day_6_stock_news\": \"Stock News\",\n",
      "    \"day_6_Close\": \"A Float Number\"\n",
      "}\n",
      "instruction_3:  Given the stock data of AAPL over the first 3 trading day, predict the stock data of AAPL over the next 3 trading day. Return the result strictly in the following JSON format, with no additional text: {\n",
      "    \"day_4_date\": \"YYYY-MM-DD\",\n",
      "    \"day_4_stock_news\": \"Stock News\",\n",
      "    \"day_5_date\": \"YYYY-MM-DD\",\n",
      "    \"day_5_stock_news\": \"Stock News\",\n",
      "    \"day_6_date\": \"YYYY-MM-DD\",\n",
      "    \"day_6_stock_news\": \"Stock News\"\n",
      "}\n",
      "instruction_4:  Given the stock data of AAPL over the first 3 trading day, predict the stock data of AAPL over the next 3 trading day. Return the result strictly in the following JSON format, with no additional text: {\n",
      "    \"day_4_date\": \"YYYY-MM-DD\",\n",
      "    \"day_4_Close\": \"A Float Number\",\n",
      "    \"day_5_date\": \"YYYY-MM-DD\",\n",
      "    \"day_5_Close\": \"A Float Number\",\n",
      "    \"day_6_date\": \"YYYY-MM-DD\",\n",
      "    \"day_6_Close\": \"A Float Number\"\n",
      "}\n"
     ]
    },
    {
     "data": {
      "application/vnd.jupyter.widget-view+json": {
       "model_id": "b33950aa706943cf81623a1f0f29c167",
       "version_major": 2,
       "version_minor": 0
      },
      "text/plain": [
       "Uploading the dataset shards:   0%|          | 0/1 [00:00<?, ?it/s]"
      ]
     },
     "metadata": {},
     "output_type": "display_data"
    },
    {
     "data": {
      "application/vnd.jupyter.widget-view+json": {
       "model_id": "062cb36d70bc42cb90db6e52830cc958",
       "version_major": 2,
       "version_minor": 0
      },
      "text/plain": [
       "Creating parquet from Arrow format:   0%|          | 0/1 [00:00<?, ?ba/s]"
      ]
     },
     "metadata": {},
     "output_type": "display_data"
    },
    {
     "data": {
      "application/vnd.jupyter.widget-view+json": {
       "model_id": "83b6ecb2296d4126b9b474f8b7bf2671",
       "version_major": 2,
       "version_minor": 0
      },
      "text/plain": [
       "Uploading the dataset shards:   0%|          | 0/1 [00:00<?, ?it/s]"
      ]
     },
     "metadata": {},
     "output_type": "display_data"
    },
    {
     "data": {
      "application/vnd.jupyter.widget-view+json": {
       "model_id": "e066c49295174ba897bbf451706ab1f8",
       "version_major": 2,
       "version_minor": 0
      },
      "text/plain": [
       "Creating parquet from Arrow format:   0%|          | 0/1 [00:00<?, ?ba/s]"
      ]
     },
     "metadata": {},
     "output_type": "display_data"
    },
    {
     "data": {
      "application/vnd.jupyter.widget-view+json": {
       "model_id": "a2d0508f495e4a048b0dcf7108bb657a",
       "version_major": 2,
       "version_minor": 0
      },
      "text/plain": [
       "Uploading the dataset shards:   0%|          | 0/1 [00:00<?, ?it/s]"
      ]
     },
     "metadata": {},
     "output_type": "display_data"
    },
    {
     "data": {
      "application/vnd.jupyter.widget-view+json": {
       "model_id": "7b41f339fb4148d68a68311fc11f5cbb",
       "version_major": 2,
       "version_minor": 0
      },
      "text/plain": [
       "Creating parquet from Arrow format:   0%|          | 0/1 [00:00<?, ?ba/s]"
      ]
     },
     "metadata": {},
     "output_type": "display_data"
    },
    {
     "name": "stdout",
     "output_type": "stream",
     "text": [
      "Saved configuration with input_window=4 and output_window=4.\n",
      "instruction_1:  Given the stock data of AAPL over the first 4 trading day, predict the stock data of AAPL over the next 4 trading day. Return the result strictly in the following JSON format, with no additional text: {\n",
      "    \"day_5_date\": \"YYYY-MM-DD\",\n",
      "    \"day_5_stock_news\": \"Stock News\",\n",
      "    \"day_6_date\": \"YYYY-MM-DD\",\n",
      "    \"day_6_stock_news\": \"Stock News\",\n",
      "    \"day_7_date\": \"YYYY-MM-DD\",\n",
      "    \"day_7_stock_news\": \"Stock News\",\n",
      "    \"day_8_date\": \"YYYY-MM-DD\",\n",
      "    \"day_8_stock_news\": \"Stock News\"\n",
      "}\n",
      "instruction_2:  Given the stock data of AAPL over the first 4 trading day, predict the stock data of AAPL over the next 4 trading day. Return the result strictly in the following JSON format, with no additional text: {\n",
      "    \"day_5_date\": \"YYYY-MM-DD\",\n",
      "    \"day_5_stock_news\": \"Stock News\",\n",
      "    \"day_5_Close\": \"A Float Number\",\n",
      "    \"day_6_date\": \"YYYY-MM-DD\",\n",
      "    \"day_6_stock_news\": \"Stock News\",\n",
      "    \"day_6_Close\": \"A Float Number\",\n",
      "    \"day_7_date\": \"YYYY-MM-DD\",\n",
      "    \"day_7_stock_news\": \"Stock News\",\n",
      "    \"day_7_Close\": \"A Float Number\",\n",
      "    \"day_8_date\": \"YYYY-MM-DD\",\n",
      "    \"day_8_stock_news\": \"Stock News\",\n",
      "    \"day_8_Close\": \"A Float Number\"\n",
      "}\n",
      "instruction_3:  Given the stock data of AAPL over the first 4 trading day, predict the stock data of AAPL over the next 4 trading day. Return the result strictly in the following JSON format, with no additional text: {\n",
      "    \"day_5_date\": \"YYYY-MM-DD\",\n",
      "    \"day_5_stock_news\": \"Stock News\",\n",
      "    \"day_6_date\": \"YYYY-MM-DD\",\n",
      "    \"day_6_stock_news\": \"Stock News\",\n",
      "    \"day_7_date\": \"YYYY-MM-DD\",\n",
      "    \"day_7_stock_news\": \"Stock News\",\n",
      "    \"day_8_date\": \"YYYY-MM-DD\",\n",
      "    \"day_8_stock_news\": \"Stock News\"\n",
      "}\n",
      "instruction_4:  Given the stock data of AAPL over the first 4 trading day, predict the stock data of AAPL over the next 4 trading day. Return the result strictly in the following JSON format, with no additional text: {\n",
      "    \"day_5_date\": \"YYYY-MM-DD\",\n",
      "    \"day_5_Close\": \"A Float Number\",\n",
      "    \"day_6_date\": \"YYYY-MM-DD\",\n",
      "    \"day_6_Close\": \"A Float Number\",\n",
      "    \"day_7_date\": \"YYYY-MM-DD\",\n",
      "    \"day_7_Close\": \"A Float Number\",\n",
      "    \"day_8_date\": \"YYYY-MM-DD\",\n",
      "    \"day_8_Close\": \"A Float Number\"\n",
      "}\n"
     ]
    },
    {
     "data": {
      "application/vnd.jupyter.widget-view+json": {
       "model_id": "ed9341e36b4f46819ef79a39853e9b70",
       "version_major": 2,
       "version_minor": 0
      },
      "text/plain": [
       "Uploading the dataset shards:   0%|          | 0/1 [00:00<?, ?it/s]"
      ]
     },
     "metadata": {},
     "output_type": "display_data"
    },
    {
     "data": {
      "application/vnd.jupyter.widget-view+json": {
       "model_id": "c303e0e635314222a2a6fd429f83fe1d",
       "version_major": 2,
       "version_minor": 0
      },
      "text/plain": [
       "Creating parquet from Arrow format:   0%|          | 0/1 [00:00<?, ?ba/s]"
      ]
     },
     "metadata": {},
     "output_type": "display_data"
    },
    {
     "data": {
      "application/vnd.jupyter.widget-view+json": {
       "model_id": "388068fbda4f481cb0a0506d06b3118d",
       "version_major": 2,
       "version_minor": 0
      },
      "text/plain": [
       "Uploading the dataset shards:   0%|          | 0/1 [00:00<?, ?it/s]"
      ]
     },
     "metadata": {},
     "output_type": "display_data"
    },
    {
     "data": {
      "application/vnd.jupyter.widget-view+json": {
       "model_id": "f37a982da1b2490ebc595784d63f36f6",
       "version_major": 2,
       "version_minor": 0
      },
      "text/plain": [
       "Creating parquet from Arrow format:   0%|          | 0/1 [00:00<?, ?ba/s]"
      ]
     },
     "metadata": {},
     "output_type": "display_data"
    },
    {
     "data": {
      "application/vnd.jupyter.widget-view+json": {
       "model_id": "86be19d5f5e74f4bbeeb06a13a5baed5",
       "version_major": 2,
       "version_minor": 0
      },
      "text/plain": [
       "Uploading the dataset shards:   0%|          | 0/1 [00:00<?, ?it/s]"
      ]
     },
     "metadata": {},
     "output_type": "display_data"
    },
    {
     "data": {
      "application/vnd.jupyter.widget-view+json": {
       "model_id": "84deecbcd11044f9b6b196b2165d4938",
       "version_major": 2,
       "version_minor": 0
      },
      "text/plain": [
       "Creating parquet from Arrow format:   0%|          | 0/1 [00:00<?, ?ba/s]"
      ]
     },
     "metadata": {},
     "output_type": "display_data"
    },
    {
     "name": "stdout",
     "output_type": "stream",
     "text": [
      "Saved configuration with input_window=5 and output_window=5.\n",
      "instruction_1:  Given the stock data of AAPL over the first 5 trading day, predict the stock data of AAPL over the next 5 trading day. Return the result strictly in the following JSON format, with no additional text: {\n",
      "    \"day_6_date\": \"YYYY-MM-DD\",\n",
      "    \"day_6_stock_news\": \"Stock News\",\n",
      "    \"day_7_date\": \"YYYY-MM-DD\",\n",
      "    \"day_7_stock_news\": \"Stock News\",\n",
      "    \"day_8_date\": \"YYYY-MM-DD\",\n",
      "    \"day_8_stock_news\": \"Stock News\",\n",
      "    \"day_9_date\": \"YYYY-MM-DD\",\n",
      "    \"day_9_stock_news\": \"Stock News\",\n",
      "    \"day_10_date\": \"YYYY-MM-DD\",\n",
      "    \"day_10_stock_news\": \"Stock News\"\n",
      "}\n",
      "instruction_2:  Given the stock data of AAPL over the first 5 trading day, predict the stock data of AAPL over the next 5 trading day. Return the result strictly in the following JSON format, with no additional text: {\n",
      "    \"day_6_date\": \"YYYY-MM-DD\",\n",
      "    \"day_6_stock_news\": \"Stock News\",\n",
      "    \"day_6_Close\": \"A Float Number\",\n",
      "    \"day_7_date\": \"YYYY-MM-DD\",\n",
      "    \"day_7_stock_news\": \"Stock News\",\n",
      "    \"day_7_Close\": \"A Float Number\",\n",
      "    \"day_8_date\": \"YYYY-MM-DD\",\n",
      "    \"day_8_stock_news\": \"Stock News\",\n",
      "    \"day_8_Close\": \"A Float Number\",\n",
      "    \"day_9_date\": \"YYYY-MM-DD\",\n",
      "    \"day_9_stock_news\": \"Stock News\",\n",
      "    \"day_9_Close\": \"A Float Number\",\n",
      "    \"day_10_date\": \"YYYY-MM-DD\",\n",
      "    \"day_10_stock_news\": \"Stock News\",\n",
      "    \"day_10_Close\": \"A Float Number\"\n",
      "}\n",
      "instruction_3:  Given the stock data of AAPL over the first 5 trading day, predict the stock data of AAPL over the next 5 trading day. Return the result strictly in the following JSON format, with no additional text: {\n",
      "    \"day_6_date\": \"YYYY-MM-DD\",\n",
      "    \"day_6_stock_news\": \"Stock News\",\n",
      "    \"day_7_date\": \"YYYY-MM-DD\",\n",
      "    \"day_7_stock_news\": \"Stock News\",\n",
      "    \"day_8_date\": \"YYYY-MM-DD\",\n",
      "    \"day_8_stock_news\": \"Stock News\",\n",
      "    \"day_9_date\": \"YYYY-MM-DD\",\n",
      "    \"day_9_stock_news\": \"Stock News\",\n",
      "    \"day_10_date\": \"YYYY-MM-DD\",\n",
      "    \"day_10_stock_news\": \"Stock News\"\n",
      "}\n",
      "instruction_4:  Given the stock data of AAPL over the first 5 trading day, predict the stock data of AAPL over the next 5 trading day. Return the result strictly in the following JSON format, with no additional text: {\n",
      "    \"day_6_date\": \"YYYY-MM-DD\",\n",
      "    \"day_6_Close\": \"A Float Number\",\n",
      "    \"day_7_date\": \"YYYY-MM-DD\",\n",
      "    \"day_7_Close\": \"A Float Number\",\n",
      "    \"day_8_date\": \"YYYY-MM-DD\",\n",
      "    \"day_8_Close\": \"A Float Number\",\n",
      "    \"day_9_date\": \"YYYY-MM-DD\",\n",
      "    \"day_9_Close\": \"A Float Number\",\n",
      "    \"day_10_date\": \"YYYY-MM-DD\",\n",
      "    \"day_10_Close\": \"A Float Number\"\n",
      "}\n"
     ]
    },
    {
     "data": {
      "application/vnd.jupyter.widget-view+json": {
       "model_id": "7c21ee3fbe8044adb2f9b40309f81480",
       "version_major": 2,
       "version_minor": 0
      },
      "text/plain": [
       "Uploading the dataset shards:   0%|          | 0/1 [00:00<?, ?it/s]"
      ]
     },
     "metadata": {},
     "output_type": "display_data"
    },
    {
     "data": {
      "application/vnd.jupyter.widget-view+json": {
       "model_id": "15a35f5456194d12b55684f2a7045d83",
       "version_major": 2,
       "version_minor": 0
      },
      "text/plain": [
       "Creating parquet from Arrow format:   0%|          | 0/1 [00:00<?, ?ba/s]"
      ]
     },
     "metadata": {},
     "output_type": "display_data"
    },
    {
     "data": {
      "application/vnd.jupyter.widget-view+json": {
       "model_id": "602e9dc437a24098b122caa97c48801c",
       "version_major": 2,
       "version_minor": 0
      },
      "text/plain": [
       "Uploading the dataset shards:   0%|          | 0/1 [00:00<?, ?it/s]"
      ]
     },
     "metadata": {},
     "output_type": "display_data"
    },
    {
     "data": {
      "application/vnd.jupyter.widget-view+json": {
       "model_id": "41509a856baa4242acd64aaab2a52448",
       "version_major": 2,
       "version_minor": 0
      },
      "text/plain": [
       "Creating parquet from Arrow format:   0%|          | 0/1 [00:00<?, ?ba/s]"
      ]
     },
     "metadata": {},
     "output_type": "display_data"
    },
    {
     "data": {
      "application/vnd.jupyter.widget-view+json": {
       "model_id": "026cd81dac5347cdbe9b22fc7148b8fa",
       "version_major": 2,
       "version_minor": 0
      },
      "text/plain": [
       "Uploading the dataset shards:   0%|          | 0/1 [00:00<?, ?it/s]"
      ]
     },
     "metadata": {},
     "output_type": "display_data"
    },
    {
     "data": {
      "application/vnd.jupyter.widget-view+json": {
       "model_id": "150997f13a854ac19110f49be9be6651",
       "version_major": 2,
       "version_minor": 0
      },
      "text/plain": [
       "Creating parquet from Arrow format:   0%|          | 0/1 [00:00<?, ?ba/s]"
      ]
     },
     "metadata": {},
     "output_type": "display_data"
    },
    {
     "name": "stdout",
     "output_type": "stream",
     "text": [
      "Saved configuration with input_window=6 and output_window=6.\n",
      "instruction_1:  Given the stock data of AAPL over the first 6 trading day, predict the stock data of AAPL over the next 6 trading day. Return the result strictly in the following JSON format, with no additional text: {\n",
      "    \"day_7_date\": \"YYYY-MM-DD\",\n",
      "    \"day_7_stock_news\": \"Stock News\",\n",
      "    \"day_8_date\": \"YYYY-MM-DD\",\n",
      "    \"day_8_stock_news\": \"Stock News\",\n",
      "    \"day_9_date\": \"YYYY-MM-DD\",\n",
      "    \"day_9_stock_news\": \"Stock News\",\n",
      "    \"day_10_date\": \"YYYY-MM-DD\",\n",
      "    \"day_10_stock_news\": \"Stock News\",\n",
      "    \"day_11_date\": \"YYYY-MM-DD\",\n",
      "    \"day_11_stock_news\": \"Stock News\",\n",
      "    \"day_12_date\": \"YYYY-MM-DD\",\n",
      "    \"day_12_stock_news\": \"Stock News\"\n",
      "}\n",
      "instruction_2:  Given the stock data of AAPL over the first 6 trading day, predict the stock data of AAPL over the next 6 trading day. Return the result strictly in the following JSON format, with no additional text: {\n",
      "    \"day_7_date\": \"YYYY-MM-DD\",\n",
      "    \"day_7_stock_news\": \"Stock News\",\n",
      "    \"day_7_Close\": \"A Float Number\",\n",
      "    \"day_8_date\": \"YYYY-MM-DD\",\n",
      "    \"day_8_stock_news\": \"Stock News\",\n",
      "    \"day_8_Close\": \"A Float Number\",\n",
      "    \"day_9_date\": \"YYYY-MM-DD\",\n",
      "    \"day_9_stock_news\": \"Stock News\",\n",
      "    \"day_9_Close\": \"A Float Number\",\n",
      "    \"day_10_date\": \"YYYY-MM-DD\",\n",
      "    \"day_10_stock_news\": \"Stock News\",\n",
      "    \"day_10_Close\": \"A Float Number\",\n",
      "    \"day_11_date\": \"YYYY-MM-DD\",\n",
      "    \"day_11_stock_news\": \"Stock News\",\n",
      "    \"day_11_Close\": \"A Float Number\",\n",
      "    \"day_12_date\": \"YYYY-MM-DD\",\n",
      "    \"day_12_stock_news\": \"Stock News\",\n",
      "    \"day_12_Close\": \"A Float Number\"\n",
      "}\n",
      "instruction_3:  Given the stock data of AAPL over the first 6 trading day, predict the stock data of AAPL over the next 6 trading day. Return the result strictly in the following JSON format, with no additional text: {\n",
      "    \"day_7_date\": \"YYYY-MM-DD\",\n",
      "    \"day_7_stock_news\": \"Stock News\",\n",
      "    \"day_8_date\": \"YYYY-MM-DD\",\n",
      "    \"day_8_stock_news\": \"Stock News\",\n",
      "    \"day_9_date\": \"YYYY-MM-DD\",\n",
      "    \"day_9_stock_news\": \"Stock News\",\n",
      "    \"day_10_date\": \"YYYY-MM-DD\",\n",
      "    \"day_10_stock_news\": \"Stock News\",\n",
      "    \"day_11_date\": \"YYYY-MM-DD\",\n",
      "    \"day_11_stock_news\": \"Stock News\",\n",
      "    \"day_12_date\": \"YYYY-MM-DD\",\n",
      "    \"day_12_stock_news\": \"Stock News\"\n",
      "}\n",
      "instruction_4:  Given the stock data of AAPL over the first 6 trading day, predict the stock data of AAPL over the next 6 trading day. Return the result strictly in the following JSON format, with no additional text: {\n",
      "    \"day_7_date\": \"YYYY-MM-DD\",\n",
      "    \"day_7_Close\": \"A Float Number\",\n",
      "    \"day_8_date\": \"YYYY-MM-DD\",\n",
      "    \"day_8_Close\": \"A Float Number\",\n",
      "    \"day_9_date\": \"YYYY-MM-DD\",\n",
      "    \"day_9_Close\": \"A Float Number\",\n",
      "    \"day_10_date\": \"YYYY-MM-DD\",\n",
      "    \"day_10_Close\": \"A Float Number\",\n",
      "    \"day_11_date\": \"YYYY-MM-DD\",\n",
      "    \"day_11_Close\": \"A Float Number\",\n",
      "    \"day_12_date\": \"YYYY-MM-DD\",\n",
      "    \"day_12_Close\": \"A Float Number\"\n",
      "}\n"
     ]
    },
    {
     "data": {
      "application/vnd.jupyter.widget-view+json": {
       "model_id": "1a0fc6e070444b1db44e59eda1a17b99",
       "version_major": 2,
       "version_minor": 0
      },
      "text/plain": [
       "Uploading the dataset shards:   0%|          | 0/1 [00:00<?, ?it/s]"
      ]
     },
     "metadata": {},
     "output_type": "display_data"
    },
    {
     "data": {
      "application/vnd.jupyter.widget-view+json": {
       "model_id": "0566136a36fd4f3db3fc07645dd9d9ba",
       "version_major": 2,
       "version_minor": 0
      },
      "text/plain": [
       "Creating parquet from Arrow format:   0%|          | 0/1 [00:00<?, ?ba/s]"
      ]
     },
     "metadata": {},
     "output_type": "display_data"
    },
    {
     "data": {
      "application/vnd.jupyter.widget-view+json": {
       "model_id": "3ca01772c1554f558910bd456e044033",
       "version_major": 2,
       "version_minor": 0
      },
      "text/plain": [
       "Uploading the dataset shards:   0%|          | 0/1 [00:00<?, ?it/s]"
      ]
     },
     "metadata": {},
     "output_type": "display_data"
    },
    {
     "data": {
      "application/vnd.jupyter.widget-view+json": {
       "model_id": "9ea989bceb4e4b09b835b8a7005db886",
       "version_major": 2,
       "version_minor": 0
      },
      "text/plain": [
       "Creating parquet from Arrow format:   0%|          | 0/1 [00:00<?, ?ba/s]"
      ]
     },
     "metadata": {},
     "output_type": "display_data"
    },
    {
     "data": {
      "application/vnd.jupyter.widget-view+json": {
       "model_id": "1c77c79f3e9241a19c5a5716f3c9e7b3",
       "version_major": 2,
       "version_minor": 0
      },
      "text/plain": [
       "Uploading the dataset shards:   0%|          | 0/1 [00:00<?, ?it/s]"
      ]
     },
     "metadata": {},
     "output_type": "display_data"
    },
    {
     "data": {
      "application/vnd.jupyter.widget-view+json": {
       "model_id": "7d1d733fb7fb495b83bcf8cdd7c03775",
       "version_major": 2,
       "version_minor": 0
      },
      "text/plain": [
       "Creating parquet from Arrow format:   0%|          | 0/1 [00:00<?, ?ba/s]"
      ]
     },
     "metadata": {},
     "output_type": "display_data"
    },
    {
     "name": "stdout",
     "output_type": "stream",
     "text": [
      "Saved configuration with input_window=7 and output_window=7.\n",
      "instruction_1:  Given the stock data of AAPL over the first 7 trading day, predict the stock data of AAPL over the next 7 trading day. Return the result strictly in the following JSON format, with no additional text: {\n",
      "    \"day_8_date\": \"YYYY-MM-DD\",\n",
      "    \"day_8_stock_news\": \"Stock News\",\n",
      "    \"day_9_date\": \"YYYY-MM-DD\",\n",
      "    \"day_9_stock_news\": \"Stock News\",\n",
      "    \"day_10_date\": \"YYYY-MM-DD\",\n",
      "    \"day_10_stock_news\": \"Stock News\",\n",
      "    \"day_11_date\": \"YYYY-MM-DD\",\n",
      "    \"day_11_stock_news\": \"Stock News\",\n",
      "    \"day_12_date\": \"YYYY-MM-DD\",\n",
      "    \"day_12_stock_news\": \"Stock News\",\n",
      "    \"day_13_date\": \"YYYY-MM-DD\",\n",
      "    \"day_13_stock_news\": \"Stock News\",\n",
      "    \"day_14_date\": \"YYYY-MM-DD\",\n",
      "    \"day_14_stock_news\": \"Stock News\"\n",
      "}\n",
      "instruction_2:  Given the stock data of AAPL over the first 7 trading day, predict the stock data of AAPL over the next 7 trading day. Return the result strictly in the following JSON format, with no additional text: {\n",
      "    \"day_8_date\": \"YYYY-MM-DD\",\n",
      "    \"day_8_stock_news\": \"Stock News\",\n",
      "    \"day_8_Close\": \"A Float Number\",\n",
      "    \"day_9_date\": \"YYYY-MM-DD\",\n",
      "    \"day_9_stock_news\": \"Stock News\",\n",
      "    \"day_9_Close\": \"A Float Number\",\n",
      "    \"day_10_date\": \"YYYY-MM-DD\",\n",
      "    \"day_10_stock_news\": \"Stock News\",\n",
      "    \"day_10_Close\": \"A Float Number\",\n",
      "    \"day_11_date\": \"YYYY-MM-DD\",\n",
      "    \"day_11_stock_news\": \"Stock News\",\n",
      "    \"day_11_Close\": \"A Float Number\",\n",
      "    \"day_12_date\": \"YYYY-MM-DD\",\n",
      "    \"day_12_stock_news\": \"Stock News\",\n",
      "    \"day_12_Close\": \"A Float Number\",\n",
      "    \"day_13_date\": \"YYYY-MM-DD\",\n",
      "    \"day_13_stock_news\": \"Stock News\",\n",
      "    \"day_13_Close\": \"A Float Number\",\n",
      "    \"day_14_date\": \"YYYY-MM-DD\",\n",
      "    \"day_14_stock_news\": \"Stock News\",\n",
      "    \"day_14_Close\": \"A Float Number\"\n",
      "}\n",
      "instruction_3:  Given the stock data of AAPL over the first 7 trading day, predict the stock data of AAPL over the next 7 trading day. Return the result strictly in the following JSON format, with no additional text: {\n",
      "    \"day_8_date\": \"YYYY-MM-DD\",\n",
      "    \"day_8_stock_news\": \"Stock News\",\n",
      "    \"day_9_date\": \"YYYY-MM-DD\",\n",
      "    \"day_9_stock_news\": \"Stock News\",\n",
      "    \"day_10_date\": \"YYYY-MM-DD\",\n",
      "    \"day_10_stock_news\": \"Stock News\",\n",
      "    \"day_11_date\": \"YYYY-MM-DD\",\n",
      "    \"day_11_stock_news\": \"Stock News\",\n",
      "    \"day_12_date\": \"YYYY-MM-DD\",\n",
      "    \"day_12_stock_news\": \"Stock News\",\n",
      "    \"day_13_date\": \"YYYY-MM-DD\",\n",
      "    \"day_13_stock_news\": \"Stock News\",\n",
      "    \"day_14_date\": \"YYYY-MM-DD\",\n",
      "    \"day_14_stock_news\": \"Stock News\"\n",
      "}\n",
      "instruction_4:  Given the stock data of AAPL over the first 7 trading day, predict the stock data of AAPL over the next 7 trading day. Return the result strictly in the following JSON format, with no additional text: {\n",
      "    \"day_8_date\": \"YYYY-MM-DD\",\n",
      "    \"day_8_Close\": \"A Float Number\",\n",
      "    \"day_9_date\": \"YYYY-MM-DD\",\n",
      "    \"day_9_Close\": \"A Float Number\",\n",
      "    \"day_10_date\": \"YYYY-MM-DD\",\n",
      "    \"day_10_Close\": \"A Float Number\",\n",
      "    \"day_11_date\": \"YYYY-MM-DD\",\n",
      "    \"day_11_Close\": \"A Float Number\",\n",
      "    \"day_12_date\": \"YYYY-MM-DD\",\n",
      "    \"day_12_Close\": \"A Float Number\",\n",
      "    \"day_13_date\": \"YYYY-MM-DD\",\n",
      "    \"day_13_Close\": \"A Float Number\",\n",
      "    \"day_14_date\": \"YYYY-MM-DD\",\n",
      "    \"day_14_Close\": \"A Float Number\"\n",
      "}\n"
     ]
    },
    {
     "data": {
      "application/vnd.jupyter.widget-view+json": {
       "model_id": "ef9d7b2dec7f4c5595cd54439dfc6edf",
       "version_major": 2,
       "version_minor": 0
      },
      "text/plain": [
       "Uploading the dataset shards:   0%|          | 0/1 [00:00<?, ?it/s]"
      ]
     },
     "metadata": {},
     "output_type": "display_data"
    },
    {
     "data": {
      "application/vnd.jupyter.widget-view+json": {
       "model_id": "5720024d8ba74fe58490f7c10026bd09",
       "version_major": 2,
       "version_minor": 0
      },
      "text/plain": [
       "Creating parquet from Arrow format:   0%|          | 0/1 [00:00<?, ?ba/s]"
      ]
     },
     "metadata": {},
     "output_type": "display_data"
    },
    {
     "data": {
      "application/vnd.jupyter.widget-view+json": {
       "model_id": "ed1eeef3e1ec476e91ccf0e8bad1589f",
       "version_major": 2,
       "version_minor": 0
      },
      "text/plain": [
       "Uploading the dataset shards:   0%|          | 0/1 [00:00<?, ?it/s]"
      ]
     },
     "metadata": {},
     "output_type": "display_data"
    },
    {
     "data": {
      "application/vnd.jupyter.widget-view+json": {
       "model_id": "d6770d8f9b4841a58bc6b948073ce22c",
       "version_major": 2,
       "version_minor": 0
      },
      "text/plain": [
       "Creating parquet from Arrow format:   0%|          | 0/1 [00:00<?, ?ba/s]"
      ]
     },
     "metadata": {},
     "output_type": "display_data"
    },
    {
     "data": {
      "application/vnd.jupyter.widget-view+json": {
       "model_id": "d03a93dba65e41fc84f3957b4665354c",
       "version_major": 2,
       "version_minor": 0
      },
      "text/plain": [
       "Uploading the dataset shards:   0%|          | 0/1 [00:00<?, ?it/s]"
      ]
     },
     "metadata": {},
     "output_type": "display_data"
    },
    {
     "data": {
      "application/vnd.jupyter.widget-view+json": {
       "model_id": "8f15c9b443094aa9acd48375c354a378",
       "version_major": 2,
       "version_minor": 0
      },
      "text/plain": [
       "Creating parquet from Arrow format:   0%|          | 0/1 [00:00<?, ?ba/s]"
      ]
     },
     "metadata": {},
     "output_type": "display_data"
    },
    {
     "name": "stdout",
     "output_type": "stream",
     "text": [
      "Saved configuration with input_window=1 and output_window=1.\n",
      "instruction_1:  Given the stock data of AMD over the first 1 trading day, predict the stock data of AMD over the next 1 trading day. Return the result strictly in the following JSON format, with no additional text: {\n",
      "    \"day_2_date\": \"YYYY-MM-DD\",\n",
      "    \"day_2_stock_news\": \"Stock News\"\n",
      "}\n",
      "instruction_2:  Given the stock data of AMD over the first 1 trading day, predict the stock data of AMD over the next 1 trading day. Return the result strictly in the following JSON format, with no additional text: {\n",
      "    \"day_2_date\": \"YYYY-MM-DD\",\n",
      "    \"day_2_stock_news\": \"Stock News\",\n",
      "    \"day_2_Close\": \"A Float Number\"\n",
      "}\n",
      "instruction_3:  Given the stock data of AMD over the first 1 trading day, predict the stock data of AMD over the next 1 trading day. Return the result strictly in the following JSON format, with no additional text: {\n",
      "    \"day_2_date\": \"YYYY-MM-DD\",\n",
      "    \"day_2_stock_news\": \"Stock News\"\n",
      "}\n",
      "instruction_4:  Given the stock data of AMD over the first 1 trading day, predict the stock data of AMD over the next 1 trading day. Return the result strictly in the following JSON format, with no additional text: {\n",
      "    \"day_2_date\": \"YYYY-MM-DD\",\n",
      "    \"day_2_Close\": \"A Float Number\"\n",
      "}\n"
     ]
    },
    {
     "data": {
      "application/vnd.jupyter.widget-view+json": {
       "model_id": "8e136d546ddc4c62a3d5c12f9f4399a8",
       "version_major": 2,
       "version_minor": 0
      },
      "text/plain": [
       "Uploading the dataset shards:   0%|          | 0/1 [00:00<?, ?it/s]"
      ]
     },
     "metadata": {},
     "output_type": "display_data"
    },
    {
     "data": {
      "application/vnd.jupyter.widget-view+json": {
       "model_id": "cc87257c606048249a9a35ee834934ad",
       "version_major": 2,
       "version_minor": 0
      },
      "text/plain": [
       "Creating parquet from Arrow format:   0%|          | 0/1 [00:00<?, ?ba/s]"
      ]
     },
     "metadata": {},
     "output_type": "display_data"
    },
    {
     "data": {
      "application/vnd.jupyter.widget-view+json": {
       "model_id": "c3f1da6e719745c3932a4c1271e38457",
       "version_major": 2,
       "version_minor": 0
      },
      "text/plain": [
       "Uploading the dataset shards:   0%|          | 0/1 [00:00<?, ?it/s]"
      ]
     },
     "metadata": {},
     "output_type": "display_data"
    },
    {
     "data": {
      "application/vnd.jupyter.widget-view+json": {
       "model_id": "21118f1f4217452b899998ce81466ff8",
       "version_major": 2,
       "version_minor": 0
      },
      "text/plain": [
       "Creating parquet from Arrow format:   0%|          | 0/1 [00:00<?, ?ba/s]"
      ]
     },
     "metadata": {},
     "output_type": "display_data"
    },
    {
     "data": {
      "application/vnd.jupyter.widget-view+json": {
       "model_id": "ebfdb9ea4bc0416c96f241c03cb6b2f4",
       "version_major": 2,
       "version_minor": 0
      },
      "text/plain": [
       "Uploading the dataset shards:   0%|          | 0/1 [00:00<?, ?it/s]"
      ]
     },
     "metadata": {},
     "output_type": "display_data"
    },
    {
     "data": {
      "application/vnd.jupyter.widget-view+json": {
       "model_id": "725fc943942e47a4b4bbb5fd81eddcc4",
       "version_major": 2,
       "version_minor": 0
      },
      "text/plain": [
       "Creating parquet from Arrow format:   0%|          | 0/1 [00:00<?, ?ba/s]"
      ]
     },
     "metadata": {},
     "output_type": "display_data"
    },
    {
     "name": "stdout",
     "output_type": "stream",
     "text": [
      "Saved configuration with input_window=2 and output_window=2.\n",
      "instruction_1:  Given the stock data of AMD over the first 2 trading day, predict the stock data of AMD over the next 2 trading day. Return the result strictly in the following JSON format, with no additional text: {\n",
      "    \"day_3_date\": \"YYYY-MM-DD\",\n",
      "    \"day_3_stock_news\": \"Stock News\",\n",
      "    \"day_4_date\": \"YYYY-MM-DD\",\n",
      "    \"day_4_stock_news\": \"Stock News\"\n",
      "}\n",
      "instruction_2:  Given the stock data of AMD over the first 2 trading day, predict the stock data of AMD over the next 2 trading day. Return the result strictly in the following JSON format, with no additional text: {\n",
      "    \"day_3_date\": \"YYYY-MM-DD\",\n",
      "    \"day_3_stock_news\": \"Stock News\",\n",
      "    \"day_3_Close\": \"A Float Number\",\n",
      "    \"day_4_date\": \"YYYY-MM-DD\",\n",
      "    \"day_4_stock_news\": \"Stock News\",\n",
      "    \"day_4_Close\": \"A Float Number\"\n",
      "}\n",
      "instruction_3:  Given the stock data of AMD over the first 2 trading day, predict the stock data of AMD over the next 2 trading day. Return the result strictly in the following JSON format, with no additional text: {\n",
      "    \"day_3_date\": \"YYYY-MM-DD\",\n",
      "    \"day_3_stock_news\": \"Stock News\",\n",
      "    \"day_4_date\": \"YYYY-MM-DD\",\n",
      "    \"day_4_stock_news\": \"Stock News\"\n",
      "}\n",
      "instruction_4:  Given the stock data of AMD over the first 2 trading day, predict the stock data of AMD over the next 2 trading day. Return the result strictly in the following JSON format, with no additional text: {\n",
      "    \"day_3_date\": \"YYYY-MM-DD\",\n",
      "    \"day_3_Close\": \"A Float Number\",\n",
      "    \"day_4_date\": \"YYYY-MM-DD\",\n",
      "    \"day_4_Close\": \"A Float Number\"\n",
      "}\n"
     ]
    },
    {
     "data": {
      "application/vnd.jupyter.widget-view+json": {
       "model_id": "d1eb8831d8334802995ab99583bc991c",
       "version_major": 2,
       "version_minor": 0
      },
      "text/plain": [
       "Uploading the dataset shards:   0%|          | 0/1 [00:00<?, ?it/s]"
      ]
     },
     "metadata": {},
     "output_type": "display_data"
    },
    {
     "data": {
      "application/vnd.jupyter.widget-view+json": {
       "model_id": "7a4615cd21634189ba32eb7892d17138",
       "version_major": 2,
       "version_minor": 0
      },
      "text/plain": [
       "Creating parquet from Arrow format:   0%|          | 0/1 [00:00<?, ?ba/s]"
      ]
     },
     "metadata": {},
     "output_type": "display_data"
    },
    {
     "data": {
      "application/vnd.jupyter.widget-view+json": {
       "model_id": "f6c55f80ac48446eb9aadab82e54e9da",
       "version_major": 2,
       "version_minor": 0
      },
      "text/plain": [
       "Uploading the dataset shards:   0%|          | 0/1 [00:00<?, ?it/s]"
      ]
     },
     "metadata": {},
     "output_type": "display_data"
    },
    {
     "data": {
      "application/vnd.jupyter.widget-view+json": {
       "model_id": "a3652765e54d40659d547666b28699e8",
       "version_major": 2,
       "version_minor": 0
      },
      "text/plain": [
       "Creating parquet from Arrow format:   0%|          | 0/1 [00:00<?, ?ba/s]"
      ]
     },
     "metadata": {},
     "output_type": "display_data"
    },
    {
     "data": {
      "application/vnd.jupyter.widget-view+json": {
       "model_id": "f2864b74cd4c45d78e638d795a37279c",
       "version_major": 2,
       "version_minor": 0
      },
      "text/plain": [
       "Uploading the dataset shards:   0%|          | 0/1 [00:00<?, ?it/s]"
      ]
     },
     "metadata": {},
     "output_type": "display_data"
    },
    {
     "data": {
      "application/vnd.jupyter.widget-view+json": {
       "model_id": "ae210d7508484bf49334b7cf88b2aad9",
       "version_major": 2,
       "version_minor": 0
      },
      "text/plain": [
       "Creating parquet from Arrow format:   0%|          | 0/1 [00:00<?, ?ba/s]"
      ]
     },
     "metadata": {},
     "output_type": "display_data"
    },
    {
     "name": "stdout",
     "output_type": "stream",
     "text": [
      "Saved configuration with input_window=3 and output_window=3.\n",
      "instruction_1:  Given the stock data of AMD over the first 3 trading day, predict the stock data of AMD over the next 3 trading day. Return the result strictly in the following JSON format, with no additional text: {\n",
      "    \"day_4_date\": \"YYYY-MM-DD\",\n",
      "    \"day_4_stock_news\": \"Stock News\",\n",
      "    \"day_5_date\": \"YYYY-MM-DD\",\n",
      "    \"day_5_stock_news\": \"Stock News\",\n",
      "    \"day_6_date\": \"YYYY-MM-DD\",\n",
      "    \"day_6_stock_news\": \"Stock News\"\n",
      "}\n",
      "instruction_2:  Given the stock data of AMD over the first 3 trading day, predict the stock data of AMD over the next 3 trading day. Return the result strictly in the following JSON format, with no additional text: {\n",
      "    \"day_4_date\": \"YYYY-MM-DD\",\n",
      "    \"day_4_stock_news\": \"Stock News\",\n",
      "    \"day_4_Close\": \"A Float Number\",\n",
      "    \"day_5_date\": \"YYYY-MM-DD\",\n",
      "    \"day_5_stock_news\": \"Stock News\",\n",
      "    \"day_5_Close\": \"A Float Number\",\n",
      "    \"day_6_date\": \"YYYY-MM-DD\",\n",
      "    \"day_6_stock_news\": \"Stock News\",\n",
      "    \"day_6_Close\": \"A Float Number\"\n",
      "}\n",
      "instruction_3:  Given the stock data of AMD over the first 3 trading day, predict the stock data of AMD over the next 3 trading day. Return the result strictly in the following JSON format, with no additional text: {\n",
      "    \"day_4_date\": \"YYYY-MM-DD\",\n",
      "    \"day_4_stock_news\": \"Stock News\",\n",
      "    \"day_5_date\": \"YYYY-MM-DD\",\n",
      "    \"day_5_stock_news\": \"Stock News\",\n",
      "    \"day_6_date\": \"YYYY-MM-DD\",\n",
      "    \"day_6_stock_news\": \"Stock News\"\n",
      "}\n",
      "instruction_4:  Given the stock data of AMD over the first 3 trading day, predict the stock data of AMD over the next 3 trading day. Return the result strictly in the following JSON format, with no additional text: {\n",
      "    \"day_4_date\": \"YYYY-MM-DD\",\n",
      "    \"day_4_Close\": \"A Float Number\",\n",
      "    \"day_5_date\": \"YYYY-MM-DD\",\n",
      "    \"day_5_Close\": \"A Float Number\",\n",
      "    \"day_6_date\": \"YYYY-MM-DD\",\n",
      "    \"day_6_Close\": \"A Float Number\"\n",
      "}\n"
     ]
    },
    {
     "data": {
      "application/vnd.jupyter.widget-view+json": {
       "model_id": "0c9ceb883f5f426badfaff84943db7c3",
       "version_major": 2,
       "version_minor": 0
      },
      "text/plain": [
       "Uploading the dataset shards:   0%|          | 0/1 [00:00<?, ?it/s]"
      ]
     },
     "metadata": {},
     "output_type": "display_data"
    },
    {
     "data": {
      "application/vnd.jupyter.widget-view+json": {
       "model_id": "9c9b9efc6c0b4278a6f4df3de316a649",
       "version_major": 2,
       "version_minor": 0
      },
      "text/plain": [
       "Creating parquet from Arrow format:   0%|          | 0/1 [00:00<?, ?ba/s]"
      ]
     },
     "metadata": {},
     "output_type": "display_data"
    },
    {
     "data": {
      "application/vnd.jupyter.widget-view+json": {
       "model_id": "1ad4296f61944c54ae1eebecde1e492b",
       "version_major": 2,
       "version_minor": 0
      },
      "text/plain": [
       "Uploading the dataset shards:   0%|          | 0/1 [00:00<?, ?it/s]"
      ]
     },
     "metadata": {},
     "output_type": "display_data"
    },
    {
     "data": {
      "application/vnd.jupyter.widget-view+json": {
       "model_id": "442c9fe8c3874775ab2deb812ffb5415",
       "version_major": 2,
       "version_minor": 0
      },
      "text/plain": [
       "Creating parquet from Arrow format:   0%|          | 0/1 [00:00<?, ?ba/s]"
      ]
     },
     "metadata": {},
     "output_type": "display_data"
    },
    {
     "data": {
      "application/vnd.jupyter.widget-view+json": {
       "model_id": "d279890cd90d4005b923a98eb5295e7c",
       "version_major": 2,
       "version_minor": 0
      },
      "text/plain": [
       "Uploading the dataset shards:   0%|          | 0/1 [00:00<?, ?it/s]"
      ]
     },
     "metadata": {},
     "output_type": "display_data"
    },
    {
     "data": {
      "application/vnd.jupyter.widget-view+json": {
       "model_id": "c9ed725424dd40fd8b1d7df634c46828",
       "version_major": 2,
       "version_minor": 0
      },
      "text/plain": [
       "Creating parquet from Arrow format:   0%|          | 0/1 [00:00<?, ?ba/s]"
      ]
     },
     "metadata": {},
     "output_type": "display_data"
    },
    {
     "name": "stdout",
     "output_type": "stream",
     "text": [
      "Saved configuration with input_window=4 and output_window=4.\n",
      "instruction_1:  Given the stock data of AMD over the first 4 trading day, predict the stock data of AMD over the next 4 trading day. Return the result strictly in the following JSON format, with no additional text: {\n",
      "    \"day_5_date\": \"YYYY-MM-DD\",\n",
      "    \"day_5_stock_news\": \"Stock News\",\n",
      "    \"day_6_date\": \"YYYY-MM-DD\",\n",
      "    \"day_6_stock_news\": \"Stock News\",\n",
      "    \"day_7_date\": \"YYYY-MM-DD\",\n",
      "    \"day_7_stock_news\": \"Stock News\",\n",
      "    \"day_8_date\": \"YYYY-MM-DD\",\n",
      "    \"day_8_stock_news\": \"Stock News\"\n",
      "}\n",
      "instruction_2:  Given the stock data of AMD over the first 4 trading day, predict the stock data of AMD over the next 4 trading day. Return the result strictly in the following JSON format, with no additional text: {\n",
      "    \"day_5_date\": \"YYYY-MM-DD\",\n",
      "    \"day_5_stock_news\": \"Stock News\",\n",
      "    \"day_5_Close\": \"A Float Number\",\n",
      "    \"day_6_date\": \"YYYY-MM-DD\",\n",
      "    \"day_6_stock_news\": \"Stock News\",\n",
      "    \"day_6_Close\": \"A Float Number\",\n",
      "    \"day_7_date\": \"YYYY-MM-DD\",\n",
      "    \"day_7_stock_news\": \"Stock News\",\n",
      "    \"day_7_Close\": \"A Float Number\",\n",
      "    \"day_8_date\": \"YYYY-MM-DD\",\n",
      "    \"day_8_stock_news\": \"Stock News\",\n",
      "    \"day_8_Close\": \"A Float Number\"\n",
      "}\n",
      "instruction_3:  Given the stock data of AMD over the first 4 trading day, predict the stock data of AMD over the next 4 trading day. Return the result strictly in the following JSON format, with no additional text: {\n",
      "    \"day_5_date\": \"YYYY-MM-DD\",\n",
      "    \"day_5_stock_news\": \"Stock News\",\n",
      "    \"day_6_date\": \"YYYY-MM-DD\",\n",
      "    \"day_6_stock_news\": \"Stock News\",\n",
      "    \"day_7_date\": \"YYYY-MM-DD\",\n",
      "    \"day_7_stock_news\": \"Stock News\",\n",
      "    \"day_8_date\": \"YYYY-MM-DD\",\n",
      "    \"day_8_stock_news\": \"Stock News\"\n",
      "}\n",
      "instruction_4:  Given the stock data of AMD over the first 4 trading day, predict the stock data of AMD over the next 4 trading day. Return the result strictly in the following JSON format, with no additional text: {\n",
      "    \"day_5_date\": \"YYYY-MM-DD\",\n",
      "    \"day_5_Close\": \"A Float Number\",\n",
      "    \"day_6_date\": \"YYYY-MM-DD\",\n",
      "    \"day_6_Close\": \"A Float Number\",\n",
      "    \"day_7_date\": \"YYYY-MM-DD\",\n",
      "    \"day_7_Close\": \"A Float Number\",\n",
      "    \"day_8_date\": \"YYYY-MM-DD\",\n",
      "    \"day_8_Close\": \"A Float Number\"\n",
      "}\n"
     ]
    },
    {
     "data": {
      "application/vnd.jupyter.widget-view+json": {
       "model_id": "df81d3fed90c4b65b048c51ce34e3e68",
       "version_major": 2,
       "version_minor": 0
      },
      "text/plain": [
       "Uploading the dataset shards:   0%|          | 0/1 [00:00<?, ?it/s]"
      ]
     },
     "metadata": {},
     "output_type": "display_data"
    },
    {
     "data": {
      "application/vnd.jupyter.widget-view+json": {
       "model_id": "eb12cb74130c4d38880f5d5330364cd5",
       "version_major": 2,
       "version_minor": 0
      },
      "text/plain": [
       "Creating parquet from Arrow format:   0%|          | 0/1 [00:00<?, ?ba/s]"
      ]
     },
     "metadata": {},
     "output_type": "display_data"
    },
    {
     "data": {
      "application/vnd.jupyter.widget-view+json": {
       "model_id": "0d68929e53804e97a378555346911214",
       "version_major": 2,
       "version_minor": 0
      },
      "text/plain": [
       "Uploading the dataset shards:   0%|          | 0/1 [00:00<?, ?it/s]"
      ]
     },
     "metadata": {},
     "output_type": "display_data"
    },
    {
     "data": {
      "application/vnd.jupyter.widget-view+json": {
       "model_id": "bb3c3ccaed834671b76752d034edf30c",
       "version_major": 2,
       "version_minor": 0
      },
      "text/plain": [
       "Creating parquet from Arrow format:   0%|          | 0/1 [00:00<?, ?ba/s]"
      ]
     },
     "metadata": {},
     "output_type": "display_data"
    },
    {
     "data": {
      "application/vnd.jupyter.widget-view+json": {
       "model_id": "7976810233c542309b4b653c48b0337d",
       "version_major": 2,
       "version_minor": 0
      },
      "text/plain": [
       "Uploading the dataset shards:   0%|          | 0/1 [00:00<?, ?it/s]"
      ]
     },
     "metadata": {},
     "output_type": "display_data"
    },
    {
     "data": {
      "application/vnd.jupyter.widget-view+json": {
       "model_id": "633c39e01870456a8e5f61a0209c0f1a",
       "version_major": 2,
       "version_minor": 0
      },
      "text/plain": [
       "Creating parquet from Arrow format:   0%|          | 0/1 [00:00<?, ?ba/s]"
      ]
     },
     "metadata": {},
     "output_type": "display_data"
    },
    {
     "name": "stdout",
     "output_type": "stream",
     "text": [
      "Saved configuration with input_window=5 and output_window=5.\n",
      "instruction_1:  Given the stock data of AMD over the first 5 trading day, predict the stock data of AMD over the next 5 trading day. Return the result strictly in the following JSON format, with no additional text: {\n",
      "    \"day_6_date\": \"YYYY-MM-DD\",\n",
      "    \"day_6_stock_news\": \"Stock News\",\n",
      "    \"day_7_date\": \"YYYY-MM-DD\",\n",
      "    \"day_7_stock_news\": \"Stock News\",\n",
      "    \"day_8_date\": \"YYYY-MM-DD\",\n",
      "    \"day_8_stock_news\": \"Stock News\",\n",
      "    \"day_9_date\": \"YYYY-MM-DD\",\n",
      "    \"day_9_stock_news\": \"Stock News\",\n",
      "    \"day_10_date\": \"YYYY-MM-DD\",\n",
      "    \"day_10_stock_news\": \"Stock News\"\n",
      "}\n",
      "instruction_2:  Given the stock data of AMD over the first 5 trading day, predict the stock data of AMD over the next 5 trading day. Return the result strictly in the following JSON format, with no additional text: {\n",
      "    \"day_6_date\": \"YYYY-MM-DD\",\n",
      "    \"day_6_stock_news\": \"Stock News\",\n",
      "    \"day_6_Close\": \"A Float Number\",\n",
      "    \"day_7_date\": \"YYYY-MM-DD\",\n",
      "    \"day_7_stock_news\": \"Stock News\",\n",
      "    \"day_7_Close\": \"A Float Number\",\n",
      "    \"day_8_date\": \"YYYY-MM-DD\",\n",
      "    \"day_8_stock_news\": \"Stock News\",\n",
      "    \"day_8_Close\": \"A Float Number\",\n",
      "    \"day_9_date\": \"YYYY-MM-DD\",\n",
      "    \"day_9_stock_news\": \"Stock News\",\n",
      "    \"day_9_Close\": \"A Float Number\",\n",
      "    \"day_10_date\": \"YYYY-MM-DD\",\n",
      "    \"day_10_stock_news\": \"Stock News\",\n",
      "    \"day_10_Close\": \"A Float Number\"\n",
      "}\n",
      "instruction_3:  Given the stock data of AMD over the first 5 trading day, predict the stock data of AMD over the next 5 trading day. Return the result strictly in the following JSON format, with no additional text: {\n",
      "    \"day_6_date\": \"YYYY-MM-DD\",\n",
      "    \"day_6_stock_news\": \"Stock News\",\n",
      "    \"day_7_date\": \"YYYY-MM-DD\",\n",
      "    \"day_7_stock_news\": \"Stock News\",\n",
      "    \"day_8_date\": \"YYYY-MM-DD\",\n",
      "    \"day_8_stock_news\": \"Stock News\",\n",
      "    \"day_9_date\": \"YYYY-MM-DD\",\n",
      "    \"day_9_stock_news\": \"Stock News\",\n",
      "    \"day_10_date\": \"YYYY-MM-DD\",\n",
      "    \"day_10_stock_news\": \"Stock News\"\n",
      "}\n",
      "instruction_4:  Given the stock data of AMD over the first 5 trading day, predict the stock data of AMD over the next 5 trading day. Return the result strictly in the following JSON format, with no additional text: {\n",
      "    \"day_6_date\": \"YYYY-MM-DD\",\n",
      "    \"day_6_Close\": \"A Float Number\",\n",
      "    \"day_7_date\": \"YYYY-MM-DD\",\n",
      "    \"day_7_Close\": \"A Float Number\",\n",
      "    \"day_8_date\": \"YYYY-MM-DD\",\n",
      "    \"day_8_Close\": \"A Float Number\",\n",
      "    \"day_9_date\": \"YYYY-MM-DD\",\n",
      "    \"day_9_Close\": \"A Float Number\",\n",
      "    \"day_10_date\": \"YYYY-MM-DD\",\n",
      "    \"day_10_Close\": \"A Float Number\"\n",
      "}\n"
     ]
    },
    {
     "data": {
      "application/vnd.jupyter.widget-view+json": {
       "model_id": "c47bb2afda684cdaae2a6555dba6b00e",
       "version_major": 2,
       "version_minor": 0
      },
      "text/plain": [
       "Uploading the dataset shards:   0%|          | 0/1 [00:00<?, ?it/s]"
      ]
     },
     "metadata": {},
     "output_type": "display_data"
    },
    {
     "data": {
      "application/vnd.jupyter.widget-view+json": {
       "model_id": "45d3cedfae39460ba8e422d3f36c5fc2",
       "version_major": 2,
       "version_minor": 0
      },
      "text/plain": [
       "Creating parquet from Arrow format:   0%|          | 0/1 [00:00<?, ?ba/s]"
      ]
     },
     "metadata": {},
     "output_type": "display_data"
    },
    {
     "data": {
      "application/vnd.jupyter.widget-view+json": {
       "model_id": "2075a840b05f4287a516bf1218e1e41c",
       "version_major": 2,
       "version_minor": 0
      },
      "text/plain": [
       "Uploading the dataset shards:   0%|          | 0/1 [00:00<?, ?it/s]"
      ]
     },
     "metadata": {},
     "output_type": "display_data"
    },
    {
     "data": {
      "application/vnd.jupyter.widget-view+json": {
       "model_id": "38c135d31a28438ab448dfad8591317e",
       "version_major": 2,
       "version_minor": 0
      },
      "text/plain": [
       "Creating parquet from Arrow format:   0%|          | 0/1 [00:00<?, ?ba/s]"
      ]
     },
     "metadata": {},
     "output_type": "display_data"
    },
    {
     "data": {
      "application/vnd.jupyter.widget-view+json": {
       "model_id": "f857ec3c2fc544e1b4e11ae3d83015c8",
       "version_major": 2,
       "version_minor": 0
      },
      "text/plain": [
       "Uploading the dataset shards:   0%|          | 0/1 [00:00<?, ?it/s]"
      ]
     },
     "metadata": {},
     "output_type": "display_data"
    },
    {
     "data": {
      "application/vnd.jupyter.widget-view+json": {
       "model_id": "a34798a72b9947aab16d8df46e13fbd2",
       "version_major": 2,
       "version_minor": 0
      },
      "text/plain": [
       "Creating parquet from Arrow format:   0%|          | 0/1 [00:00<?, ?ba/s]"
      ]
     },
     "metadata": {},
     "output_type": "display_data"
    },
    {
     "name": "stdout",
     "output_type": "stream",
     "text": [
      "Saved configuration with input_window=6 and output_window=6.\n",
      "instruction_1:  Given the stock data of AMD over the first 6 trading day, predict the stock data of AMD over the next 6 trading day. Return the result strictly in the following JSON format, with no additional text: {\n",
      "    \"day_7_date\": \"YYYY-MM-DD\",\n",
      "    \"day_7_stock_news\": \"Stock News\",\n",
      "    \"day_8_date\": \"YYYY-MM-DD\",\n",
      "    \"day_8_stock_news\": \"Stock News\",\n",
      "    \"day_9_date\": \"YYYY-MM-DD\",\n",
      "    \"day_9_stock_news\": \"Stock News\",\n",
      "    \"day_10_date\": \"YYYY-MM-DD\",\n",
      "    \"day_10_stock_news\": \"Stock News\",\n",
      "    \"day_11_date\": \"YYYY-MM-DD\",\n",
      "    \"day_11_stock_news\": \"Stock News\",\n",
      "    \"day_12_date\": \"YYYY-MM-DD\",\n",
      "    \"day_12_stock_news\": \"Stock News\"\n",
      "}\n",
      "instruction_2:  Given the stock data of AMD over the first 6 trading day, predict the stock data of AMD over the next 6 trading day. Return the result strictly in the following JSON format, with no additional text: {\n",
      "    \"day_7_date\": \"YYYY-MM-DD\",\n",
      "    \"day_7_stock_news\": \"Stock News\",\n",
      "    \"day_7_Close\": \"A Float Number\",\n",
      "    \"day_8_date\": \"YYYY-MM-DD\",\n",
      "    \"day_8_stock_news\": \"Stock News\",\n",
      "    \"day_8_Close\": \"A Float Number\",\n",
      "    \"day_9_date\": \"YYYY-MM-DD\",\n",
      "    \"day_9_stock_news\": \"Stock News\",\n",
      "    \"day_9_Close\": \"A Float Number\",\n",
      "    \"day_10_date\": \"YYYY-MM-DD\",\n",
      "    \"day_10_stock_news\": \"Stock News\",\n",
      "    \"day_10_Close\": \"A Float Number\",\n",
      "    \"day_11_date\": \"YYYY-MM-DD\",\n",
      "    \"day_11_stock_news\": \"Stock News\",\n",
      "    \"day_11_Close\": \"A Float Number\",\n",
      "    \"day_12_date\": \"YYYY-MM-DD\",\n",
      "    \"day_12_stock_news\": \"Stock News\",\n",
      "    \"day_12_Close\": \"A Float Number\"\n",
      "}\n",
      "instruction_3:  Given the stock data of AMD over the first 6 trading day, predict the stock data of AMD over the next 6 trading day. Return the result strictly in the following JSON format, with no additional text: {\n",
      "    \"day_7_date\": \"YYYY-MM-DD\",\n",
      "    \"day_7_stock_news\": \"Stock News\",\n",
      "    \"day_8_date\": \"YYYY-MM-DD\",\n",
      "    \"day_8_stock_news\": \"Stock News\",\n",
      "    \"day_9_date\": \"YYYY-MM-DD\",\n",
      "    \"day_9_stock_news\": \"Stock News\",\n",
      "    \"day_10_date\": \"YYYY-MM-DD\",\n",
      "    \"day_10_stock_news\": \"Stock News\",\n",
      "    \"day_11_date\": \"YYYY-MM-DD\",\n",
      "    \"day_11_stock_news\": \"Stock News\",\n",
      "    \"day_12_date\": \"YYYY-MM-DD\",\n",
      "    \"day_12_stock_news\": \"Stock News\"\n",
      "}\n",
      "instruction_4:  Given the stock data of AMD over the first 6 trading day, predict the stock data of AMD over the next 6 trading day. Return the result strictly in the following JSON format, with no additional text: {\n",
      "    \"day_7_date\": \"YYYY-MM-DD\",\n",
      "    \"day_7_Close\": \"A Float Number\",\n",
      "    \"day_8_date\": \"YYYY-MM-DD\",\n",
      "    \"day_8_Close\": \"A Float Number\",\n",
      "    \"day_9_date\": \"YYYY-MM-DD\",\n",
      "    \"day_9_Close\": \"A Float Number\",\n",
      "    \"day_10_date\": \"YYYY-MM-DD\",\n",
      "    \"day_10_Close\": \"A Float Number\",\n",
      "    \"day_11_date\": \"YYYY-MM-DD\",\n",
      "    \"day_11_Close\": \"A Float Number\",\n",
      "    \"day_12_date\": \"YYYY-MM-DD\",\n",
      "    \"day_12_Close\": \"A Float Number\"\n",
      "}\n"
     ]
    },
    {
     "data": {
      "application/vnd.jupyter.widget-view+json": {
       "model_id": "0066d3912d264786bc4623d3192f9ee7",
       "version_major": 2,
       "version_minor": 0
      },
      "text/plain": [
       "Uploading the dataset shards:   0%|          | 0/1 [00:00<?, ?it/s]"
      ]
     },
     "metadata": {},
     "output_type": "display_data"
    },
    {
     "data": {
      "application/vnd.jupyter.widget-view+json": {
       "model_id": "ae7f45a278874a779852b1bbc03c4413",
       "version_major": 2,
       "version_minor": 0
      },
      "text/plain": [
       "Creating parquet from Arrow format:   0%|          | 0/1 [00:00<?, ?ba/s]"
      ]
     },
     "metadata": {},
     "output_type": "display_data"
    },
    {
     "data": {
      "application/vnd.jupyter.widget-view+json": {
       "model_id": "f343833f85664e37a44c9e48446b01d9",
       "version_major": 2,
       "version_minor": 0
      },
      "text/plain": [
       "Uploading the dataset shards:   0%|          | 0/1 [00:00<?, ?it/s]"
      ]
     },
     "metadata": {},
     "output_type": "display_data"
    },
    {
     "data": {
      "application/vnd.jupyter.widget-view+json": {
       "model_id": "ab65b3e9c4c047e0ac382d2572fd72d6",
       "version_major": 2,
       "version_minor": 0
      },
      "text/plain": [
       "Creating parquet from Arrow format:   0%|          | 0/1 [00:00<?, ?ba/s]"
      ]
     },
     "metadata": {},
     "output_type": "display_data"
    },
    {
     "data": {
      "application/vnd.jupyter.widget-view+json": {
       "model_id": "bc54ffd7c34b424b8af277064576c3d4",
       "version_major": 2,
       "version_minor": 0
      },
      "text/plain": [
       "Uploading the dataset shards:   0%|          | 0/1 [00:00<?, ?it/s]"
      ]
     },
     "metadata": {},
     "output_type": "display_data"
    },
    {
     "data": {
      "application/vnd.jupyter.widget-view+json": {
       "model_id": "e4b8e93fbe184cf3989fa1925a7034a8",
       "version_major": 2,
       "version_minor": 0
      },
      "text/plain": [
       "Creating parquet from Arrow format:   0%|          | 0/1 [00:00<?, ?ba/s]"
      ]
     },
     "metadata": {},
     "output_type": "display_data"
    },
    {
     "name": "stdout",
     "output_type": "stream",
     "text": [
      "Saved configuration with input_window=7 and output_window=7.\n",
      "instruction_1:  Given the stock data of AMD over the first 7 trading day, predict the stock data of AMD over the next 7 trading day. Return the result strictly in the following JSON format, with no additional text: {\n",
      "    \"day_8_date\": \"YYYY-MM-DD\",\n",
      "    \"day_8_stock_news\": \"Stock News\",\n",
      "    \"day_9_date\": \"YYYY-MM-DD\",\n",
      "    \"day_9_stock_news\": \"Stock News\",\n",
      "    \"day_10_date\": \"YYYY-MM-DD\",\n",
      "    \"day_10_stock_news\": \"Stock News\",\n",
      "    \"day_11_date\": \"YYYY-MM-DD\",\n",
      "    \"day_11_stock_news\": \"Stock News\",\n",
      "    \"day_12_date\": \"YYYY-MM-DD\",\n",
      "    \"day_12_stock_news\": \"Stock News\",\n",
      "    \"day_13_date\": \"YYYY-MM-DD\",\n",
      "    \"day_13_stock_news\": \"Stock News\",\n",
      "    \"day_14_date\": \"YYYY-MM-DD\",\n",
      "    \"day_14_stock_news\": \"Stock News\"\n",
      "}\n",
      "instruction_2:  Given the stock data of AMD over the first 7 trading day, predict the stock data of AMD over the next 7 trading day. Return the result strictly in the following JSON format, with no additional text: {\n",
      "    \"day_8_date\": \"YYYY-MM-DD\",\n",
      "    \"day_8_stock_news\": \"Stock News\",\n",
      "    \"day_8_Close\": \"A Float Number\",\n",
      "    \"day_9_date\": \"YYYY-MM-DD\",\n",
      "    \"day_9_stock_news\": \"Stock News\",\n",
      "    \"day_9_Close\": \"A Float Number\",\n",
      "    \"day_10_date\": \"YYYY-MM-DD\",\n",
      "    \"day_10_stock_news\": \"Stock News\",\n",
      "    \"day_10_Close\": \"A Float Number\",\n",
      "    \"day_11_date\": \"YYYY-MM-DD\",\n",
      "    \"day_11_stock_news\": \"Stock News\",\n",
      "    \"day_11_Close\": \"A Float Number\",\n",
      "    \"day_12_date\": \"YYYY-MM-DD\",\n",
      "    \"day_12_stock_news\": \"Stock News\",\n",
      "    \"day_12_Close\": \"A Float Number\",\n",
      "    \"day_13_date\": \"YYYY-MM-DD\",\n",
      "    \"day_13_stock_news\": \"Stock News\",\n",
      "    \"day_13_Close\": \"A Float Number\",\n",
      "    \"day_14_date\": \"YYYY-MM-DD\",\n",
      "    \"day_14_stock_news\": \"Stock News\",\n",
      "    \"day_14_Close\": \"A Float Number\"\n",
      "}\n",
      "instruction_3:  Given the stock data of AMD over the first 7 trading day, predict the stock data of AMD over the next 7 trading day. Return the result strictly in the following JSON format, with no additional text: {\n",
      "    \"day_8_date\": \"YYYY-MM-DD\",\n",
      "    \"day_8_stock_news\": \"Stock News\",\n",
      "    \"day_9_date\": \"YYYY-MM-DD\",\n",
      "    \"day_9_stock_news\": \"Stock News\",\n",
      "    \"day_10_date\": \"YYYY-MM-DD\",\n",
      "    \"day_10_stock_news\": \"Stock News\",\n",
      "    \"day_11_date\": \"YYYY-MM-DD\",\n",
      "    \"day_11_stock_news\": \"Stock News\",\n",
      "    \"day_12_date\": \"YYYY-MM-DD\",\n",
      "    \"day_12_stock_news\": \"Stock News\",\n",
      "    \"day_13_date\": \"YYYY-MM-DD\",\n",
      "    \"day_13_stock_news\": \"Stock News\",\n",
      "    \"day_14_date\": \"YYYY-MM-DD\",\n",
      "    \"day_14_stock_news\": \"Stock News\"\n",
      "}\n",
      "instruction_4:  Given the stock data of AMD over the first 7 trading day, predict the stock data of AMD over the next 7 trading day. Return the result strictly in the following JSON format, with no additional text: {\n",
      "    \"day_8_date\": \"YYYY-MM-DD\",\n",
      "    \"day_8_Close\": \"A Float Number\",\n",
      "    \"day_9_date\": \"YYYY-MM-DD\",\n",
      "    \"day_9_Close\": \"A Float Number\",\n",
      "    \"day_10_date\": \"YYYY-MM-DD\",\n",
      "    \"day_10_Close\": \"A Float Number\",\n",
      "    \"day_11_date\": \"YYYY-MM-DD\",\n",
      "    \"day_11_Close\": \"A Float Number\",\n",
      "    \"day_12_date\": \"YYYY-MM-DD\",\n",
      "    \"day_12_Close\": \"A Float Number\",\n",
      "    \"day_13_date\": \"YYYY-MM-DD\",\n",
      "    \"day_13_Close\": \"A Float Number\",\n",
      "    \"day_14_date\": \"YYYY-MM-DD\",\n",
      "    \"day_14_Close\": \"A Float Number\"\n",
      "}\n"
     ]
    },
    {
     "data": {
      "application/vnd.jupyter.widget-view+json": {
       "model_id": "a677f68ae5c343a09d7c31b80f1ac105",
       "version_major": 2,
       "version_minor": 0
      },
      "text/plain": [
       "Uploading the dataset shards:   0%|          | 0/1 [00:00<?, ?it/s]"
      ]
     },
     "metadata": {},
     "output_type": "display_data"
    },
    {
     "data": {
      "application/vnd.jupyter.widget-view+json": {
       "model_id": "27819db784d74eefb717f685547e224f",
       "version_major": 2,
       "version_minor": 0
      },
      "text/plain": [
       "Creating parquet from Arrow format:   0%|          | 0/1 [00:00<?, ?ba/s]"
      ]
     },
     "metadata": {},
     "output_type": "display_data"
    },
    {
     "data": {
      "application/vnd.jupyter.widget-view+json": {
       "model_id": "0ffaadb41d554182b7a9c5016fc274ea",
       "version_major": 2,
       "version_minor": 0
      },
      "text/plain": [
       "Uploading the dataset shards:   0%|          | 0/1 [00:00<?, ?it/s]"
      ]
     },
     "metadata": {},
     "output_type": "display_data"
    },
    {
     "data": {
      "application/vnd.jupyter.widget-view+json": {
       "model_id": "028eadd0cddd4c4ab98f36466db7b72f",
       "version_major": 2,
       "version_minor": 0
      },
      "text/plain": [
       "Creating parquet from Arrow format:   0%|          | 0/1 [00:00<?, ?ba/s]"
      ]
     },
     "metadata": {},
     "output_type": "display_data"
    },
    {
     "data": {
      "application/vnd.jupyter.widget-view+json": {
       "model_id": "dac4473af9844d97ac571c96c1e535e3",
       "version_major": 2,
       "version_minor": 0
      },
      "text/plain": [
       "Uploading the dataset shards:   0%|          | 0/1 [00:00<?, ?it/s]"
      ]
     },
     "metadata": {},
     "output_type": "display_data"
    },
    {
     "data": {
      "application/vnd.jupyter.widget-view+json": {
       "model_id": "3d7d609508e949669e9031386251478b",
       "version_major": 2,
       "version_minor": 0
      },
      "text/plain": [
       "Creating parquet from Arrow format:   0%|          | 0/1 [00:00<?, ?ba/s]"
      ]
     },
     "metadata": {},
     "output_type": "display_data"
    },
    {
     "name": "stdout",
     "output_type": "stream",
     "text": [
      "Saved configuration with input_window=1 and output_window=1.\n",
      "instruction_1:  Given the stock data of AMZN over the first 1 trading day, predict the stock data of AMZN over the next 1 trading day. Return the result strictly in the following JSON format, with no additional text: {\n",
      "    \"day_2_date\": \"YYYY-MM-DD\",\n",
      "    \"day_2_stock_news\": \"Stock News\"\n",
      "}\n",
      "instruction_2:  Given the stock data of AMZN over the first 1 trading day, predict the stock data of AMZN over the next 1 trading day. Return the result strictly in the following JSON format, with no additional text: {\n",
      "    \"day_2_date\": \"YYYY-MM-DD\",\n",
      "    \"day_2_stock_news\": \"Stock News\",\n",
      "    \"day_2_Close\": \"A Float Number\"\n",
      "}\n",
      "instruction_3:  Given the stock data of AMZN over the first 1 trading day, predict the stock data of AMZN over the next 1 trading day. Return the result strictly in the following JSON format, with no additional text: {\n",
      "    \"day_2_date\": \"YYYY-MM-DD\",\n",
      "    \"day_2_stock_news\": \"Stock News\"\n",
      "}\n",
      "instruction_4:  Given the stock data of AMZN over the first 1 trading day, predict the stock data of AMZN over the next 1 trading day. Return the result strictly in the following JSON format, with no additional text: {\n",
      "    \"day_2_date\": \"YYYY-MM-DD\",\n",
      "    \"day_2_Close\": \"A Float Number\"\n",
      "}\n"
     ]
    },
    {
     "data": {
      "application/vnd.jupyter.widget-view+json": {
       "model_id": "c91ae2333b274fa4bba6783c11b4ce1a",
       "version_major": 2,
       "version_minor": 0
      },
      "text/plain": [
       "Uploading the dataset shards:   0%|          | 0/1 [00:00<?, ?it/s]"
      ]
     },
     "metadata": {},
     "output_type": "display_data"
    },
    {
     "data": {
      "application/vnd.jupyter.widget-view+json": {
       "model_id": "d9a2ab4983d04a2f9bda69d1b6f7659f",
       "version_major": 2,
       "version_minor": 0
      },
      "text/plain": [
       "Creating parquet from Arrow format:   0%|          | 0/1 [00:00<?, ?ba/s]"
      ]
     },
     "metadata": {},
     "output_type": "display_data"
    },
    {
     "data": {
      "application/vnd.jupyter.widget-view+json": {
       "model_id": "448b7439fef84b9096e3834d621b67f6",
       "version_major": 2,
       "version_minor": 0
      },
      "text/plain": [
       "Uploading the dataset shards:   0%|          | 0/1 [00:00<?, ?it/s]"
      ]
     },
     "metadata": {},
     "output_type": "display_data"
    },
    {
     "data": {
      "application/vnd.jupyter.widget-view+json": {
       "model_id": "a2b87c1053f04a4a8abcb94de6ed5b37",
       "version_major": 2,
       "version_minor": 0
      },
      "text/plain": [
       "Creating parquet from Arrow format:   0%|          | 0/1 [00:00<?, ?ba/s]"
      ]
     },
     "metadata": {},
     "output_type": "display_data"
    },
    {
     "data": {
      "application/vnd.jupyter.widget-view+json": {
       "model_id": "29fea83bc56343168780ed45838aa11e",
       "version_major": 2,
       "version_minor": 0
      },
      "text/plain": [
       "Uploading the dataset shards:   0%|          | 0/1 [00:00<?, ?it/s]"
      ]
     },
     "metadata": {},
     "output_type": "display_data"
    },
    {
     "data": {
      "application/vnd.jupyter.widget-view+json": {
       "model_id": "889223b90b0045cd86265476a91253cf",
       "version_major": 2,
       "version_minor": 0
      },
      "text/plain": [
       "Creating parquet from Arrow format:   0%|          | 0/1 [00:00<?, ?ba/s]"
      ]
     },
     "metadata": {},
     "output_type": "display_data"
    },
    {
     "name": "stdout",
     "output_type": "stream",
     "text": [
      "Saved configuration with input_window=2 and output_window=2.\n",
      "instruction_1:  Given the stock data of AMZN over the first 2 trading day, predict the stock data of AMZN over the next 2 trading day. Return the result strictly in the following JSON format, with no additional text: {\n",
      "    \"day_3_date\": \"YYYY-MM-DD\",\n",
      "    \"day_3_stock_news\": \"Stock News\",\n",
      "    \"day_4_date\": \"YYYY-MM-DD\",\n",
      "    \"day_4_stock_news\": \"Stock News\"\n",
      "}\n",
      "instruction_2:  Given the stock data of AMZN over the first 2 trading day, predict the stock data of AMZN over the next 2 trading day. Return the result strictly in the following JSON format, with no additional text: {\n",
      "    \"day_3_date\": \"YYYY-MM-DD\",\n",
      "    \"day_3_stock_news\": \"Stock News\",\n",
      "    \"day_3_Close\": \"A Float Number\",\n",
      "    \"day_4_date\": \"YYYY-MM-DD\",\n",
      "    \"day_4_stock_news\": \"Stock News\",\n",
      "    \"day_4_Close\": \"A Float Number\"\n",
      "}\n",
      "instruction_3:  Given the stock data of AMZN over the first 2 trading day, predict the stock data of AMZN over the next 2 trading day. Return the result strictly in the following JSON format, with no additional text: {\n",
      "    \"day_3_date\": \"YYYY-MM-DD\",\n",
      "    \"day_3_stock_news\": \"Stock News\",\n",
      "    \"day_4_date\": \"YYYY-MM-DD\",\n",
      "    \"day_4_stock_news\": \"Stock News\"\n",
      "}\n",
      "instruction_4:  Given the stock data of AMZN over the first 2 trading day, predict the stock data of AMZN over the next 2 trading day. Return the result strictly in the following JSON format, with no additional text: {\n",
      "    \"day_3_date\": \"YYYY-MM-DD\",\n",
      "    \"day_3_Close\": \"A Float Number\",\n",
      "    \"day_4_date\": \"YYYY-MM-DD\",\n",
      "    \"day_4_Close\": \"A Float Number\"\n",
      "}\n"
     ]
    },
    {
     "data": {
      "application/vnd.jupyter.widget-view+json": {
       "model_id": "db2a07ba52584d958be4c1837b1d18ce",
       "version_major": 2,
       "version_minor": 0
      },
      "text/plain": [
       "Uploading the dataset shards:   0%|          | 0/1 [00:00<?, ?it/s]"
      ]
     },
     "metadata": {},
     "output_type": "display_data"
    },
    {
     "data": {
      "application/vnd.jupyter.widget-view+json": {
       "model_id": "8f267689c73940048d140b2e73af768e",
       "version_major": 2,
       "version_minor": 0
      },
      "text/plain": [
       "Creating parquet from Arrow format:   0%|          | 0/1 [00:00<?, ?ba/s]"
      ]
     },
     "metadata": {},
     "output_type": "display_data"
    },
    {
     "data": {
      "application/vnd.jupyter.widget-view+json": {
       "model_id": "2f638dd68afc4517950731c442bfc891",
       "version_major": 2,
       "version_minor": 0
      },
      "text/plain": [
       "Uploading the dataset shards:   0%|          | 0/1 [00:00<?, ?it/s]"
      ]
     },
     "metadata": {},
     "output_type": "display_data"
    },
    {
     "data": {
      "application/vnd.jupyter.widget-view+json": {
       "model_id": "c09688da02b4451bb9ddf64647ec772f",
       "version_major": 2,
       "version_minor": 0
      },
      "text/plain": [
       "Creating parquet from Arrow format:   0%|          | 0/1 [00:00<?, ?ba/s]"
      ]
     },
     "metadata": {},
     "output_type": "display_data"
    },
    {
     "data": {
      "application/vnd.jupyter.widget-view+json": {
       "model_id": "0d36b0bfdd404375875eac742fa46b11",
       "version_major": 2,
       "version_minor": 0
      },
      "text/plain": [
       "Uploading the dataset shards:   0%|          | 0/1 [00:00<?, ?it/s]"
      ]
     },
     "metadata": {},
     "output_type": "display_data"
    },
    {
     "data": {
      "application/vnd.jupyter.widget-view+json": {
       "model_id": "ce1395292d264d46ae6808afc2d41082",
       "version_major": 2,
       "version_minor": 0
      },
      "text/plain": [
       "Creating parquet from Arrow format:   0%|          | 0/1 [00:00<?, ?ba/s]"
      ]
     },
     "metadata": {},
     "output_type": "display_data"
    },
    {
     "name": "stdout",
     "output_type": "stream",
     "text": [
      "Saved configuration with input_window=3 and output_window=3.\n",
      "instruction_1:  Given the stock data of AMZN over the first 3 trading day, predict the stock data of AMZN over the next 3 trading day. Return the result strictly in the following JSON format, with no additional text: {\n",
      "    \"day_4_date\": \"YYYY-MM-DD\",\n",
      "    \"day_4_stock_news\": \"Stock News\",\n",
      "    \"day_5_date\": \"YYYY-MM-DD\",\n",
      "    \"day_5_stock_news\": \"Stock News\",\n",
      "    \"day_6_date\": \"YYYY-MM-DD\",\n",
      "    \"day_6_stock_news\": \"Stock News\"\n",
      "}\n",
      "instruction_2:  Given the stock data of AMZN over the first 3 trading day, predict the stock data of AMZN over the next 3 trading day. Return the result strictly in the following JSON format, with no additional text: {\n",
      "    \"day_4_date\": \"YYYY-MM-DD\",\n",
      "    \"day_4_stock_news\": \"Stock News\",\n",
      "    \"day_4_Close\": \"A Float Number\",\n",
      "    \"day_5_date\": \"YYYY-MM-DD\",\n",
      "    \"day_5_stock_news\": \"Stock News\",\n",
      "    \"day_5_Close\": \"A Float Number\",\n",
      "    \"day_6_date\": \"YYYY-MM-DD\",\n",
      "    \"day_6_stock_news\": \"Stock News\",\n",
      "    \"day_6_Close\": \"A Float Number\"\n",
      "}\n",
      "instruction_3:  Given the stock data of AMZN over the first 3 trading day, predict the stock data of AMZN over the next 3 trading day. Return the result strictly in the following JSON format, with no additional text: {\n",
      "    \"day_4_date\": \"YYYY-MM-DD\",\n",
      "    \"day_4_stock_news\": \"Stock News\",\n",
      "    \"day_5_date\": \"YYYY-MM-DD\",\n",
      "    \"day_5_stock_news\": \"Stock News\",\n",
      "    \"day_6_date\": \"YYYY-MM-DD\",\n",
      "    \"day_6_stock_news\": \"Stock News\"\n",
      "}\n",
      "instruction_4:  Given the stock data of AMZN over the first 3 trading day, predict the stock data of AMZN over the next 3 trading day. Return the result strictly in the following JSON format, with no additional text: {\n",
      "    \"day_4_date\": \"YYYY-MM-DD\",\n",
      "    \"day_4_Close\": \"A Float Number\",\n",
      "    \"day_5_date\": \"YYYY-MM-DD\",\n",
      "    \"day_5_Close\": \"A Float Number\",\n",
      "    \"day_6_date\": \"YYYY-MM-DD\",\n",
      "    \"day_6_Close\": \"A Float Number\"\n",
      "}\n"
     ]
    },
    {
     "data": {
      "application/vnd.jupyter.widget-view+json": {
       "model_id": "e95f423b5b6442fabb731bbc9f5b2c4c",
       "version_major": 2,
       "version_minor": 0
      },
      "text/plain": [
       "Uploading the dataset shards:   0%|          | 0/1 [00:00<?, ?it/s]"
      ]
     },
     "metadata": {},
     "output_type": "display_data"
    },
    {
     "data": {
      "application/vnd.jupyter.widget-view+json": {
       "model_id": "c277bc8e22554aa6adf4a930dee05685",
       "version_major": 2,
       "version_minor": 0
      },
      "text/plain": [
       "Creating parquet from Arrow format:   0%|          | 0/1 [00:00<?, ?ba/s]"
      ]
     },
     "metadata": {},
     "output_type": "display_data"
    },
    {
     "data": {
      "application/vnd.jupyter.widget-view+json": {
       "model_id": "5b9008be599f4bcb8b16f5deb0dc33ee",
       "version_major": 2,
       "version_minor": 0
      },
      "text/plain": [
       "Uploading the dataset shards:   0%|          | 0/1 [00:00<?, ?it/s]"
      ]
     },
     "metadata": {},
     "output_type": "display_data"
    },
    {
     "data": {
      "application/vnd.jupyter.widget-view+json": {
       "model_id": "378cadb6c4f74b8abb85b8a34c61cb4b",
       "version_major": 2,
       "version_minor": 0
      },
      "text/plain": [
       "Creating parquet from Arrow format:   0%|          | 0/1 [00:00<?, ?ba/s]"
      ]
     },
     "metadata": {},
     "output_type": "display_data"
    },
    {
     "data": {
      "application/vnd.jupyter.widget-view+json": {
       "model_id": "e954dcd2d1394eec82138f873d824dc2",
       "version_major": 2,
       "version_minor": 0
      },
      "text/plain": [
       "Uploading the dataset shards:   0%|          | 0/1 [00:00<?, ?it/s]"
      ]
     },
     "metadata": {},
     "output_type": "display_data"
    },
    {
     "data": {
      "application/vnd.jupyter.widget-view+json": {
       "model_id": "077f714ee5ab4320864be80cadffc2c7",
       "version_major": 2,
       "version_minor": 0
      },
      "text/plain": [
       "Creating parquet from Arrow format:   0%|          | 0/1 [00:00<?, ?ba/s]"
      ]
     },
     "metadata": {},
     "output_type": "display_data"
    },
    {
     "name": "stdout",
     "output_type": "stream",
     "text": [
      "Saved configuration with input_window=4 and output_window=4.\n",
      "instruction_1:  Given the stock data of AMZN over the first 4 trading day, predict the stock data of AMZN over the next 4 trading day. Return the result strictly in the following JSON format, with no additional text: {\n",
      "    \"day_5_date\": \"YYYY-MM-DD\",\n",
      "    \"day_5_stock_news\": \"Stock News\",\n",
      "    \"day_6_date\": \"YYYY-MM-DD\",\n",
      "    \"day_6_stock_news\": \"Stock News\",\n",
      "    \"day_7_date\": \"YYYY-MM-DD\",\n",
      "    \"day_7_stock_news\": \"Stock News\",\n",
      "    \"day_8_date\": \"YYYY-MM-DD\",\n",
      "    \"day_8_stock_news\": \"Stock News\"\n",
      "}\n",
      "instruction_2:  Given the stock data of AMZN over the first 4 trading day, predict the stock data of AMZN over the next 4 trading day. Return the result strictly in the following JSON format, with no additional text: {\n",
      "    \"day_5_date\": \"YYYY-MM-DD\",\n",
      "    \"day_5_stock_news\": \"Stock News\",\n",
      "    \"day_5_Close\": \"A Float Number\",\n",
      "    \"day_6_date\": \"YYYY-MM-DD\",\n",
      "    \"day_6_stock_news\": \"Stock News\",\n",
      "    \"day_6_Close\": \"A Float Number\",\n",
      "    \"day_7_date\": \"YYYY-MM-DD\",\n",
      "    \"day_7_stock_news\": \"Stock News\",\n",
      "    \"day_7_Close\": \"A Float Number\",\n",
      "    \"day_8_date\": \"YYYY-MM-DD\",\n",
      "    \"day_8_stock_news\": \"Stock News\",\n",
      "    \"day_8_Close\": \"A Float Number\"\n",
      "}\n",
      "instruction_3:  Given the stock data of AMZN over the first 4 trading day, predict the stock data of AMZN over the next 4 trading day. Return the result strictly in the following JSON format, with no additional text: {\n",
      "    \"day_5_date\": \"YYYY-MM-DD\",\n",
      "    \"day_5_stock_news\": \"Stock News\",\n",
      "    \"day_6_date\": \"YYYY-MM-DD\",\n",
      "    \"day_6_stock_news\": \"Stock News\",\n",
      "    \"day_7_date\": \"YYYY-MM-DD\",\n",
      "    \"day_7_stock_news\": \"Stock News\",\n",
      "    \"day_8_date\": \"YYYY-MM-DD\",\n",
      "    \"day_8_stock_news\": \"Stock News\"\n",
      "}\n",
      "instruction_4:  Given the stock data of AMZN over the first 4 trading day, predict the stock data of AMZN over the next 4 trading day. Return the result strictly in the following JSON format, with no additional text: {\n",
      "    \"day_5_date\": \"YYYY-MM-DD\",\n",
      "    \"day_5_Close\": \"A Float Number\",\n",
      "    \"day_6_date\": \"YYYY-MM-DD\",\n",
      "    \"day_6_Close\": \"A Float Number\",\n",
      "    \"day_7_date\": \"YYYY-MM-DD\",\n",
      "    \"day_7_Close\": \"A Float Number\",\n",
      "    \"day_8_date\": \"YYYY-MM-DD\",\n",
      "    \"day_8_Close\": \"A Float Number\"\n",
      "}\n"
     ]
    },
    {
     "data": {
      "application/vnd.jupyter.widget-view+json": {
       "model_id": "667fe667753c4b89ac17060c5f02ac57",
       "version_major": 2,
       "version_minor": 0
      },
      "text/plain": [
       "Uploading the dataset shards:   0%|          | 0/1 [00:00<?, ?it/s]"
      ]
     },
     "metadata": {},
     "output_type": "display_data"
    },
    {
     "data": {
      "application/vnd.jupyter.widget-view+json": {
       "model_id": "1ff62df6c402479d8c80e9f708755dd2",
       "version_major": 2,
       "version_minor": 0
      },
      "text/plain": [
       "Creating parquet from Arrow format:   0%|          | 0/1 [00:00<?, ?ba/s]"
      ]
     },
     "metadata": {},
     "output_type": "display_data"
    },
    {
     "data": {
      "application/vnd.jupyter.widget-view+json": {
       "model_id": "0318bee33ddb46b29af2d579c3136c56",
       "version_major": 2,
       "version_minor": 0
      },
      "text/plain": [
       "Uploading the dataset shards:   0%|          | 0/1 [00:00<?, ?it/s]"
      ]
     },
     "metadata": {},
     "output_type": "display_data"
    },
    {
     "data": {
      "application/vnd.jupyter.widget-view+json": {
       "model_id": "426fc815d926477484866666eb43422f",
       "version_major": 2,
       "version_minor": 0
      },
      "text/plain": [
       "Creating parquet from Arrow format:   0%|          | 0/1 [00:00<?, ?ba/s]"
      ]
     },
     "metadata": {},
     "output_type": "display_data"
    },
    {
     "data": {
      "application/vnd.jupyter.widget-view+json": {
       "model_id": "69b9a14967d8450c89f991eabd68112a",
       "version_major": 2,
       "version_minor": 0
      },
      "text/plain": [
       "Uploading the dataset shards:   0%|          | 0/1 [00:00<?, ?it/s]"
      ]
     },
     "metadata": {},
     "output_type": "display_data"
    },
    {
     "data": {
      "application/vnd.jupyter.widget-view+json": {
       "model_id": "657e303f454a47febf52029cdc9b25ce",
       "version_major": 2,
       "version_minor": 0
      },
      "text/plain": [
       "Creating parquet from Arrow format:   0%|          | 0/1 [00:00<?, ?ba/s]"
      ]
     },
     "metadata": {},
     "output_type": "display_data"
    },
    {
     "name": "stdout",
     "output_type": "stream",
     "text": [
      "Saved configuration with input_window=5 and output_window=5.\n",
      "instruction_1:  Given the stock data of AMZN over the first 5 trading day, predict the stock data of AMZN over the next 5 trading day. Return the result strictly in the following JSON format, with no additional text: {\n",
      "    \"day_6_date\": \"YYYY-MM-DD\",\n",
      "    \"day_6_stock_news\": \"Stock News\",\n",
      "    \"day_7_date\": \"YYYY-MM-DD\",\n",
      "    \"day_7_stock_news\": \"Stock News\",\n",
      "    \"day_8_date\": \"YYYY-MM-DD\",\n",
      "    \"day_8_stock_news\": \"Stock News\",\n",
      "    \"day_9_date\": \"YYYY-MM-DD\",\n",
      "    \"day_9_stock_news\": \"Stock News\",\n",
      "    \"day_10_date\": \"YYYY-MM-DD\",\n",
      "    \"day_10_stock_news\": \"Stock News\"\n",
      "}\n",
      "instruction_2:  Given the stock data of AMZN over the first 5 trading day, predict the stock data of AMZN over the next 5 trading day. Return the result strictly in the following JSON format, with no additional text: {\n",
      "    \"day_6_date\": \"YYYY-MM-DD\",\n",
      "    \"day_6_stock_news\": \"Stock News\",\n",
      "    \"day_6_Close\": \"A Float Number\",\n",
      "    \"day_7_date\": \"YYYY-MM-DD\",\n",
      "    \"day_7_stock_news\": \"Stock News\",\n",
      "    \"day_7_Close\": \"A Float Number\",\n",
      "    \"day_8_date\": \"YYYY-MM-DD\",\n",
      "    \"day_8_stock_news\": \"Stock News\",\n",
      "    \"day_8_Close\": \"A Float Number\",\n",
      "    \"day_9_date\": \"YYYY-MM-DD\",\n",
      "    \"day_9_stock_news\": \"Stock News\",\n",
      "    \"day_9_Close\": \"A Float Number\",\n",
      "    \"day_10_date\": \"YYYY-MM-DD\",\n",
      "    \"day_10_stock_news\": \"Stock News\",\n",
      "    \"day_10_Close\": \"A Float Number\"\n",
      "}\n",
      "instruction_3:  Given the stock data of AMZN over the first 5 trading day, predict the stock data of AMZN over the next 5 trading day. Return the result strictly in the following JSON format, with no additional text: {\n",
      "    \"day_6_date\": \"YYYY-MM-DD\",\n",
      "    \"day_6_stock_news\": \"Stock News\",\n",
      "    \"day_7_date\": \"YYYY-MM-DD\",\n",
      "    \"day_7_stock_news\": \"Stock News\",\n",
      "    \"day_8_date\": \"YYYY-MM-DD\",\n",
      "    \"day_8_stock_news\": \"Stock News\",\n",
      "    \"day_9_date\": \"YYYY-MM-DD\",\n",
      "    \"day_9_stock_news\": \"Stock News\",\n",
      "    \"day_10_date\": \"YYYY-MM-DD\",\n",
      "    \"day_10_stock_news\": \"Stock News\"\n",
      "}\n",
      "instruction_4:  Given the stock data of AMZN over the first 5 trading day, predict the stock data of AMZN over the next 5 trading day. Return the result strictly in the following JSON format, with no additional text: {\n",
      "    \"day_6_date\": \"YYYY-MM-DD\",\n",
      "    \"day_6_Close\": \"A Float Number\",\n",
      "    \"day_7_date\": \"YYYY-MM-DD\",\n",
      "    \"day_7_Close\": \"A Float Number\",\n",
      "    \"day_8_date\": \"YYYY-MM-DD\",\n",
      "    \"day_8_Close\": \"A Float Number\",\n",
      "    \"day_9_date\": \"YYYY-MM-DD\",\n",
      "    \"day_9_Close\": \"A Float Number\",\n",
      "    \"day_10_date\": \"YYYY-MM-DD\",\n",
      "    \"day_10_Close\": \"A Float Number\"\n",
      "}\n"
     ]
    },
    {
     "data": {
      "application/vnd.jupyter.widget-view+json": {
       "model_id": "e673631f493d44c3bd7765f19a97028d",
       "version_major": 2,
       "version_minor": 0
      },
      "text/plain": [
       "Uploading the dataset shards:   0%|          | 0/1 [00:00<?, ?it/s]"
      ]
     },
     "metadata": {},
     "output_type": "display_data"
    },
    {
     "data": {
      "application/vnd.jupyter.widget-view+json": {
       "model_id": "a8da45e3bc41495399fca565a60b0c55",
       "version_major": 2,
       "version_minor": 0
      },
      "text/plain": [
       "Creating parquet from Arrow format:   0%|          | 0/1 [00:00<?, ?ba/s]"
      ]
     },
     "metadata": {},
     "output_type": "display_data"
    },
    {
     "data": {
      "application/vnd.jupyter.widget-view+json": {
       "model_id": "d43ed23d53534acb8962f1a0185fdeaa",
       "version_major": 2,
       "version_minor": 0
      },
      "text/plain": [
       "Uploading the dataset shards:   0%|          | 0/1 [00:00<?, ?it/s]"
      ]
     },
     "metadata": {},
     "output_type": "display_data"
    },
    {
     "data": {
      "application/vnd.jupyter.widget-view+json": {
       "model_id": "8a1a1692e82c4d5384f4a1257e81c8c8",
       "version_major": 2,
       "version_minor": 0
      },
      "text/plain": [
       "Creating parquet from Arrow format:   0%|          | 0/1 [00:00<?, ?ba/s]"
      ]
     },
     "metadata": {},
     "output_type": "display_data"
    },
    {
     "data": {
      "application/vnd.jupyter.widget-view+json": {
       "model_id": "661456ad2b22466793b3b98ea311b82d",
       "version_major": 2,
       "version_minor": 0
      },
      "text/plain": [
       "Uploading the dataset shards:   0%|          | 0/1 [00:00<?, ?it/s]"
      ]
     },
     "metadata": {},
     "output_type": "display_data"
    },
    {
     "data": {
      "application/vnd.jupyter.widget-view+json": {
       "model_id": "1e1bb97d901b46f4b51a1599f9ee930b",
       "version_major": 2,
       "version_minor": 0
      },
      "text/plain": [
       "Creating parquet from Arrow format:   0%|          | 0/1 [00:00<?, ?ba/s]"
      ]
     },
     "metadata": {},
     "output_type": "display_data"
    },
    {
     "name": "stdout",
     "output_type": "stream",
     "text": [
      "Saved configuration with input_window=6 and output_window=6.\n",
      "instruction_1:  Given the stock data of AMZN over the first 6 trading day, predict the stock data of AMZN over the next 6 trading day. Return the result strictly in the following JSON format, with no additional text: {\n",
      "    \"day_7_date\": \"YYYY-MM-DD\",\n",
      "    \"day_7_stock_news\": \"Stock News\",\n",
      "    \"day_8_date\": \"YYYY-MM-DD\",\n",
      "    \"day_8_stock_news\": \"Stock News\",\n",
      "    \"day_9_date\": \"YYYY-MM-DD\",\n",
      "    \"day_9_stock_news\": \"Stock News\",\n",
      "    \"day_10_date\": \"YYYY-MM-DD\",\n",
      "    \"day_10_stock_news\": \"Stock News\",\n",
      "    \"day_11_date\": \"YYYY-MM-DD\",\n",
      "    \"day_11_stock_news\": \"Stock News\",\n",
      "    \"day_12_date\": \"YYYY-MM-DD\",\n",
      "    \"day_12_stock_news\": \"Stock News\"\n",
      "}\n",
      "instruction_2:  Given the stock data of AMZN over the first 6 trading day, predict the stock data of AMZN over the next 6 trading day. Return the result strictly in the following JSON format, with no additional text: {\n",
      "    \"day_7_date\": \"YYYY-MM-DD\",\n",
      "    \"day_7_stock_news\": \"Stock News\",\n",
      "    \"day_7_Close\": \"A Float Number\",\n",
      "    \"day_8_date\": \"YYYY-MM-DD\",\n",
      "    \"day_8_stock_news\": \"Stock News\",\n",
      "    \"day_8_Close\": \"A Float Number\",\n",
      "    \"day_9_date\": \"YYYY-MM-DD\",\n",
      "    \"day_9_stock_news\": \"Stock News\",\n",
      "    \"day_9_Close\": \"A Float Number\",\n",
      "    \"day_10_date\": \"YYYY-MM-DD\",\n",
      "    \"day_10_stock_news\": \"Stock News\",\n",
      "    \"day_10_Close\": \"A Float Number\",\n",
      "    \"day_11_date\": \"YYYY-MM-DD\",\n",
      "    \"day_11_stock_news\": \"Stock News\",\n",
      "    \"day_11_Close\": \"A Float Number\",\n",
      "    \"day_12_date\": \"YYYY-MM-DD\",\n",
      "    \"day_12_stock_news\": \"Stock News\",\n",
      "    \"day_12_Close\": \"A Float Number\"\n",
      "}\n",
      "instruction_3:  Given the stock data of AMZN over the first 6 trading day, predict the stock data of AMZN over the next 6 trading day. Return the result strictly in the following JSON format, with no additional text: {\n",
      "    \"day_7_date\": \"YYYY-MM-DD\",\n",
      "    \"day_7_stock_news\": \"Stock News\",\n",
      "    \"day_8_date\": \"YYYY-MM-DD\",\n",
      "    \"day_8_stock_news\": \"Stock News\",\n",
      "    \"day_9_date\": \"YYYY-MM-DD\",\n",
      "    \"day_9_stock_news\": \"Stock News\",\n",
      "    \"day_10_date\": \"YYYY-MM-DD\",\n",
      "    \"day_10_stock_news\": \"Stock News\",\n",
      "    \"day_11_date\": \"YYYY-MM-DD\",\n",
      "    \"day_11_stock_news\": \"Stock News\",\n",
      "    \"day_12_date\": \"YYYY-MM-DD\",\n",
      "    \"day_12_stock_news\": \"Stock News\"\n",
      "}\n",
      "instruction_4:  Given the stock data of AMZN over the first 6 trading day, predict the stock data of AMZN over the next 6 trading day. Return the result strictly in the following JSON format, with no additional text: {\n",
      "    \"day_7_date\": \"YYYY-MM-DD\",\n",
      "    \"day_7_Close\": \"A Float Number\",\n",
      "    \"day_8_date\": \"YYYY-MM-DD\",\n",
      "    \"day_8_Close\": \"A Float Number\",\n",
      "    \"day_9_date\": \"YYYY-MM-DD\",\n",
      "    \"day_9_Close\": \"A Float Number\",\n",
      "    \"day_10_date\": \"YYYY-MM-DD\",\n",
      "    \"day_10_Close\": \"A Float Number\",\n",
      "    \"day_11_date\": \"YYYY-MM-DD\",\n",
      "    \"day_11_Close\": \"A Float Number\",\n",
      "    \"day_12_date\": \"YYYY-MM-DD\",\n",
      "    \"day_12_Close\": \"A Float Number\"\n",
      "}\n"
     ]
    },
    {
     "data": {
      "application/vnd.jupyter.widget-view+json": {
       "model_id": "aa5fb92290004ecea01f48258695cc1b",
       "version_major": 2,
       "version_minor": 0
      },
      "text/plain": [
       "Uploading the dataset shards:   0%|          | 0/1 [00:00<?, ?it/s]"
      ]
     },
     "metadata": {},
     "output_type": "display_data"
    },
    {
     "data": {
      "application/vnd.jupyter.widget-view+json": {
       "model_id": "ad95136bbb7d4459bf8474233839bdb9",
       "version_major": 2,
       "version_minor": 0
      },
      "text/plain": [
       "Creating parquet from Arrow format:   0%|          | 0/1 [00:00<?, ?ba/s]"
      ]
     },
     "metadata": {},
     "output_type": "display_data"
    },
    {
     "data": {
      "application/vnd.jupyter.widget-view+json": {
       "model_id": "4f8371a161464ea6b61e916e24b01392",
       "version_major": 2,
       "version_minor": 0
      },
      "text/plain": [
       "Uploading the dataset shards:   0%|          | 0/1 [00:00<?, ?it/s]"
      ]
     },
     "metadata": {},
     "output_type": "display_data"
    },
    {
     "data": {
      "application/vnd.jupyter.widget-view+json": {
       "model_id": "deb416864aca4632bf518f58b62dd39c",
       "version_major": 2,
       "version_minor": 0
      },
      "text/plain": [
       "Creating parquet from Arrow format:   0%|          | 0/1 [00:00<?, ?ba/s]"
      ]
     },
     "metadata": {},
     "output_type": "display_data"
    },
    {
     "data": {
      "application/vnd.jupyter.widget-view+json": {
       "model_id": "a3cb1f71a85449e7a1187eb43db1c931",
       "version_major": 2,
       "version_minor": 0
      },
      "text/plain": [
       "Uploading the dataset shards:   0%|          | 0/1 [00:00<?, ?it/s]"
      ]
     },
     "metadata": {},
     "output_type": "display_data"
    },
    {
     "data": {
      "application/vnd.jupyter.widget-view+json": {
       "model_id": "146fa63a8224446e9147180e17957c06",
       "version_major": 2,
       "version_minor": 0
      },
      "text/plain": [
       "Creating parquet from Arrow format:   0%|          | 0/1 [00:00<?, ?ba/s]"
      ]
     },
     "metadata": {},
     "output_type": "display_data"
    },
    {
     "name": "stdout",
     "output_type": "stream",
     "text": [
      "Saved configuration with input_window=7 and output_window=7.\n",
      "instruction_1:  Given the stock data of AMZN over the first 7 trading day, predict the stock data of AMZN over the next 7 trading day. Return the result strictly in the following JSON format, with no additional text: {\n",
      "    \"day_8_date\": \"YYYY-MM-DD\",\n",
      "    \"day_8_stock_news\": \"Stock News\",\n",
      "    \"day_9_date\": \"YYYY-MM-DD\",\n",
      "    \"day_9_stock_news\": \"Stock News\",\n",
      "    \"day_10_date\": \"YYYY-MM-DD\",\n",
      "    \"day_10_stock_news\": \"Stock News\",\n",
      "    \"day_11_date\": \"YYYY-MM-DD\",\n",
      "    \"day_11_stock_news\": \"Stock News\",\n",
      "    \"day_12_date\": \"YYYY-MM-DD\",\n",
      "    \"day_12_stock_news\": \"Stock News\",\n",
      "    \"day_13_date\": \"YYYY-MM-DD\",\n",
      "    \"day_13_stock_news\": \"Stock News\",\n",
      "    \"day_14_date\": \"YYYY-MM-DD\",\n",
      "    \"day_14_stock_news\": \"Stock News\"\n",
      "}\n",
      "instruction_2:  Given the stock data of AMZN over the first 7 trading day, predict the stock data of AMZN over the next 7 trading day. Return the result strictly in the following JSON format, with no additional text: {\n",
      "    \"day_8_date\": \"YYYY-MM-DD\",\n",
      "    \"day_8_stock_news\": \"Stock News\",\n",
      "    \"day_8_Close\": \"A Float Number\",\n",
      "    \"day_9_date\": \"YYYY-MM-DD\",\n",
      "    \"day_9_stock_news\": \"Stock News\",\n",
      "    \"day_9_Close\": \"A Float Number\",\n",
      "    \"day_10_date\": \"YYYY-MM-DD\",\n",
      "    \"day_10_stock_news\": \"Stock News\",\n",
      "    \"day_10_Close\": \"A Float Number\",\n",
      "    \"day_11_date\": \"YYYY-MM-DD\",\n",
      "    \"day_11_stock_news\": \"Stock News\",\n",
      "    \"day_11_Close\": \"A Float Number\",\n",
      "    \"day_12_date\": \"YYYY-MM-DD\",\n",
      "    \"day_12_stock_news\": \"Stock News\",\n",
      "    \"day_12_Close\": \"A Float Number\",\n",
      "    \"day_13_date\": \"YYYY-MM-DD\",\n",
      "    \"day_13_stock_news\": \"Stock News\",\n",
      "    \"day_13_Close\": \"A Float Number\",\n",
      "    \"day_14_date\": \"YYYY-MM-DD\",\n",
      "    \"day_14_stock_news\": \"Stock News\",\n",
      "    \"day_14_Close\": \"A Float Number\"\n",
      "}\n",
      "instruction_3:  Given the stock data of AMZN over the first 7 trading day, predict the stock data of AMZN over the next 7 trading day. Return the result strictly in the following JSON format, with no additional text: {\n",
      "    \"day_8_date\": \"YYYY-MM-DD\",\n",
      "    \"day_8_stock_news\": \"Stock News\",\n",
      "    \"day_9_date\": \"YYYY-MM-DD\",\n",
      "    \"day_9_stock_news\": \"Stock News\",\n",
      "    \"day_10_date\": \"YYYY-MM-DD\",\n",
      "    \"day_10_stock_news\": \"Stock News\",\n",
      "    \"day_11_date\": \"YYYY-MM-DD\",\n",
      "    \"day_11_stock_news\": \"Stock News\",\n",
      "    \"day_12_date\": \"YYYY-MM-DD\",\n",
      "    \"day_12_stock_news\": \"Stock News\",\n",
      "    \"day_13_date\": \"YYYY-MM-DD\",\n",
      "    \"day_13_stock_news\": \"Stock News\",\n",
      "    \"day_14_date\": \"YYYY-MM-DD\",\n",
      "    \"day_14_stock_news\": \"Stock News\"\n",
      "}\n",
      "instruction_4:  Given the stock data of AMZN over the first 7 trading day, predict the stock data of AMZN over the next 7 trading day. Return the result strictly in the following JSON format, with no additional text: {\n",
      "    \"day_8_date\": \"YYYY-MM-DD\",\n",
      "    \"day_8_Close\": \"A Float Number\",\n",
      "    \"day_9_date\": \"YYYY-MM-DD\",\n",
      "    \"day_9_Close\": \"A Float Number\",\n",
      "    \"day_10_date\": \"YYYY-MM-DD\",\n",
      "    \"day_10_Close\": \"A Float Number\",\n",
      "    \"day_11_date\": \"YYYY-MM-DD\",\n",
      "    \"day_11_Close\": \"A Float Number\",\n",
      "    \"day_12_date\": \"YYYY-MM-DD\",\n",
      "    \"day_12_Close\": \"A Float Number\",\n",
      "    \"day_13_date\": \"YYYY-MM-DD\",\n",
      "    \"day_13_Close\": \"A Float Number\",\n",
      "    \"day_14_date\": \"YYYY-MM-DD\",\n",
      "    \"day_14_Close\": \"A Float Number\"\n",
      "}\n"
     ]
    },
    {
     "data": {
      "application/vnd.jupyter.widget-view+json": {
       "model_id": "95ec3b18a84849a297339bd6a97f80cb",
       "version_major": 2,
       "version_minor": 0
      },
      "text/plain": [
       "Uploading the dataset shards:   0%|          | 0/1 [00:00<?, ?it/s]"
      ]
     },
     "metadata": {},
     "output_type": "display_data"
    },
    {
     "data": {
      "application/vnd.jupyter.widget-view+json": {
       "model_id": "0ecddcf4a5a84b29bddd13c8c270fae5",
       "version_major": 2,
       "version_minor": 0
      },
      "text/plain": [
       "Creating parquet from Arrow format:   0%|          | 0/1 [00:00<?, ?ba/s]"
      ]
     },
     "metadata": {},
     "output_type": "display_data"
    },
    {
     "data": {
      "application/vnd.jupyter.widget-view+json": {
       "model_id": "c8a1df6ab8c041f1b85cfcddbe5a725d",
       "version_major": 2,
       "version_minor": 0
      },
      "text/plain": [
       "Uploading the dataset shards:   0%|          | 0/1 [00:00<?, ?it/s]"
      ]
     },
     "metadata": {},
     "output_type": "display_data"
    },
    {
     "data": {
      "application/vnd.jupyter.widget-view+json": {
       "model_id": "39ebb1a410544da081fc7d7a884eae41",
       "version_major": 2,
       "version_minor": 0
      },
      "text/plain": [
       "Creating parquet from Arrow format:   0%|          | 0/1 [00:00<?, ?ba/s]"
      ]
     },
     "metadata": {},
     "output_type": "display_data"
    },
    {
     "data": {
      "application/vnd.jupyter.widget-view+json": {
       "model_id": "5fd667250f6642a79d61eacd84a471a2",
       "version_major": 2,
       "version_minor": 0
      },
      "text/plain": [
       "Uploading the dataset shards:   0%|          | 0/1 [00:00<?, ?it/s]"
      ]
     },
     "metadata": {},
     "output_type": "display_data"
    },
    {
     "data": {
      "application/vnd.jupyter.widget-view+json": {
       "model_id": "65d6e3bf6ce34012b57f62081db08f64",
       "version_major": 2,
       "version_minor": 0
      },
      "text/plain": [
       "Creating parquet from Arrow format:   0%|          | 0/1 [00:00<?, ?ba/s]"
      ]
     },
     "metadata": {},
     "output_type": "display_data"
    },
    {
     "name": "stdout",
     "output_type": "stream",
     "text": [
      "Saved configuration with input_window=1 and output_window=1.\n",
      "instruction_1:  Given the stock data of AVGO over the first 1 trading day, predict the stock data of AVGO over the next 1 trading day. Return the result strictly in the following JSON format, with no additional text: {\n",
      "    \"day_2_date\": \"YYYY-MM-DD\",\n",
      "    \"day_2_stock_news\": \"Stock News\"\n",
      "}\n",
      "instruction_2:  Given the stock data of AVGO over the first 1 trading day, predict the stock data of AVGO over the next 1 trading day. Return the result strictly in the following JSON format, with no additional text: {\n",
      "    \"day_2_date\": \"YYYY-MM-DD\",\n",
      "    \"day_2_stock_news\": \"Stock News\",\n",
      "    \"day_2_Close\": \"A Float Number\"\n",
      "}\n",
      "instruction_3:  Given the stock data of AVGO over the first 1 trading day, predict the stock data of AVGO over the next 1 trading day. Return the result strictly in the following JSON format, with no additional text: {\n",
      "    \"day_2_date\": \"YYYY-MM-DD\",\n",
      "    \"day_2_stock_news\": \"Stock News\"\n",
      "}\n",
      "instruction_4:  Given the stock data of AVGO over the first 1 trading day, predict the stock data of AVGO over the next 1 trading day. Return the result strictly in the following JSON format, with no additional text: {\n",
      "    \"day_2_date\": \"YYYY-MM-DD\",\n",
      "    \"day_2_Close\": \"A Float Number\"\n",
      "}\n"
     ]
    },
    {
     "data": {
      "application/vnd.jupyter.widget-view+json": {
       "model_id": "62ac841132944553930082179da14526",
       "version_major": 2,
       "version_minor": 0
      },
      "text/plain": [
       "Uploading the dataset shards:   0%|          | 0/1 [00:00<?, ?it/s]"
      ]
     },
     "metadata": {},
     "output_type": "display_data"
    },
    {
     "data": {
      "application/vnd.jupyter.widget-view+json": {
       "model_id": "66339974e0ac41cda7cbe7b6316594c7",
       "version_major": 2,
       "version_minor": 0
      },
      "text/plain": [
       "Creating parquet from Arrow format:   0%|          | 0/1 [00:00<?, ?ba/s]"
      ]
     },
     "metadata": {},
     "output_type": "display_data"
    },
    {
     "data": {
      "application/vnd.jupyter.widget-view+json": {
       "model_id": "8081baad872944a2917c7d27cab400df",
       "version_major": 2,
       "version_minor": 0
      },
      "text/plain": [
       "Uploading the dataset shards:   0%|          | 0/1 [00:00<?, ?it/s]"
      ]
     },
     "metadata": {},
     "output_type": "display_data"
    },
    {
     "data": {
      "application/vnd.jupyter.widget-view+json": {
       "model_id": "719b34c578264b57b5f2717539a618e8",
       "version_major": 2,
       "version_minor": 0
      },
      "text/plain": [
       "Creating parquet from Arrow format:   0%|          | 0/1 [00:00<?, ?ba/s]"
      ]
     },
     "metadata": {},
     "output_type": "display_data"
    },
    {
     "data": {
      "application/vnd.jupyter.widget-view+json": {
       "model_id": "792c5c34c38847aa9019663fc96f4794",
       "version_major": 2,
       "version_minor": 0
      },
      "text/plain": [
       "Uploading the dataset shards:   0%|          | 0/1 [00:00<?, ?it/s]"
      ]
     },
     "metadata": {},
     "output_type": "display_data"
    },
    {
     "data": {
      "application/vnd.jupyter.widget-view+json": {
       "model_id": "212d06b4a0694b99a91b2305010c8987",
       "version_major": 2,
       "version_minor": 0
      },
      "text/plain": [
       "Creating parquet from Arrow format:   0%|          | 0/1 [00:00<?, ?ba/s]"
      ]
     },
     "metadata": {},
     "output_type": "display_data"
    },
    {
     "name": "stdout",
     "output_type": "stream",
     "text": [
      "Saved configuration with input_window=2 and output_window=2.\n",
      "instruction_1:  Given the stock data of AVGO over the first 2 trading day, predict the stock data of AVGO over the next 2 trading day. Return the result strictly in the following JSON format, with no additional text: {\n",
      "    \"day_3_date\": \"YYYY-MM-DD\",\n",
      "    \"day_3_stock_news\": \"Stock News\",\n",
      "    \"day_4_date\": \"YYYY-MM-DD\",\n",
      "    \"day_4_stock_news\": \"Stock News\"\n",
      "}\n",
      "instruction_2:  Given the stock data of AVGO over the first 2 trading day, predict the stock data of AVGO over the next 2 trading day. Return the result strictly in the following JSON format, with no additional text: {\n",
      "    \"day_3_date\": \"YYYY-MM-DD\",\n",
      "    \"day_3_stock_news\": \"Stock News\",\n",
      "    \"day_3_Close\": \"A Float Number\",\n",
      "    \"day_4_date\": \"YYYY-MM-DD\",\n",
      "    \"day_4_stock_news\": \"Stock News\",\n",
      "    \"day_4_Close\": \"A Float Number\"\n",
      "}\n",
      "instruction_3:  Given the stock data of AVGO over the first 2 trading day, predict the stock data of AVGO over the next 2 trading day. Return the result strictly in the following JSON format, with no additional text: {\n",
      "    \"day_3_date\": \"YYYY-MM-DD\",\n",
      "    \"day_3_stock_news\": \"Stock News\",\n",
      "    \"day_4_date\": \"YYYY-MM-DD\",\n",
      "    \"day_4_stock_news\": \"Stock News\"\n",
      "}\n",
      "instruction_4:  Given the stock data of AVGO over the first 2 trading day, predict the stock data of AVGO over the next 2 trading day. Return the result strictly in the following JSON format, with no additional text: {\n",
      "    \"day_3_date\": \"YYYY-MM-DD\",\n",
      "    \"day_3_Close\": \"A Float Number\",\n",
      "    \"day_4_date\": \"YYYY-MM-DD\",\n",
      "    \"day_4_Close\": \"A Float Number\"\n",
      "}\n"
     ]
    },
    {
     "data": {
      "application/vnd.jupyter.widget-view+json": {
       "model_id": "9c1d334d6a0345ccb2692da00c15d5de",
       "version_major": 2,
       "version_minor": 0
      },
      "text/plain": [
       "Uploading the dataset shards:   0%|          | 0/1 [00:00<?, ?it/s]"
      ]
     },
     "metadata": {},
     "output_type": "display_data"
    },
    {
     "data": {
      "application/vnd.jupyter.widget-view+json": {
       "model_id": "2e294637ded140b4b4e1e8fc5c52c594",
       "version_major": 2,
       "version_minor": 0
      },
      "text/plain": [
       "Creating parquet from Arrow format:   0%|          | 0/1 [00:00<?, ?ba/s]"
      ]
     },
     "metadata": {},
     "output_type": "display_data"
    },
    {
     "data": {
      "application/vnd.jupyter.widget-view+json": {
       "model_id": "a96de554d5b240b293d6af0d31546c61",
       "version_major": 2,
       "version_minor": 0
      },
      "text/plain": [
       "Uploading the dataset shards:   0%|          | 0/1 [00:00<?, ?it/s]"
      ]
     },
     "metadata": {},
     "output_type": "display_data"
    },
    {
     "data": {
      "application/vnd.jupyter.widget-view+json": {
       "model_id": "0b08a115ae694d0b822ddebce74f4bc0",
       "version_major": 2,
       "version_minor": 0
      },
      "text/plain": [
       "Creating parquet from Arrow format:   0%|          | 0/1 [00:00<?, ?ba/s]"
      ]
     },
     "metadata": {},
     "output_type": "display_data"
    },
    {
     "data": {
      "application/vnd.jupyter.widget-view+json": {
       "model_id": "7fe1f9c167a445ceb7d9e55f92719261",
       "version_major": 2,
       "version_minor": 0
      },
      "text/plain": [
       "Uploading the dataset shards:   0%|          | 0/1 [00:00<?, ?it/s]"
      ]
     },
     "metadata": {},
     "output_type": "display_data"
    },
    {
     "data": {
      "application/vnd.jupyter.widget-view+json": {
       "model_id": "8d65205178454157b443e31a4ffdae58",
       "version_major": 2,
       "version_minor": 0
      },
      "text/plain": [
       "Creating parquet from Arrow format:   0%|          | 0/1 [00:00<?, ?ba/s]"
      ]
     },
     "metadata": {},
     "output_type": "display_data"
    },
    {
     "name": "stdout",
     "output_type": "stream",
     "text": [
      "Saved configuration with input_window=3 and output_window=3.\n",
      "instruction_1:  Given the stock data of AVGO over the first 3 trading day, predict the stock data of AVGO over the next 3 trading day. Return the result strictly in the following JSON format, with no additional text: {\n",
      "    \"day_4_date\": \"YYYY-MM-DD\",\n",
      "    \"day_4_stock_news\": \"Stock News\",\n",
      "    \"day_5_date\": \"YYYY-MM-DD\",\n",
      "    \"day_5_stock_news\": \"Stock News\",\n",
      "    \"day_6_date\": \"YYYY-MM-DD\",\n",
      "    \"day_6_stock_news\": \"Stock News\"\n",
      "}\n",
      "instruction_2:  Given the stock data of AVGO over the first 3 trading day, predict the stock data of AVGO over the next 3 trading day. Return the result strictly in the following JSON format, with no additional text: {\n",
      "    \"day_4_date\": \"YYYY-MM-DD\",\n",
      "    \"day_4_stock_news\": \"Stock News\",\n",
      "    \"day_4_Close\": \"A Float Number\",\n",
      "    \"day_5_date\": \"YYYY-MM-DD\",\n",
      "    \"day_5_stock_news\": \"Stock News\",\n",
      "    \"day_5_Close\": \"A Float Number\",\n",
      "    \"day_6_date\": \"YYYY-MM-DD\",\n",
      "    \"day_6_stock_news\": \"Stock News\",\n",
      "    \"day_6_Close\": \"A Float Number\"\n",
      "}\n",
      "instruction_3:  Given the stock data of AVGO over the first 3 trading day, predict the stock data of AVGO over the next 3 trading day. Return the result strictly in the following JSON format, with no additional text: {\n",
      "    \"day_4_date\": \"YYYY-MM-DD\",\n",
      "    \"day_4_stock_news\": \"Stock News\",\n",
      "    \"day_5_date\": \"YYYY-MM-DD\",\n",
      "    \"day_5_stock_news\": \"Stock News\",\n",
      "    \"day_6_date\": \"YYYY-MM-DD\",\n",
      "    \"day_6_stock_news\": \"Stock News\"\n",
      "}\n",
      "instruction_4:  Given the stock data of AVGO over the first 3 trading day, predict the stock data of AVGO over the next 3 trading day. Return the result strictly in the following JSON format, with no additional text: {\n",
      "    \"day_4_date\": \"YYYY-MM-DD\",\n",
      "    \"day_4_Close\": \"A Float Number\",\n",
      "    \"day_5_date\": \"YYYY-MM-DD\",\n",
      "    \"day_5_Close\": \"A Float Number\",\n",
      "    \"day_6_date\": \"YYYY-MM-DD\",\n",
      "    \"day_6_Close\": \"A Float Number\"\n",
      "}\n"
     ]
    },
    {
     "data": {
      "application/vnd.jupyter.widget-view+json": {
       "model_id": "dae8fefe03504e8ba13658ba0fac2782",
       "version_major": 2,
       "version_minor": 0
      },
      "text/plain": [
       "Uploading the dataset shards:   0%|          | 0/1 [00:00<?, ?it/s]"
      ]
     },
     "metadata": {},
     "output_type": "display_data"
    },
    {
     "data": {
      "application/vnd.jupyter.widget-view+json": {
       "model_id": "26c6ede5a9fa458aa68b7397460142ee",
       "version_major": 2,
       "version_minor": 0
      },
      "text/plain": [
       "Creating parquet from Arrow format:   0%|          | 0/1 [00:00<?, ?ba/s]"
      ]
     },
     "metadata": {},
     "output_type": "display_data"
    },
    {
     "data": {
      "application/vnd.jupyter.widget-view+json": {
       "model_id": "1cbf134175074874ac95df672059ed2b",
       "version_major": 2,
       "version_minor": 0
      },
      "text/plain": [
       "Uploading the dataset shards:   0%|          | 0/1 [00:00<?, ?it/s]"
      ]
     },
     "metadata": {},
     "output_type": "display_data"
    },
    {
     "data": {
      "application/vnd.jupyter.widget-view+json": {
       "model_id": "58f799f24c8940cf9da15590314906cc",
       "version_major": 2,
       "version_minor": 0
      },
      "text/plain": [
       "Creating parquet from Arrow format:   0%|          | 0/1 [00:00<?, ?ba/s]"
      ]
     },
     "metadata": {},
     "output_type": "display_data"
    },
    {
     "data": {
      "application/vnd.jupyter.widget-view+json": {
       "model_id": "95fc21b139c247379bff32619d0f0b4a",
       "version_major": 2,
       "version_minor": 0
      },
      "text/plain": [
       "Uploading the dataset shards:   0%|          | 0/1 [00:00<?, ?it/s]"
      ]
     },
     "metadata": {},
     "output_type": "display_data"
    },
    {
     "data": {
      "application/vnd.jupyter.widget-view+json": {
       "model_id": "26807666a9fc415a8294019e8db15de9",
       "version_major": 2,
       "version_minor": 0
      },
      "text/plain": [
       "Creating parquet from Arrow format:   0%|          | 0/1 [00:00<?, ?ba/s]"
      ]
     },
     "metadata": {},
     "output_type": "display_data"
    },
    {
     "name": "stdout",
     "output_type": "stream",
     "text": [
      "Saved configuration with input_window=4 and output_window=4.\n",
      "instruction_1:  Given the stock data of AVGO over the first 4 trading day, predict the stock data of AVGO over the next 4 trading day. Return the result strictly in the following JSON format, with no additional text: {\n",
      "    \"day_5_date\": \"YYYY-MM-DD\",\n",
      "    \"day_5_stock_news\": \"Stock News\",\n",
      "    \"day_6_date\": \"YYYY-MM-DD\",\n",
      "    \"day_6_stock_news\": \"Stock News\",\n",
      "    \"day_7_date\": \"YYYY-MM-DD\",\n",
      "    \"day_7_stock_news\": \"Stock News\",\n",
      "    \"day_8_date\": \"YYYY-MM-DD\",\n",
      "    \"day_8_stock_news\": \"Stock News\"\n",
      "}\n",
      "instruction_2:  Given the stock data of AVGO over the first 4 trading day, predict the stock data of AVGO over the next 4 trading day. Return the result strictly in the following JSON format, with no additional text: {\n",
      "    \"day_5_date\": \"YYYY-MM-DD\",\n",
      "    \"day_5_stock_news\": \"Stock News\",\n",
      "    \"day_5_Close\": \"A Float Number\",\n",
      "    \"day_6_date\": \"YYYY-MM-DD\",\n",
      "    \"day_6_stock_news\": \"Stock News\",\n",
      "    \"day_6_Close\": \"A Float Number\",\n",
      "    \"day_7_date\": \"YYYY-MM-DD\",\n",
      "    \"day_7_stock_news\": \"Stock News\",\n",
      "    \"day_7_Close\": \"A Float Number\",\n",
      "    \"day_8_date\": \"YYYY-MM-DD\",\n",
      "    \"day_8_stock_news\": \"Stock News\",\n",
      "    \"day_8_Close\": \"A Float Number\"\n",
      "}\n",
      "instruction_3:  Given the stock data of AVGO over the first 4 trading day, predict the stock data of AVGO over the next 4 trading day. Return the result strictly in the following JSON format, with no additional text: {\n",
      "    \"day_5_date\": \"YYYY-MM-DD\",\n",
      "    \"day_5_stock_news\": \"Stock News\",\n",
      "    \"day_6_date\": \"YYYY-MM-DD\",\n",
      "    \"day_6_stock_news\": \"Stock News\",\n",
      "    \"day_7_date\": \"YYYY-MM-DD\",\n",
      "    \"day_7_stock_news\": \"Stock News\",\n",
      "    \"day_8_date\": \"YYYY-MM-DD\",\n",
      "    \"day_8_stock_news\": \"Stock News\"\n",
      "}\n",
      "instruction_4:  Given the stock data of AVGO over the first 4 trading day, predict the stock data of AVGO over the next 4 trading day. Return the result strictly in the following JSON format, with no additional text: {\n",
      "    \"day_5_date\": \"YYYY-MM-DD\",\n",
      "    \"day_5_Close\": \"A Float Number\",\n",
      "    \"day_6_date\": \"YYYY-MM-DD\",\n",
      "    \"day_6_Close\": \"A Float Number\",\n",
      "    \"day_7_date\": \"YYYY-MM-DD\",\n",
      "    \"day_7_Close\": \"A Float Number\",\n",
      "    \"day_8_date\": \"YYYY-MM-DD\",\n",
      "    \"day_8_Close\": \"A Float Number\"\n",
      "}\n"
     ]
    },
    {
     "data": {
      "application/vnd.jupyter.widget-view+json": {
       "model_id": "459bdcb78abb4abc8e3c118a38ef92ca",
       "version_major": 2,
       "version_minor": 0
      },
      "text/plain": [
       "Uploading the dataset shards:   0%|          | 0/1 [00:00<?, ?it/s]"
      ]
     },
     "metadata": {},
     "output_type": "display_data"
    },
    {
     "data": {
      "application/vnd.jupyter.widget-view+json": {
       "model_id": "eef74c45b324424ea606e28a97c8a605",
       "version_major": 2,
       "version_minor": 0
      },
      "text/plain": [
       "Creating parquet from Arrow format:   0%|          | 0/1 [00:00<?, ?ba/s]"
      ]
     },
     "metadata": {},
     "output_type": "display_data"
    },
    {
     "data": {
      "application/vnd.jupyter.widget-view+json": {
       "model_id": "2ecec675638e4ae28eb790a514303d9c",
       "version_major": 2,
       "version_minor": 0
      },
      "text/plain": [
       "Uploading the dataset shards:   0%|          | 0/1 [00:00<?, ?it/s]"
      ]
     },
     "metadata": {},
     "output_type": "display_data"
    },
    {
     "data": {
      "application/vnd.jupyter.widget-view+json": {
       "model_id": "2748cdef9cad414e8defd89d9279943c",
       "version_major": 2,
       "version_minor": 0
      },
      "text/plain": [
       "Creating parquet from Arrow format:   0%|          | 0/1 [00:00<?, ?ba/s]"
      ]
     },
     "metadata": {},
     "output_type": "display_data"
    },
    {
     "data": {
      "application/vnd.jupyter.widget-view+json": {
       "model_id": "a5975a4708d94595a95b18917692abd3",
       "version_major": 2,
       "version_minor": 0
      },
      "text/plain": [
       "Uploading the dataset shards:   0%|          | 0/1 [00:00<?, ?it/s]"
      ]
     },
     "metadata": {},
     "output_type": "display_data"
    },
    {
     "data": {
      "application/vnd.jupyter.widget-view+json": {
       "model_id": "5739aef570be44a495d6cbfde141ec45",
       "version_major": 2,
       "version_minor": 0
      },
      "text/plain": [
       "Creating parquet from Arrow format:   0%|          | 0/1 [00:00<?, ?ba/s]"
      ]
     },
     "metadata": {},
     "output_type": "display_data"
    },
    {
     "name": "stdout",
     "output_type": "stream",
     "text": [
      "Saved configuration with input_window=5 and output_window=5.\n",
      "instruction_1:  Given the stock data of AVGO over the first 5 trading day, predict the stock data of AVGO over the next 5 trading day. Return the result strictly in the following JSON format, with no additional text: {\n",
      "    \"day_6_date\": \"YYYY-MM-DD\",\n",
      "    \"day_6_stock_news\": \"Stock News\",\n",
      "    \"day_7_date\": \"YYYY-MM-DD\",\n",
      "    \"day_7_stock_news\": \"Stock News\",\n",
      "    \"day_8_date\": \"YYYY-MM-DD\",\n",
      "    \"day_8_stock_news\": \"Stock News\",\n",
      "    \"day_9_date\": \"YYYY-MM-DD\",\n",
      "    \"day_9_stock_news\": \"Stock News\",\n",
      "    \"day_10_date\": \"YYYY-MM-DD\",\n",
      "    \"day_10_stock_news\": \"Stock News\"\n",
      "}\n",
      "instruction_2:  Given the stock data of AVGO over the first 5 trading day, predict the stock data of AVGO over the next 5 trading day. Return the result strictly in the following JSON format, with no additional text: {\n",
      "    \"day_6_date\": \"YYYY-MM-DD\",\n",
      "    \"day_6_stock_news\": \"Stock News\",\n",
      "    \"day_6_Close\": \"A Float Number\",\n",
      "    \"day_7_date\": \"YYYY-MM-DD\",\n",
      "    \"day_7_stock_news\": \"Stock News\",\n",
      "    \"day_7_Close\": \"A Float Number\",\n",
      "    \"day_8_date\": \"YYYY-MM-DD\",\n",
      "    \"day_8_stock_news\": \"Stock News\",\n",
      "    \"day_8_Close\": \"A Float Number\",\n",
      "    \"day_9_date\": \"YYYY-MM-DD\",\n",
      "    \"day_9_stock_news\": \"Stock News\",\n",
      "    \"day_9_Close\": \"A Float Number\",\n",
      "    \"day_10_date\": \"YYYY-MM-DD\",\n",
      "    \"day_10_stock_news\": \"Stock News\",\n",
      "    \"day_10_Close\": \"A Float Number\"\n",
      "}\n",
      "instruction_3:  Given the stock data of AVGO over the first 5 trading day, predict the stock data of AVGO over the next 5 trading day. Return the result strictly in the following JSON format, with no additional text: {\n",
      "    \"day_6_date\": \"YYYY-MM-DD\",\n",
      "    \"day_6_stock_news\": \"Stock News\",\n",
      "    \"day_7_date\": \"YYYY-MM-DD\",\n",
      "    \"day_7_stock_news\": \"Stock News\",\n",
      "    \"day_8_date\": \"YYYY-MM-DD\",\n",
      "    \"day_8_stock_news\": \"Stock News\",\n",
      "    \"day_9_date\": \"YYYY-MM-DD\",\n",
      "    \"day_9_stock_news\": \"Stock News\",\n",
      "    \"day_10_date\": \"YYYY-MM-DD\",\n",
      "    \"day_10_stock_news\": \"Stock News\"\n",
      "}\n",
      "instruction_4:  Given the stock data of AVGO over the first 5 trading day, predict the stock data of AVGO over the next 5 trading day. Return the result strictly in the following JSON format, with no additional text: {\n",
      "    \"day_6_date\": \"YYYY-MM-DD\",\n",
      "    \"day_6_Close\": \"A Float Number\",\n",
      "    \"day_7_date\": \"YYYY-MM-DD\",\n",
      "    \"day_7_Close\": \"A Float Number\",\n",
      "    \"day_8_date\": \"YYYY-MM-DD\",\n",
      "    \"day_8_Close\": \"A Float Number\",\n",
      "    \"day_9_date\": \"YYYY-MM-DD\",\n",
      "    \"day_9_Close\": \"A Float Number\",\n",
      "    \"day_10_date\": \"YYYY-MM-DD\",\n",
      "    \"day_10_Close\": \"A Float Number\"\n",
      "}\n"
     ]
    },
    {
     "data": {
      "application/vnd.jupyter.widget-view+json": {
       "model_id": "af00f1c1cfb24308bd4bc98b5e0d5e02",
       "version_major": 2,
       "version_minor": 0
      },
      "text/plain": [
       "Uploading the dataset shards:   0%|          | 0/1 [00:00<?, ?it/s]"
      ]
     },
     "metadata": {},
     "output_type": "display_data"
    },
    {
     "data": {
      "application/vnd.jupyter.widget-view+json": {
       "model_id": "f1fcff531b40479a8d8bab8a09fe8a92",
       "version_major": 2,
       "version_minor": 0
      },
      "text/plain": [
       "Creating parquet from Arrow format:   0%|          | 0/1 [00:00<?, ?ba/s]"
      ]
     },
     "metadata": {},
     "output_type": "display_data"
    },
    {
     "data": {
      "application/vnd.jupyter.widget-view+json": {
       "model_id": "eb67cd8582c74b28992f00ed9b348dbf",
       "version_major": 2,
       "version_minor": 0
      },
      "text/plain": [
       "Uploading the dataset shards:   0%|          | 0/1 [00:00<?, ?it/s]"
      ]
     },
     "metadata": {},
     "output_type": "display_data"
    },
    {
     "data": {
      "application/vnd.jupyter.widget-view+json": {
       "model_id": "98665d8763104ce8aa4a459506c57bc2",
       "version_major": 2,
       "version_minor": 0
      },
      "text/plain": [
       "Creating parquet from Arrow format:   0%|          | 0/1 [00:00<?, ?ba/s]"
      ]
     },
     "metadata": {},
     "output_type": "display_data"
    },
    {
     "data": {
      "application/vnd.jupyter.widget-view+json": {
       "model_id": "5bf2a508e143472cbdd50779ee3444d8",
       "version_major": 2,
       "version_minor": 0
      },
      "text/plain": [
       "Uploading the dataset shards:   0%|          | 0/1 [00:00<?, ?it/s]"
      ]
     },
     "metadata": {},
     "output_type": "display_data"
    },
    {
     "data": {
      "application/vnd.jupyter.widget-view+json": {
       "model_id": "9aee4ad202ff4d319927c385ec256d25",
       "version_major": 2,
       "version_minor": 0
      },
      "text/plain": [
       "Creating parquet from Arrow format:   0%|          | 0/1 [00:00<?, ?ba/s]"
      ]
     },
     "metadata": {},
     "output_type": "display_data"
    },
    {
     "name": "stdout",
     "output_type": "stream",
     "text": [
      "Saved configuration with input_window=6 and output_window=6.\n",
      "instruction_1:  Given the stock data of AVGO over the first 6 trading day, predict the stock data of AVGO over the next 6 trading day. Return the result strictly in the following JSON format, with no additional text: {\n",
      "    \"day_7_date\": \"YYYY-MM-DD\",\n",
      "    \"day_7_stock_news\": \"Stock News\",\n",
      "    \"day_8_date\": \"YYYY-MM-DD\",\n",
      "    \"day_8_stock_news\": \"Stock News\",\n",
      "    \"day_9_date\": \"YYYY-MM-DD\",\n",
      "    \"day_9_stock_news\": \"Stock News\",\n",
      "    \"day_10_date\": \"YYYY-MM-DD\",\n",
      "    \"day_10_stock_news\": \"Stock News\",\n",
      "    \"day_11_date\": \"YYYY-MM-DD\",\n",
      "    \"day_11_stock_news\": \"Stock News\",\n",
      "    \"day_12_date\": \"YYYY-MM-DD\",\n",
      "    \"day_12_stock_news\": \"Stock News\"\n",
      "}\n",
      "instruction_2:  Given the stock data of AVGO over the first 6 trading day, predict the stock data of AVGO over the next 6 trading day. Return the result strictly in the following JSON format, with no additional text: {\n",
      "    \"day_7_date\": \"YYYY-MM-DD\",\n",
      "    \"day_7_stock_news\": \"Stock News\",\n",
      "    \"day_7_Close\": \"A Float Number\",\n",
      "    \"day_8_date\": \"YYYY-MM-DD\",\n",
      "    \"day_8_stock_news\": \"Stock News\",\n",
      "    \"day_8_Close\": \"A Float Number\",\n",
      "    \"day_9_date\": \"YYYY-MM-DD\",\n",
      "    \"day_9_stock_news\": \"Stock News\",\n",
      "    \"day_9_Close\": \"A Float Number\",\n",
      "    \"day_10_date\": \"YYYY-MM-DD\",\n",
      "    \"day_10_stock_news\": \"Stock News\",\n",
      "    \"day_10_Close\": \"A Float Number\",\n",
      "    \"day_11_date\": \"YYYY-MM-DD\",\n",
      "    \"day_11_stock_news\": \"Stock News\",\n",
      "    \"day_11_Close\": \"A Float Number\",\n",
      "    \"day_12_date\": \"YYYY-MM-DD\",\n",
      "    \"day_12_stock_news\": \"Stock News\",\n",
      "    \"day_12_Close\": \"A Float Number\"\n",
      "}\n",
      "instruction_3:  Given the stock data of AVGO over the first 6 trading day, predict the stock data of AVGO over the next 6 trading day. Return the result strictly in the following JSON format, with no additional text: {\n",
      "    \"day_7_date\": \"YYYY-MM-DD\",\n",
      "    \"day_7_stock_news\": \"Stock News\",\n",
      "    \"day_8_date\": \"YYYY-MM-DD\",\n",
      "    \"day_8_stock_news\": \"Stock News\",\n",
      "    \"day_9_date\": \"YYYY-MM-DD\",\n",
      "    \"day_9_stock_news\": \"Stock News\",\n",
      "    \"day_10_date\": \"YYYY-MM-DD\",\n",
      "    \"day_10_stock_news\": \"Stock News\",\n",
      "    \"day_11_date\": \"YYYY-MM-DD\",\n",
      "    \"day_11_stock_news\": \"Stock News\",\n",
      "    \"day_12_date\": \"YYYY-MM-DD\",\n",
      "    \"day_12_stock_news\": \"Stock News\"\n",
      "}\n",
      "instruction_4:  Given the stock data of AVGO over the first 6 trading day, predict the stock data of AVGO over the next 6 trading day. Return the result strictly in the following JSON format, with no additional text: {\n",
      "    \"day_7_date\": \"YYYY-MM-DD\",\n",
      "    \"day_7_Close\": \"A Float Number\",\n",
      "    \"day_8_date\": \"YYYY-MM-DD\",\n",
      "    \"day_8_Close\": \"A Float Number\",\n",
      "    \"day_9_date\": \"YYYY-MM-DD\",\n",
      "    \"day_9_Close\": \"A Float Number\",\n",
      "    \"day_10_date\": \"YYYY-MM-DD\",\n",
      "    \"day_10_Close\": \"A Float Number\",\n",
      "    \"day_11_date\": \"YYYY-MM-DD\",\n",
      "    \"day_11_Close\": \"A Float Number\",\n",
      "    \"day_12_date\": \"YYYY-MM-DD\",\n",
      "    \"day_12_Close\": \"A Float Number\"\n",
      "}\n"
     ]
    },
    {
     "data": {
      "application/vnd.jupyter.widget-view+json": {
       "model_id": "00e77cd517894920830250c5149eec21",
       "version_major": 2,
       "version_minor": 0
      },
      "text/plain": [
       "Uploading the dataset shards:   0%|          | 0/1 [00:00<?, ?it/s]"
      ]
     },
     "metadata": {},
     "output_type": "display_data"
    },
    {
     "data": {
      "application/vnd.jupyter.widget-view+json": {
       "model_id": "b5fa82ee5180427b95c14c4e8514cedb",
       "version_major": 2,
       "version_minor": 0
      },
      "text/plain": [
       "Creating parquet from Arrow format:   0%|          | 0/1 [00:00<?, ?ba/s]"
      ]
     },
     "metadata": {},
     "output_type": "display_data"
    },
    {
     "data": {
      "application/vnd.jupyter.widget-view+json": {
       "model_id": "ea9a5383d97f441aaab8365d76d61c0d",
       "version_major": 2,
       "version_minor": 0
      },
      "text/plain": [
       "Uploading the dataset shards:   0%|          | 0/1 [00:00<?, ?it/s]"
      ]
     },
     "metadata": {},
     "output_type": "display_data"
    },
    {
     "data": {
      "application/vnd.jupyter.widget-view+json": {
       "model_id": "1f6c2f311de24f94ab80f646392e0ef0",
       "version_major": 2,
       "version_minor": 0
      },
      "text/plain": [
       "Creating parquet from Arrow format:   0%|          | 0/1 [00:00<?, ?ba/s]"
      ]
     },
     "metadata": {},
     "output_type": "display_data"
    },
    {
     "data": {
      "application/vnd.jupyter.widget-view+json": {
       "model_id": "c9123b1e7b4b4c3ca5327dfffba28a15",
       "version_major": 2,
       "version_minor": 0
      },
      "text/plain": [
       "Uploading the dataset shards:   0%|          | 0/1 [00:00<?, ?it/s]"
      ]
     },
     "metadata": {},
     "output_type": "display_data"
    },
    {
     "data": {
      "application/vnd.jupyter.widget-view+json": {
       "model_id": "36f3c35527bf44d6b9cd28e99402e45f",
       "version_major": 2,
       "version_minor": 0
      },
      "text/plain": [
       "Creating parquet from Arrow format:   0%|          | 0/1 [00:00<?, ?ba/s]"
      ]
     },
     "metadata": {},
     "output_type": "display_data"
    },
    {
     "name": "stdout",
     "output_type": "stream",
     "text": [
      "Saved configuration with input_window=7 and output_window=7.\n",
      "instruction_1:  Given the stock data of AVGO over the first 7 trading day, predict the stock data of AVGO over the next 7 trading day. Return the result strictly in the following JSON format, with no additional text: {\n",
      "    \"day_8_date\": \"YYYY-MM-DD\",\n",
      "    \"day_8_stock_news\": \"Stock News\",\n",
      "    \"day_9_date\": \"YYYY-MM-DD\",\n",
      "    \"day_9_stock_news\": \"Stock News\",\n",
      "    \"day_10_date\": \"YYYY-MM-DD\",\n",
      "    \"day_10_stock_news\": \"Stock News\",\n",
      "    \"day_11_date\": \"YYYY-MM-DD\",\n",
      "    \"day_11_stock_news\": \"Stock News\",\n",
      "    \"day_12_date\": \"YYYY-MM-DD\",\n",
      "    \"day_12_stock_news\": \"Stock News\",\n",
      "    \"day_13_date\": \"YYYY-MM-DD\",\n",
      "    \"day_13_stock_news\": \"Stock News\",\n",
      "    \"day_14_date\": \"YYYY-MM-DD\",\n",
      "    \"day_14_stock_news\": \"Stock News\"\n",
      "}\n",
      "instruction_2:  Given the stock data of AVGO over the first 7 trading day, predict the stock data of AVGO over the next 7 trading day. Return the result strictly in the following JSON format, with no additional text: {\n",
      "    \"day_8_date\": \"YYYY-MM-DD\",\n",
      "    \"day_8_stock_news\": \"Stock News\",\n",
      "    \"day_8_Close\": \"A Float Number\",\n",
      "    \"day_9_date\": \"YYYY-MM-DD\",\n",
      "    \"day_9_stock_news\": \"Stock News\",\n",
      "    \"day_9_Close\": \"A Float Number\",\n",
      "    \"day_10_date\": \"YYYY-MM-DD\",\n",
      "    \"day_10_stock_news\": \"Stock News\",\n",
      "    \"day_10_Close\": \"A Float Number\",\n",
      "    \"day_11_date\": \"YYYY-MM-DD\",\n",
      "    \"day_11_stock_news\": \"Stock News\",\n",
      "    \"day_11_Close\": \"A Float Number\",\n",
      "    \"day_12_date\": \"YYYY-MM-DD\",\n",
      "    \"day_12_stock_news\": \"Stock News\",\n",
      "    \"day_12_Close\": \"A Float Number\",\n",
      "    \"day_13_date\": \"YYYY-MM-DD\",\n",
      "    \"day_13_stock_news\": \"Stock News\",\n",
      "    \"day_13_Close\": \"A Float Number\",\n",
      "    \"day_14_date\": \"YYYY-MM-DD\",\n",
      "    \"day_14_stock_news\": \"Stock News\",\n",
      "    \"day_14_Close\": \"A Float Number\"\n",
      "}\n",
      "instruction_3:  Given the stock data of AVGO over the first 7 trading day, predict the stock data of AVGO over the next 7 trading day. Return the result strictly in the following JSON format, with no additional text: {\n",
      "    \"day_8_date\": \"YYYY-MM-DD\",\n",
      "    \"day_8_stock_news\": \"Stock News\",\n",
      "    \"day_9_date\": \"YYYY-MM-DD\",\n",
      "    \"day_9_stock_news\": \"Stock News\",\n",
      "    \"day_10_date\": \"YYYY-MM-DD\",\n",
      "    \"day_10_stock_news\": \"Stock News\",\n",
      "    \"day_11_date\": \"YYYY-MM-DD\",\n",
      "    \"day_11_stock_news\": \"Stock News\",\n",
      "    \"day_12_date\": \"YYYY-MM-DD\",\n",
      "    \"day_12_stock_news\": \"Stock News\",\n",
      "    \"day_13_date\": \"YYYY-MM-DD\",\n",
      "    \"day_13_stock_news\": \"Stock News\",\n",
      "    \"day_14_date\": \"YYYY-MM-DD\",\n",
      "    \"day_14_stock_news\": \"Stock News\"\n",
      "}\n",
      "instruction_4:  Given the stock data of AVGO over the first 7 trading day, predict the stock data of AVGO over the next 7 trading day. Return the result strictly in the following JSON format, with no additional text: {\n",
      "    \"day_8_date\": \"YYYY-MM-DD\",\n",
      "    \"day_8_Close\": \"A Float Number\",\n",
      "    \"day_9_date\": \"YYYY-MM-DD\",\n",
      "    \"day_9_Close\": \"A Float Number\",\n",
      "    \"day_10_date\": \"YYYY-MM-DD\",\n",
      "    \"day_10_Close\": \"A Float Number\",\n",
      "    \"day_11_date\": \"YYYY-MM-DD\",\n",
      "    \"day_11_Close\": \"A Float Number\",\n",
      "    \"day_12_date\": \"YYYY-MM-DD\",\n",
      "    \"day_12_Close\": \"A Float Number\",\n",
      "    \"day_13_date\": \"YYYY-MM-DD\",\n",
      "    \"day_13_Close\": \"A Float Number\",\n",
      "    \"day_14_date\": \"YYYY-MM-DD\",\n",
      "    \"day_14_Close\": \"A Float Number\"\n",
      "}\n"
     ]
    },
    {
     "data": {
      "application/vnd.jupyter.widget-view+json": {
       "model_id": "bd31881485fa4b59aa1d3dc838850f2c",
       "version_major": 2,
       "version_minor": 0
      },
      "text/plain": [
       "Uploading the dataset shards:   0%|          | 0/1 [00:00<?, ?it/s]"
      ]
     },
     "metadata": {},
     "output_type": "display_data"
    },
    {
     "data": {
      "application/vnd.jupyter.widget-view+json": {
       "model_id": "c0af42af4a744528a1f0ae55b99f6296",
       "version_major": 2,
       "version_minor": 0
      },
      "text/plain": [
       "Creating parquet from Arrow format:   0%|          | 0/1 [00:00<?, ?ba/s]"
      ]
     },
     "metadata": {},
     "output_type": "display_data"
    },
    {
     "data": {
      "application/vnd.jupyter.widget-view+json": {
       "model_id": "33d8710f89314d9d9ac672ed8a2ae305",
       "version_major": 2,
       "version_minor": 0
      },
      "text/plain": [
       "Uploading the dataset shards:   0%|          | 0/1 [00:00<?, ?it/s]"
      ]
     },
     "metadata": {},
     "output_type": "display_data"
    },
    {
     "data": {
      "application/vnd.jupyter.widget-view+json": {
       "model_id": "ab11918ee8434c02aa73df97fc983c95",
       "version_major": 2,
       "version_minor": 0
      },
      "text/plain": [
       "Creating parquet from Arrow format:   0%|          | 0/1 [00:00<?, ?ba/s]"
      ]
     },
     "metadata": {},
     "output_type": "display_data"
    },
    {
     "data": {
      "application/vnd.jupyter.widget-view+json": {
       "model_id": "df328b8e6268469b908dbf2c45347908",
       "version_major": 2,
       "version_minor": 0
      },
      "text/plain": [
       "Uploading the dataset shards:   0%|          | 0/1 [00:00<?, ?it/s]"
      ]
     },
     "metadata": {},
     "output_type": "display_data"
    },
    {
     "data": {
      "application/vnd.jupyter.widget-view+json": {
       "model_id": "bb6fd54063d34c1b88708b9d236d8585",
       "version_major": 2,
       "version_minor": 0
      },
      "text/plain": [
       "Creating parquet from Arrow format:   0%|          | 0/1 [00:00<?, ?ba/s]"
      ]
     },
     "metadata": {},
     "output_type": "display_data"
    },
    {
     "name": "stdout",
     "output_type": "stream",
     "text": [
      "Saved configuration with input_window=1 and output_window=1.\n",
      "instruction_1:  Given the stock data of NFLX over the first 1 trading day, predict the stock data of NFLX over the next 1 trading day. Return the result strictly in the following JSON format, with no additional text: {\n",
      "    \"day_2_date\": \"YYYY-MM-DD\",\n",
      "    \"day_2_stock_news\": \"Stock News\"\n",
      "}\n",
      "instruction_2:  Given the stock data of NFLX over the first 1 trading day, predict the stock data of NFLX over the next 1 trading day. Return the result strictly in the following JSON format, with no additional text: {\n",
      "    \"day_2_date\": \"YYYY-MM-DD\",\n",
      "    \"day_2_stock_news\": \"Stock News\",\n",
      "    \"day_2_Close\": \"A Float Number\"\n",
      "}\n",
      "instruction_3:  Given the stock data of NFLX over the first 1 trading day, predict the stock data of NFLX over the next 1 trading day. Return the result strictly in the following JSON format, with no additional text: {\n",
      "    \"day_2_date\": \"YYYY-MM-DD\",\n",
      "    \"day_2_stock_news\": \"Stock News\"\n",
      "}\n",
      "instruction_4:  Given the stock data of NFLX over the first 1 trading day, predict the stock data of NFLX over the next 1 trading day. Return the result strictly in the following JSON format, with no additional text: {\n",
      "    \"day_2_date\": \"YYYY-MM-DD\",\n",
      "    \"day_2_Close\": \"A Float Number\"\n",
      "}\n"
     ]
    },
    {
     "data": {
      "application/vnd.jupyter.widget-view+json": {
       "model_id": "f9e5157569ff4c47b15cb9bbbe5d30d3",
       "version_major": 2,
       "version_minor": 0
      },
      "text/plain": [
       "Uploading the dataset shards:   0%|          | 0/1 [00:00<?, ?it/s]"
      ]
     },
     "metadata": {},
     "output_type": "display_data"
    },
    {
     "data": {
      "application/vnd.jupyter.widget-view+json": {
       "model_id": "30d04af8774c484093301b7dab207957",
       "version_major": 2,
       "version_minor": 0
      },
      "text/plain": [
       "Creating parquet from Arrow format:   0%|          | 0/1 [00:00<?, ?ba/s]"
      ]
     },
     "metadata": {},
     "output_type": "display_data"
    },
    {
     "data": {
      "application/vnd.jupyter.widget-view+json": {
       "model_id": "e711ab475a9545e48cba2c100f9a29d4",
       "version_major": 2,
       "version_minor": 0
      },
      "text/plain": [
       "Uploading the dataset shards:   0%|          | 0/1 [00:00<?, ?it/s]"
      ]
     },
     "metadata": {},
     "output_type": "display_data"
    },
    {
     "data": {
      "application/vnd.jupyter.widget-view+json": {
       "model_id": "e712149420914ceb8a4195189d5c6dc7",
       "version_major": 2,
       "version_minor": 0
      },
      "text/plain": [
       "Creating parquet from Arrow format:   0%|          | 0/1 [00:00<?, ?ba/s]"
      ]
     },
     "metadata": {},
     "output_type": "display_data"
    },
    {
     "data": {
      "application/vnd.jupyter.widget-view+json": {
       "model_id": "41243276e9ee42e19f6f35f693eba281",
       "version_major": 2,
       "version_minor": 0
      },
      "text/plain": [
       "Uploading the dataset shards:   0%|          | 0/1 [00:00<?, ?it/s]"
      ]
     },
     "metadata": {},
     "output_type": "display_data"
    },
    {
     "data": {
      "application/vnd.jupyter.widget-view+json": {
       "model_id": "1221036cb6b740eba55c388e5144d2dd",
       "version_major": 2,
       "version_minor": 0
      },
      "text/plain": [
       "Creating parquet from Arrow format:   0%|          | 0/1 [00:00<?, ?ba/s]"
      ]
     },
     "metadata": {},
     "output_type": "display_data"
    },
    {
     "name": "stdout",
     "output_type": "stream",
     "text": [
      "Saved configuration with input_window=2 and output_window=2.\n",
      "instruction_1:  Given the stock data of NFLX over the first 2 trading day, predict the stock data of NFLX over the next 2 trading day. Return the result strictly in the following JSON format, with no additional text: {\n",
      "    \"day_3_date\": \"YYYY-MM-DD\",\n",
      "    \"day_3_stock_news\": \"Stock News\",\n",
      "    \"day_4_date\": \"YYYY-MM-DD\",\n",
      "    \"day_4_stock_news\": \"Stock News\"\n",
      "}\n",
      "instruction_2:  Given the stock data of NFLX over the first 2 trading day, predict the stock data of NFLX over the next 2 trading day. Return the result strictly in the following JSON format, with no additional text: {\n",
      "    \"day_3_date\": \"YYYY-MM-DD\",\n",
      "    \"day_3_stock_news\": \"Stock News\",\n",
      "    \"day_3_Close\": \"A Float Number\",\n",
      "    \"day_4_date\": \"YYYY-MM-DD\",\n",
      "    \"day_4_stock_news\": \"Stock News\",\n",
      "    \"day_4_Close\": \"A Float Number\"\n",
      "}\n",
      "instruction_3:  Given the stock data of NFLX over the first 2 trading day, predict the stock data of NFLX over the next 2 trading day. Return the result strictly in the following JSON format, with no additional text: {\n",
      "    \"day_3_date\": \"YYYY-MM-DD\",\n",
      "    \"day_3_stock_news\": \"Stock News\",\n",
      "    \"day_4_date\": \"YYYY-MM-DD\",\n",
      "    \"day_4_stock_news\": \"Stock News\"\n",
      "}\n",
      "instruction_4:  Given the stock data of NFLX over the first 2 trading day, predict the stock data of NFLX over the next 2 trading day. Return the result strictly in the following JSON format, with no additional text: {\n",
      "    \"day_3_date\": \"YYYY-MM-DD\",\n",
      "    \"day_3_Close\": \"A Float Number\",\n",
      "    \"day_4_date\": \"YYYY-MM-DD\",\n",
      "    \"day_4_Close\": \"A Float Number\"\n",
      "}\n"
     ]
    },
    {
     "data": {
      "application/vnd.jupyter.widget-view+json": {
       "model_id": "ae84e2a4a52b4743a5309343cb4adba6",
       "version_major": 2,
       "version_minor": 0
      },
      "text/plain": [
       "Uploading the dataset shards:   0%|          | 0/1 [00:00<?, ?it/s]"
      ]
     },
     "metadata": {},
     "output_type": "display_data"
    },
    {
     "data": {
      "application/vnd.jupyter.widget-view+json": {
       "model_id": "1d6de945af364abc9de5107ee5a9cb60",
       "version_major": 2,
       "version_minor": 0
      },
      "text/plain": [
       "Creating parquet from Arrow format:   0%|          | 0/1 [00:00<?, ?ba/s]"
      ]
     },
     "metadata": {},
     "output_type": "display_data"
    },
    {
     "data": {
      "application/vnd.jupyter.widget-view+json": {
       "model_id": "61f5d4c5e855456ab74f1ffc795b1611",
       "version_major": 2,
       "version_minor": 0
      },
      "text/plain": [
       "Uploading the dataset shards:   0%|          | 0/1 [00:00<?, ?it/s]"
      ]
     },
     "metadata": {},
     "output_type": "display_data"
    },
    {
     "data": {
      "application/vnd.jupyter.widget-view+json": {
       "model_id": "2ae9db4e104d488bb938140683582858",
       "version_major": 2,
       "version_minor": 0
      },
      "text/plain": [
       "Creating parquet from Arrow format:   0%|          | 0/1 [00:00<?, ?ba/s]"
      ]
     },
     "metadata": {},
     "output_type": "display_data"
    },
    {
     "data": {
      "application/vnd.jupyter.widget-view+json": {
       "model_id": "8096a44f0e654b6b9da5c92f8af91c52",
       "version_major": 2,
       "version_minor": 0
      },
      "text/plain": [
       "Uploading the dataset shards:   0%|          | 0/1 [00:00<?, ?it/s]"
      ]
     },
     "metadata": {},
     "output_type": "display_data"
    },
    {
     "data": {
      "application/vnd.jupyter.widget-view+json": {
       "model_id": "cb901b8b01ff4f388644a8b75594e5a0",
       "version_major": 2,
       "version_minor": 0
      },
      "text/plain": [
       "Creating parquet from Arrow format:   0%|          | 0/1 [00:00<?, ?ba/s]"
      ]
     },
     "metadata": {},
     "output_type": "display_data"
    },
    {
     "name": "stdout",
     "output_type": "stream",
     "text": [
      "Saved configuration with input_window=3 and output_window=3.\n",
      "instruction_1:  Given the stock data of NFLX over the first 3 trading day, predict the stock data of NFLX over the next 3 trading day. Return the result strictly in the following JSON format, with no additional text: {\n",
      "    \"day_4_date\": \"YYYY-MM-DD\",\n",
      "    \"day_4_stock_news\": \"Stock News\",\n",
      "    \"day_5_date\": \"YYYY-MM-DD\",\n",
      "    \"day_5_stock_news\": \"Stock News\",\n",
      "    \"day_6_date\": \"YYYY-MM-DD\",\n",
      "    \"day_6_stock_news\": \"Stock News\"\n",
      "}\n",
      "instruction_2:  Given the stock data of NFLX over the first 3 trading day, predict the stock data of NFLX over the next 3 trading day. Return the result strictly in the following JSON format, with no additional text: {\n",
      "    \"day_4_date\": \"YYYY-MM-DD\",\n",
      "    \"day_4_stock_news\": \"Stock News\",\n",
      "    \"day_4_Close\": \"A Float Number\",\n",
      "    \"day_5_date\": \"YYYY-MM-DD\",\n",
      "    \"day_5_stock_news\": \"Stock News\",\n",
      "    \"day_5_Close\": \"A Float Number\",\n",
      "    \"day_6_date\": \"YYYY-MM-DD\",\n",
      "    \"day_6_stock_news\": \"Stock News\",\n",
      "    \"day_6_Close\": \"A Float Number\"\n",
      "}\n",
      "instruction_3:  Given the stock data of NFLX over the first 3 trading day, predict the stock data of NFLX over the next 3 trading day. Return the result strictly in the following JSON format, with no additional text: {\n",
      "    \"day_4_date\": \"YYYY-MM-DD\",\n",
      "    \"day_4_stock_news\": \"Stock News\",\n",
      "    \"day_5_date\": \"YYYY-MM-DD\",\n",
      "    \"day_5_stock_news\": \"Stock News\",\n",
      "    \"day_6_date\": \"YYYY-MM-DD\",\n",
      "    \"day_6_stock_news\": \"Stock News\"\n",
      "}\n",
      "instruction_4:  Given the stock data of NFLX over the first 3 trading day, predict the stock data of NFLX over the next 3 trading day. Return the result strictly in the following JSON format, with no additional text: {\n",
      "    \"day_4_date\": \"YYYY-MM-DD\",\n",
      "    \"day_4_Close\": \"A Float Number\",\n",
      "    \"day_5_date\": \"YYYY-MM-DD\",\n",
      "    \"day_5_Close\": \"A Float Number\",\n",
      "    \"day_6_date\": \"YYYY-MM-DD\",\n",
      "    \"day_6_Close\": \"A Float Number\"\n",
      "}\n"
     ]
    },
    {
     "data": {
      "application/vnd.jupyter.widget-view+json": {
       "model_id": "2731fe22021e4a47859c55d15429824d",
       "version_major": 2,
       "version_minor": 0
      },
      "text/plain": [
       "Uploading the dataset shards:   0%|          | 0/1 [00:00<?, ?it/s]"
      ]
     },
     "metadata": {},
     "output_type": "display_data"
    },
    {
     "data": {
      "application/vnd.jupyter.widget-view+json": {
       "model_id": "cfb7d7bc6bcc403c90332e6bf3ea1fcb",
       "version_major": 2,
       "version_minor": 0
      },
      "text/plain": [
       "Creating parquet from Arrow format:   0%|          | 0/1 [00:00<?, ?ba/s]"
      ]
     },
     "metadata": {},
     "output_type": "display_data"
    },
    {
     "data": {
      "application/vnd.jupyter.widget-view+json": {
       "model_id": "2667da73d70e426e8782ecc88dbca2b8",
       "version_major": 2,
       "version_minor": 0
      },
      "text/plain": [
       "Uploading the dataset shards:   0%|          | 0/1 [00:00<?, ?it/s]"
      ]
     },
     "metadata": {},
     "output_type": "display_data"
    },
    {
     "data": {
      "application/vnd.jupyter.widget-view+json": {
       "model_id": "ec65c5020f4742009c90c1097c8aa83a",
       "version_major": 2,
       "version_minor": 0
      },
      "text/plain": [
       "Creating parquet from Arrow format:   0%|          | 0/1 [00:00<?, ?ba/s]"
      ]
     },
     "metadata": {},
     "output_type": "display_data"
    },
    {
     "data": {
      "application/vnd.jupyter.widget-view+json": {
       "model_id": "40057ec694b342a38833fccb04728d7e",
       "version_major": 2,
       "version_minor": 0
      },
      "text/plain": [
       "Uploading the dataset shards:   0%|          | 0/1 [00:00<?, ?it/s]"
      ]
     },
     "metadata": {},
     "output_type": "display_data"
    },
    {
     "data": {
      "application/vnd.jupyter.widget-view+json": {
       "model_id": "4e375ce049fc41439a78c24fee166733",
       "version_major": 2,
       "version_minor": 0
      },
      "text/plain": [
       "Creating parquet from Arrow format:   0%|          | 0/1 [00:00<?, ?ba/s]"
      ]
     },
     "metadata": {},
     "output_type": "display_data"
    },
    {
     "name": "stdout",
     "output_type": "stream",
     "text": [
      "Saved configuration with input_window=4 and output_window=4.\n",
      "instruction_1:  Given the stock data of NFLX over the first 4 trading day, predict the stock data of NFLX over the next 4 trading day. Return the result strictly in the following JSON format, with no additional text: {\n",
      "    \"day_5_date\": \"YYYY-MM-DD\",\n",
      "    \"day_5_stock_news\": \"Stock News\",\n",
      "    \"day_6_date\": \"YYYY-MM-DD\",\n",
      "    \"day_6_stock_news\": \"Stock News\",\n",
      "    \"day_7_date\": \"YYYY-MM-DD\",\n",
      "    \"day_7_stock_news\": \"Stock News\",\n",
      "    \"day_8_date\": \"YYYY-MM-DD\",\n",
      "    \"day_8_stock_news\": \"Stock News\"\n",
      "}\n",
      "instruction_2:  Given the stock data of NFLX over the first 4 trading day, predict the stock data of NFLX over the next 4 trading day. Return the result strictly in the following JSON format, with no additional text: {\n",
      "    \"day_5_date\": \"YYYY-MM-DD\",\n",
      "    \"day_5_stock_news\": \"Stock News\",\n",
      "    \"day_5_Close\": \"A Float Number\",\n",
      "    \"day_6_date\": \"YYYY-MM-DD\",\n",
      "    \"day_6_stock_news\": \"Stock News\",\n",
      "    \"day_6_Close\": \"A Float Number\",\n",
      "    \"day_7_date\": \"YYYY-MM-DD\",\n",
      "    \"day_7_stock_news\": \"Stock News\",\n",
      "    \"day_7_Close\": \"A Float Number\",\n",
      "    \"day_8_date\": \"YYYY-MM-DD\",\n",
      "    \"day_8_stock_news\": \"Stock News\",\n",
      "    \"day_8_Close\": \"A Float Number\"\n",
      "}\n",
      "instruction_3:  Given the stock data of NFLX over the first 4 trading day, predict the stock data of NFLX over the next 4 trading day. Return the result strictly in the following JSON format, with no additional text: {\n",
      "    \"day_5_date\": \"YYYY-MM-DD\",\n",
      "    \"day_5_stock_news\": \"Stock News\",\n",
      "    \"day_6_date\": \"YYYY-MM-DD\",\n",
      "    \"day_6_stock_news\": \"Stock News\",\n",
      "    \"day_7_date\": \"YYYY-MM-DD\",\n",
      "    \"day_7_stock_news\": \"Stock News\",\n",
      "    \"day_8_date\": \"YYYY-MM-DD\",\n",
      "    \"day_8_stock_news\": \"Stock News\"\n",
      "}\n",
      "instruction_4:  Given the stock data of NFLX over the first 4 trading day, predict the stock data of NFLX over the next 4 trading day. Return the result strictly in the following JSON format, with no additional text: {\n",
      "    \"day_5_date\": \"YYYY-MM-DD\",\n",
      "    \"day_5_Close\": \"A Float Number\",\n",
      "    \"day_6_date\": \"YYYY-MM-DD\",\n",
      "    \"day_6_Close\": \"A Float Number\",\n",
      "    \"day_7_date\": \"YYYY-MM-DD\",\n",
      "    \"day_7_Close\": \"A Float Number\",\n",
      "    \"day_8_date\": \"YYYY-MM-DD\",\n",
      "    \"day_8_Close\": \"A Float Number\"\n",
      "}\n"
     ]
    },
    {
     "data": {
      "application/vnd.jupyter.widget-view+json": {
       "model_id": "2892c206c1784ed69d21ac23ec301912",
       "version_major": 2,
       "version_minor": 0
      },
      "text/plain": [
       "Uploading the dataset shards:   0%|          | 0/1 [00:00<?, ?it/s]"
      ]
     },
     "metadata": {},
     "output_type": "display_data"
    },
    {
     "data": {
      "application/vnd.jupyter.widget-view+json": {
       "model_id": "0baed256cc8a4076956aa6f68112b72b",
       "version_major": 2,
       "version_minor": 0
      },
      "text/plain": [
       "Creating parquet from Arrow format:   0%|          | 0/1 [00:00<?, ?ba/s]"
      ]
     },
     "metadata": {},
     "output_type": "display_data"
    },
    {
     "data": {
      "application/vnd.jupyter.widget-view+json": {
       "model_id": "9c435d5fcd854859bf1627a68f74d947",
       "version_major": 2,
       "version_minor": 0
      },
      "text/plain": [
       "Uploading the dataset shards:   0%|          | 0/1 [00:00<?, ?it/s]"
      ]
     },
     "metadata": {},
     "output_type": "display_data"
    },
    {
     "data": {
      "application/vnd.jupyter.widget-view+json": {
       "model_id": "1e62d62e8f7842a8bd3f71d01e388f56",
       "version_major": 2,
       "version_minor": 0
      },
      "text/plain": [
       "Creating parquet from Arrow format:   0%|          | 0/1 [00:00<?, ?ba/s]"
      ]
     },
     "metadata": {},
     "output_type": "display_data"
    },
    {
     "data": {
      "application/vnd.jupyter.widget-view+json": {
       "model_id": "de53929a1b3e408d89ba2d8a0fc6d8a4",
       "version_major": 2,
       "version_minor": 0
      },
      "text/plain": [
       "Uploading the dataset shards:   0%|          | 0/1 [00:00<?, ?it/s]"
      ]
     },
     "metadata": {},
     "output_type": "display_data"
    },
    {
     "data": {
      "application/vnd.jupyter.widget-view+json": {
       "model_id": "de69ff8ab6ca49b4b1f7aaf7ae125197",
       "version_major": 2,
       "version_minor": 0
      },
      "text/plain": [
       "Creating parquet from Arrow format:   0%|          | 0/1 [00:00<?, ?ba/s]"
      ]
     },
     "metadata": {},
     "output_type": "display_data"
    },
    {
     "name": "stdout",
     "output_type": "stream",
     "text": [
      "Saved configuration with input_window=5 and output_window=5.\n",
      "instruction_1:  Given the stock data of NFLX over the first 5 trading day, predict the stock data of NFLX over the next 5 trading day. Return the result strictly in the following JSON format, with no additional text: {\n",
      "    \"day_6_date\": \"YYYY-MM-DD\",\n",
      "    \"day_6_stock_news\": \"Stock News\",\n",
      "    \"day_7_date\": \"YYYY-MM-DD\",\n",
      "    \"day_7_stock_news\": \"Stock News\",\n",
      "    \"day_8_date\": \"YYYY-MM-DD\",\n",
      "    \"day_8_stock_news\": \"Stock News\",\n",
      "    \"day_9_date\": \"YYYY-MM-DD\",\n",
      "    \"day_9_stock_news\": \"Stock News\",\n",
      "    \"day_10_date\": \"YYYY-MM-DD\",\n",
      "    \"day_10_stock_news\": \"Stock News\"\n",
      "}\n",
      "instruction_2:  Given the stock data of NFLX over the first 5 trading day, predict the stock data of NFLX over the next 5 trading day. Return the result strictly in the following JSON format, with no additional text: {\n",
      "    \"day_6_date\": \"YYYY-MM-DD\",\n",
      "    \"day_6_stock_news\": \"Stock News\",\n",
      "    \"day_6_Close\": \"A Float Number\",\n",
      "    \"day_7_date\": \"YYYY-MM-DD\",\n",
      "    \"day_7_stock_news\": \"Stock News\",\n",
      "    \"day_7_Close\": \"A Float Number\",\n",
      "    \"day_8_date\": \"YYYY-MM-DD\",\n",
      "    \"day_8_stock_news\": \"Stock News\",\n",
      "    \"day_8_Close\": \"A Float Number\",\n",
      "    \"day_9_date\": \"YYYY-MM-DD\",\n",
      "    \"day_9_stock_news\": \"Stock News\",\n",
      "    \"day_9_Close\": \"A Float Number\",\n",
      "    \"day_10_date\": \"YYYY-MM-DD\",\n",
      "    \"day_10_stock_news\": \"Stock News\",\n",
      "    \"day_10_Close\": \"A Float Number\"\n",
      "}\n",
      "instruction_3:  Given the stock data of NFLX over the first 5 trading day, predict the stock data of NFLX over the next 5 trading day. Return the result strictly in the following JSON format, with no additional text: {\n",
      "    \"day_6_date\": \"YYYY-MM-DD\",\n",
      "    \"day_6_stock_news\": \"Stock News\",\n",
      "    \"day_7_date\": \"YYYY-MM-DD\",\n",
      "    \"day_7_stock_news\": \"Stock News\",\n",
      "    \"day_8_date\": \"YYYY-MM-DD\",\n",
      "    \"day_8_stock_news\": \"Stock News\",\n",
      "    \"day_9_date\": \"YYYY-MM-DD\",\n",
      "    \"day_9_stock_news\": \"Stock News\",\n",
      "    \"day_10_date\": \"YYYY-MM-DD\",\n",
      "    \"day_10_stock_news\": \"Stock News\"\n",
      "}\n",
      "instruction_4:  Given the stock data of NFLX over the first 5 trading day, predict the stock data of NFLX over the next 5 trading day. Return the result strictly in the following JSON format, with no additional text: {\n",
      "    \"day_6_date\": \"YYYY-MM-DD\",\n",
      "    \"day_6_Close\": \"A Float Number\",\n",
      "    \"day_7_date\": \"YYYY-MM-DD\",\n",
      "    \"day_7_Close\": \"A Float Number\",\n",
      "    \"day_8_date\": \"YYYY-MM-DD\",\n",
      "    \"day_8_Close\": \"A Float Number\",\n",
      "    \"day_9_date\": \"YYYY-MM-DD\",\n",
      "    \"day_9_Close\": \"A Float Number\",\n",
      "    \"day_10_date\": \"YYYY-MM-DD\",\n",
      "    \"day_10_Close\": \"A Float Number\"\n",
      "}\n"
     ]
    },
    {
     "data": {
      "application/vnd.jupyter.widget-view+json": {
       "model_id": "d7459142331342d1a07968d8c3fecbf2",
       "version_major": 2,
       "version_minor": 0
      },
      "text/plain": [
       "Uploading the dataset shards:   0%|          | 0/1 [00:00<?, ?it/s]"
      ]
     },
     "metadata": {},
     "output_type": "display_data"
    },
    {
     "data": {
      "application/vnd.jupyter.widget-view+json": {
       "model_id": "6dafa1bbbe43457882d3a45815829573",
       "version_major": 2,
       "version_minor": 0
      },
      "text/plain": [
       "Creating parquet from Arrow format:   0%|          | 0/1 [00:00<?, ?ba/s]"
      ]
     },
     "metadata": {},
     "output_type": "display_data"
    },
    {
     "data": {
      "application/vnd.jupyter.widget-view+json": {
       "model_id": "307943eab1d74d8bb76919af13419d27",
       "version_major": 2,
       "version_minor": 0
      },
      "text/plain": [
       "Uploading the dataset shards:   0%|          | 0/1 [00:00<?, ?it/s]"
      ]
     },
     "metadata": {},
     "output_type": "display_data"
    },
    {
     "data": {
      "application/vnd.jupyter.widget-view+json": {
       "model_id": "bfa9e0b714fe408792852aebcbb49977",
       "version_major": 2,
       "version_minor": 0
      },
      "text/plain": [
       "Creating parquet from Arrow format:   0%|          | 0/1 [00:00<?, ?ba/s]"
      ]
     },
     "metadata": {},
     "output_type": "display_data"
    },
    {
     "data": {
      "application/vnd.jupyter.widget-view+json": {
       "model_id": "71d181f0f03f4d87a4d666071660492f",
       "version_major": 2,
       "version_minor": 0
      },
      "text/plain": [
       "Uploading the dataset shards:   0%|          | 0/1 [00:00<?, ?it/s]"
      ]
     },
     "metadata": {},
     "output_type": "display_data"
    },
    {
     "data": {
      "application/vnd.jupyter.widget-view+json": {
       "model_id": "cf1f4149263e4dc2ac793954ad692a1b",
       "version_major": 2,
       "version_minor": 0
      },
      "text/plain": [
       "Creating parquet from Arrow format:   0%|          | 0/1 [00:00<?, ?ba/s]"
      ]
     },
     "metadata": {},
     "output_type": "display_data"
    },
    {
     "name": "stdout",
     "output_type": "stream",
     "text": [
      "Saved configuration with input_window=6 and output_window=6.\n",
      "instruction_1:  Given the stock data of NFLX over the first 6 trading day, predict the stock data of NFLX over the next 6 trading day. Return the result strictly in the following JSON format, with no additional text: {\n",
      "    \"day_7_date\": \"YYYY-MM-DD\",\n",
      "    \"day_7_stock_news\": \"Stock News\",\n",
      "    \"day_8_date\": \"YYYY-MM-DD\",\n",
      "    \"day_8_stock_news\": \"Stock News\",\n",
      "    \"day_9_date\": \"YYYY-MM-DD\",\n",
      "    \"day_9_stock_news\": \"Stock News\",\n",
      "    \"day_10_date\": \"YYYY-MM-DD\",\n",
      "    \"day_10_stock_news\": \"Stock News\",\n",
      "    \"day_11_date\": \"YYYY-MM-DD\",\n",
      "    \"day_11_stock_news\": \"Stock News\",\n",
      "    \"day_12_date\": \"YYYY-MM-DD\",\n",
      "    \"day_12_stock_news\": \"Stock News\"\n",
      "}\n",
      "instruction_2:  Given the stock data of NFLX over the first 6 trading day, predict the stock data of NFLX over the next 6 trading day. Return the result strictly in the following JSON format, with no additional text: {\n",
      "    \"day_7_date\": \"YYYY-MM-DD\",\n",
      "    \"day_7_stock_news\": \"Stock News\",\n",
      "    \"day_7_Close\": \"A Float Number\",\n",
      "    \"day_8_date\": \"YYYY-MM-DD\",\n",
      "    \"day_8_stock_news\": \"Stock News\",\n",
      "    \"day_8_Close\": \"A Float Number\",\n",
      "    \"day_9_date\": \"YYYY-MM-DD\",\n",
      "    \"day_9_stock_news\": \"Stock News\",\n",
      "    \"day_9_Close\": \"A Float Number\",\n",
      "    \"day_10_date\": \"YYYY-MM-DD\",\n",
      "    \"day_10_stock_news\": \"Stock News\",\n",
      "    \"day_10_Close\": \"A Float Number\",\n",
      "    \"day_11_date\": \"YYYY-MM-DD\",\n",
      "    \"day_11_stock_news\": \"Stock News\",\n",
      "    \"day_11_Close\": \"A Float Number\",\n",
      "    \"day_12_date\": \"YYYY-MM-DD\",\n",
      "    \"day_12_stock_news\": \"Stock News\",\n",
      "    \"day_12_Close\": \"A Float Number\"\n",
      "}\n",
      "instruction_3:  Given the stock data of NFLX over the first 6 trading day, predict the stock data of NFLX over the next 6 trading day. Return the result strictly in the following JSON format, with no additional text: {\n",
      "    \"day_7_date\": \"YYYY-MM-DD\",\n",
      "    \"day_7_stock_news\": \"Stock News\",\n",
      "    \"day_8_date\": \"YYYY-MM-DD\",\n",
      "    \"day_8_stock_news\": \"Stock News\",\n",
      "    \"day_9_date\": \"YYYY-MM-DD\",\n",
      "    \"day_9_stock_news\": \"Stock News\",\n",
      "    \"day_10_date\": \"YYYY-MM-DD\",\n",
      "    \"day_10_stock_news\": \"Stock News\",\n",
      "    \"day_11_date\": \"YYYY-MM-DD\",\n",
      "    \"day_11_stock_news\": \"Stock News\",\n",
      "    \"day_12_date\": \"YYYY-MM-DD\",\n",
      "    \"day_12_stock_news\": \"Stock News\"\n",
      "}\n",
      "instruction_4:  Given the stock data of NFLX over the first 6 trading day, predict the stock data of NFLX over the next 6 trading day. Return the result strictly in the following JSON format, with no additional text: {\n",
      "    \"day_7_date\": \"YYYY-MM-DD\",\n",
      "    \"day_7_Close\": \"A Float Number\",\n",
      "    \"day_8_date\": \"YYYY-MM-DD\",\n",
      "    \"day_8_Close\": \"A Float Number\",\n",
      "    \"day_9_date\": \"YYYY-MM-DD\",\n",
      "    \"day_9_Close\": \"A Float Number\",\n",
      "    \"day_10_date\": \"YYYY-MM-DD\",\n",
      "    \"day_10_Close\": \"A Float Number\",\n",
      "    \"day_11_date\": \"YYYY-MM-DD\",\n",
      "    \"day_11_Close\": \"A Float Number\",\n",
      "    \"day_12_date\": \"YYYY-MM-DD\",\n",
      "    \"day_12_Close\": \"A Float Number\"\n",
      "}\n"
     ]
    },
    {
     "data": {
      "application/vnd.jupyter.widget-view+json": {
       "model_id": "cc5af272ffda4a9884999352880359ab",
       "version_major": 2,
       "version_minor": 0
      },
      "text/plain": [
       "Uploading the dataset shards:   0%|          | 0/1 [00:00<?, ?it/s]"
      ]
     },
     "metadata": {},
     "output_type": "display_data"
    },
    {
     "data": {
      "application/vnd.jupyter.widget-view+json": {
       "model_id": "a2ca41251094413187734dfef50821d2",
       "version_major": 2,
       "version_minor": 0
      },
      "text/plain": [
       "Creating parquet from Arrow format:   0%|          | 0/1 [00:00<?, ?ba/s]"
      ]
     },
     "metadata": {},
     "output_type": "display_data"
    },
    {
     "data": {
      "application/vnd.jupyter.widget-view+json": {
       "model_id": "ddd20991c0464ecca0761cfaffd8479d",
       "version_major": 2,
       "version_minor": 0
      },
      "text/plain": [
       "Uploading the dataset shards:   0%|          | 0/1 [00:00<?, ?it/s]"
      ]
     },
     "metadata": {},
     "output_type": "display_data"
    },
    {
     "data": {
      "application/vnd.jupyter.widget-view+json": {
       "model_id": "d8ea7d3d110f4d43bb04f155fc0b2baa",
       "version_major": 2,
       "version_minor": 0
      },
      "text/plain": [
       "Creating parquet from Arrow format:   0%|          | 0/1 [00:00<?, ?ba/s]"
      ]
     },
     "metadata": {},
     "output_type": "display_data"
    },
    {
     "data": {
      "application/vnd.jupyter.widget-view+json": {
       "model_id": "433e46028e294fe58bbd11f265c0b669",
       "version_major": 2,
       "version_minor": 0
      },
      "text/plain": [
       "Uploading the dataset shards:   0%|          | 0/1 [00:00<?, ?it/s]"
      ]
     },
     "metadata": {},
     "output_type": "display_data"
    },
    {
     "data": {
      "application/vnd.jupyter.widget-view+json": {
       "model_id": "844f798d48c84f90934611254f4d2e81",
       "version_major": 2,
       "version_minor": 0
      },
      "text/plain": [
       "Creating parquet from Arrow format:   0%|          | 0/1 [00:00<?, ?ba/s]"
      ]
     },
     "metadata": {},
     "output_type": "display_data"
    },
    {
     "name": "stdout",
     "output_type": "stream",
     "text": [
      "Saved configuration with input_window=7 and output_window=7.\n",
      "instruction_1:  Given the stock data of NFLX over the first 7 trading day, predict the stock data of NFLX over the next 7 trading day. Return the result strictly in the following JSON format, with no additional text: {\n",
      "    \"day_8_date\": \"YYYY-MM-DD\",\n",
      "    \"day_8_stock_news\": \"Stock News\",\n",
      "    \"day_9_date\": \"YYYY-MM-DD\",\n",
      "    \"day_9_stock_news\": \"Stock News\",\n",
      "    \"day_10_date\": \"YYYY-MM-DD\",\n",
      "    \"day_10_stock_news\": \"Stock News\",\n",
      "    \"day_11_date\": \"YYYY-MM-DD\",\n",
      "    \"day_11_stock_news\": \"Stock News\",\n",
      "    \"day_12_date\": \"YYYY-MM-DD\",\n",
      "    \"day_12_stock_news\": \"Stock News\",\n",
      "    \"day_13_date\": \"YYYY-MM-DD\",\n",
      "    \"day_13_stock_news\": \"Stock News\",\n",
      "    \"day_14_date\": \"YYYY-MM-DD\",\n",
      "    \"day_14_stock_news\": \"Stock News\"\n",
      "}\n",
      "instruction_2:  Given the stock data of NFLX over the first 7 trading day, predict the stock data of NFLX over the next 7 trading day. Return the result strictly in the following JSON format, with no additional text: {\n",
      "    \"day_8_date\": \"YYYY-MM-DD\",\n",
      "    \"day_8_stock_news\": \"Stock News\",\n",
      "    \"day_8_Close\": \"A Float Number\",\n",
      "    \"day_9_date\": \"YYYY-MM-DD\",\n",
      "    \"day_9_stock_news\": \"Stock News\",\n",
      "    \"day_9_Close\": \"A Float Number\",\n",
      "    \"day_10_date\": \"YYYY-MM-DD\",\n",
      "    \"day_10_stock_news\": \"Stock News\",\n",
      "    \"day_10_Close\": \"A Float Number\",\n",
      "    \"day_11_date\": \"YYYY-MM-DD\",\n",
      "    \"day_11_stock_news\": \"Stock News\",\n",
      "    \"day_11_Close\": \"A Float Number\",\n",
      "    \"day_12_date\": \"YYYY-MM-DD\",\n",
      "    \"day_12_stock_news\": \"Stock News\",\n",
      "    \"day_12_Close\": \"A Float Number\",\n",
      "    \"day_13_date\": \"YYYY-MM-DD\",\n",
      "    \"day_13_stock_news\": \"Stock News\",\n",
      "    \"day_13_Close\": \"A Float Number\",\n",
      "    \"day_14_date\": \"YYYY-MM-DD\",\n",
      "    \"day_14_stock_news\": \"Stock News\",\n",
      "    \"day_14_Close\": \"A Float Number\"\n",
      "}\n",
      "instruction_3:  Given the stock data of NFLX over the first 7 trading day, predict the stock data of NFLX over the next 7 trading day. Return the result strictly in the following JSON format, with no additional text: {\n",
      "    \"day_8_date\": \"YYYY-MM-DD\",\n",
      "    \"day_8_stock_news\": \"Stock News\",\n",
      "    \"day_9_date\": \"YYYY-MM-DD\",\n",
      "    \"day_9_stock_news\": \"Stock News\",\n",
      "    \"day_10_date\": \"YYYY-MM-DD\",\n",
      "    \"day_10_stock_news\": \"Stock News\",\n",
      "    \"day_11_date\": \"YYYY-MM-DD\",\n",
      "    \"day_11_stock_news\": \"Stock News\",\n",
      "    \"day_12_date\": \"YYYY-MM-DD\",\n",
      "    \"day_12_stock_news\": \"Stock News\",\n",
      "    \"day_13_date\": \"YYYY-MM-DD\",\n",
      "    \"day_13_stock_news\": \"Stock News\",\n",
      "    \"day_14_date\": \"YYYY-MM-DD\",\n",
      "    \"day_14_stock_news\": \"Stock News\"\n",
      "}\n",
      "instruction_4:  Given the stock data of NFLX over the first 7 trading day, predict the stock data of NFLX over the next 7 trading day. Return the result strictly in the following JSON format, with no additional text: {\n",
      "    \"day_8_date\": \"YYYY-MM-DD\",\n",
      "    \"day_8_Close\": \"A Float Number\",\n",
      "    \"day_9_date\": \"YYYY-MM-DD\",\n",
      "    \"day_9_Close\": \"A Float Number\",\n",
      "    \"day_10_date\": \"YYYY-MM-DD\",\n",
      "    \"day_10_Close\": \"A Float Number\",\n",
      "    \"day_11_date\": \"YYYY-MM-DD\",\n",
      "    \"day_11_Close\": \"A Float Number\",\n",
      "    \"day_12_date\": \"YYYY-MM-DD\",\n",
      "    \"day_12_Close\": \"A Float Number\",\n",
      "    \"day_13_date\": \"YYYY-MM-DD\",\n",
      "    \"day_13_Close\": \"A Float Number\",\n",
      "    \"day_14_date\": \"YYYY-MM-DD\",\n",
      "    \"day_14_Close\": \"A Float Number\"\n",
      "}\n"
     ]
    },
    {
     "data": {
      "application/vnd.jupyter.widget-view+json": {
       "model_id": "1b6a17aa40fe45b1a0b68f5333481d0e",
       "version_major": 2,
       "version_minor": 0
      },
      "text/plain": [
       "Uploading the dataset shards:   0%|          | 0/1 [00:00<?, ?it/s]"
      ]
     },
     "metadata": {},
     "output_type": "display_data"
    },
    {
     "data": {
      "application/vnd.jupyter.widget-view+json": {
       "model_id": "1f7173349c3740a4bdd77bdf9e0bcc74",
       "version_major": 2,
       "version_minor": 0
      },
      "text/plain": [
       "Creating parquet from Arrow format:   0%|          | 0/1 [00:00<?, ?ba/s]"
      ]
     },
     "metadata": {},
     "output_type": "display_data"
    },
    {
     "data": {
      "application/vnd.jupyter.widget-view+json": {
       "model_id": "c6e45aaf0d314020af0717f01ea7e2f2",
       "version_major": 2,
       "version_minor": 0
      },
      "text/plain": [
       "Uploading the dataset shards:   0%|          | 0/1 [00:00<?, ?it/s]"
      ]
     },
     "metadata": {},
     "output_type": "display_data"
    },
    {
     "data": {
      "application/vnd.jupyter.widget-view+json": {
       "model_id": "0209c489e97247e09f5ad287beb77b1b",
       "version_major": 2,
       "version_minor": 0
      },
      "text/plain": [
       "Creating parquet from Arrow format:   0%|          | 0/1 [00:00<?, ?ba/s]"
      ]
     },
     "metadata": {},
     "output_type": "display_data"
    },
    {
     "data": {
      "application/vnd.jupyter.widget-view+json": {
       "model_id": "311d1dcd32744f22a8217d2b3f817ce7",
       "version_major": 2,
       "version_minor": 0
      },
      "text/plain": [
       "Uploading the dataset shards:   0%|          | 0/1 [00:00<?, ?it/s]"
      ]
     },
     "metadata": {},
     "output_type": "display_data"
    },
    {
     "data": {
      "application/vnd.jupyter.widget-view+json": {
       "model_id": "f24ddacfe2a74389969189f967405c68",
       "version_major": 2,
       "version_minor": 0
      },
      "text/plain": [
       "Creating parquet from Arrow format:   0%|          | 0/1 [00:00<?, ?ba/s]"
      ]
     },
     "metadata": {},
     "output_type": "display_data"
    }
   ],
   "source": [
    "file_path = \"config/default/finance.yaml\"\n",
    "# Load the existing YAML file\n",
    "with open(file_path, 'r') as file:\n",
    "    config = yaml.safe_load(file)\n",
    "\n",
    "# Iterate over input_window and output_window from 1 to 7\n",
    "for ticker in [\"AAPL\", \"AMD\", \"AMZN\", \"AVGO\", \"NFLX\"]:\n",
    "    for i in range(1, 8):\n",
    "        # Update the values in the config\n",
    "        config['dataset']['input_window'] = i\n",
    "        config['dataset']['output_window'] = i\n",
    "        config['dataset']['hf_repo'] = f\"Howard881010/finance-{ticker}-{i}day-inContext\"\n",
    "        config['dataset']['ticker'] = ticker\n",
    "        config['dataset']['dataset_path'] = f\"/home/ubuntu/multimodal/Data/financial-grouped/{ticker}.csv\"\n",
    "        \n",
    "        # Save the updated configuration back to the original file\n",
    "        with open(file_path, 'w') as outfile:\n",
    "            yaml.dump(config, outfile, default_flow_style=False)\n",
    "        \n",
    "        print(f\"Saved configuration with input_window={i} and output_window={i}.\")\n",
    "        finance_cfg = load_config('config/default/finance.yaml')\n",
    "\n",
    "        processor = FinanceDataProcessor(finance_cfg['dataset'])\n",
    "        finance_dataset = processor.get_dataset()\n",
    "        processor.push_to_huggingface(finance_dataset)"
   ]
  },
  {
   "cell_type": "code",
   "execution_count": 14,
   "metadata": {},
   "outputs": [
    {
     "data": {
      "application/vnd.jupyter.widget-view+json": {
       "model_id": "d96fe37743784752b4491b0c5202862d",
       "version_major": 2,
       "version_minor": 0
      },
      "text/plain": [
       "Uploading the dataset shards:   0%|          | 0/1 [00:00<?, ?it/s]"
      ]
     },
     "metadata": {},
     "output_type": "display_data"
    },
    {
     "data": {
      "application/vnd.jupyter.widget-view+json": {
       "model_id": "eb3773be60de4a458a4f8d1b728a24d0",
       "version_major": 2,
       "version_minor": 0
      },
      "text/plain": [
       "Creating parquet from Arrow format:   0%|          | 0/8 [00:00<?, ?ba/s]"
      ]
     },
     "metadata": {},
     "output_type": "display_data"
    },
    {
     "data": {
      "application/vnd.jupyter.widget-view+json": {
       "model_id": "6f34613f598b492c8a3c490565d5487e",
       "version_major": 2,
       "version_minor": 0
      },
      "text/plain": [
       "Uploading the dataset shards:   0%|          | 0/1 [00:00<?, ?it/s]"
      ]
     },
     "metadata": {},
     "output_type": "display_data"
    },
    {
     "data": {
      "application/vnd.jupyter.widget-view+json": {
       "model_id": "054fdc225b824fb68d1016e512f30093",
       "version_major": 2,
       "version_minor": 0
      },
      "text/plain": [
       "Creating parquet from Arrow format:   0%|          | 0/1 [00:00<?, ?ba/s]"
      ]
     },
     "metadata": {},
     "output_type": "display_data"
    },
    {
     "data": {
      "application/vnd.jupyter.widget-view+json": {
       "model_id": "44525449018a461eb3325eccab015039",
       "version_major": 2,
       "version_minor": 0
      },
      "text/plain": [
       "Uploading the dataset shards:   0%|          | 0/1 [00:00<?, ?it/s]"
      ]
     },
     "metadata": {},
     "output_type": "display_data"
    },
    {
     "data": {
      "application/vnd.jupyter.widget-view+json": {
       "model_id": "fa4004516d6c4924b4908da7bc4f0306",
       "version_major": 2,
       "version_minor": 0
      },
      "text/plain": [
       "Creating parquet from Arrow format:   0%|          | 0/1 [00:00<?, ?ba/s]"
      ]
     },
     "metadata": {},
     "output_type": "display_data"
    },
    {
     "data": {
      "application/vnd.jupyter.widget-view+json": {
       "model_id": "c59d2d899dfb49d58a6a9542e4d4c996",
       "version_major": 2,
       "version_minor": 0
      },
      "text/plain": [
       "README.md:   0%|          | 0.00/592 [00:00<?, ?B/s]"
      ]
     },
     "metadata": {},
     "output_type": "display_data"
    },
    {
     "data": {
      "application/vnd.jupyter.widget-view+json": {
       "model_id": "9267e544ea49468a8f749679dd03a5bd",
       "version_major": 2,
       "version_minor": 0
      },
      "text/plain": [
       "Downloading readme:   0%|          | 0.00/596 [00:00<?, ?B/s]"
      ]
     },
     "metadata": {},
     "output_type": "display_data"
    },
    {
     "data": {
      "application/vnd.jupyter.widget-view+json": {
       "model_id": "dfbd365a4ea647088f3b47e1b8d007ff",
       "version_major": 2,
       "version_minor": 0
      },
      "text/plain": [
       "Downloading data:   0%|          | 0.00/6.07M [00:00<?, ?B/s]"
      ]
     },
     "metadata": {},
     "output_type": "display_data"
    },
    {
     "data": {
      "application/vnd.jupyter.widget-view+json": {
       "model_id": "79acf5a5696e48749f4c2c4ab42a78d4",
       "version_major": 2,
       "version_minor": 0
      },
      "text/plain": [
       "Downloading data:   0%|          | 0.00/548k [00:00<?, ?B/s]"
      ]
     },
     "metadata": {},
     "output_type": "display_data"
    },
    {
     "data": {
      "application/vnd.jupyter.widget-view+json": {
       "model_id": "8132188eb7114770990bd1b8bed5b7a2",
       "version_major": 2,
       "version_minor": 0
      },
      "text/plain": [
       "Downloading data:   0%|          | 0.00/497k [00:00<?, ?B/s]"
      ]
     },
     "metadata": {},
     "output_type": "display_data"
    },
    {
     "data": {
      "application/vnd.jupyter.widget-view+json": {
       "model_id": "168c2f8c49cb49fdb6c7d882db2eee85",
       "version_major": 2,
       "version_minor": 0
      },
      "text/plain": [
       "Generating train split:   0%|          | 0/7908 [00:00<?, ? examples/s]"
      ]
     },
     "metadata": {},
     "output_type": "display_data"
    },
    {
     "data": {
      "application/vnd.jupyter.widget-view+json": {
       "model_id": "1a0536fcedbc4f808819eb4b05173d2d",
       "version_major": 2,
       "version_minor": 0
      },
      "text/plain": [
       "Generating test split:   0%|          | 0/996 [00:00<?, ? examples/s]"
      ]
     },
     "metadata": {},
     "output_type": "display_data"
    },
    {
     "data": {
      "application/vnd.jupyter.widget-view+json": {
       "model_id": "c33b4eec8b5e48f4964dddc977e41a67",
       "version_major": 2,
       "version_minor": 0
      },
      "text/plain": [
       "Generating valid split:   0%|          | 0/992 [00:00<?, ? examples/s]"
      ]
     },
     "metadata": {},
     "output_type": "display_data"
    },
    {
     "name": "stdout",
     "output_type": "stream",
     "text": [
      "987\n"
     ]
    },
    {
     "data": {
      "application/vnd.jupyter.widget-view+json": {
       "model_id": "ea6ffde9eb084681b0c604b2a66106ac",
       "version_major": 2,
       "version_minor": 0
      },
      "text/plain": [
       "Uploading the dataset shards:   0%|          | 0/1 [00:00<?, ?it/s]"
      ]
     },
     "metadata": {},
     "output_type": "display_data"
    },
    {
     "data": {
      "application/vnd.jupyter.widget-view+json": {
       "model_id": "51787076af174a9f89355bd6da0d93e7",
       "version_major": 2,
       "version_minor": 0
      },
      "text/plain": [
       "Creating parquet from Arrow format:   0%|          | 0/8 [00:00<?, ?ba/s]"
      ]
     },
     "metadata": {},
     "output_type": "display_data"
    },
    {
     "data": {
      "application/vnd.jupyter.widget-view+json": {
       "model_id": "7b7c9e8f736244b6af2b3e091821880e",
       "version_major": 2,
       "version_minor": 0
      },
      "text/plain": [
       "Uploading the dataset shards:   0%|          | 0/1 [00:00<?, ?it/s]"
      ]
     },
     "metadata": {},
     "output_type": "display_data"
    },
    {
     "data": {
      "application/vnd.jupyter.widget-view+json": {
       "model_id": "7fef2ebad0c44fab8a38ac7c5dd7bae1",
       "version_major": 2,
       "version_minor": 0
      },
      "text/plain": [
       "Creating parquet from Arrow format:   0%|          | 0/1 [00:00<?, ?ba/s]"
      ]
     },
     "metadata": {},
     "output_type": "display_data"
    },
    {
     "data": {
      "application/vnd.jupyter.widget-view+json": {
       "model_id": "b33103c7906648cb940d557c27d5b0af",
       "version_major": 2,
       "version_minor": 0
      },
      "text/plain": [
       "Uploading the dataset shards:   0%|          | 0/1 [00:00<?, ?it/s]"
      ]
     },
     "metadata": {},
     "output_type": "display_data"
    },
    {
     "data": {
      "application/vnd.jupyter.widget-view+json": {
       "model_id": "9edea745c21a43899a4aa037c5edceeb",
       "version_major": 2,
       "version_minor": 0
      },
      "text/plain": [
       "Creating parquet from Arrow format:   0%|          | 0/1 [00:00<?, ?ba/s]"
      ]
     },
     "metadata": {},
     "output_type": "display_data"
    },
    {
     "data": {
      "application/vnd.jupyter.widget-view+json": {
       "model_id": "0201742b226241ccb2e43bd7f50bf423",
       "version_major": 2,
       "version_minor": 0
      },
      "text/plain": [
       "README.md:   0%|          | 0.00/592 [00:00<?, ?B/s]"
      ]
     },
     "metadata": {},
     "output_type": "display_data"
    },
    {
     "data": {
      "application/vnd.jupyter.widget-view+json": {
       "model_id": "de9e9b7042424221be331efbc32e60ab",
       "version_major": 2,
       "version_minor": 0
      },
      "text/plain": [
       "Downloading readme:   0%|          | 0.00/596 [00:00<?, ?B/s]"
      ]
     },
     "metadata": {},
     "output_type": "display_data"
    },
    {
     "data": {
      "application/vnd.jupyter.widget-view+json": {
       "model_id": "f9e914a74b9c4571a31f8f4e3824751f",
       "version_major": 2,
       "version_minor": 0
      },
      "text/plain": [
       "Downloading data:   0%|          | 0.00/7.51M [00:00<?, ?B/s]"
      ]
     },
     "metadata": {},
     "output_type": "display_data"
    },
    {
     "data": {
      "application/vnd.jupyter.widget-view+json": {
       "model_id": "b23f9c0a69b0464eb17d6ce7eee21012",
       "version_major": 2,
       "version_minor": 0
      },
      "text/plain": [
       "Downloading data:   0%|          | 0.00/733k [00:00<?, ?B/s]"
      ]
     },
     "metadata": {},
     "output_type": "display_data"
    },
    {
     "data": {
      "application/vnd.jupyter.widget-view+json": {
       "model_id": "fd5e3df3ccba4476b9dad47430e67a7b",
       "version_major": 2,
       "version_minor": 0
      },
      "text/plain": [
       "Downloading data:   0%|          | 0.00/673k [00:00<?, ?B/s]"
      ]
     },
     "metadata": {},
     "output_type": "display_data"
    },
    {
     "data": {
      "application/vnd.jupyter.widget-view+json": {
       "model_id": "fb4ab645c2234c499fbc870ca815cfb3",
       "version_major": 2,
       "version_minor": 0
      },
      "text/plain": [
       "Generating train split:   0%|          | 0/7876 [00:00<?, ? examples/s]"
      ]
     },
     "metadata": {},
     "output_type": "display_data"
    },
    {
     "data": {
      "application/vnd.jupyter.widget-view+json": {
       "model_id": "4d092946523a4db5850ecc738f44528d",
       "version_major": 2,
       "version_minor": 0
      },
      "text/plain": [
       "Generating test split:   0%|          | 0/996 [00:00<?, ? examples/s]"
      ]
     },
     "metadata": {},
     "output_type": "display_data"
    },
    {
     "data": {
      "application/vnd.jupyter.widget-view+json": {
       "model_id": "c5c843f41fda40e9af61c1e9df5e458c",
       "version_major": 2,
       "version_minor": 0
      },
      "text/plain": [
       "Generating valid split:   0%|          | 0/984 [00:00<?, ? examples/s]"
      ]
     },
     "metadata": {},
     "output_type": "display_data"
    },
    {
     "name": "stdout",
     "output_type": "stream",
     "text": [
      "1588\n"
     ]
    },
    {
     "data": {
      "application/vnd.jupyter.widget-view+json": {
       "model_id": "794aad1702984b34a3b81f7ddb5b8dc0",
       "version_major": 2,
       "version_minor": 0
      },
      "text/plain": [
       "Uploading the dataset shards:   0%|          | 0/1 [00:00<?, ?it/s]"
      ]
     },
     "metadata": {},
     "output_type": "display_data"
    },
    {
     "data": {
      "application/vnd.jupyter.widget-view+json": {
       "model_id": "bbb76f6be0694a32add3ea88a600c058",
       "version_major": 2,
       "version_minor": 0
      },
      "text/plain": [
       "Creating parquet from Arrow format:   0%|          | 0/8 [00:00<?, ?ba/s]"
      ]
     },
     "metadata": {},
     "output_type": "display_data"
    },
    {
     "data": {
      "application/vnd.jupyter.widget-view+json": {
       "model_id": "ddbc6e2347264a9db194d943bebc8c3a",
       "version_major": 2,
       "version_minor": 0
      },
      "text/plain": [
       "Uploading the dataset shards:   0%|          | 0/1 [00:00<?, ?it/s]"
      ]
     },
     "metadata": {},
     "output_type": "display_data"
    },
    {
     "data": {
      "application/vnd.jupyter.widget-view+json": {
       "model_id": "81c57be3786f424284d44212dc4b7709",
       "version_major": 2,
       "version_minor": 0
      },
      "text/plain": [
       "Creating parquet from Arrow format:   0%|          | 0/1 [00:00<?, ?ba/s]"
      ]
     },
     "metadata": {},
     "output_type": "display_data"
    },
    {
     "data": {
      "application/vnd.jupyter.widget-view+json": {
       "model_id": "fb55db176b7d41639ac6426433cf49ed",
       "version_major": 2,
       "version_minor": 0
      },
      "text/plain": [
       "Uploading the dataset shards:   0%|          | 0/1 [00:00<?, ?it/s]"
      ]
     },
     "metadata": {},
     "output_type": "display_data"
    },
    {
     "data": {
      "application/vnd.jupyter.widget-view+json": {
       "model_id": "5df1da839f134c2eba4a2c61d70a9221",
       "version_major": 2,
       "version_minor": 0
      },
      "text/plain": [
       "Creating parquet from Arrow format:   0%|          | 0/1 [00:00<?, ?ba/s]"
      ]
     },
     "metadata": {},
     "output_type": "display_data"
    },
    {
     "data": {
      "application/vnd.jupyter.widget-view+json": {
       "model_id": "409097fbd2594306a0db5e70c51cb31d",
       "version_major": 2,
       "version_minor": 0
      },
      "text/plain": [
       "README.md:   0%|          | 0.00/593 [00:00<?, ?B/s]"
      ]
     },
     "metadata": {},
     "output_type": "display_data"
    },
    {
     "data": {
      "application/vnd.jupyter.widget-view+json": {
       "model_id": "a87073c3788344339f56e3826c694189",
       "version_major": 2,
       "version_minor": 0
      },
      "text/plain": [
       "Downloading readme:   0%|          | 0.00/597 [00:00<?, ?B/s]"
      ]
     },
     "metadata": {},
     "output_type": "display_data"
    },
    {
     "data": {
      "application/vnd.jupyter.widget-view+json": {
       "model_id": "71c3cc89b1674fa2a5a3048047d8c527",
       "version_major": 2,
       "version_minor": 0
      },
      "text/plain": [
       "Downloading data:   0%|          | 0.00/8.95M [00:00<?, ?B/s]"
      ]
     },
     "metadata": {},
     "output_type": "display_data"
    },
    {
     "data": {
      "application/vnd.jupyter.widget-view+json": {
       "model_id": "91f905b5a5e8434baeaae99f6b552831",
       "version_major": 2,
       "version_minor": 0
      },
      "text/plain": [
       "Downloading data:   0%|          | 0.00/873k [00:00<?, ?B/s]"
      ]
     },
     "metadata": {},
     "output_type": "display_data"
    },
    {
     "data": {
      "application/vnd.jupyter.widget-view+json": {
       "model_id": "459dfbb4247d40e8b006d6d944713f46",
       "version_major": 2,
       "version_minor": 0
      },
      "text/plain": [
       "Downloading data:   0%|          | 0.00/807k [00:00<?, ?B/s]"
      ]
     },
     "metadata": {},
     "output_type": "display_data"
    },
    {
     "data": {
      "application/vnd.jupyter.widget-view+json": {
       "model_id": "d36ea3ec4db049ba9eeac64b16fde6fe",
       "version_major": 2,
       "version_minor": 0
      },
      "text/plain": [
       "Generating train split:   0%|          | 0/7848 [00:00<?, ? examples/s]"
      ]
     },
     "metadata": {},
     "output_type": "display_data"
    },
    {
     "data": {
      "application/vnd.jupyter.widget-view+json": {
       "model_id": "c985448544564d32b66338f6558497c0",
       "version_major": 2,
       "version_minor": 0
      },
      "text/plain": [
       "Generating test split:   0%|          | 0/992 [00:00<?, ? examples/s]"
      ]
     },
     "metadata": {},
     "output_type": "display_data"
    },
    {
     "data": {
      "application/vnd.jupyter.widget-view+json": {
       "model_id": "9d36abb6e0fc4f83b4684a43f261f3a8",
       "version_major": 2,
       "version_minor": 0
      },
      "text/plain": [
       "Generating valid split:   0%|          | 0/976 [00:00<?, ? examples/s]"
      ]
     },
     "metadata": {},
     "output_type": "display_data"
    },
    {
     "name": "stdout",
     "output_type": "stream",
     "text": [
      "2200\n"
     ]
    },
    {
     "data": {
      "application/vnd.jupyter.widget-view+json": {
       "model_id": "1226f54e9c0845d6a96252cb36defcda",
       "version_major": 2,
       "version_minor": 0
      },
      "text/plain": [
       "Uploading the dataset shards:   0%|          | 0/1 [00:00<?, ?it/s]"
      ]
     },
     "metadata": {},
     "output_type": "display_data"
    },
    {
     "data": {
      "application/vnd.jupyter.widget-view+json": {
       "model_id": "2d5d6179696b46bebce51b52f70d7aa7",
       "version_major": 2,
       "version_minor": 0
      },
      "text/plain": [
       "Creating parquet from Arrow format:   0%|          | 0/8 [00:00<?, ?ba/s]"
      ]
     },
     "metadata": {},
     "output_type": "display_data"
    },
    {
     "data": {
      "application/vnd.jupyter.widget-view+json": {
       "model_id": "d09ceebfab074dfc920c57328141e723",
       "version_major": 2,
       "version_minor": 0
      },
      "text/plain": [
       "Uploading the dataset shards:   0%|          | 0/1 [00:00<?, ?it/s]"
      ]
     },
     "metadata": {},
     "output_type": "display_data"
    },
    {
     "data": {
      "application/vnd.jupyter.widget-view+json": {
       "model_id": "a95f491995f7425ca9c254e7345ff95e",
       "version_major": 2,
       "version_minor": 0
      },
      "text/plain": [
       "Creating parquet from Arrow format:   0%|          | 0/1 [00:00<?, ?ba/s]"
      ]
     },
     "metadata": {},
     "output_type": "display_data"
    },
    {
     "data": {
      "application/vnd.jupyter.widget-view+json": {
       "model_id": "482615e0204340e9ad4796bbed52512a",
       "version_major": 2,
       "version_minor": 0
      },
      "text/plain": [
       "Uploading the dataset shards:   0%|          | 0/1 [00:00<?, ?it/s]"
      ]
     },
     "metadata": {},
     "output_type": "display_data"
    },
    {
     "data": {
      "application/vnd.jupyter.widget-view+json": {
       "model_id": "5095c600a69543f1b6b352ae4cbee546",
       "version_major": 2,
       "version_minor": 0
      },
      "text/plain": [
       "Creating parquet from Arrow format:   0%|          | 0/1 [00:00<?, ?ba/s]"
      ]
     },
     "metadata": {},
     "output_type": "display_data"
    },
    {
     "data": {
      "application/vnd.jupyter.widget-view+json": {
       "model_id": "6880b3fd4a584b2c861ba5b263b0cdc1",
       "version_major": 2,
       "version_minor": 0
      },
      "text/plain": [
       "README.md:   0%|          | 0.00/596 [00:00<?, ?B/s]"
      ]
     },
     "metadata": {},
     "output_type": "display_data"
    },
    {
     "data": {
      "application/vnd.jupyter.widget-view+json": {
       "model_id": "0565106ccc274bbf8cb5282e0146676f",
       "version_major": 2,
       "version_minor": 0
      },
      "text/plain": [
       "Downloading readme:   0%|          | 0.00/597 [00:00<?, ?B/s]"
      ]
     },
     "metadata": {},
     "output_type": "display_data"
    },
    {
     "data": {
      "application/vnd.jupyter.widget-view+json": {
       "model_id": "720964b8d04c41898714c16766789fe6",
       "version_major": 2,
       "version_minor": 0
      },
      "text/plain": [
       "Downloading data:   0%|          | 0.00/10.2M [00:00<?, ?B/s]"
      ]
     },
     "metadata": {},
     "output_type": "display_data"
    },
    {
     "data": {
      "application/vnd.jupyter.widget-view+json": {
       "model_id": "9106639560f64ca686b195d8e6d253ef",
       "version_major": 2,
       "version_minor": 0
      },
      "text/plain": [
       "Downloading data:   0%|          | 0.00/992k [00:00<?, ?B/s]"
      ]
     },
     "metadata": {},
     "output_type": "display_data"
    },
    {
     "data": {
      "application/vnd.jupyter.widget-view+json": {
       "model_id": "c28cd74ad78746468205a863884db6d9",
       "version_major": 2,
       "version_minor": 0
      },
      "text/plain": [
       "Downloading data:   0%|          | 0.00/934k [00:00<?, ?B/s]"
      ]
     },
     "metadata": {},
     "output_type": "display_data"
    },
    {
     "data": {
      "application/vnd.jupyter.widget-view+json": {
       "model_id": "338a2fbed4dc48fba04aa3761b308cbb",
       "version_major": 2,
       "version_minor": 0
      },
      "text/plain": [
       "Generating train split:   0%|          | 0/7812 [00:00<?, ? examples/s]"
      ]
     },
     "metadata": {},
     "output_type": "display_data"
    },
    {
     "data": {
      "application/vnd.jupyter.widget-view+json": {
       "model_id": "e41bfc9ff2eb49d0aee6ea532d7ea66f",
       "version_major": 2,
       "version_minor": 0
      },
      "text/plain": [
       "Generating test split:   0%|          | 0/988 [00:00<?, ? examples/s]"
      ]
     },
     "metadata": {},
     "output_type": "display_data"
    },
    {
     "data": {
      "application/vnd.jupyter.widget-view+json": {
       "model_id": "171bc10904684c9a8ecdc3fac4606f82",
       "version_major": 2,
       "version_minor": 0
      },
      "text/plain": [
       "Generating valid split:   0%|          | 0/976 [00:00<?, ? examples/s]"
      ]
     },
     "metadata": {},
     "output_type": "display_data"
    },
    {
     "name": "stdout",
     "output_type": "stream",
     "text": [
      "2757\n"
     ]
    },
    {
     "data": {
      "application/vnd.jupyter.widget-view+json": {
       "model_id": "c9fad73129f34ba38068c5cd06cb9812",
       "version_major": 2,
       "version_minor": 0
      },
      "text/plain": [
       "Uploading the dataset shards:   0%|          | 0/1 [00:00<?, ?it/s]"
      ]
     },
     "metadata": {},
     "output_type": "display_data"
    },
    {
     "data": {
      "application/vnd.jupyter.widget-view+json": {
       "model_id": "99e61bd0b53642a7b22a82f9d13e1e84",
       "version_major": 2,
       "version_minor": 0
      },
      "text/plain": [
       "Creating parquet from Arrow format:   0%|          | 0/8 [00:00<?, ?ba/s]"
      ]
     },
     "metadata": {},
     "output_type": "display_data"
    },
    {
     "data": {
      "application/vnd.jupyter.widget-view+json": {
       "model_id": "4803efecc8564ceb83d0449fe4b80360",
       "version_major": 2,
       "version_minor": 0
      },
      "text/plain": [
       "Uploading the dataset shards:   0%|          | 0/1 [00:00<?, ?it/s]"
      ]
     },
     "metadata": {},
     "output_type": "display_data"
    },
    {
     "data": {
      "application/vnd.jupyter.widget-view+json": {
       "model_id": "acae5e9de07d43f285ba35b14bed6b94",
       "version_major": 2,
       "version_minor": 0
      },
      "text/plain": [
       "Creating parquet from Arrow format:   0%|          | 0/1 [00:00<?, ?ba/s]"
      ]
     },
     "metadata": {},
     "output_type": "display_data"
    },
    {
     "data": {
      "application/vnd.jupyter.widget-view+json": {
       "model_id": "9184518e1d314a38859c053ac752e717",
       "version_major": 2,
       "version_minor": 0
      },
      "text/plain": [
       "Uploading the dataset shards:   0%|          | 0/1 [00:00<?, ?it/s]"
      ]
     },
     "metadata": {},
     "output_type": "display_data"
    },
    {
     "data": {
      "application/vnd.jupyter.widget-view+json": {
       "model_id": "2656e58819184d6d8cd47e149d506bee",
       "version_major": 2,
       "version_minor": 0
      },
      "text/plain": [
       "Creating parquet from Arrow format:   0%|          | 0/1 [00:00<?, ?ba/s]"
      ]
     },
     "metadata": {},
     "output_type": "display_data"
    },
    {
     "data": {
      "application/vnd.jupyter.widget-view+json": {
       "model_id": "1dc3682df375498fbfc67ecdf62dfff7",
       "version_major": 2,
       "version_minor": 0
      },
      "text/plain": [
       "README.md:   0%|          | 0.00/596 [00:00<?, ?B/s]"
      ]
     },
     "metadata": {},
     "output_type": "display_data"
    },
    {
     "data": {
      "application/vnd.jupyter.widget-view+json": {
       "model_id": "dc8260493a66497c88a7bfecc002fbb5",
       "version_major": 2,
       "version_minor": 0
      },
      "text/plain": [
       "Downloading readme:   0%|          | 0.00/598 [00:00<?, ?B/s]"
      ]
     },
     "metadata": {},
     "output_type": "display_data"
    },
    {
     "data": {
      "application/vnd.jupyter.widget-view+json": {
       "model_id": "6f860caa6ce54809a330a33b9b8845b8",
       "version_major": 2,
       "version_minor": 0
      },
      "text/plain": [
       "Downloading data:   0%|          | 0.00/11.6M [00:00<?, ?B/s]"
      ]
     },
     "metadata": {},
     "output_type": "display_data"
    },
    {
     "data": {
      "application/vnd.jupyter.widget-view+json": {
       "model_id": "f56fec433be64d168c623e4b27a2a0f1",
       "version_major": 2,
       "version_minor": 0
      },
      "text/plain": [
       "Downloading data:   0%|          | 0.00/1.13M [00:00<?, ?B/s]"
      ]
     },
     "metadata": {},
     "output_type": "display_data"
    },
    {
     "data": {
      "application/vnd.jupyter.widget-view+json": {
       "model_id": "1dda475872d746ee9106b9ee094d1054",
       "version_major": 2,
       "version_minor": 0
      },
      "text/plain": [
       "Downloading data:   0%|          | 0.00/1.06M [00:00<?, ?B/s]"
      ]
     },
     "metadata": {},
     "output_type": "display_data"
    },
    {
     "data": {
      "application/vnd.jupyter.widget-view+json": {
       "model_id": "4d6eaa19ce364db08ba1ab2f15f9dfbf",
       "version_major": 2,
       "version_minor": 0
      },
      "text/plain": [
       "Generating train split:   0%|          | 0/7780 [00:00<?, ? examples/s]"
      ]
     },
     "metadata": {},
     "output_type": "display_data"
    },
    {
     "data": {
      "application/vnd.jupyter.widget-view+json": {
       "model_id": "28f8bbb9266b4f2ab503aefdc2b1d8e5",
       "version_major": 2,
       "version_minor": 0
      },
      "text/plain": [
       "Generating test split:   0%|          | 0/984 [00:00<?, ? examples/s]"
      ]
     },
     "metadata": {},
     "output_type": "display_data"
    },
    {
     "data": {
      "application/vnd.jupyter.widget-view+json": {
       "model_id": "0b1b767729ed44e1960559f6431f1095",
       "version_major": 2,
       "version_minor": 0
      },
      "text/plain": [
       "Generating valid split:   0%|          | 0/972 [00:00<?, ? examples/s]"
      ]
     },
     "metadata": {},
     "output_type": "display_data"
    },
    {
     "name": "stdout",
     "output_type": "stream",
     "text": [
      "3400\n"
     ]
    },
    {
     "data": {
      "application/vnd.jupyter.widget-view+json": {
       "model_id": "bbdd2d77b45549ea9b872a580b8ed1ed",
       "version_major": 2,
       "version_minor": 0
      },
      "text/plain": [
       "Uploading the dataset shards:   0%|          | 0/1 [00:00<?, ?it/s]"
      ]
     },
     "metadata": {},
     "output_type": "display_data"
    },
    {
     "data": {
      "application/vnd.jupyter.widget-view+json": {
       "model_id": "a96bd47fe04947c8873f1c62485ade24",
       "version_major": 2,
       "version_minor": 0
      },
      "text/plain": [
       "Creating parquet from Arrow format:   0%|          | 0/8 [00:00<?, ?ba/s]"
      ]
     },
     "metadata": {},
     "output_type": "display_data"
    },
    {
     "data": {
      "application/vnd.jupyter.widget-view+json": {
       "model_id": "de581f60854340bf882a30cb9eb0cd41",
       "version_major": 2,
       "version_minor": 0
      },
      "text/plain": [
       "Uploading the dataset shards:   0%|          | 0/1 [00:00<?, ?it/s]"
      ]
     },
     "metadata": {},
     "output_type": "display_data"
    },
    {
     "data": {
      "application/vnd.jupyter.widget-view+json": {
       "model_id": "0ceeb1b7ce8d4869bec526bfce225793",
       "version_major": 2,
       "version_minor": 0
      },
      "text/plain": [
       "Creating parquet from Arrow format:   0%|          | 0/1 [00:00<?, ?ba/s]"
      ]
     },
     "metadata": {},
     "output_type": "display_data"
    },
    {
     "data": {
      "application/vnd.jupyter.widget-view+json": {
       "model_id": "327a64dccf1b45178010e5eb41cdbadd",
       "version_major": 2,
       "version_minor": 0
      },
      "text/plain": [
       "Uploading the dataset shards:   0%|          | 0/1 [00:00<?, ?it/s]"
      ]
     },
     "metadata": {},
     "output_type": "display_data"
    },
    {
     "data": {
      "application/vnd.jupyter.widget-view+json": {
       "model_id": "a4fdf9d41ea7449880b4301f02840703",
       "version_major": 2,
       "version_minor": 0
      },
      "text/plain": [
       "Creating parquet from Arrow format:   0%|          | 0/1 [00:00<?, ?ba/s]"
      ]
     },
     "metadata": {},
     "output_type": "display_data"
    },
    {
     "data": {
      "application/vnd.jupyter.widget-view+json": {
       "model_id": "1af4da3ee86145cda39008edf57a48ae",
       "version_major": 2,
       "version_minor": 0
      },
      "text/plain": [
       "README.md:   0%|          | 0.00/596 [00:00<?, ?B/s]"
      ]
     },
     "metadata": {},
     "output_type": "display_data"
    },
    {
     "data": {
      "application/vnd.jupyter.widget-view+json": {
       "model_id": "53f5b21aeda0488c831ec7b730669a03",
       "version_major": 2,
       "version_minor": 0
      },
      "text/plain": [
       "Downloading readme:   0%|          | 0.00/600 [00:00<?, ?B/s]"
      ]
     },
     "metadata": {},
     "output_type": "display_data"
    },
    {
     "data": {
      "application/vnd.jupyter.widget-view+json": {
       "model_id": "774425cf32194345b05606e997257d3e",
       "version_major": 2,
       "version_minor": 0
      },
      "text/plain": [
       "Downloading data:   0%|          | 0.00/13.1M [00:00<?, ?B/s]"
      ]
     },
     "metadata": {},
     "output_type": "display_data"
    },
    {
     "data": {
      "application/vnd.jupyter.widget-view+json": {
       "model_id": "8417219b20534cd7a42c6f7f7b55c1e2",
       "version_major": 2,
       "version_minor": 0
      },
      "text/plain": [
       "Downloading data:   0%|          | 0.00/1.28M [00:00<?, ?B/s]"
      ]
     },
     "metadata": {},
     "output_type": "display_data"
    },
    {
     "data": {
      "application/vnd.jupyter.widget-view+json": {
       "model_id": "0f993e730f654dcfbc64b3011471d75e",
       "version_major": 2,
       "version_minor": 0
      },
      "text/plain": [
       "Downloading data:   0%|          | 0.00/1.20M [00:00<?, ?B/s]"
      ]
     },
     "metadata": {},
     "output_type": "display_data"
    },
    {
     "data": {
      "application/vnd.jupyter.widget-view+json": {
       "model_id": "c1fc4ac2bbdb4eb8b903935c16f3862c",
       "version_major": 2,
       "version_minor": 0
      },
      "text/plain": [
       "Generating train split:   0%|          | 0/7748 [00:00<?, ? examples/s]"
      ]
     },
     "metadata": {},
     "output_type": "display_data"
    },
    {
     "data": {
      "application/vnd.jupyter.widget-view+json": {
       "model_id": "b60fee3f6914472aba8dbf7d5571dadb",
       "version_major": 2,
       "version_minor": 0
      },
      "text/plain": [
       "Generating test split:   0%|          | 0/976 [00:00<?, ? examples/s]"
      ]
     },
     "metadata": {},
     "output_type": "display_data"
    },
    {
     "data": {
      "application/vnd.jupyter.widget-view+json": {
       "model_id": "ad1426b0de20450eb9dd4b6039e3eea4",
       "version_major": 2,
       "version_minor": 0
      },
      "text/plain": [
       "Generating valid split:   0%|          | 0/972 [00:00<?, ? examples/s]"
      ]
     },
     "metadata": {},
     "output_type": "display_data"
    },
    {
     "name": "stdout",
     "output_type": "stream",
     "text": [
      "4042\n"
     ]
    },
    {
     "data": {
      "application/vnd.jupyter.widget-view+json": {
       "model_id": "740beae5d9df4c498d256bdb142c75f4",
       "version_major": 2,
       "version_minor": 0
      },
      "text/plain": [
       "Uploading the dataset shards:   0%|          | 0/1 [00:00<?, ?it/s]"
      ]
     },
     "metadata": {},
     "output_type": "display_data"
    },
    {
     "data": {
      "application/vnd.jupyter.widget-view+json": {
       "model_id": "573d543fa699474ba9d9a960573a169c",
       "version_major": 2,
       "version_minor": 0
      },
      "text/plain": [
       "Creating parquet from Arrow format:   0%|          | 0/8 [00:00<?, ?ba/s]"
      ]
     },
     "metadata": {},
     "output_type": "display_data"
    },
    {
     "data": {
      "application/vnd.jupyter.widget-view+json": {
       "model_id": "dff30bd3c1ab4177b1f7ab8e4bd0897f",
       "version_major": 2,
       "version_minor": 0
      },
      "text/plain": [
       "Uploading the dataset shards:   0%|          | 0/1 [00:00<?, ?it/s]"
      ]
     },
     "metadata": {},
     "output_type": "display_data"
    },
    {
     "data": {
      "application/vnd.jupyter.widget-view+json": {
       "model_id": "4e95cb76e00547acb585c095a417cdae",
       "version_major": 2,
       "version_minor": 0
      },
      "text/plain": [
       "Creating parquet from Arrow format:   0%|          | 0/1 [00:00<?, ?ba/s]"
      ]
     },
     "metadata": {},
     "output_type": "display_data"
    },
    {
     "data": {
      "application/vnd.jupyter.widget-view+json": {
       "model_id": "c096ebfe5b5d43a59d62fcd109a8a354",
       "version_major": 2,
       "version_minor": 0
      },
      "text/plain": [
       "Uploading the dataset shards:   0%|          | 0/1 [00:00<?, ?it/s]"
      ]
     },
     "metadata": {},
     "output_type": "display_data"
    },
    {
     "data": {
      "application/vnd.jupyter.widget-view+json": {
       "model_id": "988f9c5e3b354a31ae301520119ccccb",
       "version_major": 2,
       "version_minor": 0
      },
      "text/plain": [
       "Creating parquet from Arrow format:   0%|          | 0/1 [00:00<?, ?ba/s]"
      ]
     },
     "metadata": {},
     "output_type": "display_data"
    },
    {
     "data": {
      "application/vnd.jupyter.widget-view+json": {
       "model_id": "2f424632961e467c8a77657280172beb",
       "version_major": 2,
       "version_minor": 0
      },
      "text/plain": [
       "README.md:   0%|          | 0.00/596 [00:00<?, ?B/s]"
      ]
     },
     "metadata": {},
     "output_type": "display_data"
    },
    {
     "data": {
      "application/vnd.jupyter.widget-view+json": {
       "model_id": "743b55e1b49742a984b0b5b2fad2430a",
       "version_major": 2,
       "version_minor": 0
      },
      "text/plain": [
       "Downloading readme:   0%|          | 0.00/601 [00:00<?, ?B/s]"
      ]
     },
     "metadata": {},
     "output_type": "display_data"
    },
    {
     "data": {
      "application/vnd.jupyter.widget-view+json": {
       "model_id": "424e53c7455549c6a9f523f072aab256",
       "version_major": 2,
       "version_minor": 0
      },
      "text/plain": [
       "Downloading data:   0%|          | 0.00/14.9M [00:00<?, ?B/s]"
      ]
     },
     "metadata": {},
     "output_type": "display_data"
    },
    {
     "data": {
      "application/vnd.jupyter.widget-view+json": {
       "model_id": "da8d548952064ecd99a0cfc0d793258b",
       "version_major": 2,
       "version_minor": 0
      },
      "text/plain": [
       "Downloading data:   0%|          | 0.00/1.46M [00:00<?, ?B/s]"
      ]
     },
     "metadata": {},
     "output_type": "display_data"
    },
    {
     "data": {
      "application/vnd.jupyter.widget-view+json": {
       "model_id": "c37a4c380d604c70b9711c9024d71f78",
       "version_major": 2,
       "version_minor": 0
      },
      "text/plain": [
       "Downloading data:   0%|          | 0.00/1.36M [00:00<?, ?B/s]"
      ]
     },
     "metadata": {},
     "output_type": "display_data"
    },
    {
     "data": {
      "application/vnd.jupyter.widget-view+json": {
       "model_id": "90a54c80fd0f4363a5088d429fc3a0d1",
       "version_major": 2,
       "version_minor": 0
      },
      "text/plain": [
       "Generating train split:   0%|          | 0/7716 [00:00<?, ? examples/s]"
      ]
     },
     "metadata": {},
     "output_type": "display_data"
    },
    {
     "data": {
      "application/vnd.jupyter.widget-view+json": {
       "model_id": "497fd92426b94df2bae04c67ef3c0fb9",
       "version_major": 2,
       "version_minor": 0
      },
      "text/plain": [
       "Generating test split:   0%|          | 0/976 [00:00<?, ? examples/s]"
      ]
     },
     "metadata": {},
     "output_type": "display_data"
    },
    {
     "data": {
      "application/vnd.jupyter.widget-view+json": {
       "model_id": "a9e32cbe849d49e18fea94673d2a0bff",
       "version_major": 2,
       "version_minor": 0
      },
      "text/plain": [
       "Generating valid split:   0%|          | 0/964 [00:00<?, ? examples/s]"
      ]
     },
     "metadata": {},
     "output_type": "display_data"
    },
    {
     "name": "stdout",
     "output_type": "stream",
     "text": [
      "4684\n"
     ]
    }
   ],
   "source": [
    "\n",
    "for i in range(1, 8):\n",
    "    data_all = {'train': [], 'test': [], 'valid': []}\n",
    "    for split in ['train', 'test', 'valid']:\n",
    "        for ticker in [\"AAPL\", \"AMD\", \"AMZN\", \"AVGO\", \"NFLX\"]:\n",
    "            data = load_dataset(f\"Howard881010/finance-{ticker}-{i}day-finetuned\")\n",
    "            data_split = pd.DataFrame(data[split])\n",
    "            \n",
    "            t2t = data_split[['input_text', 'output_text', 'instruction-1']].rename(columns={'instruction-1': 'instruction', 'input_text': 'input', 'output_text': 'output'})\n",
    "            tT2tT = data_split[['input_text_time', 'output_text_time', 'instruction-2']].rename(columns={'instruction-2': 'instruction', 'input_text_time': 'input', 'output_text_time': 'output'})\n",
    "            tT2t = data_split[['input_text_time', 'output_text', 'instruction-3']].rename(columns={'instruction-3': 'instruction', 'input_text_time': 'input', 'output_text': 'output'})\n",
    "            tT2T = data_split[['input_text_time', 'output_time', 'instruction-4']].rename(columns={'instruction-4': 'instruction', 'input_text_time': 'input', 'output_time': 'output'})\n",
    "            \n",
    "            # Append the transformed data for each split\n",
    "            data_all[split].append(t2t)\n",
    "            data_all[split].append(tT2tT)\n",
    "            data_all[split].append(tT2t)\n",
    "            data_all[split].append(tT2T)\n",
    "            \n",
    "            # Concatenate all processed DataFrames for the current split\n",
    "        data_all[split] = pd.concat(data_all[split])\n",
    "\n",
    "\n",
    "    # max_token = get_max_token_size(data_all, 'input', 'output', 'instruction')\n",
    "    # print(max_token)\n",
    "        # Convert each processed DataFrame back to Hugging Face Dataset format\n",
    "    dataset_dict = DatasetDict({\n",
    "        'train': Dataset.from_pandas(data_all['train']),\n",
    "        'test': Dataset.from_pandas(data_all['test']),\n",
    "        'valid': Dataset.from_pandas(data_all['valid'])\n",
    "    })\n",
    "\n",
    "        # Push the processed dataset to Hugging Face Hub\n",
    "    dataset_dict.push_to_hub(f'Howard881010/finance-{i}day')\n",
    "    data = load_dataset(f\"Howard881010/finance-{i}day\")\n",
    "    max_token = get_max_token_size(data, 'input', 'output', 'instruction')\n",
    "    print(max_token)"
   ]
  }
 ],
 "metadata": {
  "kernelspec": {
   "display_name": "multimodal",
   "language": "python",
   "name": "python3"
  },
  "language_info": {
   "codemirror_mode": {
    "name": "ipython",
    "version": 3
   },
   "file_extension": ".py",
   "mimetype": "text/x-python",
   "name": "python",
   "nbconvert_exporter": "python",
   "pygments_lexer": "ipython3",
   "version": "3.11.9"
  }
 },
 "nbformat": 4,
 "nbformat_minor": 2
}

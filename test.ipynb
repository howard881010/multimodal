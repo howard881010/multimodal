{
 "cells": [
  {
   "cell_type": "code",
   "execution_count": 1,
   "metadata": {},
   "outputs": [],
   "source": [
    "%reload_ext autoreload\n",
    "%autoreload 2\n",
    "from MultimodalDataset.GasData import GasDataProcessor\n",
    "from MultimodalDataset.MedicalData import MedicalDataProcessor\n",
    "from MultimodalDataset.ClimateData import ClimateDataProcessor\n",
    "from src.utils import load_config, get_max_token_size\n",
    "import yaml\n",
    "from datasets import Dataset, DatasetDict, load_dataset\n",
    "import pandas as pd"
   ]
  },
  {
   "cell_type": "markdown",
   "metadata": {},
   "source": [
    "# For Climate Dataset"
   ]
  },
  {
   "cell_type": "code",
   "execution_count": 6,
   "metadata": {},
   "outputs": [
    {
     "name": "stdout",
     "output_type": "stream",
     "text": [
      "Saved configuration with input_window=1 and output_window=1.\n",
      "instruction_1:  Given the weather information of the first 1 day, predict the weather information of the next 1 day. Output the result strictly in the following JSON format and no additional text:\n",
      "{\n",
      "    \"day_2_date\": \"YYYY-MM-DD\",\n",
      "    \"day_2_weather_forecast\": \"Weather description\"\n",
      "}\n",
      "instruction_2:  Given the weather information of the first 1 day, predict the weather information of the next 1 day. Output the result strictly in the following JSON format and no additional text:\n",
      "{\n",
      "    \"day_2_date\": \"YYYY-MM-DD\",\n",
      "    \"day_2_weather_forecast\": \"Weather description\",\n",
      "    \"day_2_temp\": \"A Float Number\"\n",
      "}\n",
      "instruction_3:  Given the weather information of the first 1 day, predict the weather information of the next 1 day. Output the result strictly in the following JSON format and no additional text:\n",
      "{\n",
      "    \"day_2_date\": \"YYYY-MM-DD\",\n",
      "    \"day_2_weather_forecast\": \"Weather description\"\n",
      "}\n",
      "instruction_4:  Given the weather information of the first 1 day, predict the weather information of the next 1 day. Output the result strictly in the following JSON format and no additional text:\n",
      "{\n",
      "    \"day_2_date\": \"YYYY-MM-DD\",\n",
      "    \"day_2_temp\": \"A Float Number\"\n",
      "}\n",
      "899 559\n",
      "Saved configuration with input_window=2 and output_window=2.\n",
      "instruction_1:  Given the weather information of the first 2 day, predict the weather information of the next 2 day. Output the result strictly in the following JSON format and no additional text:\n",
      "{\n",
      "    \"day_3_date\": \"YYYY-MM-DD\",\n",
      "    \"day_3_weather_forecast\": \"Weather description\",\n",
      "    \"day_4_date\": \"YYYY-MM-DD\",\n",
      "    \"day_4_weather_forecast\": \"Weather description\"\n",
      "}\n",
      "instruction_2:  Given the weather information of the first 2 day, predict the weather information of the next 2 day. Output the result strictly in the following JSON format and no additional text:\n",
      "{\n",
      "    \"day_3_date\": \"YYYY-MM-DD\",\n",
      "    \"day_3_weather_forecast\": \"Weather description\",\n",
      "    \"day_3_temp\": \"A Float Number\",\n",
      "    \"day_4_date\": \"YYYY-MM-DD\",\n",
      "    \"day_4_weather_forecast\": \"Weather description\",\n",
      "    \"day_4_temp\": \"A Float Number\"\n",
      "}\n",
      "instruction_3:  Given the weather information of the first 2 day, predict the weather information of the next 2 day. Output the result strictly in the following JSON format and no additional text:\n",
      "{\n",
      "    \"day_3_date\": \"YYYY-MM-DD\",\n",
      "    \"day_3_weather_forecast\": \"Weather description\",\n",
      "    \"day_4_date\": \"YYYY-MM-DD\",\n",
      "    \"day_4_weather_forecast\": \"Weather description\"\n",
      "}\n",
      "instruction_4:  Given the weather information of the first 2 day, predict the weather information of the next 2 day. Output the result strictly in the following JSON format and no additional text:\n",
      "{\n",
      "    \"day_3_date\": \"YYYY-MM-DD\",\n",
      "    \"day_3_temp\": \"A Float Number\",\n",
      "    \"day_4_date\": \"YYYY-MM-DD\",\n",
      "    \"day_4_temp\": \"A Float Number\"\n",
      "}\n"
     ]
    },
    {
     "ename": "KeyboardInterrupt",
     "evalue": "",
     "output_type": "error",
     "traceback": [
      "\u001b[0;31m---------------------------------------------------------------------------\u001b[0m",
      "\u001b[0;31mKeyboardInterrupt\u001b[0m                         Traceback (most recent call last)",
      "Cell \u001b[0;32mIn[6], line 23\u001b[0m\n\u001b[1;32m     21\u001b[0m climate_dataset \u001b[38;5;241m=\u001b[39m processor\u001b[38;5;241m.\u001b[39mget_dataset()\n\u001b[1;32m     22\u001b[0m max_length_1 \u001b[38;5;241m=\u001b[39m get_max_token_size(climate_dataset, \u001b[38;5;124m'\u001b[39m\u001b[38;5;124minput_text_time\u001b[39m\u001b[38;5;124m'\u001b[39m, \u001b[38;5;124m'\u001b[39m\u001b[38;5;124moutput_text_time\u001b[39m\u001b[38;5;124m'\u001b[39m, \u001b[38;5;124m'\u001b[39m\u001b[38;5;124minstruction-2\u001b[39m\u001b[38;5;124m'\u001b[39m)\n\u001b[0;32m---> 23\u001b[0m max_length_2 \u001b[38;5;241m=\u001b[39m \u001b[43mget_max_token_size\u001b[49m\u001b[43m(\u001b[49m\u001b[43mclimate_dataset\u001b[49m\u001b[43m,\u001b[49m\u001b[43m \u001b[49m\u001b[38;5;124;43m'\u001b[39;49m\u001b[38;5;124;43minput_text_time\u001b[39;49m\u001b[38;5;124;43m'\u001b[39;49m\u001b[43m,\u001b[49m\u001b[43m \u001b[49m\u001b[38;5;124;43m'\u001b[39;49m\u001b[38;5;124;43moutput_time\u001b[39;49m\u001b[38;5;124;43m'\u001b[39;49m\u001b[43m,\u001b[49m\u001b[43m \u001b[49m\u001b[38;5;124;43m'\u001b[39;49m\u001b[38;5;124;43minstruction-4\u001b[39;49m\u001b[38;5;124;43m'\u001b[39;49m\u001b[43m)\u001b[49m\n\u001b[1;32m     25\u001b[0m \u001b[38;5;66;03m# processor.push_to_huggingface(climate_dataset)\u001b[39;00m\n\u001b[1;32m     26\u001b[0m \u001b[38;5;28mprint\u001b[39m(max_length_1, max_length_2)\n",
      "File \u001b[0;32m~/multimodal/src/utils.py:114\u001b[0m, in \u001b[0;36mget_max_token_size\u001b[0;34m(dataset, input_column, output_column, instruction_column, model_name)\u001b[0m\n\u001b[1;32m    112\u001b[0m tokenizer \u001b[38;5;241m=\u001b[39m AutoTokenizer\u001b[38;5;241m.\u001b[39mfrom_pretrained(model_name)\n\u001b[1;32m    113\u001b[0m \u001b[38;5;28;01mfor\u001b[39;00m split \u001b[38;5;129;01min\u001b[39;00m [\u001b[38;5;124m'\u001b[39m\u001b[38;5;124mtrain\u001b[39m\u001b[38;5;124m'\u001b[39m, \u001b[38;5;124m'\u001b[39m\u001b[38;5;124mvalid\u001b[39m\u001b[38;5;124m'\u001b[39m, \u001b[38;5;124m'\u001b[39m\u001b[38;5;124mtest\u001b[39m\u001b[38;5;124m'\u001b[39m]:\n\u001b[0;32m--> 114\u001b[0m     tokens_split \u001b[38;5;241m=\u001b[39m \u001b[38;5;28mmax\u001b[39m(\u001b[43m[\u001b[49m\u001b[43mapply_chat_template\u001b[49m\u001b[43m(\u001b[49m\u001b[43mtokenizer\u001b[49m\u001b[43m,\u001b[49m\u001b[43m \u001b[49m\u001b[43mrow\u001b[49m\u001b[43m[\u001b[49m\u001b[43minstruction_column\u001b[49m\u001b[43m]\u001b[49m\u001b[43m,\u001b[49m\u001b[43m \u001b[49m\n\u001b[1;32m    115\u001b[0m \u001b[43m                                    \u001b[49m\u001b[43mrow\u001b[49m\u001b[43m[\u001b[49m\u001b[43minput_column\u001b[49m\u001b[43m]\u001b[49m\u001b[43m,\u001b[49m\u001b[43m \u001b[49m\u001b[43mrow\u001b[49m\u001b[43m[\u001b[49m\u001b[43moutput_column\u001b[49m\u001b[43m]\u001b[49m\u001b[43m)\u001b[49m\u001b[43m \u001b[49m\u001b[38;5;28;43;01mfor\u001b[39;49;00m\u001b[43m \u001b[49m\u001b[43mrow\u001b[49m\u001b[43m \u001b[49m\u001b[38;5;129;43;01min\u001b[39;49;00m\u001b[43m \u001b[49m\u001b[43mdataset\u001b[49m\u001b[43m[\u001b[49m\u001b[43msplit\u001b[49m\u001b[43m]\u001b[49m\u001b[43m]\u001b[49m)\n\u001b[1;32m    116\u001b[0m     \u001b[38;5;28;01mif\u001b[39;00m tokens_split \u001b[38;5;241m>\u001b[39m max_tokens:\n\u001b[1;32m    117\u001b[0m         max_tokens \u001b[38;5;241m=\u001b[39m tokens_split\n",
      "File \u001b[0;32m~/multimodal/src/utils.py:114\u001b[0m, in \u001b[0;36m<listcomp>\u001b[0;34m(.0)\u001b[0m\n\u001b[1;32m    112\u001b[0m tokenizer \u001b[38;5;241m=\u001b[39m AutoTokenizer\u001b[38;5;241m.\u001b[39mfrom_pretrained(model_name)\n\u001b[1;32m    113\u001b[0m \u001b[38;5;28;01mfor\u001b[39;00m split \u001b[38;5;129;01min\u001b[39;00m [\u001b[38;5;124m'\u001b[39m\u001b[38;5;124mtrain\u001b[39m\u001b[38;5;124m'\u001b[39m, \u001b[38;5;124m'\u001b[39m\u001b[38;5;124mvalid\u001b[39m\u001b[38;5;124m'\u001b[39m, \u001b[38;5;124m'\u001b[39m\u001b[38;5;124mtest\u001b[39m\u001b[38;5;124m'\u001b[39m]:\n\u001b[0;32m--> 114\u001b[0m     tokens_split \u001b[38;5;241m=\u001b[39m \u001b[38;5;28mmax\u001b[39m([\u001b[43mapply_chat_template\u001b[49m\u001b[43m(\u001b[49m\u001b[43mtokenizer\u001b[49m\u001b[43m,\u001b[49m\u001b[43m \u001b[49m\u001b[43mrow\u001b[49m\u001b[43m[\u001b[49m\u001b[43minstruction_column\u001b[49m\u001b[43m]\u001b[49m\u001b[43m,\u001b[49m\u001b[43m \u001b[49m\n\u001b[1;32m    115\u001b[0m \u001b[43m                                    \u001b[49m\u001b[43mrow\u001b[49m\u001b[43m[\u001b[49m\u001b[43minput_column\u001b[49m\u001b[43m]\u001b[49m\u001b[43m,\u001b[49m\u001b[43m \u001b[49m\u001b[43mrow\u001b[49m\u001b[43m[\u001b[49m\u001b[43moutput_column\u001b[49m\u001b[43m]\u001b[49m\u001b[43m)\u001b[49m \u001b[38;5;28;01mfor\u001b[39;00m row \u001b[38;5;129;01min\u001b[39;00m dataset[split]])\n\u001b[1;32m    116\u001b[0m     \u001b[38;5;28;01mif\u001b[39;00m tokens_split \u001b[38;5;241m>\u001b[39m max_tokens:\n\u001b[1;32m    117\u001b[0m         max_tokens \u001b[38;5;241m=\u001b[39m tokens_split\n",
      "File \u001b[0;32m~/multimodal/src/utils.py:107\u001b[0m, in \u001b[0;36mapply_chat_template\u001b[0;34m(tokenizer, instruction, input_text, output_text)\u001b[0m\n\u001b[1;32m    105\u001b[0m \u001b[38;5;28;01mdef\u001b[39;00m \u001b[38;5;21mapply_chat_template\u001b[39m(tokenizer, instruction, input_text, output_text):\n\u001b[1;32m    106\u001b[0m     alpaca_text \u001b[38;5;241m=\u001b[39m \u001b[38;5;124mf\u001b[39m\u001b[38;5;124m\"\u001b[39m\u001b[38;5;124mInstruction: \u001b[39m\u001b[38;5;132;01m{\u001b[39;00minstruction\u001b[38;5;132;01m}\u001b[39;00m\u001b[38;5;130;01m\\n\u001b[39;00m\u001b[38;5;124mInput: \u001b[39m\u001b[38;5;132;01m{\u001b[39;00minput_text\u001b[38;5;132;01m}\u001b[39;00m\u001b[38;5;130;01m\\n\u001b[39;00m\u001b[38;5;124mResponse: \u001b[39m\u001b[38;5;132;01m{\u001b[39;00moutput_text\u001b[38;5;132;01m}\u001b[39;00m\u001b[38;5;124m\"\u001b[39m\n\u001b[0;32m--> 107\u001b[0m     input_tokens \u001b[38;5;241m=\u001b[39m \u001b[43mtokenizer\u001b[49m\u001b[43m(\u001b[49m\u001b[43malpaca_text\u001b[49m\u001b[43m,\u001b[49m\u001b[43m \u001b[49m\u001b[43mreturn_tensors\u001b[49m\u001b[38;5;241;43m=\u001b[39;49m\u001b[38;5;124;43m\"\u001b[39;49m\u001b[38;5;124;43mpt\u001b[39;49m\u001b[38;5;124;43m\"\u001b[39;49m\u001b[43m)\u001b[49m\n\u001b[1;32m    108\u001b[0m     \u001b[38;5;28;01mreturn\u001b[39;00m input_tokens\u001b[38;5;241m.\u001b[39minput_ids\u001b[38;5;241m.\u001b[39mshape[\u001b[38;5;241m1\u001b[39m]\n",
      "File \u001b[0;32m~/miniforge3/envs/multimodal/lib/python3.11/site-packages/transformers/tokenization_utils_base.py:3073\u001b[0m, in \u001b[0;36mPreTrainedTokenizerBase.__call__\u001b[0;34m(self, text, text_pair, text_target, text_pair_target, add_special_tokens, padding, truncation, max_length, stride, is_split_into_words, pad_to_multiple_of, return_tensors, return_token_type_ids, return_attention_mask, return_overflowing_tokens, return_special_tokens_mask, return_offsets_mapping, return_length, verbose, **kwargs)\u001b[0m\n\u001b[1;32m   3071\u001b[0m     \u001b[38;5;28;01mif\u001b[39;00m \u001b[38;5;129;01mnot\u001b[39;00m \u001b[38;5;28mself\u001b[39m\u001b[38;5;241m.\u001b[39m_in_target_context_manager:\n\u001b[1;32m   3072\u001b[0m         \u001b[38;5;28mself\u001b[39m\u001b[38;5;241m.\u001b[39m_switch_to_input_mode()\n\u001b[0;32m-> 3073\u001b[0m     encodings \u001b[38;5;241m=\u001b[39m \u001b[38;5;28;43mself\u001b[39;49m\u001b[38;5;241;43m.\u001b[39;49m\u001b[43m_call_one\u001b[49m\u001b[43m(\u001b[49m\u001b[43mtext\u001b[49m\u001b[38;5;241;43m=\u001b[39;49m\u001b[43mtext\u001b[49m\u001b[43m,\u001b[49m\u001b[43m \u001b[49m\u001b[43mtext_pair\u001b[49m\u001b[38;5;241;43m=\u001b[39;49m\u001b[43mtext_pair\u001b[49m\u001b[43m,\u001b[49m\u001b[43m \u001b[49m\u001b[38;5;241;43m*\u001b[39;49m\u001b[38;5;241;43m*\u001b[39;49m\u001b[43mall_kwargs\u001b[49m\u001b[43m)\u001b[49m\n\u001b[1;32m   3074\u001b[0m \u001b[38;5;28;01mif\u001b[39;00m text_target \u001b[38;5;129;01mis\u001b[39;00m \u001b[38;5;129;01mnot\u001b[39;00m \u001b[38;5;28;01mNone\u001b[39;00m:\n\u001b[1;32m   3075\u001b[0m     \u001b[38;5;28mself\u001b[39m\u001b[38;5;241m.\u001b[39m_switch_to_target_mode()\n",
      "File \u001b[0;32m~/miniforge3/envs/multimodal/lib/python3.11/site-packages/transformers/tokenization_utils_base.py:3181\u001b[0m, in \u001b[0;36mPreTrainedTokenizerBase._call_one\u001b[0;34m(self, text, text_pair, add_special_tokens, padding, truncation, max_length, stride, is_split_into_words, pad_to_multiple_of, return_tensors, return_token_type_ids, return_attention_mask, return_overflowing_tokens, return_special_tokens_mask, return_offsets_mapping, return_length, verbose, split_special_tokens, **kwargs)\u001b[0m\n\u001b[1;32m   3160\u001b[0m     \u001b[38;5;28;01mreturn\u001b[39;00m \u001b[38;5;28mself\u001b[39m\u001b[38;5;241m.\u001b[39mbatch_encode_plus(\n\u001b[1;32m   3161\u001b[0m         batch_text_or_text_pairs\u001b[38;5;241m=\u001b[39mbatch_text_or_text_pairs,\n\u001b[1;32m   3162\u001b[0m         add_special_tokens\u001b[38;5;241m=\u001b[39madd_special_tokens,\n\u001b[0;32m   (...)\u001b[0m\n\u001b[1;32m   3178\u001b[0m         \u001b[38;5;241m*\u001b[39m\u001b[38;5;241m*\u001b[39mkwargs,\n\u001b[1;32m   3179\u001b[0m     )\n\u001b[1;32m   3180\u001b[0m \u001b[38;5;28;01melse\u001b[39;00m:\n\u001b[0;32m-> 3181\u001b[0m     \u001b[38;5;28;01mreturn\u001b[39;00m \u001b[38;5;28;43mself\u001b[39;49m\u001b[38;5;241;43m.\u001b[39;49m\u001b[43mencode_plus\u001b[49m\u001b[43m(\u001b[49m\n\u001b[1;32m   3182\u001b[0m \u001b[43m        \u001b[49m\u001b[43mtext\u001b[49m\u001b[38;5;241;43m=\u001b[39;49m\u001b[43mtext\u001b[49m\u001b[43m,\u001b[49m\n\u001b[1;32m   3183\u001b[0m \u001b[43m        \u001b[49m\u001b[43mtext_pair\u001b[49m\u001b[38;5;241;43m=\u001b[39;49m\u001b[43mtext_pair\u001b[49m\u001b[43m,\u001b[49m\n\u001b[1;32m   3184\u001b[0m \u001b[43m        \u001b[49m\u001b[43madd_special_tokens\u001b[49m\u001b[38;5;241;43m=\u001b[39;49m\u001b[43madd_special_tokens\u001b[49m\u001b[43m,\u001b[49m\n\u001b[1;32m   3185\u001b[0m \u001b[43m        \u001b[49m\u001b[43mpadding\u001b[49m\u001b[38;5;241;43m=\u001b[39;49m\u001b[43mpadding\u001b[49m\u001b[43m,\u001b[49m\n\u001b[1;32m   3186\u001b[0m \u001b[43m        \u001b[49m\u001b[43mtruncation\u001b[49m\u001b[38;5;241;43m=\u001b[39;49m\u001b[43mtruncation\u001b[49m\u001b[43m,\u001b[49m\n\u001b[1;32m   3187\u001b[0m \u001b[43m        \u001b[49m\u001b[43mmax_length\u001b[49m\u001b[38;5;241;43m=\u001b[39;49m\u001b[43mmax_length\u001b[49m\u001b[43m,\u001b[49m\n\u001b[1;32m   3188\u001b[0m \u001b[43m        \u001b[49m\u001b[43mstride\u001b[49m\u001b[38;5;241;43m=\u001b[39;49m\u001b[43mstride\u001b[49m\u001b[43m,\u001b[49m\n\u001b[1;32m   3189\u001b[0m \u001b[43m        \u001b[49m\u001b[43mis_split_into_words\u001b[49m\u001b[38;5;241;43m=\u001b[39;49m\u001b[43mis_split_into_words\u001b[49m\u001b[43m,\u001b[49m\n\u001b[1;32m   3190\u001b[0m \u001b[43m        \u001b[49m\u001b[43mpad_to_multiple_of\u001b[49m\u001b[38;5;241;43m=\u001b[39;49m\u001b[43mpad_to_multiple_of\u001b[49m\u001b[43m,\u001b[49m\n\u001b[1;32m   3191\u001b[0m \u001b[43m        \u001b[49m\u001b[43mreturn_tensors\u001b[49m\u001b[38;5;241;43m=\u001b[39;49m\u001b[43mreturn_tensors\u001b[49m\u001b[43m,\u001b[49m\n\u001b[1;32m   3192\u001b[0m \u001b[43m        \u001b[49m\u001b[43mreturn_token_type_ids\u001b[49m\u001b[38;5;241;43m=\u001b[39;49m\u001b[43mreturn_token_type_ids\u001b[49m\u001b[43m,\u001b[49m\n\u001b[1;32m   3193\u001b[0m \u001b[43m        \u001b[49m\u001b[43mreturn_attention_mask\u001b[49m\u001b[38;5;241;43m=\u001b[39;49m\u001b[43mreturn_attention_mask\u001b[49m\u001b[43m,\u001b[49m\n\u001b[1;32m   3194\u001b[0m \u001b[43m        \u001b[49m\u001b[43mreturn_overflowing_tokens\u001b[49m\u001b[38;5;241;43m=\u001b[39;49m\u001b[43mreturn_overflowing_tokens\u001b[49m\u001b[43m,\u001b[49m\n\u001b[1;32m   3195\u001b[0m \u001b[43m        \u001b[49m\u001b[43mreturn_special_tokens_mask\u001b[49m\u001b[38;5;241;43m=\u001b[39;49m\u001b[43mreturn_special_tokens_mask\u001b[49m\u001b[43m,\u001b[49m\n\u001b[1;32m   3196\u001b[0m \u001b[43m        \u001b[49m\u001b[43mreturn_offsets_mapping\u001b[49m\u001b[38;5;241;43m=\u001b[39;49m\u001b[43mreturn_offsets_mapping\u001b[49m\u001b[43m,\u001b[49m\n\u001b[1;32m   3197\u001b[0m \u001b[43m        \u001b[49m\u001b[43mreturn_length\u001b[49m\u001b[38;5;241;43m=\u001b[39;49m\u001b[43mreturn_length\u001b[49m\u001b[43m,\u001b[49m\n\u001b[1;32m   3198\u001b[0m \u001b[43m        \u001b[49m\u001b[43mverbose\u001b[49m\u001b[38;5;241;43m=\u001b[39;49m\u001b[43mverbose\u001b[49m\u001b[43m,\u001b[49m\n\u001b[1;32m   3199\u001b[0m \u001b[43m        \u001b[49m\u001b[43msplit_special_tokens\u001b[49m\u001b[38;5;241;43m=\u001b[39;49m\u001b[43msplit_special_tokens\u001b[49m\u001b[43m,\u001b[49m\n\u001b[1;32m   3200\u001b[0m \u001b[43m        \u001b[49m\u001b[38;5;241;43m*\u001b[39;49m\u001b[38;5;241;43m*\u001b[39;49m\u001b[43mkwargs\u001b[49m\u001b[43m,\u001b[49m\n\u001b[1;32m   3201\u001b[0m \u001b[43m    \u001b[49m\u001b[43m)\u001b[49m\n",
      "File \u001b[0;32m~/miniforge3/envs/multimodal/lib/python3.11/site-packages/transformers/tokenization_utils_base.py:3255\u001b[0m, in \u001b[0;36mPreTrainedTokenizerBase.encode_plus\u001b[0;34m(self, text, text_pair, add_special_tokens, padding, truncation, max_length, stride, is_split_into_words, pad_to_multiple_of, return_tensors, return_token_type_ids, return_attention_mask, return_overflowing_tokens, return_special_tokens_mask, return_offsets_mapping, return_length, verbose, **kwargs)\u001b[0m\n\u001b[1;32m   3245\u001b[0m \u001b[38;5;66;03m# Backward compatibility for 'truncation_strategy', 'pad_to_max_length'\u001b[39;00m\n\u001b[1;32m   3246\u001b[0m padding_strategy, truncation_strategy, max_length, kwargs \u001b[38;5;241m=\u001b[39m \u001b[38;5;28mself\u001b[39m\u001b[38;5;241m.\u001b[39m_get_padding_truncation_strategies(\n\u001b[1;32m   3247\u001b[0m     padding\u001b[38;5;241m=\u001b[39mpadding,\n\u001b[1;32m   3248\u001b[0m     truncation\u001b[38;5;241m=\u001b[39mtruncation,\n\u001b[0;32m   (...)\u001b[0m\n\u001b[1;32m   3252\u001b[0m     \u001b[38;5;241m*\u001b[39m\u001b[38;5;241m*\u001b[39mkwargs,\n\u001b[1;32m   3253\u001b[0m )\n\u001b[0;32m-> 3255\u001b[0m \u001b[38;5;28;01mreturn\u001b[39;00m \u001b[38;5;28;43mself\u001b[39;49m\u001b[38;5;241;43m.\u001b[39;49m\u001b[43m_encode_plus\u001b[49m\u001b[43m(\u001b[49m\n\u001b[1;32m   3256\u001b[0m \u001b[43m    \u001b[49m\u001b[43mtext\u001b[49m\u001b[38;5;241;43m=\u001b[39;49m\u001b[43mtext\u001b[49m\u001b[43m,\u001b[49m\n\u001b[1;32m   3257\u001b[0m \u001b[43m    \u001b[49m\u001b[43mtext_pair\u001b[49m\u001b[38;5;241;43m=\u001b[39;49m\u001b[43mtext_pair\u001b[49m\u001b[43m,\u001b[49m\n\u001b[1;32m   3258\u001b[0m \u001b[43m    \u001b[49m\u001b[43madd_special_tokens\u001b[49m\u001b[38;5;241;43m=\u001b[39;49m\u001b[43madd_special_tokens\u001b[49m\u001b[43m,\u001b[49m\n\u001b[1;32m   3259\u001b[0m \u001b[43m    \u001b[49m\u001b[43mpadding_strategy\u001b[49m\u001b[38;5;241;43m=\u001b[39;49m\u001b[43mpadding_strategy\u001b[49m\u001b[43m,\u001b[49m\n\u001b[1;32m   3260\u001b[0m \u001b[43m    \u001b[49m\u001b[43mtruncation_strategy\u001b[49m\u001b[38;5;241;43m=\u001b[39;49m\u001b[43mtruncation_strategy\u001b[49m\u001b[43m,\u001b[49m\n\u001b[1;32m   3261\u001b[0m \u001b[43m    \u001b[49m\u001b[43mmax_length\u001b[49m\u001b[38;5;241;43m=\u001b[39;49m\u001b[43mmax_length\u001b[49m\u001b[43m,\u001b[49m\n\u001b[1;32m   3262\u001b[0m \u001b[43m    \u001b[49m\u001b[43mstride\u001b[49m\u001b[38;5;241;43m=\u001b[39;49m\u001b[43mstride\u001b[49m\u001b[43m,\u001b[49m\n\u001b[1;32m   3263\u001b[0m \u001b[43m    \u001b[49m\u001b[43mis_split_into_words\u001b[49m\u001b[38;5;241;43m=\u001b[39;49m\u001b[43mis_split_into_words\u001b[49m\u001b[43m,\u001b[49m\n\u001b[1;32m   3264\u001b[0m \u001b[43m    \u001b[49m\u001b[43mpad_to_multiple_of\u001b[49m\u001b[38;5;241;43m=\u001b[39;49m\u001b[43mpad_to_multiple_of\u001b[49m\u001b[43m,\u001b[49m\n\u001b[1;32m   3265\u001b[0m \u001b[43m    \u001b[49m\u001b[43mreturn_tensors\u001b[49m\u001b[38;5;241;43m=\u001b[39;49m\u001b[43mreturn_tensors\u001b[49m\u001b[43m,\u001b[49m\n\u001b[1;32m   3266\u001b[0m \u001b[43m    \u001b[49m\u001b[43mreturn_token_type_ids\u001b[49m\u001b[38;5;241;43m=\u001b[39;49m\u001b[43mreturn_token_type_ids\u001b[49m\u001b[43m,\u001b[49m\n\u001b[1;32m   3267\u001b[0m \u001b[43m    \u001b[49m\u001b[43mreturn_attention_mask\u001b[49m\u001b[38;5;241;43m=\u001b[39;49m\u001b[43mreturn_attention_mask\u001b[49m\u001b[43m,\u001b[49m\n\u001b[1;32m   3268\u001b[0m \u001b[43m    \u001b[49m\u001b[43mreturn_overflowing_tokens\u001b[49m\u001b[38;5;241;43m=\u001b[39;49m\u001b[43mreturn_overflowing_tokens\u001b[49m\u001b[43m,\u001b[49m\n\u001b[1;32m   3269\u001b[0m \u001b[43m    \u001b[49m\u001b[43mreturn_special_tokens_mask\u001b[49m\u001b[38;5;241;43m=\u001b[39;49m\u001b[43mreturn_special_tokens_mask\u001b[49m\u001b[43m,\u001b[49m\n\u001b[1;32m   3270\u001b[0m \u001b[43m    \u001b[49m\u001b[43mreturn_offsets_mapping\u001b[49m\u001b[38;5;241;43m=\u001b[39;49m\u001b[43mreturn_offsets_mapping\u001b[49m\u001b[43m,\u001b[49m\n\u001b[1;32m   3271\u001b[0m \u001b[43m    \u001b[49m\u001b[43mreturn_length\u001b[49m\u001b[38;5;241;43m=\u001b[39;49m\u001b[43mreturn_length\u001b[49m\u001b[43m,\u001b[49m\n\u001b[1;32m   3272\u001b[0m \u001b[43m    \u001b[49m\u001b[43mverbose\u001b[49m\u001b[38;5;241;43m=\u001b[39;49m\u001b[43mverbose\u001b[49m\u001b[43m,\u001b[49m\n\u001b[1;32m   3273\u001b[0m \u001b[43m    \u001b[49m\u001b[43msplit_special_tokens\u001b[49m\u001b[38;5;241;43m=\u001b[39;49m\u001b[43mkwargs\u001b[49m\u001b[38;5;241;43m.\u001b[39;49m\u001b[43mpop\u001b[49m\u001b[43m(\u001b[49m\u001b[38;5;124;43m\"\u001b[39;49m\u001b[38;5;124;43msplit_special_tokens\u001b[39;49m\u001b[38;5;124;43m\"\u001b[39;49m\u001b[43m,\u001b[49m\u001b[43m \u001b[49m\u001b[38;5;28;43mself\u001b[39;49m\u001b[38;5;241;43m.\u001b[39;49m\u001b[43msplit_special_tokens\u001b[49m\u001b[43m)\u001b[49m\u001b[43m,\u001b[49m\n\u001b[1;32m   3274\u001b[0m \u001b[43m    \u001b[49m\u001b[38;5;241;43m*\u001b[39;49m\u001b[38;5;241;43m*\u001b[39;49m\u001b[43mkwargs\u001b[49m\u001b[43m,\u001b[49m\n\u001b[1;32m   3275\u001b[0m \u001b[43m\u001b[49m\u001b[43m)\u001b[49m\n",
      "File \u001b[0;32m~/miniforge3/envs/multimodal/lib/python3.11/site-packages/transformers/tokenization_utils_fast.py:601\u001b[0m, in \u001b[0;36mPreTrainedTokenizerFast._encode_plus\u001b[0;34m(self, text, text_pair, add_special_tokens, padding_strategy, truncation_strategy, max_length, stride, is_split_into_words, pad_to_multiple_of, return_tensors, return_token_type_ids, return_attention_mask, return_overflowing_tokens, return_special_tokens_mask, return_offsets_mapping, return_length, verbose, split_special_tokens, **kwargs)\u001b[0m\n\u001b[1;32m    578\u001b[0m \u001b[38;5;28;01mdef\u001b[39;00m \u001b[38;5;21m_encode_plus\u001b[39m(\n\u001b[1;32m    579\u001b[0m     \u001b[38;5;28mself\u001b[39m,\n\u001b[1;32m    580\u001b[0m     text: Union[TextInput, PreTokenizedInput],\n\u001b[0;32m   (...)\u001b[0m\n\u001b[1;32m    598\u001b[0m     \u001b[38;5;241m*\u001b[39m\u001b[38;5;241m*\u001b[39mkwargs,\n\u001b[1;32m    599\u001b[0m ) \u001b[38;5;241m-\u001b[39m\u001b[38;5;241m>\u001b[39m BatchEncoding:\n\u001b[1;32m    600\u001b[0m     batched_input \u001b[38;5;241m=\u001b[39m [(text, text_pair)] \u001b[38;5;28;01mif\u001b[39;00m text_pair \u001b[38;5;28;01melse\u001b[39;00m [text]\n\u001b[0;32m--> 601\u001b[0m     batched_output \u001b[38;5;241m=\u001b[39m \u001b[38;5;28;43mself\u001b[39;49m\u001b[38;5;241;43m.\u001b[39;49m\u001b[43m_batch_encode_plus\u001b[49m\u001b[43m(\u001b[49m\n\u001b[1;32m    602\u001b[0m \u001b[43m        \u001b[49m\u001b[43mbatched_input\u001b[49m\u001b[43m,\u001b[49m\n\u001b[1;32m    603\u001b[0m \u001b[43m        \u001b[49m\u001b[43mis_split_into_words\u001b[49m\u001b[38;5;241;43m=\u001b[39;49m\u001b[43mis_split_into_words\u001b[49m\u001b[43m,\u001b[49m\n\u001b[1;32m    604\u001b[0m \u001b[43m        \u001b[49m\u001b[43madd_special_tokens\u001b[49m\u001b[38;5;241;43m=\u001b[39;49m\u001b[43madd_special_tokens\u001b[49m\u001b[43m,\u001b[49m\n\u001b[1;32m    605\u001b[0m \u001b[43m        \u001b[49m\u001b[43mpadding_strategy\u001b[49m\u001b[38;5;241;43m=\u001b[39;49m\u001b[43mpadding_strategy\u001b[49m\u001b[43m,\u001b[49m\n\u001b[1;32m    606\u001b[0m \u001b[43m        \u001b[49m\u001b[43mtruncation_strategy\u001b[49m\u001b[38;5;241;43m=\u001b[39;49m\u001b[43mtruncation_strategy\u001b[49m\u001b[43m,\u001b[49m\n\u001b[1;32m    607\u001b[0m \u001b[43m        \u001b[49m\u001b[43mmax_length\u001b[49m\u001b[38;5;241;43m=\u001b[39;49m\u001b[43mmax_length\u001b[49m\u001b[43m,\u001b[49m\n\u001b[1;32m    608\u001b[0m \u001b[43m        \u001b[49m\u001b[43mstride\u001b[49m\u001b[38;5;241;43m=\u001b[39;49m\u001b[43mstride\u001b[49m\u001b[43m,\u001b[49m\n\u001b[1;32m    609\u001b[0m \u001b[43m        \u001b[49m\u001b[43mpad_to_multiple_of\u001b[49m\u001b[38;5;241;43m=\u001b[39;49m\u001b[43mpad_to_multiple_of\u001b[49m\u001b[43m,\u001b[49m\n\u001b[1;32m    610\u001b[0m \u001b[43m        \u001b[49m\u001b[43mreturn_tensors\u001b[49m\u001b[38;5;241;43m=\u001b[39;49m\u001b[43mreturn_tensors\u001b[49m\u001b[43m,\u001b[49m\n\u001b[1;32m    611\u001b[0m \u001b[43m        \u001b[49m\u001b[43mreturn_token_type_ids\u001b[49m\u001b[38;5;241;43m=\u001b[39;49m\u001b[43mreturn_token_type_ids\u001b[49m\u001b[43m,\u001b[49m\n\u001b[1;32m    612\u001b[0m \u001b[43m        \u001b[49m\u001b[43mreturn_attention_mask\u001b[49m\u001b[38;5;241;43m=\u001b[39;49m\u001b[43mreturn_attention_mask\u001b[49m\u001b[43m,\u001b[49m\n\u001b[1;32m    613\u001b[0m \u001b[43m        \u001b[49m\u001b[43mreturn_overflowing_tokens\u001b[49m\u001b[38;5;241;43m=\u001b[39;49m\u001b[43mreturn_overflowing_tokens\u001b[49m\u001b[43m,\u001b[49m\n\u001b[1;32m    614\u001b[0m \u001b[43m        \u001b[49m\u001b[43mreturn_special_tokens_mask\u001b[49m\u001b[38;5;241;43m=\u001b[39;49m\u001b[43mreturn_special_tokens_mask\u001b[49m\u001b[43m,\u001b[49m\n\u001b[1;32m    615\u001b[0m \u001b[43m        \u001b[49m\u001b[43mreturn_offsets_mapping\u001b[49m\u001b[38;5;241;43m=\u001b[39;49m\u001b[43mreturn_offsets_mapping\u001b[49m\u001b[43m,\u001b[49m\n\u001b[1;32m    616\u001b[0m \u001b[43m        \u001b[49m\u001b[43mreturn_length\u001b[49m\u001b[38;5;241;43m=\u001b[39;49m\u001b[43mreturn_length\u001b[49m\u001b[43m,\u001b[49m\n\u001b[1;32m    617\u001b[0m \u001b[43m        \u001b[49m\u001b[43mverbose\u001b[49m\u001b[38;5;241;43m=\u001b[39;49m\u001b[43mverbose\u001b[49m\u001b[43m,\u001b[49m\n\u001b[1;32m    618\u001b[0m \u001b[43m        \u001b[49m\u001b[43msplit_special_tokens\u001b[49m\u001b[38;5;241;43m=\u001b[39;49m\u001b[43msplit_special_tokens\u001b[49m\u001b[43m,\u001b[49m\n\u001b[1;32m    619\u001b[0m \u001b[43m        \u001b[49m\u001b[38;5;241;43m*\u001b[39;49m\u001b[38;5;241;43m*\u001b[39;49m\u001b[43mkwargs\u001b[49m\u001b[43m,\u001b[49m\n\u001b[1;32m    620\u001b[0m \u001b[43m    \u001b[49m\u001b[43m)\u001b[49m\n\u001b[1;32m    622\u001b[0m     \u001b[38;5;66;03m# Return tensor is None, then we can remove the leading batch axis\u001b[39;00m\n\u001b[1;32m    623\u001b[0m     \u001b[38;5;66;03m# Overflowing tokens are returned as a batch of output so we keep them in this case\u001b[39;00m\n\u001b[1;32m    624\u001b[0m     \u001b[38;5;28;01mif\u001b[39;00m return_tensors \u001b[38;5;129;01mis\u001b[39;00m \u001b[38;5;28;01mNone\u001b[39;00m \u001b[38;5;129;01mand\u001b[39;00m \u001b[38;5;129;01mnot\u001b[39;00m return_overflowing_tokens:\n",
      "File \u001b[0;32m~/miniforge3/envs/multimodal/lib/python3.11/site-packages/transformers/tokenization_utils_fast.py:528\u001b[0m, in \u001b[0;36mPreTrainedTokenizerFast._batch_encode_plus\u001b[0;34m(self, batch_text_or_text_pairs, add_special_tokens, padding_strategy, truncation_strategy, max_length, stride, is_split_into_words, pad_to_multiple_of, return_tensors, return_token_type_ids, return_attention_mask, return_overflowing_tokens, return_special_tokens_mask, return_offsets_mapping, return_length, verbose, split_special_tokens)\u001b[0m\n\u001b[1;32m    525\u001b[0m \u001b[38;5;28;01mif\u001b[39;00m \u001b[38;5;28mself\u001b[39m\u001b[38;5;241m.\u001b[39m_tokenizer\u001b[38;5;241m.\u001b[39mencode_special_tokens \u001b[38;5;241m!=\u001b[39m split_special_tokens:\n\u001b[1;32m    526\u001b[0m     \u001b[38;5;28mself\u001b[39m\u001b[38;5;241m.\u001b[39m_tokenizer\u001b[38;5;241m.\u001b[39mencode_special_tokens \u001b[38;5;241m=\u001b[39m split_special_tokens\n\u001b[0;32m--> 528\u001b[0m encodings \u001b[38;5;241m=\u001b[39m \u001b[38;5;28;43mself\u001b[39;49m\u001b[38;5;241;43m.\u001b[39;49m\u001b[43m_tokenizer\u001b[49m\u001b[38;5;241;43m.\u001b[39;49m\u001b[43mencode_batch\u001b[49m\u001b[43m(\u001b[49m\n\u001b[1;32m    529\u001b[0m \u001b[43m    \u001b[49m\u001b[43mbatch_text_or_text_pairs\u001b[49m\u001b[43m,\u001b[49m\n\u001b[1;32m    530\u001b[0m \u001b[43m    \u001b[49m\u001b[43madd_special_tokens\u001b[49m\u001b[38;5;241;43m=\u001b[39;49m\u001b[43madd_special_tokens\u001b[49m\u001b[43m,\u001b[49m\n\u001b[1;32m    531\u001b[0m \u001b[43m    \u001b[49m\u001b[43mis_pretokenized\u001b[49m\u001b[38;5;241;43m=\u001b[39;49m\u001b[43mis_split_into_words\u001b[49m\u001b[43m,\u001b[49m\n\u001b[1;32m    532\u001b[0m \u001b[43m\u001b[49m\u001b[43m)\u001b[49m\n\u001b[1;32m    534\u001b[0m \u001b[38;5;66;03m# Convert encoding to dict\u001b[39;00m\n\u001b[1;32m    535\u001b[0m \u001b[38;5;66;03m# `Tokens` has type: Tuple[\u001b[39;00m\n\u001b[1;32m    536\u001b[0m \u001b[38;5;66;03m#                       List[Dict[str, List[List[int]]]] or List[Dict[str, 2D-Tensor]],\u001b[39;00m\n\u001b[1;32m    537\u001b[0m \u001b[38;5;66;03m#                       List[EncodingFast]\u001b[39;00m\n\u001b[1;32m    538\u001b[0m \u001b[38;5;66;03m#                    ]\u001b[39;00m\n\u001b[1;32m    539\u001b[0m \u001b[38;5;66;03m# with nested dimensions corresponding to batch, overflows, sequence length\u001b[39;00m\n\u001b[1;32m    540\u001b[0m tokens_and_encodings \u001b[38;5;241m=\u001b[39m [\n\u001b[1;32m    541\u001b[0m     \u001b[38;5;28mself\u001b[39m\u001b[38;5;241m.\u001b[39m_convert_encoding(\n\u001b[1;32m    542\u001b[0m         encoding\u001b[38;5;241m=\u001b[39mencoding,\n\u001b[0;32m   (...)\u001b[0m\n\u001b[1;32m    551\u001b[0m     \u001b[38;5;28;01mfor\u001b[39;00m encoding \u001b[38;5;129;01min\u001b[39;00m encodings\n\u001b[1;32m    552\u001b[0m ]\n",
      "\u001b[0;31mKeyboardInterrupt\u001b[0m: "
     ]
    }
   ],
   "source": [
    "file_path = \"config/default/climate.yaml\"\n",
    "# Load the existing YAML file\n",
    "with open(file_path, 'r') as file:\n",
    "    config = yaml.safe_load(file)\n",
    "\n",
    "# Iterate over input_window and output_window from 1 to 7\n",
    "for i in range(1, 8):\n",
    "    # Update the values in the config\n",
    "    config['dataset']['input_window'] = i\n",
    "    config['dataset']['output_window'] = i\n",
    "    config['dataset']['hf_repo'] = f\"Howard881010/climate-{i}day-inContext\"\n",
    "    \n",
    "    # Save the updated configuration back to the original file\n",
    "    with open(file_path, 'w') as outfile:\n",
    "        yaml.dump(config, outfile, default_flow_style=False)\n",
    "    \n",
    "    print(f\"Saved configuration with input_window={i} and output_window={i}.\")\n",
    "    climate_cfg = load_config('config/default/climate.yaml')\n",
    "\n",
    "    processor = ClimateDataProcessor(climate_cfg['dataset'])\n",
    "    climate_dataset = processor.get_dataset()\n",
    "    max_length_1 = get_max_token_size(climate_dataset, 'input_text_time', 'output_text_time', 'instruction-2')\n",
    "    max_length_2 = get_max_token_size(climate_dataset, 'input_text_time', 'output_time', 'instruction-4')\n",
    "\n",
    "    # processor.push_to_huggingface(climate_dataset)\n",
    "    print(max_length_1, max_length_2)\n"
   ]
  },
  {
   "cell_type": "code",
   "execution_count": null,
   "metadata": {},
   "outputs": [],
   "source": [
    "# Load the dataset\n",
    "for i in range(1, 8):\n",
    "    data = load_dataset(f'Howard881010/climate-{i}day-finetuned')\n",
    "\n",
    "    # Initialize dictionaries to hold processed data\n",
    "    data_all = {'train': [], 'test': [], 'valid': []}\n",
    "\n",
    "    # Process each split\n",
    "    for split in ['train', 'test', 'valid']:\n",
    "        data_split = pd.DataFrame(data[split])\n",
    "        \n",
    "        t2t = data_split[['input_text', 'output_text', 'instruction-1']].rename(columns={'instruction-1': 'instruction', 'input_text': 'input', 'output_text': 'output'})\n",
    "        tT2tT = data_split[['input_text_time', 'output_text_time', 'instruction-2']].rename(columns={'instruction-2': 'instruction', 'input_text_time': 'input', 'output_text_time': 'output'})\n",
    "        tT2t = data_split[['input_text_time', 'output_text', 'instruction-3']].rename(columns={'instruction-3': 'instruction', 'input_text_time': 'input', 'output_text': 'output'})\n",
    "        tT2T = data_split[['input_text_time', 'output_time', 'instruction-4']].rename(columns={'instruction-4': 'instruction', 'input_text_time': 'input', 'output_time': 'output'})\n",
    "        \n",
    "        # Append the transformed data for each split\n",
    "        data_all[split].append(t2t)\n",
    "        data_all[split].append(tT2tT)\n",
    "        data_all[split].append(tT2t)\n",
    "        data_all[split].append(tT2T)\n",
    "        \n",
    "        # Concatenate all processed DataFrames for the current split\n",
    "        data_all[split] = pd.concat(data_all[split])\n",
    "\n",
    "    # Convert each processed DataFrame back to Hugging Face Dataset format\n",
    "    dataset_dict = DatasetDict({\n",
    "        'train': Dataset.from_pandas(data_all['train']),\n",
    "        'test': Dataset.from_pandas(data_all['test']),\n",
    "        'valid': Dataset.from_pandas(data_all['valid'])\n",
    "    })\n",
    "\n",
    "    # Push the processed dataset to Hugging Face Hub\n",
    "    dataset_dict.push_to_hub(f'Howard881010/climate-{i}day')\n"
   ]
  },
  {
   "cell_type": "markdown",
   "metadata": {},
   "source": [
    "# For Medical dataset"
   ]
  },
  {
   "cell_type": "code",
   "execution_count": 2,
   "metadata": {},
   "outputs": [
    {
     "name": "stdout",
     "output_type": "stream",
     "text": [
      "Saved configuration with input_window=1 and output_window=1.\n",
      "Given the medical information of the first 1 day, predict the medical information of the next 1 day. Output the result strictly in the following JSON format and no additional text:\n",
      "{\n",
      "    \"day_2_date\": \"YYYY-MM-DD\",\n",
      "    \"day_2_medical_notes\": \"Medical description\"\n",
      "}\n",
      "Given the medical information of the first 1 day, predict the medical information of the next 1 day. Output the result strictly in the following JSON format and no additional text:\n",
      "{\n",
      "    \"day_2_date\": \"YYYY-MM-DD\",\n",
      "    \"day_2_medical_notes\": \"Medical description\",\n",
      "    \"day_2_Heart_Rate\": \"A Float Number\"\n",
      "}\n",
      "Given the medical information of the first 1 day, predict the medical information of the next 1 day. Output the result strictly in the following JSON format and no additional text:\n",
      "{\n",
      "    \"day_2_date\": \"YYYY-MM-DD\",\n",
      "    \"day_2_medical_notes\": \"Medical description\"\n",
      "}\n",
      "Given the medical information of the first 1 day, predict the medical information of the next 1 day. Output the result strictly in the following JSON format and no additional text:\n",
      "{\n",
      "    \"day_2_date\": \"YYYY-MM-DD\",\n",
      "    \"day_2_Heart_Rate\": \"A Float Number\"\n",
      "}\n"
     ]
    },
    {
     "data": {
      "application/vnd.jupyter.widget-view+json": {
       "model_id": "408cfcf7a1fe4ec8877b3a5c08f05e16",
       "version_major": 2,
       "version_minor": 0
      },
      "text/plain": [
       "Uploading the dataset shards:   0%|          | 0/1 [00:00<?, ?it/s]"
      ]
     },
     "metadata": {},
     "output_type": "display_data"
    },
    {
     "data": {
      "application/vnd.jupyter.widget-view+json": {
       "model_id": "8fff8851ffc54a3a9530c9c60f3b1d20",
       "version_major": 2,
       "version_minor": 0
      },
      "text/plain": [
       "Creating parquet from Arrow format:   0%|          | 0/7 [00:00<?, ?ba/s]"
      ]
     },
     "metadata": {},
     "output_type": "display_data"
    },
    {
     "data": {
      "application/vnd.jupyter.widget-view+json": {
       "model_id": "c53831d2ec24436eb83cb0bd790716ec",
       "version_major": 2,
       "version_minor": 0
      },
      "text/plain": [
       "Uploading the dataset shards:   0%|          | 0/1 [00:00<?, ?it/s]"
      ]
     },
     "metadata": {},
     "output_type": "display_data"
    },
    {
     "data": {
      "application/vnd.jupyter.widget-view+json": {
       "model_id": "663e9430f3c9452aa3939e7de5a5df0c",
       "version_major": 2,
       "version_minor": 0
      },
      "text/plain": [
       "Creating parquet from Arrow format:   0%|          | 0/1 [00:00<?, ?ba/s]"
      ]
     },
     "metadata": {},
     "output_type": "display_data"
    },
    {
     "data": {
      "application/vnd.jupyter.widget-view+json": {
       "model_id": "fff274fbf2c143398fc1b97351bf8673",
       "version_major": 2,
       "version_minor": 0
      },
      "text/plain": [
       "Uploading the dataset shards:   0%|          | 0/1 [00:00<?, ?it/s]"
      ]
     },
     "metadata": {},
     "output_type": "display_data"
    },
    {
     "data": {
      "application/vnd.jupyter.widget-view+json": {
       "model_id": "e02e77441b2542b6b33f02545f177ddf",
       "version_major": 2,
       "version_minor": 0
      },
      "text/plain": [
       "Creating parquet from Arrow format:   0%|          | 0/1 [00:00<?, ?ba/s]"
      ]
     },
     "metadata": {},
     "output_type": "display_data"
    },
    {
     "name": "stdout",
     "output_type": "stream",
     "text": [
      "1232 768\n",
      "Saved configuration with input_window=2 and output_window=2.\n",
      "Given the medical information of the first 2 day, predict the medical information of the next 2 day. Output the result strictly in the following JSON format and no additional text:\n",
      "{\n",
      "    \"day_3_date\": \"YYYY-MM-DD\",\n",
      "    \"day_3_medical_notes\": \"Medical description\",\n",
      "    \"day_4_date\": \"YYYY-MM-DD\",\n",
      "    \"day_4_medical_notes\": \"Medical description\"\n",
      "}\n",
      "Given the medical information of the first 2 day, predict the medical information of the next 2 day. Output the result strictly in the following JSON format and no additional text:\n",
      "{\n",
      "    \"day_3_date\": \"YYYY-MM-DD\",\n",
      "    \"day_3_medical_notes\": \"Medical description\",\n",
      "    \"day_3_Heart_Rate\": \"A Float Number\",\n",
      "    \"day_4_date\": \"YYYY-MM-DD\",\n",
      "    \"day_4_medical_notes\": \"Medical description\",\n",
      "    \"day_4_Heart_Rate\": \"A Float Number\"\n",
      "}\n",
      "Given the medical information of the first 2 day, predict the medical information of the next 2 day. Output the result strictly in the following JSON format and no additional text:\n",
      "{\n",
      "    \"day_3_date\": \"YYYY-MM-DD\",\n",
      "    \"day_3_medical_notes\": \"Medical description\",\n",
      "    \"day_4_date\": \"YYYY-MM-DD\",\n",
      "    \"day_4_medical_notes\": \"Medical description\"\n",
      "}\n",
      "Given the medical information of the first 2 day, predict the medical information of the next 2 day. Output the result strictly in the following JSON format and no additional text:\n",
      "{\n",
      "    \"day_3_date\": \"YYYY-MM-DD\",\n",
      "    \"day_3_Heart_Rate\": \"A Float Number\",\n",
      "    \"day_4_date\": \"YYYY-MM-DD\",\n",
      "    \"day_4_Heart_Rate\": \"A Float Number\"\n",
      "}\n"
     ]
    },
    {
     "data": {
      "application/vnd.jupyter.widget-view+json": {
       "model_id": "252f106f327340bfafdc2708e29fb75c",
       "version_major": 2,
       "version_minor": 0
      },
      "text/plain": [
       "Uploading the dataset shards:   0%|          | 0/1 [00:00<?, ?it/s]"
      ]
     },
     "metadata": {},
     "output_type": "display_data"
    },
    {
     "data": {
      "application/vnd.jupyter.widget-view+json": {
       "model_id": "6c28331d8b7a4436af4a93dba469b8c4",
       "version_major": 2,
       "version_minor": 0
      },
      "text/plain": [
       "Creating parquet from Arrow format:   0%|          | 0/6 [00:00<?, ?ba/s]"
      ]
     },
     "metadata": {},
     "output_type": "display_data"
    },
    {
     "data": {
      "application/vnd.jupyter.widget-view+json": {
       "model_id": "44165a60e4eb46ba8be1ab205f11c11c",
       "version_major": 2,
       "version_minor": 0
      },
      "text/plain": [
       "Uploading the dataset shards:   0%|          | 0/1 [00:00<?, ?it/s]"
      ]
     },
     "metadata": {},
     "output_type": "display_data"
    },
    {
     "data": {
      "application/vnd.jupyter.widget-view+json": {
       "model_id": "bbeb6700c052432383f0b0ab71dde557",
       "version_major": 2,
       "version_minor": 0
      },
      "text/plain": [
       "Creating parquet from Arrow format:   0%|          | 0/1 [00:00<?, ?ba/s]"
      ]
     },
     "metadata": {},
     "output_type": "display_data"
    },
    {
     "data": {
      "application/vnd.jupyter.widget-view+json": {
       "model_id": "67c9904ef2bd4e0f84864ec4a40e53c9",
       "version_major": 2,
       "version_minor": 0
      },
      "text/plain": [
       "Uploading the dataset shards:   0%|          | 0/1 [00:00<?, ?it/s]"
      ]
     },
     "metadata": {},
     "output_type": "display_data"
    },
    {
     "data": {
      "application/vnd.jupyter.widget-view+json": {
       "model_id": "8f0e54ef251141a8964c93632dc8f380",
       "version_major": 2,
       "version_minor": 0
      },
      "text/plain": [
       "Creating parquet from Arrow format:   0%|          | 0/1 [00:00<?, ?ba/s]"
      ]
     },
     "metadata": {},
     "output_type": "display_data"
    },
    {
     "name": "stdout",
     "output_type": "stream",
     "text": [
      "2097 1306\n",
      "Saved configuration with input_window=3 and output_window=3.\n",
      "Given the medical information of the first 3 day, predict the medical information of the next 3 day. Output the result strictly in the following JSON format and no additional text:\n",
      "{\n",
      "    \"day_4_date\": \"YYYY-MM-DD\",\n",
      "    \"day_4_medical_notes\": \"Medical description\",\n",
      "    \"day_5_date\": \"YYYY-MM-DD\",\n",
      "    \"day_5_medical_notes\": \"Medical description\",\n",
      "    \"day_6_date\": \"YYYY-MM-DD\",\n",
      "    \"day_6_medical_notes\": \"Medical description\"\n",
      "}\n",
      "Given the medical information of the first 3 day, predict the medical information of the next 3 day. Output the result strictly in the following JSON format and no additional text:\n",
      "{\n",
      "    \"day_4_date\": \"YYYY-MM-DD\",\n",
      "    \"day_4_medical_notes\": \"Medical description\",\n",
      "    \"day_4_Heart_Rate\": \"A Float Number\",\n",
      "    \"day_5_date\": \"YYYY-MM-DD\",\n",
      "    \"day_5_medical_notes\": \"Medical description\",\n",
      "    \"day_5_Heart_Rate\": \"A Float Number\",\n",
      "    \"day_6_date\": \"YYYY-MM-DD\",\n",
      "    \"day_6_medical_notes\": \"Medical description\",\n",
      "    \"day_6_Heart_Rate\": \"A Float Number\"\n",
      "}\n",
      "Given the medical information of the first 3 day, predict the medical information of the next 3 day. Output the result strictly in the following JSON format and no additional text:\n",
      "{\n",
      "    \"day_4_date\": \"YYYY-MM-DD\",\n",
      "    \"day_4_medical_notes\": \"Medical description\",\n",
      "    \"day_5_date\": \"YYYY-MM-DD\",\n",
      "    \"day_5_medical_notes\": \"Medical description\",\n",
      "    \"day_6_date\": \"YYYY-MM-DD\",\n",
      "    \"day_6_medical_notes\": \"Medical description\"\n",
      "}\n",
      "Given the medical information of the first 3 day, predict the medical information of the next 3 day. Output the result strictly in the following JSON format and no additional text:\n",
      "{\n",
      "    \"day_4_date\": \"YYYY-MM-DD\",\n",
      "    \"day_4_Heart_Rate\": \"A Float Number\",\n",
      "    \"day_5_date\": \"YYYY-MM-DD\",\n",
      "    \"day_5_Heart_Rate\": \"A Float Number\",\n",
      "    \"day_6_date\": \"YYYY-MM-DD\",\n",
      "    \"day_6_Heart_Rate\": \"A Float Number\"\n",
      "}\n"
     ]
    },
    {
     "data": {
      "application/vnd.jupyter.widget-view+json": {
       "model_id": "5ca61c7d59b7452c8834ae1c349eb12f",
       "version_major": 2,
       "version_minor": 0
      },
      "text/plain": [
       "Uploading the dataset shards:   0%|          | 0/1 [00:00<?, ?it/s]"
      ]
     },
     "metadata": {},
     "output_type": "display_data"
    },
    {
     "data": {
      "application/vnd.jupyter.widget-view+json": {
       "model_id": "fc45eb81dd914a8f8699b9ef09a9a3ec",
       "version_major": 2,
       "version_minor": 0
      },
      "text/plain": [
       "Creating parquet from Arrow format:   0%|          | 0/6 [00:00<?, ?ba/s]"
      ]
     },
     "metadata": {},
     "output_type": "display_data"
    },
    {
     "data": {
      "application/vnd.jupyter.widget-view+json": {
       "model_id": "b2ba124f536641918d5d4d3022c66632",
       "version_major": 2,
       "version_minor": 0
      },
      "text/plain": [
       "Uploading the dataset shards:   0%|          | 0/1 [00:00<?, ?it/s]"
      ]
     },
     "metadata": {},
     "output_type": "display_data"
    },
    {
     "data": {
      "application/vnd.jupyter.widget-view+json": {
       "model_id": "c6789b0b5425401487c6ae58f97f46b3",
       "version_major": 2,
       "version_minor": 0
      },
      "text/plain": [
       "Creating parquet from Arrow format:   0%|          | 0/1 [00:00<?, ?ba/s]"
      ]
     },
     "metadata": {},
     "output_type": "display_data"
    },
    {
     "data": {
      "application/vnd.jupyter.widget-view+json": {
       "model_id": "1c481bd1b63e4b6296a09fe36a3d4db1",
       "version_major": 2,
       "version_minor": 0
      },
      "text/plain": [
       "Uploading the dataset shards:   0%|          | 0/1 [00:00<?, ?it/s]"
      ]
     },
     "metadata": {},
     "output_type": "display_data"
    },
    {
     "data": {
      "application/vnd.jupyter.widget-view+json": {
       "model_id": "86bd0fc617c34512b53ae95b8a0e042e",
       "version_major": 2,
       "version_minor": 0
      },
      "text/plain": [
       "Creating parquet from Arrow format:   0%|          | 0/1 [00:00<?, ?ba/s]"
      ]
     },
     "metadata": {},
     "output_type": "display_data"
    },
    {
     "name": "stdout",
     "output_type": "stream",
     "text": [
      "2915 1827\n",
      "Saved configuration with input_window=4 and output_window=4.\n",
      "Given the medical information of the first 4 day, predict the medical information of the next 4 day. Output the result strictly in the following JSON format and no additional text:\n",
      "{\n",
      "    \"day_5_date\": \"YYYY-MM-DD\",\n",
      "    \"day_5_medical_notes\": \"Medical description\",\n",
      "    \"day_6_date\": \"YYYY-MM-DD\",\n",
      "    \"day_6_medical_notes\": \"Medical description\",\n",
      "    \"day_7_date\": \"YYYY-MM-DD\",\n",
      "    \"day_7_medical_notes\": \"Medical description\",\n",
      "    \"day_8_date\": \"YYYY-MM-DD\",\n",
      "    \"day_8_medical_notes\": \"Medical description\"\n",
      "}\n",
      "Given the medical information of the first 4 day, predict the medical information of the next 4 day. Output the result strictly in the following JSON format and no additional text:\n",
      "{\n",
      "    \"day_5_date\": \"YYYY-MM-DD\",\n",
      "    \"day_5_medical_notes\": \"Medical description\",\n",
      "    \"day_5_Heart_Rate\": \"A Float Number\",\n",
      "    \"day_6_date\": \"YYYY-MM-DD\",\n",
      "    \"day_6_medical_notes\": \"Medical description\",\n",
      "    \"day_6_Heart_Rate\": \"A Float Number\",\n",
      "    \"day_7_date\": \"YYYY-MM-DD\",\n",
      "    \"day_7_medical_notes\": \"Medical description\",\n",
      "    \"day_7_Heart_Rate\": \"A Float Number\",\n",
      "    \"day_8_date\": \"YYYY-MM-DD\",\n",
      "    \"day_8_medical_notes\": \"Medical description\",\n",
      "    \"day_8_Heart_Rate\": \"A Float Number\"\n",
      "}\n",
      "Given the medical information of the first 4 day, predict the medical information of the next 4 day. Output the result strictly in the following JSON format and no additional text:\n",
      "{\n",
      "    \"day_5_date\": \"YYYY-MM-DD\",\n",
      "    \"day_5_medical_notes\": \"Medical description\",\n",
      "    \"day_6_date\": \"YYYY-MM-DD\",\n",
      "    \"day_6_medical_notes\": \"Medical description\",\n",
      "    \"day_7_date\": \"YYYY-MM-DD\",\n",
      "    \"day_7_medical_notes\": \"Medical description\",\n",
      "    \"day_8_date\": \"YYYY-MM-DD\",\n",
      "    \"day_8_medical_notes\": \"Medical description\"\n",
      "}\n",
      "Given the medical information of the first 4 day, predict the medical information of the next 4 day. Output the result strictly in the following JSON format and no additional text:\n",
      "{\n",
      "    \"day_5_date\": \"YYYY-MM-DD\",\n",
      "    \"day_5_Heart_Rate\": \"A Float Number\",\n",
      "    \"day_6_date\": \"YYYY-MM-DD\",\n",
      "    \"day_6_Heart_Rate\": \"A Float Number\",\n",
      "    \"day_7_date\": \"YYYY-MM-DD\",\n",
      "    \"day_7_Heart_Rate\": \"A Float Number\",\n",
      "    \"day_8_date\": \"YYYY-MM-DD\",\n",
      "    \"day_8_Heart_Rate\": \"A Float Number\"\n",
      "}\n"
     ]
    },
    {
     "data": {
      "application/vnd.jupyter.widget-view+json": {
       "model_id": "955ee0b970c443c29b0b69d309cedad3",
       "version_major": 2,
       "version_minor": 0
      },
      "text/plain": [
       "Uploading the dataset shards:   0%|          | 0/1 [00:00<?, ?it/s]"
      ]
     },
     "metadata": {},
     "output_type": "display_data"
    },
    {
     "data": {
      "application/vnd.jupyter.widget-view+json": {
       "model_id": "433f4ff5dad6401983209516632f67dc",
       "version_major": 2,
       "version_minor": 0
      },
      "text/plain": [
       "Creating parquet from Arrow format:   0%|          | 0/6 [00:00<?, ?ba/s]"
      ]
     },
     "metadata": {},
     "output_type": "display_data"
    },
    {
     "data": {
      "application/vnd.jupyter.widget-view+json": {
       "model_id": "9a90fcd18adc4f8db46f0091e11b6c1c",
       "version_major": 2,
       "version_minor": 0
      },
      "text/plain": [
       "Uploading the dataset shards:   0%|          | 0/1 [00:00<?, ?it/s]"
      ]
     },
     "metadata": {},
     "output_type": "display_data"
    },
    {
     "data": {
      "application/vnd.jupyter.widget-view+json": {
       "model_id": "7b6b98e3a3be4a29ae32e4c9d75c3cb7",
       "version_major": 2,
       "version_minor": 0
      },
      "text/plain": [
       "Creating parquet from Arrow format:   0%|          | 0/1 [00:00<?, ?ba/s]"
      ]
     },
     "metadata": {},
     "output_type": "display_data"
    },
    {
     "data": {
      "application/vnd.jupyter.widget-view+json": {
       "model_id": "a1f376197e484fedaba83bba3b729463",
       "version_major": 2,
       "version_minor": 0
      },
      "text/plain": [
       "Uploading the dataset shards:   0%|          | 0/1 [00:00<?, ?it/s]"
      ]
     },
     "metadata": {},
     "output_type": "display_data"
    },
    {
     "data": {
      "application/vnd.jupyter.widget-view+json": {
       "model_id": "f2a35fd47554498abd96c8eaa8ed3a04",
       "version_major": 2,
       "version_minor": 0
      },
      "text/plain": [
       "Creating parquet from Arrow format:   0%|          | 0/1 [00:00<?, ?ba/s]"
      ]
     },
     "metadata": {},
     "output_type": "display_data"
    },
    {
     "name": "stdout",
     "output_type": "stream",
     "text": [
      "3713 2245\n",
      "Saved configuration with input_window=5 and output_window=5.\n",
      "Given the medical information of the first 5 day, predict the medical information of the next 5 day. Output the result strictly in the following JSON format and no additional text:\n",
      "{\n",
      "    \"day_6_date\": \"YYYY-MM-DD\",\n",
      "    \"day_6_medical_notes\": \"Medical description\",\n",
      "    \"day_7_date\": \"YYYY-MM-DD\",\n",
      "    \"day_7_medical_notes\": \"Medical description\",\n",
      "    \"day_8_date\": \"YYYY-MM-DD\",\n",
      "    \"day_8_medical_notes\": \"Medical description\",\n",
      "    \"day_9_date\": \"YYYY-MM-DD\",\n",
      "    \"day_9_medical_notes\": \"Medical description\",\n",
      "    \"day_10_date\": \"YYYY-MM-DD\",\n",
      "    \"day_10_medical_notes\": \"Medical description\"\n",
      "}\n",
      "Given the medical information of the first 5 day, predict the medical information of the next 5 day. Output the result strictly in the following JSON format and no additional text:\n",
      "{\n",
      "    \"day_6_date\": \"YYYY-MM-DD\",\n",
      "    \"day_6_medical_notes\": \"Medical description\",\n",
      "    \"day_6_Heart_Rate\": \"A Float Number\",\n",
      "    \"day_7_date\": \"YYYY-MM-DD\",\n",
      "    \"day_7_medical_notes\": \"Medical description\",\n",
      "    \"day_7_Heart_Rate\": \"A Float Number\",\n",
      "    \"day_8_date\": \"YYYY-MM-DD\",\n",
      "    \"day_8_medical_notes\": \"Medical description\",\n",
      "    \"day_8_Heart_Rate\": \"A Float Number\",\n",
      "    \"day_9_date\": \"YYYY-MM-DD\",\n",
      "    \"day_9_medical_notes\": \"Medical description\",\n",
      "    \"day_9_Heart_Rate\": \"A Float Number\",\n",
      "    \"day_10_date\": \"YYYY-MM-DD\",\n",
      "    \"day_10_medical_notes\": \"Medical description\",\n",
      "    \"day_10_Heart_Rate\": \"A Float Number\"\n",
      "}\n",
      "Given the medical information of the first 5 day, predict the medical information of the next 5 day. Output the result strictly in the following JSON format and no additional text:\n",
      "{\n",
      "    \"day_6_date\": \"YYYY-MM-DD\",\n",
      "    \"day_6_medical_notes\": \"Medical description\",\n",
      "    \"day_7_date\": \"YYYY-MM-DD\",\n",
      "    \"day_7_medical_notes\": \"Medical description\",\n",
      "    \"day_8_date\": \"YYYY-MM-DD\",\n",
      "    \"day_8_medical_notes\": \"Medical description\",\n",
      "    \"day_9_date\": \"YYYY-MM-DD\",\n",
      "    \"day_9_medical_notes\": \"Medical description\",\n",
      "    \"day_10_date\": \"YYYY-MM-DD\",\n",
      "    \"day_10_medical_notes\": \"Medical description\"\n",
      "}\n",
      "Given the medical information of the first 5 day, predict the medical information of the next 5 day. Output the result strictly in the following JSON format and no additional text:\n",
      "{\n",
      "    \"day_6_date\": \"YYYY-MM-DD\",\n",
      "    \"day_6_Heart_Rate\": \"A Float Number\",\n",
      "    \"day_7_date\": \"YYYY-MM-DD\",\n",
      "    \"day_7_Heart_Rate\": \"A Float Number\",\n",
      "    \"day_8_date\": \"YYYY-MM-DD\",\n",
      "    \"day_8_Heart_Rate\": \"A Float Number\",\n",
      "    \"day_9_date\": \"YYYY-MM-DD\",\n",
      "    \"day_9_Heart_Rate\": \"A Float Number\",\n",
      "    \"day_10_date\": \"YYYY-MM-DD\",\n",
      "    \"day_10_Heart_Rate\": \"A Float Number\"\n",
      "}\n"
     ]
    },
    {
     "data": {
      "application/vnd.jupyter.widget-view+json": {
       "model_id": "890bea279f154a648dc057731760b798",
       "version_major": 2,
       "version_minor": 0
      },
      "text/plain": [
       "Uploading the dataset shards:   0%|          | 0/1 [00:00<?, ?it/s]"
      ]
     },
     "metadata": {},
     "output_type": "display_data"
    },
    {
     "data": {
      "application/vnd.jupyter.widget-view+json": {
       "model_id": "f1966c4d2abc4e19b1653fcb39d855f6",
       "version_major": 2,
       "version_minor": 0
      },
      "text/plain": [
       "Creating parquet from Arrow format:   0%|          | 0/6 [00:00<?, ?ba/s]"
      ]
     },
     "metadata": {},
     "output_type": "display_data"
    },
    {
     "data": {
      "application/vnd.jupyter.widget-view+json": {
       "model_id": "2e6edeeaf6084e3ea5fd278e6ebb6349",
       "version_major": 2,
       "version_minor": 0
      },
      "text/plain": [
       "Uploading the dataset shards:   0%|          | 0/1 [00:00<?, ?it/s]"
      ]
     },
     "metadata": {},
     "output_type": "display_data"
    },
    {
     "data": {
      "application/vnd.jupyter.widget-view+json": {
       "model_id": "fbcfb587936d499d9e3b2ee6bd8c94d9",
       "version_major": 2,
       "version_minor": 0
      },
      "text/plain": [
       "Creating parquet from Arrow format:   0%|          | 0/1 [00:00<?, ?ba/s]"
      ]
     },
     "metadata": {},
     "output_type": "display_data"
    },
    {
     "data": {
      "application/vnd.jupyter.widget-view+json": {
       "model_id": "3bab3c637b2f4aaab2948a295bf21863",
       "version_major": 2,
       "version_minor": 0
      },
      "text/plain": [
       "Uploading the dataset shards:   0%|          | 0/1 [00:00<?, ?it/s]"
      ]
     },
     "metadata": {},
     "output_type": "display_data"
    },
    {
     "data": {
      "application/vnd.jupyter.widget-view+json": {
       "model_id": "3d0bcdc44cc747e79084b51a20c2add6",
       "version_major": 2,
       "version_minor": 0
      },
      "text/plain": [
       "Creating parquet from Arrow format:   0%|          | 0/1 [00:00<?, ?ba/s]"
      ]
     },
     "metadata": {},
     "output_type": "display_data"
    },
    {
     "name": "stdout",
     "output_type": "stream",
     "text": [
      "4605 2733\n",
      "Saved configuration with input_window=6 and output_window=6.\n",
      "Given the medical information of the first 6 day, predict the medical information of the next 6 day. Output the result strictly in the following JSON format and no additional text:\n",
      "{\n",
      "    \"day_7_date\": \"YYYY-MM-DD\",\n",
      "    \"day_7_medical_notes\": \"Medical description\",\n",
      "    \"day_8_date\": \"YYYY-MM-DD\",\n",
      "    \"day_8_medical_notes\": \"Medical description\",\n",
      "    \"day_9_date\": \"YYYY-MM-DD\",\n",
      "    \"day_9_medical_notes\": \"Medical description\",\n",
      "    \"day_10_date\": \"YYYY-MM-DD\",\n",
      "    \"day_10_medical_notes\": \"Medical description\",\n",
      "    \"day_11_date\": \"YYYY-MM-DD\",\n",
      "    \"day_11_medical_notes\": \"Medical description\",\n",
      "    \"day_12_date\": \"YYYY-MM-DD\",\n",
      "    \"day_12_medical_notes\": \"Medical description\"\n",
      "}\n",
      "Given the medical information of the first 6 day, predict the medical information of the next 6 day. Output the result strictly in the following JSON format and no additional text:\n",
      "{\n",
      "    \"day_7_date\": \"YYYY-MM-DD\",\n",
      "    \"day_7_medical_notes\": \"Medical description\",\n",
      "    \"day_7_Heart_Rate\": \"A Float Number\",\n",
      "    \"day_8_date\": \"YYYY-MM-DD\",\n",
      "    \"day_8_medical_notes\": \"Medical description\",\n",
      "    \"day_8_Heart_Rate\": \"A Float Number\",\n",
      "    \"day_9_date\": \"YYYY-MM-DD\",\n",
      "    \"day_9_medical_notes\": \"Medical description\",\n",
      "    \"day_9_Heart_Rate\": \"A Float Number\",\n",
      "    \"day_10_date\": \"YYYY-MM-DD\",\n",
      "    \"day_10_medical_notes\": \"Medical description\",\n",
      "    \"day_10_Heart_Rate\": \"A Float Number\",\n",
      "    \"day_11_date\": \"YYYY-MM-DD\",\n",
      "    \"day_11_medical_notes\": \"Medical description\",\n",
      "    \"day_11_Heart_Rate\": \"A Float Number\",\n",
      "    \"day_12_date\": \"YYYY-MM-DD\",\n",
      "    \"day_12_medical_notes\": \"Medical description\",\n",
      "    \"day_12_Heart_Rate\": \"A Float Number\"\n",
      "}\n",
      "Given the medical information of the first 6 day, predict the medical information of the next 6 day. Output the result strictly in the following JSON format and no additional text:\n",
      "{\n",
      "    \"day_7_date\": \"YYYY-MM-DD\",\n",
      "    \"day_7_medical_notes\": \"Medical description\",\n",
      "    \"day_8_date\": \"YYYY-MM-DD\",\n",
      "    \"day_8_medical_notes\": \"Medical description\",\n",
      "    \"day_9_date\": \"YYYY-MM-DD\",\n",
      "    \"day_9_medical_notes\": \"Medical description\",\n",
      "    \"day_10_date\": \"YYYY-MM-DD\",\n",
      "    \"day_10_medical_notes\": \"Medical description\",\n",
      "    \"day_11_date\": \"YYYY-MM-DD\",\n",
      "    \"day_11_medical_notes\": \"Medical description\",\n",
      "    \"day_12_date\": \"YYYY-MM-DD\",\n",
      "    \"day_12_medical_notes\": \"Medical description\"\n",
      "}\n",
      "Given the medical information of the first 6 day, predict the medical information of the next 6 day. Output the result strictly in the following JSON format and no additional text:\n",
      "{\n",
      "    \"day_7_date\": \"YYYY-MM-DD\",\n",
      "    \"day_7_Heart_Rate\": \"A Float Number\",\n",
      "    \"day_8_date\": \"YYYY-MM-DD\",\n",
      "    \"day_8_Heart_Rate\": \"A Float Number\",\n",
      "    \"day_9_date\": \"YYYY-MM-DD\",\n",
      "    \"day_9_Heart_Rate\": \"A Float Number\",\n",
      "    \"day_10_date\": \"YYYY-MM-DD\",\n",
      "    \"day_10_Heart_Rate\": \"A Float Number\",\n",
      "    \"day_11_date\": \"YYYY-MM-DD\",\n",
      "    \"day_11_Heart_Rate\": \"A Float Number\",\n",
      "    \"day_12_date\": \"YYYY-MM-DD\",\n",
      "    \"day_12_Heart_Rate\": \"A Float Number\"\n",
      "}\n"
     ]
    },
    {
     "data": {
      "application/vnd.jupyter.widget-view+json": {
       "model_id": "b89041be9e794b4bba11a66c56188790",
       "version_major": 2,
       "version_minor": 0
      },
      "text/plain": [
       "Uploading the dataset shards:   0%|          | 0/1 [00:00<?, ?it/s]"
      ]
     },
     "metadata": {},
     "output_type": "display_data"
    },
    {
     "data": {
      "application/vnd.jupyter.widget-view+json": {
       "model_id": "b472f1de766240cfa11bd8fb3c29e538",
       "version_major": 2,
       "version_minor": 0
      },
      "text/plain": [
       "Creating parquet from Arrow format:   0%|          | 0/6 [00:00<?, ?ba/s]"
      ]
     },
     "metadata": {},
     "output_type": "display_data"
    },
    {
     "data": {
      "application/vnd.jupyter.widget-view+json": {
       "model_id": "7f5bda514983402395ce2c1917171622",
       "version_major": 2,
       "version_minor": 0
      },
      "text/plain": [
       "Uploading the dataset shards:   0%|          | 0/1 [00:00<?, ?it/s]"
      ]
     },
     "metadata": {},
     "output_type": "display_data"
    },
    {
     "data": {
      "application/vnd.jupyter.widget-view+json": {
       "model_id": "d390df4d6f6b432cb967d80d79630531",
       "version_major": 2,
       "version_minor": 0
      },
      "text/plain": [
       "Creating parquet from Arrow format:   0%|          | 0/1 [00:00<?, ?ba/s]"
      ]
     },
     "metadata": {},
     "output_type": "display_data"
    },
    {
     "data": {
      "application/vnd.jupyter.widget-view+json": {
       "model_id": "04038947ab5049d890b6ae1507b87c92",
       "version_major": 2,
       "version_minor": 0
      },
      "text/plain": [
       "Uploading the dataset shards:   0%|          | 0/1 [00:00<?, ?it/s]"
      ]
     },
     "metadata": {},
     "output_type": "display_data"
    },
    {
     "data": {
      "application/vnd.jupyter.widget-view+json": {
       "model_id": "7d4778eae0034d4f9df1c6d71b7cce31",
       "version_major": 2,
       "version_minor": 0
      },
      "text/plain": [
       "Creating parquet from Arrow format:   0%|          | 0/1 [00:00<?, ?ba/s]"
      ]
     },
     "metadata": {},
     "output_type": "display_data"
    },
    {
     "name": "stdout",
     "output_type": "stream",
     "text": [
      "5495 3137\n",
      "Saved configuration with input_window=7 and output_window=7.\n",
      "Given the medical information of the first 7 day, predict the medical information of the next 7 day. Output the result strictly in the following JSON format and no additional text:\n",
      "{\n",
      "    \"day_8_date\": \"YYYY-MM-DD\",\n",
      "    \"day_8_medical_notes\": \"Medical description\",\n",
      "    \"day_9_date\": \"YYYY-MM-DD\",\n",
      "    \"day_9_medical_notes\": \"Medical description\",\n",
      "    \"day_10_date\": \"YYYY-MM-DD\",\n",
      "    \"day_10_medical_notes\": \"Medical description\",\n",
      "    \"day_11_date\": \"YYYY-MM-DD\",\n",
      "    \"day_11_medical_notes\": \"Medical description\",\n",
      "    \"day_12_date\": \"YYYY-MM-DD\",\n",
      "    \"day_12_medical_notes\": \"Medical description\",\n",
      "    \"day_13_date\": \"YYYY-MM-DD\",\n",
      "    \"day_13_medical_notes\": \"Medical description\",\n",
      "    \"day_14_date\": \"YYYY-MM-DD\",\n",
      "    \"day_14_medical_notes\": \"Medical description\"\n",
      "}\n",
      "Given the medical information of the first 7 day, predict the medical information of the next 7 day. Output the result strictly in the following JSON format and no additional text:\n",
      "{\n",
      "    \"day_8_date\": \"YYYY-MM-DD\",\n",
      "    \"day_8_medical_notes\": \"Medical description\",\n",
      "    \"day_8_Heart_Rate\": \"A Float Number\",\n",
      "    \"day_9_date\": \"YYYY-MM-DD\",\n",
      "    \"day_9_medical_notes\": \"Medical description\",\n",
      "    \"day_9_Heart_Rate\": \"A Float Number\",\n",
      "    \"day_10_date\": \"YYYY-MM-DD\",\n",
      "    \"day_10_medical_notes\": \"Medical description\",\n",
      "    \"day_10_Heart_Rate\": \"A Float Number\",\n",
      "    \"day_11_date\": \"YYYY-MM-DD\",\n",
      "    \"day_11_medical_notes\": \"Medical description\",\n",
      "    \"day_11_Heart_Rate\": \"A Float Number\",\n",
      "    \"day_12_date\": \"YYYY-MM-DD\",\n",
      "    \"day_12_medical_notes\": \"Medical description\",\n",
      "    \"day_12_Heart_Rate\": \"A Float Number\",\n",
      "    \"day_13_date\": \"YYYY-MM-DD\",\n",
      "    \"day_13_medical_notes\": \"Medical description\",\n",
      "    \"day_13_Heart_Rate\": \"A Float Number\",\n",
      "    \"day_14_date\": \"YYYY-MM-DD\",\n",
      "    \"day_14_medical_notes\": \"Medical description\",\n",
      "    \"day_14_Heart_Rate\": \"A Float Number\"\n",
      "}\n",
      "Given the medical information of the first 7 day, predict the medical information of the next 7 day. Output the result strictly in the following JSON format and no additional text:\n",
      "{\n",
      "    \"day_8_date\": \"YYYY-MM-DD\",\n",
      "    \"day_8_medical_notes\": \"Medical description\",\n",
      "    \"day_9_date\": \"YYYY-MM-DD\",\n",
      "    \"day_9_medical_notes\": \"Medical description\",\n",
      "    \"day_10_date\": \"YYYY-MM-DD\",\n",
      "    \"day_10_medical_notes\": \"Medical description\",\n",
      "    \"day_11_date\": \"YYYY-MM-DD\",\n",
      "    \"day_11_medical_notes\": \"Medical description\",\n",
      "    \"day_12_date\": \"YYYY-MM-DD\",\n",
      "    \"day_12_medical_notes\": \"Medical description\",\n",
      "    \"day_13_date\": \"YYYY-MM-DD\",\n",
      "    \"day_13_medical_notes\": \"Medical description\",\n",
      "    \"day_14_date\": \"YYYY-MM-DD\",\n",
      "    \"day_14_medical_notes\": \"Medical description\"\n",
      "}\n",
      "Given the medical information of the first 7 day, predict the medical information of the next 7 day. Output the result strictly in the following JSON format and no additional text:\n",
      "{\n",
      "    \"day_8_date\": \"YYYY-MM-DD\",\n",
      "    \"day_8_Heart_Rate\": \"A Float Number\",\n",
      "    \"day_9_date\": \"YYYY-MM-DD\",\n",
      "    \"day_9_Heart_Rate\": \"A Float Number\",\n",
      "    \"day_10_date\": \"YYYY-MM-DD\",\n",
      "    \"day_10_Heart_Rate\": \"A Float Number\",\n",
      "    \"day_11_date\": \"YYYY-MM-DD\",\n",
      "    \"day_11_Heart_Rate\": \"A Float Number\",\n",
      "    \"day_12_date\": \"YYYY-MM-DD\",\n",
      "    \"day_12_Heart_Rate\": \"A Float Number\",\n",
      "    \"day_13_date\": \"YYYY-MM-DD\",\n",
      "    \"day_13_Heart_Rate\": \"A Float Number\",\n",
      "    \"day_14_date\": \"YYYY-MM-DD\",\n",
      "    \"day_14_Heart_Rate\": \"A Float Number\"\n",
      "}\n"
     ]
    },
    {
     "data": {
      "application/vnd.jupyter.widget-view+json": {
       "model_id": "b966e0ae5049403598e6a5af0437ad9e",
       "version_major": 2,
       "version_minor": 0
      },
      "text/plain": [
       "Uploading the dataset shards:   0%|          | 0/1 [00:00<?, ?it/s]"
      ]
     },
     "metadata": {},
     "output_type": "display_data"
    },
    {
     "data": {
      "application/vnd.jupyter.widget-view+json": {
       "model_id": "ada8ed360e7142c69bf15af2d31ee943",
       "version_major": 2,
       "version_minor": 0
      },
      "text/plain": [
       "Creating parquet from Arrow format:   0%|          | 0/6 [00:00<?, ?ba/s]"
      ]
     },
     "metadata": {},
     "output_type": "display_data"
    },
    {
     "data": {
      "application/vnd.jupyter.widget-view+json": {
       "model_id": "e286fd846c324f119664affaa1ba996c",
       "version_major": 2,
       "version_minor": 0
      },
      "text/plain": [
       "Uploading the dataset shards:   0%|          | 0/1 [00:00<?, ?it/s]"
      ]
     },
     "metadata": {},
     "output_type": "display_data"
    },
    {
     "data": {
      "application/vnd.jupyter.widget-view+json": {
       "model_id": "9edfe132ca2446a0a2bc210b935a0c64",
       "version_major": 2,
       "version_minor": 0
      },
      "text/plain": [
       "Creating parquet from Arrow format:   0%|          | 0/1 [00:00<?, ?ba/s]"
      ]
     },
     "metadata": {},
     "output_type": "display_data"
    },
    {
     "data": {
      "application/vnd.jupyter.widget-view+json": {
       "model_id": "daa2db467f0c46c79ba2c989a95faa3c",
       "version_major": 2,
       "version_minor": 0
      },
      "text/plain": [
       "Uploading the dataset shards:   0%|          | 0/1 [00:00<?, ?it/s]"
      ]
     },
     "metadata": {},
     "output_type": "display_data"
    },
    {
     "data": {
      "application/vnd.jupyter.widget-view+json": {
       "model_id": "6671344beae94d40b077d76ecd0c220b",
       "version_major": 2,
       "version_minor": 0
      },
      "text/plain": [
       "Creating parquet from Arrow format:   0%|          | 0/1 [00:00<?, ?ba/s]"
      ]
     },
     "metadata": {},
     "output_type": "display_data"
    },
    {
     "name": "stdout",
     "output_type": "stream",
     "text": [
      "6404 3623\n"
     ]
    }
   ],
   "source": [
    "import yaml\n",
    "\n",
    "file_path = \"config/default/medical.yaml\"\n",
    "# Load the existing YAML file\n",
    "with open(file_path, 'r') as file:\n",
    "    config = yaml.safe_load(file)\n",
    "\n",
    "# Iterate over input_window and output_window from 1 to 7\n",
    "for i in range(1, 8):\n",
    "    # Update the values in the config\n",
    "    config['dataset']['input_window'] = i\n",
    "    config['dataset']['output_window'] = i\n",
    "    config['dataset']['hf_repo'] = f\"Howard881010/medical-{i}day-inContext\"\n",
    "    \n",
    "    # Save the updated configuration back to the original file\n",
    "    with open(file_path, 'w') as outfile:\n",
    "        yaml.dump(config, outfile, default_flow_style=False)\n",
    "    \n",
    "    print(f\"Saved configuration with input_window={i} and output_window={i}.\")\n",
    "    medical_cfg = load_config('config/default/medical.yaml')\n",
    "\n",
    "    processor = MedicalDataProcessor(medical_cfg['dataset'])\n",
    "    medical_dataset = processor.get_dataset()\n",
    "    max_length_1 = get_max_token_size(medical_dataset, 'input_text_time', 'output_text_time', 'instruction-2')\n",
    "    max_length_2 = get_max_token_size(medical_dataset, 'input_text_time', 'output_time', 'instruction-4')\n",
    "    processor.push_to_huggingface(medical_dataset)\n",
    "    print(max_length_1, max_length_2)"
   ]
  },
  {
   "cell_type": "code",
   "execution_count": 9,
   "metadata": {},
   "outputs": [
    {
     "data": {
      "application/vnd.jupyter.widget-view+json": {
       "model_id": "3b3c7681d90d40b08fc9e22f25cdf0a3",
       "version_major": 2,
       "version_minor": 0
      },
      "text/plain": [
       "Downloading readme:   0%|          | 0.00/1.12k [00:00<?, ?B/s]"
      ]
     },
     "metadata": {},
     "output_type": "display_data"
    },
    {
     "data": {
      "application/vnd.jupyter.widget-view+json": {
       "model_id": "5b0ae931a806456a9826f655cd463935",
       "version_major": 2,
       "version_minor": 0
      },
      "text/plain": [
       "Downloading data:   0%|          | 0.00/11.8M [00:00<?, ?B/s]"
      ]
     },
     "metadata": {},
     "output_type": "display_data"
    },
    {
     "data": {
      "application/vnd.jupyter.widget-view+json": {
       "model_id": "1121577c9af3405680c17c7ac631fae9",
       "version_major": 2,
       "version_minor": 0
      },
      "text/plain": [
       "Downloading data:   0%|          | 0.00/1.37M [00:00<?, ?B/s]"
      ]
     },
     "metadata": {},
     "output_type": "display_data"
    },
    {
     "data": {
      "application/vnd.jupyter.widget-view+json": {
       "model_id": "dae79de263bc4cb9af5cbf3223475a93",
       "version_major": 2,
       "version_minor": 0
      },
      "text/plain": [
       "Downloading data:   0%|          | 0.00/1.47M [00:00<?, ?B/s]"
      ]
     },
     "metadata": {},
     "output_type": "display_data"
    },
    {
     "data": {
      "application/vnd.jupyter.widget-view+json": {
       "model_id": "00c08431916f48828f93562a85b55fea",
       "version_major": 2,
       "version_minor": 0
      },
      "text/plain": [
       "Generating train split:   0%|          | 0/6042 [00:00<?, ? examples/s]"
      ]
     },
     "metadata": {},
     "output_type": "display_data"
    },
    {
     "data": {
      "application/vnd.jupyter.widget-view+json": {
       "model_id": "c2a48917df6f4ed18bb6a375f5307c2e",
       "version_major": 2,
       "version_minor": 0
      },
      "text/plain": [
       "Generating valid split:   0%|          | 0/751 [00:00<?, ? examples/s]"
      ]
     },
     "metadata": {},
     "output_type": "display_data"
    },
    {
     "data": {
      "application/vnd.jupyter.widget-view+json": {
       "model_id": "f1dbc6029ade4202a7eb8896b02bf8e8",
       "version_major": 2,
       "version_minor": 0
      },
      "text/plain": [
       "Generating test split:   0%|          | 0/796 [00:00<?, ? examples/s]"
      ]
     },
     "metadata": {},
     "output_type": "display_data"
    },
    {
     "data": {
      "application/vnd.jupyter.widget-view+json": {
       "model_id": "41315cc57dd547edae703051871475f4",
       "version_major": 2,
       "version_minor": 0
      },
      "text/plain": [
       "Uploading the dataset shards:   0%|          | 0/1 [00:00<?, ?it/s]"
      ]
     },
     "metadata": {},
     "output_type": "display_data"
    },
    {
     "data": {
      "application/vnd.jupyter.widget-view+json": {
       "model_id": "67b48a74d69d4a1f9718daf5bbfc3abb",
       "version_major": 2,
       "version_minor": 0
      },
      "text/plain": [
       "Creating parquet from Arrow format:   0%|          | 0/25 [00:00<?, ?ba/s]"
      ]
     },
     "metadata": {},
     "output_type": "display_data"
    },
    {
     "data": {
      "application/vnd.jupyter.widget-view+json": {
       "model_id": "cad93e16395d492389132882e54430cf",
       "version_major": 2,
       "version_minor": 0
      },
      "text/plain": [
       "Uploading the dataset shards:   0%|          | 0/1 [00:00<?, ?it/s]"
      ]
     },
     "metadata": {},
     "output_type": "display_data"
    },
    {
     "data": {
      "application/vnd.jupyter.widget-view+json": {
       "model_id": "c7a26c8fda6240f0a6c2083eb1d76392",
       "version_major": 2,
       "version_minor": 0
      },
      "text/plain": [
       "Creating parquet from Arrow format:   0%|          | 0/4 [00:00<?, ?ba/s]"
      ]
     },
     "metadata": {},
     "output_type": "display_data"
    },
    {
     "data": {
      "application/vnd.jupyter.widget-view+json": {
       "model_id": "ba815f46ff2140938d64769470f3a143",
       "version_major": 2,
       "version_minor": 0
      },
      "text/plain": [
       "Uploading the dataset shards:   0%|          | 0/1 [00:00<?, ?it/s]"
      ]
     },
     "metadata": {},
     "output_type": "display_data"
    },
    {
     "data": {
      "application/vnd.jupyter.widget-view+json": {
       "model_id": "deca7b72d20d4f5e9253da2d52cb62b5",
       "version_major": 2,
       "version_minor": 0
      },
      "text/plain": [
       "Creating parquet from Arrow format:   0%|          | 0/4 [00:00<?, ?ba/s]"
      ]
     },
     "metadata": {},
     "output_type": "display_data"
    },
    {
     "data": {
      "application/vnd.jupyter.widget-view+json": {
       "model_id": "bedd3693537b4d6c9aa73b2b005b1d64",
       "version_major": 2,
       "version_minor": 0
      },
      "text/plain": [
       "README.md:   0%|          | 0.00/710 [00:00<?, ?B/s]"
      ]
     },
     "metadata": {},
     "output_type": "display_data"
    },
    {
     "data": {
      "application/vnd.jupyter.widget-view+json": {
       "model_id": "a7187cf2eb3f433a8464fe0886d09792",
       "version_major": 2,
       "version_minor": 0
      },
      "text/plain": [
       "Downloading readme:   0%|          | 0.00/1.12k [00:00<?, ?B/s]"
      ]
     },
     "metadata": {},
     "output_type": "display_data"
    },
    {
     "data": {
      "application/vnd.jupyter.widget-view+json": {
       "model_id": "0f12db52c48542768c33d8253122e5f4",
       "version_major": 2,
       "version_minor": 0
      },
      "text/plain": [
       "Downloading data:   0%|          | 0.00/14.9M [00:00<?, ?B/s]"
      ]
     },
     "metadata": {},
     "output_type": "display_data"
    },
    {
     "data": {
      "application/vnd.jupyter.widget-view+json": {
       "model_id": "b481fcef503842aeba22915210fe5d26",
       "version_major": 2,
       "version_minor": 0
      },
      "text/plain": [
       "Downloading data:   0%|          | 0.00/1.84M [00:00<?, ?B/s]"
      ]
     },
     "metadata": {},
     "output_type": "display_data"
    },
    {
     "data": {
      "application/vnd.jupyter.widget-view+json": {
       "model_id": "308eef41e04c402285c9f5043813029d",
       "version_major": 2,
       "version_minor": 0
      },
      "text/plain": [
       "Downloading data:   0%|          | 0.00/1.94M [00:00<?, ?B/s]"
      ]
     },
     "metadata": {},
     "output_type": "display_data"
    },
    {
     "data": {
      "application/vnd.jupyter.widget-view+json": {
       "model_id": "a082ffc384484eeb831caf3fbd640729",
       "version_major": 2,
       "version_minor": 0
      },
      "text/plain": [
       "Generating train split:   0%|          | 0/5921 [00:00<?, ? examples/s]"
      ]
     },
     "metadata": {},
     "output_type": "display_data"
    },
    {
     "data": {
      "application/vnd.jupyter.widget-view+json": {
       "model_id": "a3eeb2e371b34ec095dc95b6bf05354b",
       "version_major": 2,
       "version_minor": 0
      },
      "text/plain": [
       "Generating valid split:   0%|          | 0/743 [00:00<?, ? examples/s]"
      ]
     },
     "metadata": {},
     "output_type": "display_data"
    },
    {
     "data": {
      "application/vnd.jupyter.widget-view+json": {
       "model_id": "880bb6c904b1439395bcaeb1ebe180ff",
       "version_major": 2,
       "version_minor": 0
      },
      "text/plain": [
       "Generating test split:   0%|          | 0/779 [00:00<?, ? examples/s]"
      ]
     },
     "metadata": {},
     "output_type": "display_data"
    },
    {
     "data": {
      "application/vnd.jupyter.widget-view+json": {
       "model_id": "66e1d7fc9168409c83e9b10b52e31f7c",
       "version_major": 2,
       "version_minor": 0
      },
      "text/plain": [
       "Uploading the dataset shards:   0%|          | 0/1 [00:00<?, ?it/s]"
      ]
     },
     "metadata": {},
     "output_type": "display_data"
    },
    {
     "data": {
      "application/vnd.jupyter.widget-view+json": {
       "model_id": "9ffa16c3b7f34e49b075d167346484f8",
       "version_major": 2,
       "version_minor": 0
      },
      "text/plain": [
       "Creating parquet from Arrow format:   0%|          | 0/24 [00:00<?, ?ba/s]"
      ]
     },
     "metadata": {},
     "output_type": "display_data"
    },
    {
     "data": {
      "application/vnd.jupyter.widget-view+json": {
       "model_id": "1a907f65ae5b41c9851e4a520a2d5832",
       "version_major": 2,
       "version_minor": 0
      },
      "text/plain": [
       "Uploading the dataset shards:   0%|          | 0/1 [00:00<?, ?it/s]"
      ]
     },
     "metadata": {},
     "output_type": "display_data"
    },
    {
     "data": {
      "application/vnd.jupyter.widget-view+json": {
       "model_id": "68617e05590646b993e4401b8cbc653a",
       "version_major": 2,
       "version_minor": 0
      },
      "text/plain": [
       "Creating parquet from Arrow format:   0%|          | 0/4 [00:00<?, ?ba/s]"
      ]
     },
     "metadata": {},
     "output_type": "display_data"
    },
    {
     "data": {
      "application/vnd.jupyter.widget-view+json": {
       "model_id": "53e2c7c9b8aa4762a4495de7722a0d76",
       "version_major": 2,
       "version_minor": 0
      },
      "text/plain": [
       "Uploading the dataset shards:   0%|          | 0/1 [00:00<?, ?it/s]"
      ]
     },
     "metadata": {},
     "output_type": "display_data"
    },
    {
     "data": {
      "application/vnd.jupyter.widget-view+json": {
       "model_id": "4107aa0f667547ed9859057f35af882b",
       "version_major": 2,
       "version_minor": 0
      },
      "text/plain": [
       "Creating parquet from Arrow format:   0%|          | 0/3 [00:00<?, ?ba/s]"
      ]
     },
     "metadata": {},
     "output_type": "display_data"
    },
    {
     "data": {
      "application/vnd.jupyter.widget-view+json": {
       "model_id": "eb3e3e96cdd04c2eb635a0e7f30443a7",
       "version_major": 2,
       "version_minor": 0
      },
      "text/plain": [
       "README.md:   0%|          | 0.00/710 [00:00<?, ?B/s]"
      ]
     },
     "metadata": {},
     "output_type": "display_data"
    },
    {
     "data": {
      "application/vnd.jupyter.widget-view+json": {
       "model_id": "b0674dd2624d4f27baa906f4567bedc7",
       "version_major": 2,
       "version_minor": 0
      },
      "text/plain": [
       "Downloading readme:   0%|          | 0.00/1.12k [00:00<?, ?B/s]"
      ]
     },
     "metadata": {},
     "output_type": "display_data"
    },
    {
     "data": {
      "application/vnd.jupyter.widget-view+json": {
       "model_id": "59c74b21cdb24eb7843d5f8a489f3322",
       "version_major": 2,
       "version_minor": 0
      },
      "text/plain": [
       "Downloading data:   0%|          | 0.00/17.8M [00:00<?, ?B/s]"
      ]
     },
     "metadata": {},
     "output_type": "display_data"
    },
    {
     "data": {
      "application/vnd.jupyter.widget-view+json": {
       "model_id": "87ffc63635e3436d955f2d40421d8bfc",
       "version_major": 2,
       "version_minor": 0
      },
      "text/plain": [
       "Downloading data:   0%|          | 0.00/2.30M [00:00<?, ?B/s]"
      ]
     },
     "metadata": {},
     "output_type": "display_data"
    },
    {
     "data": {
      "application/vnd.jupyter.widget-view+json": {
       "model_id": "152bcf092db44c2c9a14c77d65b82659",
       "version_major": 2,
       "version_minor": 0
      },
      "text/plain": [
       "Downloading data:   0%|          | 0.00/2.40M [00:00<?, ?B/s]"
      ]
     },
     "metadata": {},
     "output_type": "display_data"
    },
    {
     "data": {
      "application/vnd.jupyter.widget-view+json": {
       "model_id": "5fd58d59bec249cf97ac4cbcbd738a4e",
       "version_major": 2,
       "version_minor": 0
      },
      "text/plain": [
       "Generating train split:   0%|          | 0/5812 [00:00<?, ? examples/s]"
      ]
     },
     "metadata": {},
     "output_type": "display_data"
    },
    {
     "data": {
      "application/vnd.jupyter.widget-view+json": {
       "model_id": "51c60d536da841caa75b261a00b8d548",
       "version_major": 2,
       "version_minor": 0
      },
      "text/plain": [
       "Generating valid split:   0%|          | 0/729 [00:00<?, ? examples/s]"
      ]
     },
     "metadata": {},
     "output_type": "display_data"
    },
    {
     "data": {
      "application/vnd.jupyter.widget-view+json": {
       "model_id": "ec03d798f02747ee830838076f8647d4",
       "version_major": 2,
       "version_minor": 0
      },
      "text/plain": [
       "Generating test split:   0%|          | 0/756 [00:00<?, ? examples/s]"
      ]
     },
     "metadata": {},
     "output_type": "display_data"
    },
    {
     "data": {
      "application/vnd.jupyter.widget-view+json": {
       "model_id": "a2455f7d291e4a41b1dc1c70b4168465",
       "version_major": 2,
       "version_minor": 0
      },
      "text/plain": [
       "Uploading the dataset shards:   0%|          | 0/1 [00:00<?, ?it/s]"
      ]
     },
     "metadata": {},
     "output_type": "display_data"
    },
    {
     "data": {
      "application/vnd.jupyter.widget-view+json": {
       "model_id": "778e485f3c094a6ba60f8d07ecc68945",
       "version_major": 2,
       "version_minor": 0
      },
      "text/plain": [
       "Creating parquet from Arrow format:   0%|          | 0/24 [00:00<?, ?ba/s]"
      ]
     },
     "metadata": {},
     "output_type": "display_data"
    },
    {
     "data": {
      "application/vnd.jupyter.widget-view+json": {
       "model_id": "a64cadb3990243b6a4074d9d7664bd72",
       "version_major": 2,
       "version_minor": 0
      },
      "text/plain": [
       "Uploading the dataset shards:   0%|          | 0/1 [00:00<?, ?it/s]"
      ]
     },
     "metadata": {},
     "output_type": "display_data"
    },
    {
     "data": {
      "application/vnd.jupyter.widget-view+json": {
       "model_id": "a0e096a5a95c41959fcfcc67742f598b",
       "version_major": 2,
       "version_minor": 0
      },
      "text/plain": [
       "Creating parquet from Arrow format:   0%|          | 0/4 [00:00<?, ?ba/s]"
      ]
     },
     "metadata": {},
     "output_type": "display_data"
    },
    {
     "data": {
      "application/vnd.jupyter.widget-view+json": {
       "model_id": "71da4300f0b34c21ac248cd26b392de9",
       "version_major": 2,
       "version_minor": 0
      },
      "text/plain": [
       "Uploading the dataset shards:   0%|          | 0/1 [00:00<?, ?it/s]"
      ]
     },
     "metadata": {},
     "output_type": "display_data"
    },
    {
     "data": {
      "application/vnd.jupyter.widget-view+json": {
       "model_id": "0a683ec059d24df5ac94c6f6450f394a",
       "version_major": 2,
       "version_minor": 0
      },
      "text/plain": [
       "Creating parquet from Arrow format:   0%|          | 0/3 [00:00<?, ?ba/s]"
      ]
     },
     "metadata": {},
     "output_type": "display_data"
    },
    {
     "data": {
      "application/vnd.jupyter.widget-view+json": {
       "model_id": "9aa7008c80a04d59bfa6c9a683118340",
       "version_major": 2,
       "version_minor": 0
      },
      "text/plain": [
       "README.md:   0%|          | 0.00/711 [00:00<?, ?B/s]"
      ]
     },
     "metadata": {},
     "output_type": "display_data"
    },
    {
     "data": {
      "application/vnd.jupyter.widget-view+json": {
       "model_id": "aa4773b57cfc4335898438d6831f8d58",
       "version_major": 2,
       "version_minor": 0
      },
      "text/plain": [
       "Downloading readme:   0%|          | 0.00/1.12k [00:00<?, ?B/s]"
      ]
     },
     "metadata": {},
     "output_type": "display_data"
    },
    {
     "data": {
      "application/vnd.jupyter.widget-view+json": {
       "model_id": "09c3b2a8d29d468891c423faa286f97e",
       "version_major": 2,
       "version_minor": 0
      },
      "text/plain": [
       "Downloading data:   0%|          | 0.00/20.0M [00:00<?, ?B/s]"
      ]
     },
     "metadata": {},
     "output_type": "display_data"
    },
    {
     "data": {
      "application/vnd.jupyter.widget-view+json": {
       "model_id": "097394fae61846b683f95b2383bafd1a",
       "version_major": 2,
       "version_minor": 0
      },
      "text/plain": [
       "Downloading data:   0%|          | 0.00/2.62M [00:00<?, ?B/s]"
      ]
     },
     "metadata": {},
     "output_type": "display_data"
    },
    {
     "data": {
      "application/vnd.jupyter.widget-view+json": {
       "model_id": "d01d9f8f3e9548ffb5cfeb4cbfb2211a",
       "version_major": 2,
       "version_minor": 0
      },
      "text/plain": [
       "Downloading data:   0%|          | 0.00/2.78M [00:00<?, ?B/s]"
      ]
     },
     "metadata": {},
     "output_type": "display_data"
    },
    {
     "data": {
      "application/vnd.jupyter.widget-view+json": {
       "model_id": "6b1cee2d59c0459ebd81e813b55e9504",
       "version_major": 2,
       "version_minor": 0
      },
      "text/plain": [
       "Generating train split:   0%|          | 0/5692 [00:00<?, ? examples/s]"
      ]
     },
     "metadata": {},
     "output_type": "display_data"
    },
    {
     "data": {
      "application/vnd.jupyter.widget-view+json": {
       "model_id": "52a95eee87ac45d0b62199230e638813",
       "version_major": 2,
       "version_minor": 0
      },
      "text/plain": [
       "Generating valid split:   0%|          | 0/713 [00:00<?, ? examples/s]"
      ]
     },
     "metadata": {},
     "output_type": "display_data"
    },
    {
     "data": {
      "application/vnd.jupyter.widget-view+json": {
       "model_id": "a9c835a02a8e4cb7a5be2ba86a32bbcf",
       "version_major": 2,
       "version_minor": 0
      },
      "text/plain": [
       "Generating test split:   0%|          | 0/746 [00:00<?, ? examples/s]"
      ]
     },
     "metadata": {},
     "output_type": "display_data"
    },
    {
     "data": {
      "application/vnd.jupyter.widget-view+json": {
       "model_id": "061e786533e54b728777b06623c834dd",
       "version_major": 2,
       "version_minor": 0
      },
      "text/plain": [
       "Uploading the dataset shards:   0%|          | 0/1 [00:00<?, ?it/s]"
      ]
     },
     "metadata": {},
     "output_type": "display_data"
    },
    {
     "data": {
      "application/vnd.jupyter.widget-view+json": {
       "model_id": "46fc683d5bb34bbaa7423925468d2c75",
       "version_major": 2,
       "version_minor": 0
      },
      "text/plain": [
       "Creating parquet from Arrow format:   0%|          | 0/23 [00:00<?, ?ba/s]"
      ]
     },
     "metadata": {},
     "output_type": "display_data"
    },
    {
     "data": {
      "application/vnd.jupyter.widget-view+json": {
       "model_id": "de5ae2b5df0f4458a0952a51444777bf",
       "version_major": 2,
       "version_minor": 0
      },
      "text/plain": [
       "Uploading the dataset shards:   0%|          | 0/1 [00:00<?, ?it/s]"
      ]
     },
     "metadata": {},
     "output_type": "display_data"
    },
    {
     "data": {
      "application/vnd.jupyter.widget-view+json": {
       "model_id": "3ac11ffd1cee4010a7c68cbe376d0ca8",
       "version_major": 2,
       "version_minor": 0
      },
      "text/plain": [
       "Creating parquet from Arrow format:   0%|          | 0/3 [00:00<?, ?ba/s]"
      ]
     },
     "metadata": {},
     "output_type": "display_data"
    },
    {
     "data": {
      "application/vnd.jupyter.widget-view+json": {
       "model_id": "291e7e0e4a5e41a1bbd3f677f56b2669",
       "version_major": 2,
       "version_minor": 0
      },
      "text/plain": [
       "Uploading the dataset shards:   0%|          | 0/1 [00:00<?, ?it/s]"
      ]
     },
     "metadata": {},
     "output_type": "display_data"
    },
    {
     "data": {
      "application/vnd.jupyter.widget-view+json": {
       "model_id": "2eb470c6a4ca42dd9fe3ee6721cbc8b6",
       "version_major": 2,
       "version_minor": 0
      },
      "text/plain": [
       "Creating parquet from Arrow format:   0%|          | 0/3 [00:00<?, ?ba/s]"
      ]
     },
     "metadata": {},
     "output_type": "display_data"
    },
    {
     "data": {
      "application/vnd.jupyter.widget-view+json": {
       "model_id": "5ea468135e8a4dd9a13cb6a69c2a1d66",
       "version_major": 2,
       "version_minor": 0
      },
      "text/plain": [
       "README.md:   0%|          | 0.00/711 [00:00<?, ?B/s]"
      ]
     },
     "metadata": {},
     "output_type": "display_data"
    },
    {
     "data": {
      "application/vnd.jupyter.widget-view+json": {
       "model_id": "13657e02156b4fdf9782289f22bb6319",
       "version_major": 2,
       "version_minor": 0
      },
      "text/plain": [
       "Downloading readme:   0%|          | 0.00/1.12k [00:00<?, ?B/s]"
      ]
     },
     "metadata": {},
     "output_type": "display_data"
    },
    {
     "data": {
      "application/vnd.jupyter.widget-view+json": {
       "model_id": "4e1c52be24d547178eae034a54658482",
       "version_major": 2,
       "version_minor": 0
      },
      "text/plain": [
       "Downloading data:   0%|          | 0.00/22.4M [00:00<?, ?B/s]"
      ]
     },
     "metadata": {},
     "output_type": "display_data"
    },
    {
     "data": {
      "application/vnd.jupyter.widget-view+json": {
       "model_id": "e26d3e02f17f4e189d23b602b8cec285",
       "version_major": 2,
       "version_minor": 0
      },
      "text/plain": [
       "Downloading data:   0%|          | 0.00/2.94M [00:00<?, ?B/s]"
      ]
     },
     "metadata": {},
     "output_type": "display_data"
    },
    {
     "data": {
      "application/vnd.jupyter.widget-view+json": {
       "model_id": "955537d420b34d4c8f5cef510c94cf36",
       "version_major": 2,
       "version_minor": 0
      },
      "text/plain": [
       "Downloading data:   0%|          | 0.00/3.11M [00:00<?, ?B/s]"
      ]
     },
     "metadata": {},
     "output_type": "display_data"
    },
    {
     "data": {
      "application/vnd.jupyter.widget-view+json": {
       "model_id": "0cabf23008724530b8482913812bbf50",
       "version_major": 2,
       "version_minor": 0
      },
      "text/plain": [
       "Generating train split:   0%|          | 0/5575 [00:00<?, ? examples/s]"
      ]
     },
     "metadata": {},
     "output_type": "display_data"
    },
    {
     "data": {
      "application/vnd.jupyter.widget-view+json": {
       "model_id": "11fc47ec147f40ed9c7293bc4e8fdee8",
       "version_major": 2,
       "version_minor": 0
      },
      "text/plain": [
       "Generating valid split:   0%|          | 0/696 [00:00<?, ? examples/s]"
      ]
     },
     "metadata": {},
     "output_type": "display_data"
    },
    {
     "data": {
      "application/vnd.jupyter.widget-view+json": {
       "model_id": "3d324e690c074ac28d0acd1e769982f7",
       "version_major": 2,
       "version_minor": 0
      },
      "text/plain": [
       "Generating test split:   0%|          | 0/734 [00:00<?, ? examples/s]"
      ]
     },
     "metadata": {},
     "output_type": "display_data"
    },
    {
     "data": {
      "application/vnd.jupyter.widget-view+json": {
       "model_id": "7716230a88834a33a9deb3ed28c0055e",
       "version_major": 2,
       "version_minor": 0
      },
      "text/plain": [
       "Uploading the dataset shards:   0%|          | 0/1 [00:00<?, ?it/s]"
      ]
     },
     "metadata": {},
     "output_type": "display_data"
    },
    {
     "data": {
      "application/vnd.jupyter.widget-view+json": {
       "model_id": "93f5d558c1b94f2c9cfe9d5894b42d2b",
       "version_major": 2,
       "version_minor": 0
      },
      "text/plain": [
       "Creating parquet from Arrow format:   0%|          | 0/23 [00:00<?, ?ba/s]"
      ]
     },
     "metadata": {},
     "output_type": "display_data"
    },
    {
     "data": {
      "application/vnd.jupyter.widget-view+json": {
       "model_id": "d4b8d5050dce4373bb04565bb1b010d8",
       "version_major": 2,
       "version_minor": 0
      },
      "text/plain": [
       "Uploading the dataset shards:   0%|          | 0/1 [00:00<?, ?it/s]"
      ]
     },
     "metadata": {},
     "output_type": "display_data"
    },
    {
     "data": {
      "application/vnd.jupyter.widget-view+json": {
       "model_id": "fafd61553f58433187f9f5b9810f9a32",
       "version_major": 2,
       "version_minor": 0
      },
      "text/plain": [
       "Creating parquet from Arrow format:   0%|          | 0/3 [00:00<?, ?ba/s]"
      ]
     },
     "metadata": {},
     "output_type": "display_data"
    },
    {
     "data": {
      "application/vnd.jupyter.widget-view+json": {
       "model_id": "a9e9f163cceb4e9f985a627f3d9dca18",
       "version_major": 2,
       "version_minor": 0
      },
      "text/plain": [
       "Uploading the dataset shards:   0%|          | 0/1 [00:00<?, ?it/s]"
      ]
     },
     "metadata": {},
     "output_type": "display_data"
    },
    {
     "data": {
      "application/vnd.jupyter.widget-view+json": {
       "model_id": "058d7ed3081b47038efc4d7dab329802",
       "version_major": 2,
       "version_minor": 0
      },
      "text/plain": [
       "Creating parquet from Arrow format:   0%|          | 0/3 [00:00<?, ?ba/s]"
      ]
     },
     "metadata": {},
     "output_type": "display_data"
    },
    {
     "data": {
      "application/vnd.jupyter.widget-view+json": {
       "model_id": "0100c4ab8ffe4ced95e3eaf2b91233e9",
       "version_major": 2,
       "version_minor": 0
      },
      "text/plain": [
       "README.md:   0%|          | 0.00/711 [00:00<?, ?B/s]"
      ]
     },
     "metadata": {},
     "output_type": "display_data"
    },
    {
     "data": {
      "application/vnd.jupyter.widget-view+json": {
       "model_id": "36f5aac683ca432b949ca2155695a5fc",
       "version_major": 2,
       "version_minor": 0
      },
      "text/plain": [
       "Downloading readme:   0%|          | 0.00/1.12k [00:00<?, ?B/s]"
      ]
     },
     "metadata": {},
     "output_type": "display_data"
    },
    {
     "data": {
      "application/vnd.jupyter.widget-view+json": {
       "model_id": "989b79ae41654d129226c0e817e26d7e",
       "version_major": 2,
       "version_minor": 0
      },
      "text/plain": [
       "Downloading data:   0%|          | 0.00/25.2M [00:00<?, ?B/s]"
      ]
     },
     "metadata": {},
     "output_type": "display_data"
    },
    {
     "data": {
      "application/vnd.jupyter.widget-view+json": {
       "model_id": "65ade557168f424d9b938528f84852f7",
       "version_major": 2,
       "version_minor": 0
      },
      "text/plain": [
       "Downloading data:   0%|          | 0.00/3.34M [00:00<?, ?B/s]"
      ]
     },
     "metadata": {},
     "output_type": "display_data"
    },
    {
     "data": {
      "application/vnd.jupyter.widget-view+json": {
       "model_id": "9670767fb920433285a9a603350ebd8e",
       "version_major": 2,
       "version_minor": 0
      },
      "text/plain": [
       "Downloading data:   0%|          | 0.00/3.58M [00:00<?, ?B/s]"
      ]
     },
     "metadata": {},
     "output_type": "display_data"
    },
    {
     "data": {
      "application/vnd.jupyter.widget-view+json": {
       "model_id": "676f25a57a6246ed8043727d8549a348",
       "version_major": 2,
       "version_minor": 0
      },
      "text/plain": [
       "Generating train split:   0%|          | 0/5458 [00:00<?, ? examples/s]"
      ]
     },
     "metadata": {},
     "output_type": "display_data"
    },
    {
     "data": {
      "application/vnd.jupyter.widget-view+json": {
       "model_id": "9984ff76b01a41929195269662e1822c",
       "version_major": 2,
       "version_minor": 0
      },
      "text/plain": [
       "Generating valid split:   0%|          | 0/678 [00:00<?, ? examples/s]"
      ]
     },
     "metadata": {},
     "output_type": "display_data"
    },
    {
     "data": {
      "application/vnd.jupyter.widget-view+json": {
       "model_id": "2b1f4ccc90554320b1122714c08c3142",
       "version_major": 2,
       "version_minor": 0
      },
      "text/plain": [
       "Generating test split:   0%|          | 0/723 [00:00<?, ? examples/s]"
      ]
     },
     "metadata": {},
     "output_type": "display_data"
    },
    {
     "data": {
      "application/vnd.jupyter.widget-view+json": {
       "model_id": "eaf8aeabdb334de4a67ef2691ac44091",
       "version_major": 2,
       "version_minor": 0
      },
      "text/plain": [
       "Uploading the dataset shards:   0%|          | 0/1 [00:00<?, ?it/s]"
      ]
     },
     "metadata": {},
     "output_type": "display_data"
    },
    {
     "data": {
      "application/vnd.jupyter.widget-view+json": {
       "model_id": "58c2b17113ed450a8836452a0f74b0ff",
       "version_major": 2,
       "version_minor": 0
      },
      "text/plain": [
       "Creating parquet from Arrow format:   0%|          | 0/22 [00:00<?, ?ba/s]"
      ]
     },
     "metadata": {},
     "output_type": "display_data"
    },
    {
     "data": {
      "application/vnd.jupyter.widget-view+json": {
       "model_id": "d394442ad8324fedbbaab8a832d89da5",
       "version_major": 2,
       "version_minor": 0
      },
      "text/plain": [
       "Uploading the dataset shards:   0%|          | 0/1 [00:00<?, ?it/s]"
      ]
     },
     "metadata": {},
     "output_type": "display_data"
    },
    {
     "data": {
      "application/vnd.jupyter.widget-view+json": {
       "model_id": "3aea5e8f7e7d4ad9851e5c7afda21f33",
       "version_major": 2,
       "version_minor": 0
      },
      "text/plain": [
       "Creating parquet from Arrow format:   0%|          | 0/3 [00:00<?, ?ba/s]"
      ]
     },
     "metadata": {},
     "output_type": "display_data"
    },
    {
     "data": {
      "application/vnd.jupyter.widget-view+json": {
       "model_id": "955f5e2a2c3f449ba970a8b773692cff",
       "version_major": 2,
       "version_minor": 0
      },
      "text/plain": [
       "Uploading the dataset shards:   0%|          | 0/1 [00:00<?, ?it/s]"
      ]
     },
     "metadata": {},
     "output_type": "display_data"
    },
    {
     "data": {
      "application/vnd.jupyter.widget-view+json": {
       "model_id": "00a6cb1036b74880b1f7cdb85bf66824",
       "version_major": 2,
       "version_minor": 0
      },
      "text/plain": [
       "Creating parquet from Arrow format:   0%|          | 0/3 [00:00<?, ?ba/s]"
      ]
     },
     "metadata": {},
     "output_type": "display_data"
    },
    {
     "data": {
      "application/vnd.jupyter.widget-view+json": {
       "model_id": "0f792c659d1c41d9a9c473a30097c7cc",
       "version_major": 2,
       "version_minor": 0
      },
      "text/plain": [
       "README.md:   0%|          | 0.00/711 [00:00<?, ?B/s]"
      ]
     },
     "metadata": {},
     "output_type": "display_data"
    },
    {
     "data": {
      "application/vnd.jupyter.widget-view+json": {
       "model_id": "b9bf3464c8f641288150465dff58a43b",
       "version_major": 2,
       "version_minor": 0
      },
      "text/plain": [
       "Downloading readme:   0%|          | 0.00/1.12k [00:00<?, ?B/s]"
      ]
     },
     "metadata": {},
     "output_type": "display_data"
    },
    {
     "data": {
      "application/vnd.jupyter.widget-view+json": {
       "model_id": "7e33a33ced5347b09610a03b70259804",
       "version_major": 2,
       "version_minor": 0
      },
      "text/plain": [
       "Downloading data:   0%|          | 0.00/28.2M [00:00<?, ?B/s]"
      ]
     },
     "metadata": {},
     "output_type": "display_data"
    },
    {
     "data": {
      "application/vnd.jupyter.widget-view+json": {
       "model_id": "0fad6e56e1a346bb9c2f8bd8b7356902",
       "version_major": 2,
       "version_minor": 0
      },
      "text/plain": [
       "Downloading data:   0%|          | 0.00/3.78M [00:00<?, ?B/s]"
      ]
     },
     "metadata": {},
     "output_type": "display_data"
    },
    {
     "data": {
      "application/vnd.jupyter.widget-view+json": {
       "model_id": "1c82e8db16a348f08205fbc4a959b51a",
       "version_major": 2,
       "version_minor": 0
      },
      "text/plain": [
       "Downloading data:   0%|          | 0.00/4.01M [00:00<?, ?B/s]"
      ]
     },
     "metadata": {},
     "output_type": "display_data"
    },
    {
     "data": {
      "application/vnd.jupyter.widget-view+json": {
       "model_id": "e5283b8d9c8249a0abfda9f2498fe302",
       "version_major": 2,
       "version_minor": 0
      },
      "text/plain": [
       "Generating train split:   0%|          | 0/5337 [00:00<?, ? examples/s]"
      ]
     },
     "metadata": {},
     "output_type": "display_data"
    },
    {
     "data": {
      "application/vnd.jupyter.widget-view+json": {
       "model_id": "ac7cdb47b8a14e67abba103062ba2cb2",
       "version_major": 2,
       "version_minor": 0
      },
      "text/plain": [
       "Generating valid split:   0%|          | 0/670 [00:00<?, ? examples/s]"
      ]
     },
     "metadata": {},
     "output_type": "display_data"
    },
    {
     "data": {
      "application/vnd.jupyter.widget-view+json": {
       "model_id": "eda6370d4cef449489d160113ce9e2c1",
       "version_major": 2,
       "version_minor": 0
      },
      "text/plain": [
       "Generating test split:   0%|          | 0/706 [00:00<?, ? examples/s]"
      ]
     },
     "metadata": {},
     "output_type": "display_data"
    },
    {
     "data": {
      "application/vnd.jupyter.widget-view+json": {
       "model_id": "dce3f7fab8f940cba826718a7e1c55a9",
       "version_major": 2,
       "version_minor": 0
      },
      "text/plain": [
       "Uploading the dataset shards:   0%|          | 0/1 [00:00<?, ?it/s]"
      ]
     },
     "metadata": {},
     "output_type": "display_data"
    },
    {
     "data": {
      "application/vnd.jupyter.widget-view+json": {
       "model_id": "2709ff59e4d14559a0971d04197a784d",
       "version_major": 2,
       "version_minor": 0
      },
      "text/plain": [
       "Creating parquet from Arrow format:   0%|          | 0/22 [00:00<?, ?ba/s]"
      ]
     },
     "metadata": {},
     "output_type": "display_data"
    },
    {
     "data": {
      "application/vnd.jupyter.widget-view+json": {
       "model_id": "aceeec7c6e354c7895537efe6a381397",
       "version_major": 2,
       "version_minor": 0
      },
      "text/plain": [
       "Uploading the dataset shards:   0%|          | 0/1 [00:00<?, ?it/s]"
      ]
     },
     "metadata": {},
     "output_type": "display_data"
    },
    {
     "data": {
      "application/vnd.jupyter.widget-view+json": {
       "model_id": "b781a9afba9a43fa901593d691b55c55",
       "version_major": 2,
       "version_minor": 0
      },
      "text/plain": [
       "Creating parquet from Arrow format:   0%|          | 0/3 [00:00<?, ?ba/s]"
      ]
     },
     "metadata": {},
     "output_type": "display_data"
    },
    {
     "data": {
      "application/vnd.jupyter.widget-view+json": {
       "model_id": "533e03ec62ec4cee9bc762d87dff75ff",
       "version_major": 2,
       "version_minor": 0
      },
      "text/plain": [
       "Uploading the dataset shards:   0%|          | 0/1 [00:00<?, ?it/s]"
      ]
     },
     "metadata": {},
     "output_type": "display_data"
    },
    {
     "data": {
      "application/vnd.jupyter.widget-view+json": {
       "model_id": "09195616d3044814b1943dea46913370",
       "version_major": 2,
       "version_minor": 0
      },
      "text/plain": [
       "Creating parquet from Arrow format:   0%|          | 0/3 [00:00<?, ?ba/s]"
      ]
     },
     "metadata": {},
     "output_type": "display_data"
    },
    {
     "data": {
      "application/vnd.jupyter.widget-view+json": {
       "model_id": "fd38f42b66fd4d2086ddfb7d23302615",
       "version_major": 2,
       "version_minor": 0
      },
      "text/plain": [
       "README.md:   0%|          | 0.00/713 [00:00<?, ?B/s]"
      ]
     },
     "metadata": {},
     "output_type": "display_data"
    }
   ],
   "source": [
    "# Load the dataset\n",
    "for i in range(1, 8):\n",
    "    data = load_dataset(f'Howard881010/medical-{i}day-finetuned')\n",
    "\n",
    "    # Initialize dictionaries to hold processed data\n",
    "    data_all = {'train': [], 'test': [], 'valid': []}\n",
    "\n",
    "    # Process each split\n",
    "    for split in ['train', 'test', 'valid']:\n",
    "        data_split = pd.DataFrame(data[split])\n",
    "        \n",
    "        t2t = data_split[['input_text', 'output_text', 'instruction-1']].rename(columns={'instruction-1': 'instruction', 'input_text': 'input', 'output_text': 'output'})\n",
    "        tT2tT = data_split[['input_text_time', 'output_text_time', 'instruction-2']].rename(columns={'instruction-2': 'instruction', 'input_text_time': 'input', 'output_text_time': 'output'})\n",
    "        tT2t = data_split[['input_text_time', 'output_text', 'instruction-3']].rename(columns={'instruction-3': 'instruction', 'input_text_time': 'input', 'output_text': 'output'})\n",
    "        tT2T = data_split[['input_text_time', 'output_time', 'instruction-4']].rename(columns={'instruction-4': 'instruction', 'input_text_time': 'input', 'output_time': 'output'})\n",
    "        \n",
    "        # Append the transformed data for each split\n",
    "        data_all[split].append(t2t)\n",
    "        data_all[split].append(tT2tT)\n",
    "        data_all[split].append(tT2t)\n",
    "        data_all[split].append(tT2T)\n",
    "        \n",
    "        # Concatenate all processed DataFrames for the current split\n",
    "        data_all[split] = pd.concat(data_all[split])\n",
    "\n",
    "    # Convert each processed DataFrame back to Hugging Face Dataset format\n",
    "    dataset_dict = DatasetDict({\n",
    "        'train': Dataset.from_pandas(data_all['train']),\n",
    "        'test': Dataset.from_pandas(data_all['test']),\n",
    "        'valid': Dataset.from_pandas(data_all['valid'])\n",
    "    })\n",
    "\n",
    "    # Push the processed dataset to Hugging Face Hub\n",
    "    dataset_dict.push_to_hub(f'Howard881010/medical-{i}day')"
   ]
  },
  {
   "cell_type": "code",
   "execution_count": 11,
   "metadata": {},
   "outputs": [
    {
     "data": {
      "text/plain": [
       "['\"day_3_date\": \"2023-09-25\", \"day_3_weather_forecast\": \"Rainfall will continue to shift eastward from the Pacific Northwest, with prolonged wet weather in the Mid-Atlantic due to the stalled cold front. Expect wet conditions in the Northeast from Friday to Sunday. Light to moderate precipitation is anticipated across the Midwest, northern Plains, and northern Great Lakes midweek through the weekend, with increasing snowfall at higher elevations. Models show a low pressure system tracking east into the Mid-Atlantic. Periodic heavy rains are expected, particularly in the Mid-Atlantic and New England, with the heaviest rainfall focus shifting north on Saturday. Temperatures will rise by 10 to 15 degrees above normal across the South through the Gulf Coast, while below normal temperatures will extend from the Northwest to the West. Below normal temperatures are also expected in the Midwest into Saturday. The humidity levels will remain high, particularly in the Southeast, influencing higher heat indices. Wind speeds are predicted to be moderate to breezy, with variations due to local storm activity. Overall, expect warm temperatures, increased chances of rain, and high humidity, leading to uncomfortable heat indices in the Southeast.\"',\n",
       " '\"day_4_date\": \"2023-09-26\", \"day_4_weather_forecast\": \"Rainfall will continue to shift northward from the Mid-Atlantic, with prolonged wet weather in the Northeast due to the stalled low pressure system. Expect wet conditions in the Great Lakes from Sunday to Tuesday. Light to moderate precipitation is anticipated across the Ohio Valley, northern Plains, and northern Rockies midweek through the weekend, with increasing snowfall at higher elevations. Models show a low pressure system tracking north into the Great Lakes. Periodic heavy rains are expected, particularly in the Great Lakes and New England, with the heaviest rainfall focus shifting north on Monday. Temperatures will rise by 10 to 15 degrees above normal across the South through the Gulf Coast, while below normal temperatures will extend from the Northwest to the West. Below normal temperatures are also expected in the Midwest into Monday. The humidity levels will remain high, particularly in the Southeast, influencing higher heat indices. Wind speeds are predicted to be moderate to breezy, with variations due to local storm activity. Overall, expect warm temperatures, increased chances of rain, and high humidity, leading to uncomfortable heat indices in the Southeast.\"']"
      ]
     },
     "execution_count": 11,
     "metadata": {},
     "output_type": "execute_result"
    }
   ],
   "source": [
    "import re\n",
    "\n",
    "data = '''{\n",
    "    \"day_3_date\": \"2023-09-25\",\n",
    "    \"day_3_weather_forecast\": \"Rainfall will continue to shift eastward from the Pacific Northwest, with prolonged wet weather in the Mid-Atlantic due to the stalled cold front. Expect wet conditions in the Northeast from Friday to Sunday. Light to moderate precipitation is anticipated across the Midwest, northern Plains, and northern Great Lakes midweek through the weekend, with increasing snowfall at higher elevations. Models show a low pressure system tracking east into the Mid-Atlantic. Periodic heavy rains are expected, particularly in the Mid-Atlantic and New England, with the heaviest rainfall focus shifting north on Saturday. Temperatures will rise by 10 to 15 degrees above normal across the South through the Gulf Coast, while below normal temperatures will extend from the Northwest to the West. Below normal temperatures are also expected in the Midwest into Saturday. The humidity levels will remain high, particularly in the Southeast, influencing higher heat indices. Wind speeds are predicted to be moderate to breezy, with variations due to local storm activity. Overall, expect warm temperatures, increased chances of rain, and high humidity, leading to uncomfortable heat indices in the Southeast.\",\n",
    "    \"day_4_date\": \"2023-09-26\",\n",
    "    \"day_4_weather_forecast\": \"Rainfall will continue to shift northward from the Mid-Atlantic, with prolonged wet weather in the Northeast due to the stalled low pressure system. Expect wet conditions in the Great Lakes from Sunday to Tuesday. Light to moderate precipitation is anticipated across the Ohio Valley, northern Plains, and northern Rockies midweek through the weekend, with increasing snowfall at higher elevations. Models show a low pressure system tracking north into the Great Lakes. Periodic heavy rains are expected, particularly in the Great Lakes and New England, with the heaviest rainfall focus shifting north on Monday. Temperatures will rise by 10 to 15 degrees above normal across the South through the Gulf Coast, while below normal temperatures will extend from the Northwest to the West. Below normal temperatures are also expected in the Midwest into Monday. The humidity levels will remain high, particularly in the Southeast, influencing higher heat indices. Wind speeds are predicted to be moderate to breezy, with variations due to local storm activity. Overall, expect warm temperatures, increased chances of rain, and high humidity, leading to uncomfortable heat indices in the Southeast.\"'''\n",
    "\n",
    "text_key_name = 'weather_forecast'\n",
    "# Use a regular expression to find both date and weather forecast in one step\n",
    "matches = re.findall(fr'(\"day_\\d+_date\":\\s*\"[^\"]+\").*?(\"day_\\d+_{text_key_name}\":\\s*\"[^\"]+\")', data, re.DOTALL)\n",
    "\n",
    "# Process matches\n",
    "combined_result = [f\"{date}, {forecast}\" for date, forecast in matches]\n",
    "\n",
    "combined_result\n",
    "\n",
    "\n"
   ]
  }
 ],
 "metadata": {
  "kernelspec": {
   "display_name": "multimodal",
   "language": "python",
   "name": "python3"
  },
  "language_info": {
   "codemirror_mode": {
    "name": "ipython",
    "version": 3
   },
   "file_extension": ".py",
   "mimetype": "text/x-python",
   "name": "python",
   "nbconvert_exporter": "python",
   "pygments_lexer": "ipython3",
   "version": "3.11.9"
  }
 },
 "nbformat": 4,
 "nbformat_minor": 2
}

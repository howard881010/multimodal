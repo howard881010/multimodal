{
 "cells": [
  {
   "cell_type": "code",
   "execution_count": 1,
   "metadata": {},
   "outputs": [
    {
     "name": "stderr",
     "output_type": "stream",
     "text": [
      "/home/ubuntu/miniforge3/envs/multimodal/lib/python3.11/site-packages/sentence_transformers/cross_encoder/CrossEncoder.py:11: TqdmExperimentalWarning: Using `tqdm.autonotebook.tqdm` in notebook mode. Use `tqdm.tqdm` instead to force console mode (e.g. in jupyter console)\n",
      "  from tqdm.autonotebook import tqdm, trange\n",
      "[nltk_data] Downloading package punkt to /home/ubuntu/nltk_data...\n",
      "[nltk_data]   Package punkt is already up-to-date!\n",
      "[nltk_data] Downloading package wordnet to /home/ubuntu/nltk_data...\n",
      "[nltk_data]   Package wordnet is already up-to-date!\n",
      "[nltk_data] Downloading package punkt_tab to /home/ubuntu/nltk_data...\n",
      "[nltk_data]   Package punkt_tab is already up-to-date!\n"
     ]
    }
   ],
   "source": [
    "%reload_ext autoreload\n",
    "%autoreload 2\n",
    "import os\n",
    "os.chdir('../')\n",
    "import pandas as pd\n",
    "import numpy as np\n",
    "from evaluator.gpt_evaluator import FinancialDataProcessor\n",
    "import time"
   ]
  },
  {
   "cell_type": "code",
   "execution_count": 2,
   "metadata": {},
   "outputs": [],
   "source": [
    "def wait_for_completion(job_id, processor, poll_interval=100):\n",
    "    status = processor.check_status(job_id)\n",
    "    while status.status not in [\"completed\", \"failed\"]:\n",
    "        print(f\"Current status: {status}. Waiting for {poll_interval} seconds...\")\n",
    "        time.sleep(poll_interval)\n",
    "        status = processor.check_status(job_id)\n",
    "    return status.status"
   ]
  },
  {
   "cell_type": "markdown",
   "metadata": {},
   "source": [
    "# Financial Data"
   ]
  },
  {
   "cell_type": "code",
   "execution_count": 3,
   "metadata": {},
   "outputs": [],
   "source": [
    "financial_data_processor = FinancialDataProcessor()\n",
    "\n",
    "results_dir = f\"/home/ubuntu/multimodal/Data/financial/\"\n",
    "data = pd.read_csv(f\"/home/ubuntu/multimodal/Data/financial/CRM.csv\")\n",
    "\n",
    "jsonl_path = os.path.join(results_dir, \"batch.jsonl\")\n",
    "output_path = os.path.join(results_dir, \"data.txt\")\n",
    "\n",
    "# batch_object_id = financial_data_processor.create_and_run_batch_job(data, jsonl_path, input_text_column=\"text\")\n",
    "\n",
    "# job_status = wait_for_completion(batch_object_id, financial_data_processor)\n",
    "\n",
    "# if job_status == \"completed\":\n",
    "#     print(\"Batch job completed successfully!\")\n",
    "#     semantic_outputs = financial_data_processor.check_status_and_parse(batch_object_id , output_path)"
   ]
  },
  {
   "cell_type": "code",
   "execution_count": 4,
   "metadata": {},
   "outputs": [],
   "source": [
    "semantic_outputs = financial_data_processor.check_status_and_parse(\"batch_cOPRrrflm4aTTHJN2cG45ZGb\" , output_path)"
   ]
  },
  {
   "cell_type": "code",
   "execution_count": null,
   "metadata": {},
   "outputs": [],
   "source": []
  },
  {
   "cell_type": "code",
   "execution_count": 15,
   "metadata": {},
   "outputs": [
    {
     "name": "stdout",
     "output_type": "stream",
     "text": [
      "2022-03-29 **HP Inc. (HPQ) Acquires Poly for $3.3 Billion**\n",
      "\n",
      "- **Acquisition Details**: HP Inc. announced a definitive agreement to acquire Poly, a provider of workplace collaboration solutions, for $3.3 billion. HP will pay $40 per share for Poly, which represents a 53% premium over the last closing price.\n",
      "- **Market Reaction**: Following the announcement, Poly's shares surged by 52.6%, while HP's shares dropped by 2.7%.\n",
      "- **Transaction Value**: Including Poly’s debt, the acquisition is valued at $3.3 billion and is expected to close by the end of 2022, pending shareholder approval.\n",
      "  \n",
      "**Strategic Importance**:\n",
      "- This acquisition aims to enhance HP’s peripheral business and capitalize on the increasing demand for hybrid work solutions post-pandemic.\n",
      "- The peripheral market is currently a $110 billion opportunity, growing at 9% annually, while workplace collaboration solutions represent a $120 billion market growing at 8% annually.\n",
      "- HP forecasts that the acquisition will be immediately accretive to its revenues, margins, and non-GAAP earnings per share.\n",
      "\n",
      "**Future Projections**:\n",
      "- HP aims to achieve a 15% compound annual growth rate (CAGR) for Poly in the first three years post-acquisition and projects $500 million in revenue synergies by fiscal 2025.\n",
      "- Poly's operating margin is expected to improve by six percentage points by fiscal 2025.\n",
      "\n",
      "**Stock Performance**:\n",
      "- HP, Poly, and Salesforce (CRM) share a Zacks Rank of #3 (Hold).\n",
      "- Over the past year, HPQ’s shares have rallied 24.7%, Poly's by 8.5%, and CRM's by 2.1%.\n",
      "\n",
      "This acquisition positions HP to strengthen its offerings in the hybrid work environment, enhancing its capabilities in collaboration technologies.\n"
     ]
    }
   ],
   "source": [
    "print(data.iloc[7]['timestamp'], semantic_outputs[7])"
   ]
  },
  {
   "cell_type": "code",
   "execution_count": 14,
   "metadata": {},
   "outputs": [
    {
     "name": "stdout",
     "output_type": "stream",
     "text": [
      "2022-03-29 **Key Stock-Related Details:**\n",
      "\n",
      "- **Company:** Weimob Inc. (2013.HK)\n",
      "- **Financial Performance (2021):**\n",
      "  - Adjusted net loss: 566 million yuan (reversed from a profit of 107.5 million yuan in 2020).\n",
      "  - Revenue growth: 36.4%, totaling 2.7 billion yuan.\n",
      "  - Costs significantly outpaced revenue growth, particularly selling/distribution expenses increased by 87%.\n",
      "  \n",
      "- **Investor Insights:**\n",
      "  - Weimob's stock jumped 18% following their earnings report despite the losses.\n",
      "  - The stock has lost more than two-thirds of its value over the last 52 weeks.\n",
      "  - Currently trades at a price-to-sales (P/S) ratio of 3.4, down from over 7.8 a year prior. \n",
      "\n",
      "- **Comparison with Peers:**\n",
      "  - U.S. competitor Salesforce (CRM) has a P/S ratio of 7.8.\n",
      "  - Domestic rival Baozun (BZUN) has a notably low P/S ratio of 0.4.\n",
      "\n",
      "- **Investor Activity:**\n",
      "  - Big-name institutional investors are showing early signs of returning after previously selling off.\n",
      "  - Notable stake increases:\n",
      "    - JPMorgan: 8.3% (up from 7.9%)\n",
      "    - Morgan Stanley: 5.2% (up from 5%)\n",
      "    - UBS: 6.2% (up from under 5%)\n",
      "  \n",
      "- **Historical Context:**\n",
      "  - The company went public in 2019 at an IPO price of HK$2.70, currently trading at HK$5.\n",
      "  - Stock reached an all-time high of nearly HK$30 in February, 2 years prior.\n",
      "\n",
      "- **Future Outlook:**\n",
      "  - Weimob is investing aggressively in its future, including diversification of products and new geographical markets.\n",
      "  - Operating expenditures are raising concerns due to continuing losses, which might impact investor patience.\n",
      "\n",
      "**Note:** The text contains general market information not relevant to Weimob or its stock specifics.\n"
     ]
    }
   ],
   "source": [
    "print(data.iloc[6]['timestamp'], semantic_outputs[6])\n"
   ]
  }
 ],
 "metadata": {
  "kernelspec": {
   "display_name": "multimodal",
   "language": "python",
   "name": "python3"
  },
  "language_info": {
   "codemirror_mode": {
    "name": "ipython",
    "version": 3
   },
   "file_extension": ".py",
   "mimetype": "text/x-python",
   "name": "python",
   "nbconvert_exporter": "python",
   "pygments_lexer": "ipython3",
   "version": "3.11.9"
  }
 },
 "nbformat": 4,
 "nbformat_minor": 2
}

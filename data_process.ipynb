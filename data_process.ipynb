{
 "cells": [
  {
   "cell_type": "code",
   "execution_count": 1,
   "metadata": {},
   "outputs": [],
   "source": [
    "import pandas as pd"
   ]
  },
  {
   "cell_type": "code",
   "execution_count": 33,
   "metadata": {},
   "outputs": [],
   "source": [
    "summaries = pd.read_csv(\n",
    "    'Data/meteorological_all_with_date.csv')\n",
    "temp_7 = pd.read_csv('Data/Climate/7_days/train_temp.csv')\n",
    "temp_9 = pd.read_csv('Data/Climate/9_days/train_temp.csv')\n",
    "climate_all = pd.read_csv('Data/Climate/7_days/test_all.csv')\n"
   ]
  },
  {
   "cell_type": "code",
   "execution_count": 34,
   "metadata": {},
   "outputs": [
    {
     "name": "stdout",
     "output_type": "stream",
     "text": [
      "Shape of summaries:  (3529, 4)\n",
      "Shape of temp for 7 days:  (744, 3)\n",
      "Shape of temp for 9 days:  (741, 3)\n",
      "Shape of climate_all:  (1309, 3)\n"
     ]
    }
   ],
   "source": [
    "print(\"Shape of summaries: \", summaries.shape)\n",
    "print(\"Shape of temp for 7 days: \", temp_7.shape)\n",
    "print(\"Shape of temp for 9 days: \", temp_9.shape)\n",
    "print(\"Shape of climate_all: \", climate_all.shape)"
   ]
  },
  {
   "cell_type": "code",
   "execution_count": 40,
   "metadata": {},
   "outputs": [
    {
     "name": "stdout",
     "output_type": "stream",
     "text": [
      "Index(['output', 'input', 'date', 'instruction'], dtype='object')\n"
     ]
    }
   ],
   "source": [
    "print(summaries.columns)"
   ]
  },
  {
   "cell_type": "code",
   "execution_count": 41,
   "metadata": {},
   "outputs": [
    {
     "name": "stdout",
     "output_type": "stream",
     "text": [
      "...Metadata...\n",
      "EXTENDED FORECAST DISCUSSION\n",
      "NWS WEATHER PREDICTION CENTER COLLEGE PARK MD\n",
      "1157 AM EDT SAT JUL 12 2014\n",
      "\n",
      "VALID 12Z TUE JUL 15 2014 - 12Z SAT JUL 19 2014\n",
      "\n",
      "...QUITE UNSEASONABLE TEMPERATURES FOR THE ACTIVE COMING WEEK FOR THE LOWER 48...\n",
      "\n",
      "...SENSIBLE WEATHER HIGHLIGHTS...\n",
      "THE RARITY OF THIS DRY CANADIAN AIRMASS FOR JULY JUST MIGHT\n",
      "APPROACH TEMPERATURE RECORDS (LOW/MINS AND LOW/MAXES) FOR MANY\n",
      "AREAS OF THE EASTERN HALF OF THE NATION.\n",
      "\n",
      "HIGH TEMPERATURE READINGS ARE LIKELY TO BE 15F-20F ABOVE NORMAL IN\n",
      "THE PACIFIC NORTHWEST (WASHINGTON...OREGON...IDAHO) BENEATH AN\n",
      "UPPER-LEVEL RIDGE OF HIGH PRESSURE EXTENDING FROM THE CONTINENTAL\n",
      "DIVIDE WESTWARD TO THE PACIFIC AND GULF OF ALASKA. AS THE\n",
      "UPPER-LEVEL RIDGE MIGRATES SLOWLY NORTHWESTWARD...THE THERMAL\n",
      "TROUGH AND MONSOONAL MOISTURE WILL MOVE WITH IT...BRINGING\n",
      "MID-LEVEL MOISTURE AND THE THREAT OF SOME CONVECTION TO CALIFORNIA\n",
      "AND THE CASCADES.\n",
      "\n",
      "THE LESS HUMID---ALMOST AUTUMN-LIKE FEEL OF THE AIRMASS\n",
      "ORIGINATING IN CANADA--- WILL EVENTUALLY SPREAD ALL THE WAY TO THE\n",
      "I-10 CORRIDOR FROM WEST TEXAS EASTWARD INTO LOUISIANA---AND TO THE\n",
      "I-20 CORRIDOR FROM MISSISSIPPI TO GEORGIA AND SOUTH CAROLINA. HERE\n",
      "THE HIGH TEMPERATURES WILL BE CLOSER TO 10-20F BELOW NORMAL.\n",
      "\n",
      "DURING THIS MEDIUM RANGE PERIOD...ACTIVE WEATHER---FROM A\n",
      "PRECIPITATION PERSPECTIVE---WILL BE CONCENTRATED ALONG THE\n",
      "NORTHERN AND CENTRAL DIVIDE WHERE CONFLUENT FLOW---A MID-LEVEL\n",
      "WEST TO NORTHWESTERLY WIND---WILL BE CARRYING RESIDUAL MONSOONAL\n",
      "MOISTURE AND CONVECTIVE DEBRIS FROM THE MOUNTAINS INTO THE HIGH\n",
      "PLAINS. ANOTHER SIGNIFICANT FOCUS FOR SHOWERS AND THUNDERSTORMS\n",
      "WILL BE DIRECTED ALONG AND IMMEDIATELY AHEAD OF THE DAY 3-5\n",
      "PROGRESSION OF A WAVY CANADIAN COLD FRONT THROUGH THE EASTERN HALF\n",
      "OF THE NATION...WITH AN ENHANCED LOCALLY HEAVY RAINFALL THREAT\n",
      "EMERGING WITH THE STALLING/TRAILING END OF THE FRONT OVER THE\n",
      "S-CENTRAL US AS IMPULSE ENERGY MEANDERS OVER THE REGION INTO DAYS\n",
      "6/7.\n",
      "\n",
      "SCHICHTEL/VOJTESAK\n",
      "2014-04-06\n",
      "Given the meteorological reports from the last 1 days, generate the report for the current day.\n"
     ]
    }
   ],
   "source": [
    "print(summaries.iloc[100]['input'])\n",
    "print(summaries.iloc[2]['date'])\n",
    "print(summaries.iloc[2]['instruction'])"
   ]
  },
  {
   "cell_type": "code",
   "execution_count": null,
   "metadata": {},
   "outputs": [],
   "source": [
    "print()"
   ]
  },
  {
   "cell_type": "code",
   "execution_count": 38,
   "metadata": {},
   "outputs": [
    {
     "name": "stdout",
     "output_type": "stream",
     "text": [
      "Index(['fut_values', 'values_and_text', 'hist_values'], dtype='object')\n",
      "0.599 0.753 0.776 0.804 0.741 0.607 0.569\n",
      "0.534 0.599 0.659 0.645 0.604 0.654 0.668\n",
      "0.534 0.599 0.659 0.645 0.604 0.654 0.668\n"
     ]
    }
   ],
   "source": [
    "print(temp_7.columns)\n",
    "print(temp_7.iloc[0]['hist_values'])\n",
    "print(temp_7.iloc[0]['fut_values'])\n",
    "# print(temp_7.iloc[1]['hist_values'])\n",
    "# print(temp_7.iloc[1]['fut_values'])\n",
    "print(temp_7.iloc[7]['hist_values'])"
   ]
  },
  {
   "cell_type": "code",
   "execution_count": null,
   "metadata": {},
   "outputs": [],
   "source": []
  }
 ],
 "metadata": {
  "kernelspec": {
   "display_name": "llmforcast",
   "language": "python",
   "name": "python3"
  },
  "language_info": {
   "codemirror_mode": {
    "name": "ipython",
    "version": 3
   },
   "file_extension": ".py",
   "mimetype": "text/x-python",
   "name": "python",
   "nbconvert_exporter": "python",
   "pygments_lexer": "ipython3",
   "version": "3.1.undefined"
  }
 },
 "nbformat": 4,
 "nbformat_minor": 2
}
